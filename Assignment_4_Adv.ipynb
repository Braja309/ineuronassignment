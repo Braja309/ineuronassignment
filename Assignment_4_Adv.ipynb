{
 "cells": [
  {
   "cell_type": "raw",
   "id": "2c4c8037",
   "metadata": {},
   "source": [
    "Q1. Which two operator overloading methods can you use in your classes to support iteration?"
   ]
  },
  {
   "cell_type": "code",
   "execution_count": 1,
   "id": "b1fe2795",
   "metadata": {},
   "outputs": [],
   "source": [
    "#1-> The \"__iter__()\" returns the iterator object and is implicitly called at the start of loops. The \"__next__()\" method returns the next value and is implicitly called at each loop increment."
   ]
  },
  {
   "cell_type": "raw",
   "id": "f90ff195",
   "metadata": {},
   "source": [
    "Q2. In what contexts do the two operator overloading methods manage printing?"
   ]
  },
  {
   "cell_type": "markdown",
   "id": "aa7782f0",
   "metadata": {},
   "source": [
    "#2-> Python operators work for built-in classes. But the same operator expresses differently with different types. For example, The + operator will perform arithmetic addition on two numbers, merge two lists and concatenate two strings. Python allows the same operator to have different meanings according to the referring context."
   ]
  },
  {
   "cell_type": "raw",
   "id": "1b6dcc6e",
   "metadata": {},
   "source": [
    "Q3. In a class, how do you intercept slice operations?"
   ]
  },
  {
   "cell_type": "code",
   "execution_count": 25,
   "id": "78448076",
   "metadata": {},
   "outputs": [
    {
     "data": {
      "text/plain": [
       "'rj'"
      ]
     },
     "execution_count": 25,
     "metadata": {},
     "output_type": "execute_result"
    }
   ],
   "source": [
    "#3->\n",
    "class test(str):\n",
    "    def __init__(self,string):\n",
    "        self.string = string\n",
    "    def __getitem__(self):\n",
    "        return self.string.__getitem__(slice(1,5,2))\n",
    "obj = test(\"Braja\")\n",
    "obj.__getitem__()"
   ]
  },
  {
   "cell_type": "raw",
   "id": "927b1dc6",
   "metadata": {},
   "source": [
    "Q4. In a class, how do you capture in-place addition?"
   ]
  },
  {
   "cell_type": "markdown",
   "id": "62a20be8",
   "metadata": {},
   "source": [
    "#4-> iadd()"
   ]
  },
  {
   "cell_type": "raw",
   "id": "49d8390a",
   "metadata": {},
   "source": [
    "Q5. When is it appropriate to use operator overloading?"
   ]
  },
  {
   "cell_type": "markdown",
   "id": "c4572aa8",
   "metadata": {},
   "source": [
    "#5-> It is to provide a special meaning of an operator for a user-defined data type. "
   ]
  },
  {
   "cell_type": "code",
   "execution_count": null,
   "id": "4a3a1b20",
   "metadata": {},
   "outputs": [],
   "source": []
  }
 ],
 "metadata": {
  "kernelspec": {
   "display_name": "Python 3 (ipykernel)",
   "language": "python",
   "name": "python3"
  },
  "language_info": {
   "codemirror_mode": {
    "name": "ipython",
    "version": 3
   },
   "file_extension": ".py",
   "mimetype": "text/x-python",
   "name": "python",
   "nbconvert_exporter": "python",
   "pygments_lexer": "ipython3",
   "version": "3.9.7"
  }
 },
 "nbformat": 4,
 "nbformat_minor": 5
}
