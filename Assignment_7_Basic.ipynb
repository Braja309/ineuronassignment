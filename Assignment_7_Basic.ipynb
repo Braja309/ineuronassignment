{
 "cells": [
  {
   "cell_type": "markdown",
   "id": "e91a2a2d",
   "metadata": {},
   "source": [
    "1-> re.compile()"
   ]
  },
  {
   "cell_type": "markdown",
   "id": "ed58a989",
   "metadata": {},
   "source": [
    "2-> Raw strings are used so that backslashes do not have to be escaped"
   ]
  },
  {
   "cell_type": "markdown",
   "id": "caee19a5",
   "metadata": {},
   "source": [
    "3-> It returns Match objects"
   ]
  },
  {
   "cell_type": "markdown",
   "id": "0f6afc81",
   "metadata": {},
   "source": [
    "4-> group()"
   ]
  },
  {
   "cell_type": "code",
   "execution_count": 1,
   "id": "d193f958",
   "metadata": {},
   "outputs": [
    {
     "name": "stdout",
     "output_type": "stream",
     "text": [
      "123-123-1234\n",
      "123\n",
      "123-1234\n"
     ]
    }
   ],
   "source": [
    "#5-> \n",
    "#group(0) Entire match- (\\d\\d\\d)-(\\d\\d\\d-\\d\\d\\d\\d)\n",
    "#group(1) first set of parentheses- (\\d\\d\\d)\n",
    "#group(2) second set of parentheses- (\\d\\d\\d-\\d\\d\\d\\d)\n",
    "import re\n",
    "print(re.compile(r'(\\d\\d\\d)-(\\d\\d\\d-\\d\\d\\d\\d)').search('Phone Number is 123-123-1234').group(0))\n",
    "print(re.compile(r'(\\d\\d\\d)-(\\d\\d\\d-\\d\\d\\d\\d)').search('Phone Number is 123-123-1234').group(1))\n",
    "print(re.compile(r'(\\d\\d\\d)-(\\d\\d\\d-\\d\\d\\d\\d)').search('Phone Number is 123-123-1234').group(2))"
   ]
  },
  {
   "cell_type": "markdown",
   "id": "0b5afe67",
   "metadata": {},
   "source": [
    "6-> Backslash can be used. \\., \\(, and \\)"
   ]
  },
  {
   "cell_type": "code",
   "execution_count": 2,
   "id": "0a174094",
   "metadata": {},
   "outputs": [
    {
     "name": "stdout",
     "output_type": "stream",
     "text": [
      "['B', 'B']\n",
      "[('221', '222-2234')]\n"
     ]
    }
   ],
   "source": [
    "#7-> \n",
    "#If it has no group, then a list of string returns - \n",
    "print(re.findall('B', 'Braja Sundar Bera'))\n",
    "#If it has groups, then a list of tuples of string returns - \n",
    "print(re.findall(r'(\\d\\d\\d)-(\\d\\d\\d-\\d\\d\\d\\d)', '221-222-2234'))"
   ]
  },
  {
   "cell_type": "markdown",
   "id": "9f3c5898",
   "metadata": {},
   "source": [
    "8-> either, or"
   ]
  },
  {
   "cell_type": "markdown",
   "id": "690cd2f9",
   "metadata": {},
   "source": [
    "9-> Character is not specified. may be misstyped question."
   ]
  },
  {
   "cell_type": "markdown",
   "id": "fb4754bf",
   "metadata": {},
   "source": [
    "10-> + matches one or more and * matches zero or more"
   ]
  },
  {
   "cell_type": "code",
   "execution_count": 3,
   "id": "dae0e67d",
   "metadata": {},
   "outputs": [
    {
     "name": "stdout",
     "output_type": "stream",
     "text": [
      "<re.Match object; span=(4, 8), match='1245'>\n",
      "<re.Match object; span=(22, 26), match='1245'>\n"
     ]
    }
   ],
   "source": [
    "#11-> \n",
    "#{4} matches exactly four instances of same.\n",
    "print(re.search('\\d{4}',\"I'm 1245 years old\"))\n",
    "#(4,5) matches 4-5 times\n",
    "print(re.search('\\d{4,5}',\"I'm not 20 years, but 1245 years old\"))"
   ]
  },
  {
   "cell_type": "markdown",
   "id": "dd46fb59",
   "metadata": {},
   "source": [
    "12-> \\d - Single digit, \\w - word, \\s - space character"
   ]
  },
  {
   "cell_type": "markdown",
   "id": "be459fdf",
   "metadata": {},
   "source": [
    "13-> \\D - not a digit, \\W - not a word, \\S - not a space character"
   ]
  },
  {
   "cell_type": "markdown",
   "id": "3ee6bbaa",
   "metadata": {},
   "source": [
    "14-> .* performs a greedy match, and the .*? performs a nongreedy match."
   ]
  },
  {
   "cell_type": "markdown",
   "id": "d33fc393",
   "metadata": {},
   "source": [
    "15-> [0-9a-z]"
   ]
  },
  {
   "cell_type": "markdown",
   "id": "38e843c3",
   "metadata": {},
   "source": [
    "16-> re.IGNORECASE"
   ]
  },
  {
   "cell_type": "markdown",
   "id": "a42d1f4a",
   "metadata": {},
   "source": [
    "17-> The . character normally matches any character except the newline character. If re.DOTALL is passed as the second argument to re.compile(), then the dot will also match newline characters."
   ]
  },
  {
   "cell_type": "code",
   "execution_count": 4,
   "id": "2ccc951f",
   "metadata": {},
   "outputs": [
    {
     "data": {
      "text/plain": [
       "'X drummers, X pipers, five rings, X hen'"
      ]
     },
     "execution_count": 4,
     "metadata": {},
     "output_type": "execute_result"
    }
   ],
   "source": [
    "#18->\n",
    "numReg = re.compile(r'\\d+')\n",
    "numReg.sub('X', '11 drummers, 10 pipers, five rings, 4 hen')"
   ]
  },
  {
   "cell_type": "markdown",
   "id": "84732a3b",
   "metadata": {},
   "source": [
    "19-> It allows to add whitespace and comments to the string passed to re.compile()"
   ]
  },
  {
   "cell_type": "code",
   "execution_count": 5,
   "id": "4975ffc3",
   "metadata": {},
   "outputs": [
    {
     "data": {
      "text/plain": [
       "<re.Match object; span=(0, 10), match='12,234,345'>"
      ]
     },
     "execution_count": 5,
     "metadata": {},
     "output_type": "execute_result"
    }
   ],
   "source": [
    "#20-> re.compile(r'^\\d{1,3}(,\\d{3})*$')\n",
    "re.search(r'^\\d{1,3}(,\\d{3})*$','12,234,345')"
   ]
  },
  {
   "cell_type": "markdown",
   "id": "b9bdcd70",
   "metadata": {},
   "source": [
    "21-> re.compile(r'[A-Z][a-z]*\\sWatanabe')"
   ]
  },
  {
   "cell_type": "code",
   "execution_count": 6,
   "id": "c3b4a5c2",
   "metadata": {},
   "outputs": [
    {
     "data": {
      "text/plain": [
       "re.compile(r'(Alice|Bob|Carol)\\s(eats|pets|throws)\\s(apples|cats|baseballs)\\.',\n",
       "re.IGNORECASE|re.UNICODE)"
      ]
     },
     "execution_count": 6,
     "metadata": {},
     "output_type": "execute_result"
    }
   ],
   "source": [
    "#22-> \n",
    "re.compile(r'(Alice|Bob|Carol)\\s(eats|pets|throws)\\s(apples|cats|baseballs)\\.',re.IGNORECASE)"
   ]
  },
  {
   "cell_type": "code",
   "execution_count": null,
   "id": "9b8174e1",
   "metadata": {},
   "outputs": [],
   "source": []
  }
 ],
 "metadata": {
  "kernelspec": {
   "display_name": "Python 3 (ipykernel)",
   "language": "python",
   "name": "python3"
  },
  "language_info": {
   "codemirror_mode": {
    "name": "ipython",
    "version": 3
   },
   "file_extension": ".py",
   "mimetype": "text/x-python",
   "name": "python",
   "nbconvert_exporter": "python",
   "pygments_lexer": "ipython3",
   "version": "3.9.7"
  }
 },
 "nbformat": 4,
 "nbformat_minor": 5
}
