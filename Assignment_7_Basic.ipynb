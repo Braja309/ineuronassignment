{
 "cells": [
  {
   "cell_type": "raw",
   "id": "b75fa664",
   "metadata": {},
   "source": [
    "1. What is the name of the feature responsible for generating Regex objects?"
   ]
  },
  {
   "cell_type": "markdown",
   "id": "e91a2a2d",
   "metadata": {},
   "source": [
    "Ans - re.compile()"
   ]
  },
  {
   "cell_type": "raw",
   "id": "4c594817",
   "metadata": {},
   "source": [
    "2. Why do raw strings often appear in Regex objects?"
   ]
  },
  {
   "cell_type": "markdown",
   "id": "ed58a989",
   "metadata": {},
   "source": [
    "Ans - Raw strings are used so that backslashes do not have to be escaped"
   ]
  },
  {
   "cell_type": "raw",
   "id": "43622680",
   "metadata": {},
   "source": [
    "3. What is the return value of the search() method?"
   ]
  },
  {
   "cell_type": "markdown",
   "id": "caee19a5",
   "metadata": {},
   "source": [
    "Ans - It returns Match objects"
   ]
  },
  {
   "cell_type": "raw",
   "id": "6f380985",
   "metadata": {},
   "source": [
    "4. From a Match item, how do you get the actual strings that match the pattern?"
   ]
  },
  {
   "cell_type": "markdown",
   "id": "0f6afc81",
   "metadata": {},
   "source": [
    "Ans - group()"
   ]
  },
  {
   "cell_type": "raw",
   "id": "cece92a8",
   "metadata": {},
   "source": [
    "5. In the regex which created from the r'(\\d\\d\\d)-(\\d\\d\\d-\\d\\d\\d\\d)', what does group zero cover? Group 2? Group 1?"
   ]
  },
  {
   "cell_type": "code",
   "execution_count": 42,
   "id": "d193f958",
   "metadata": {},
   "outputs": [
    {
     "name": "stdout",
     "output_type": "stream",
     "text": [
      "123-123-1234\n",
      "123\n",
      "123-1234\n"
     ]
    }
   ],
   "source": [
    "#Ans - \n",
    "#group(0) Entire match- (\\d\\d\\d)-(\\d\\d\\d-\\d\\d\\d\\d)\n",
    "#group(1) first set of parentheses- (\\d\\d\\d)\n",
    "#group(2) second set of parentheses- (\\d\\d\\d-\\d\\d\\d\\d)\n",
    "import re\n",
    "print(re.compile(r'(\\d\\d\\d)-(\\d\\d\\d-\\d\\d\\d\\d)').search('Phone Number is 123-123-1234').group(0))\n",
    "print(re.compile(r'(\\d\\d\\d)-(\\d\\d\\d-\\d\\d\\d\\d)').search('Phone Number is 123-123-1234').group(1))\n",
    "print(re.compile(r'(\\d\\d\\d)-(\\d\\d\\d-\\d\\d\\d\\d)').search('Phone Number is 123-123-1234').group(2))"
   ]
  },
  {
   "cell_type": "raw",
   "id": "d9ed4a66",
   "metadata": {},
   "source": [
    "6. In standard expression syntax, parentheses and intervals have distinct meanings. How can you tell a regex that you want it to fit real parentheses and periods?"
   ]
  },
  {
   "cell_type": "markdown",
   "id": "0b5afe67",
   "metadata": {},
   "source": [
    "Ans - Backslash can be used. \\., \\(, and \\)"
   ]
  },
  {
   "cell_type": "raw",
   "id": "9b440515",
   "metadata": {},
   "source": [
    "7. The findall() method returns a string list or a list of string tuples. What causes it to return one of the two options?"
   ]
  },
  {
   "cell_type": "code",
   "execution_count": 93,
   "id": "0a174094",
   "metadata": {},
   "outputs": [
    {
     "name": "stdout",
     "output_type": "stream",
     "text": [
      "['B', 'B']\n",
      "[('221', '222-2234')]\n"
     ]
    }
   ],
   "source": [
    "#Ans - \n",
    "#If it has no group, then a list of string returns - \n",
    "print(re.findall('B', 'Braja Sundar Bera'))\n",
    "#If it has groups, then a list of tuples of string returns - \n",
    "print(re.findall(r'(\\d\\d\\d)-(\\d\\d\\d-\\d\\d\\d\\d)', '221-222-2234'))"
   ]
  },
  {
   "cell_type": "raw",
   "id": "02b8dad2",
   "metadata": {},
   "source": [
    "8. In standard expressions, what does the | character mean?"
   ]
  },
  {
   "cell_type": "markdown",
   "id": "9f3c5898",
   "metadata": {},
   "source": [
    "Ans - either, or"
   ]
  },
  {
   "cell_type": "raw",
   "id": "9fbc33ff",
   "metadata": {},
   "source": [
    "9. In regular expressions, what does the character stand for?"
   ]
  },
  {
   "cell_type": "markdown",
   "id": "690cd2f9",
   "metadata": {},
   "source": [
    "Character is not specified. may be misstyped question."
   ]
  },
  {
   "cell_type": "raw",
   "id": "0a3c4a27",
   "metadata": {},
   "source": [
    "10.In regular expressions, what is the difference between the + and * characters?"
   ]
  },
  {
   "cell_type": "markdown",
   "id": "fb4754bf",
   "metadata": {},
   "source": [
    "Ans - + matches one or more and * matches zero or more"
   ]
  },
  {
   "cell_type": "raw",
   "id": "e32f1c39",
   "metadata": {},
   "source": [
    "11. What is the difference between {4} and {4,5} in regular expression?"
   ]
  },
  {
   "cell_type": "code",
   "execution_count": 107,
   "id": "dae0e67d",
   "metadata": {},
   "outputs": [
    {
     "name": "stdout",
     "output_type": "stream",
     "text": [
      "<re.Match object; span=(4, 8), match='1245'>\n",
      "<re.Match object; span=(22, 26), match='1245'>\n"
     ]
    }
   ],
   "source": [
    "#Ans - \n",
    "#{4} matches exactly four instances of same.\n",
    "print(re.search('\\d{4}',\"I'm 1245 years old\"))\n",
    "#(4,5) matches 4-5 times\n",
    "print(re.search('\\d{4,5}',\"I'm not 20 years, but 1245 years old\"))"
   ]
  },
  {
   "cell_type": "raw",
   "id": "e8e0d2bf",
   "metadata": {},
   "source": [
    "12. What do you mean by the \\d, \\w, and \\s shorthand character classes signify in regular expressions?"
   ]
  },
  {
   "cell_type": "markdown",
   "id": "dd46fb59",
   "metadata": {},
   "source": [
    "Ans - \\d - Single digit, \\w - word, \\s - space character"
   ]
  },
  {
   "cell_type": "raw",
   "id": "9b04c276",
   "metadata": {},
   "source": [
    "13. What do means by \\D, \\W, and \\S shorthand character classes signify in regular expressions?"
   ]
  },
  {
   "cell_type": "markdown",
   "id": "be459fdf",
   "metadata": {},
   "source": [
    "Ans - \\D - not a digit, \\W - not a word, \\S - not a space character"
   ]
  },
  {
   "cell_type": "raw",
   "id": "664233b2",
   "metadata": {},
   "source": [
    "14. What is the difference between .*? and .*?"
   ]
  },
  {
   "cell_type": "markdown",
   "id": "3ee6bbaa",
   "metadata": {},
   "source": [
    "Ans - .* performs a greedy match, and the .*? performs a nongreedy match."
   ]
  },
  {
   "cell_type": "raw",
   "id": "0485119f",
   "metadata": {},
   "source": [
    "15. What is the syntax for matching both numbers and lowercase letters with a character class?"
   ]
  },
  {
   "cell_type": "markdown",
   "id": "d33fc393",
   "metadata": {},
   "source": [
    "Ans - [0-9a-z]"
   ]
  },
  {
   "cell_type": "raw",
   "id": "9d97b25d",
   "metadata": {},
   "source": [
    "16. What is the procedure for making a normal expression in regax case insensitive?"
   ]
  },
  {
   "cell_type": "markdown",
   "id": "38e843c3",
   "metadata": {},
   "source": [
    "Ans - re.IGNORECASE"
   ]
  },
  {
   "cell_type": "raw",
   "id": "ee7ad410",
   "metadata": {},
   "source": [
    "17. What does the . character normally match? What does it match if re.DOTALL is passed as 2nd argument in re.compile()?"
   ]
  },
  {
   "cell_type": "markdown",
   "id": "a42d1f4a",
   "metadata": {},
   "source": [
    "Ans - The . character normally matches any character except the newline character. If re.DOTALL is passed as the second argument to re.compile(), then the dot will also match newline characters."
   ]
  },
  {
   "cell_type": "raw",
   "id": "0d49dda9",
   "metadata": {},
   "source": [
    "18. If numReg = re.compile(r'\\d+'), what will numRegex.sub('X', '11 drummers, 10 pipers, five rings, 4 hen') return?"
   ]
  },
  {
   "cell_type": "code",
   "execution_count": 134,
   "id": "2ccc951f",
   "metadata": {},
   "outputs": [
    {
     "data": {
      "text/plain": [
       "'X drummers, X pipers, five rings, X hen'"
      ]
     },
     "execution_count": 134,
     "metadata": {},
     "output_type": "execute_result"
    }
   ],
   "source": [
    "numReg = re.compile(r'\\d+')\n",
    "numReg.sub('X', '11 drummers, 10 pipers, five rings, 4 hen')"
   ]
  },
  {
   "cell_type": "raw",
   "id": "328881c8",
   "metadata": {},
   "source": [
    "19. What does passing re.VERBOSE as the 2nd argument to re.compile() allow to do?"
   ]
  },
  {
   "cell_type": "markdown",
   "id": "84732a3b",
   "metadata": {},
   "source": [
    "Ans - It allows to add whitespace and comments to the string passed to re.compile()"
   ]
  },
  {
   "cell_type": "raw",
   "id": "6def5a0e",
   "metadata": {},
   "source": [
    "20. How would you write a regex that match a number with comma for every three digits? It must match the given following:\n",
    "'42'\n",
    "'1,234'\n",
    "'6,368,745'\n",
    "but not the following:\n",
    "'12,34,567' (which has only two digits between the commas)\n",
    "'1234' (which lacks commas)"
   ]
  },
  {
   "cell_type": "code",
   "execution_count": 166,
   "id": "4975ffc3",
   "metadata": {},
   "outputs": [
    {
     "data": {
      "text/plain": [
       "<re.Match object; span=(0, 10), match='12,234,345'>"
      ]
     },
     "execution_count": 166,
     "metadata": {},
     "output_type": "execute_result"
    }
   ],
   "source": [
    "#Ans - re.compile(r'^\\d{1,3}(,\\d{3})*$')\n",
    "re.search(r'^\\d{1,3}(,\\d{3})*$','12,234,345')"
   ]
  },
  {
   "cell_type": "raw",
   "id": "b15e1449",
   "metadata": {},
   "source": [
    "21. How would you write a regex that matches the full name of someone whose last name is Watanabe? You can assume that the first name that comes before it will always be one word that begins with a capital letter. The regex must match the following:\n",
    "'Haruto Watanabe'\n",
    "'Alice Watanabe'\n",
    "'RoboCop Watanabe'\n",
    "but not the following:\n",
    "'haruto Watanabe' (where the first name is not capitalized)\n",
    "'Mr. Watanabe' (where the preceding word has a nonletter character)\n",
    "'Watanabe' (which has no first name)\n",
    "'Haruto watanabe' (where Watanabe is not capitalized)"
   ]
  },
  {
   "cell_type": "markdown",
   "id": "b9bdcd70",
   "metadata": {},
   "source": [
    "Ans - re.compile(r'[A-Z][a-z]*\\sWatanabe')"
   ]
  },
  {
   "cell_type": "raw",
   "id": "dbb82f18",
   "metadata": {},
   "source": [
    "22. How would you write a regex that matches a sentence where the first word is either Alice, Bob, or Carol; the second word is either eats, pets, or throws; the third word is apples, cats, or baseballs; and the sentence ends with a period? This regex should be case-insensitive. It must match the following:\n",
    "'Alice eats apples.'\n",
    "'Bob pets cats.'\n",
    "'Carol throws baseballs.'\n",
    "'Alice throws Apples.'\n",
    "'BOB EATS CATS.'\n",
    "but not the following:\n",
    "'RoboCop eats apples.'\n",
    "'ALICE THROWS FOOTBALLS.'\n",
    "'Carol eats 7 cats.'"
   ]
  },
  {
   "cell_type": "code",
   "execution_count": 180,
   "id": "c3b4a5c2",
   "metadata": {},
   "outputs": [
    {
     "data": {
      "text/plain": [
       "re.compile(r'(Alice|Bob|Carol)\\s(eats|pets|throws)\\s(apples|cats|baseballs)\\.',\n",
       "re.IGNORECASE|re.UNICODE)"
      ]
     },
     "execution_count": 180,
     "metadata": {},
     "output_type": "execute_result"
    }
   ],
   "source": [
    "#Ans - \n",
    "re.compile(r'(Alice|Bob|Carol)\\s(eats|pets|throws)\\s(apples|cats|baseballs)\\.',re.IGNORECASE)"
   ]
  }
 ],
 "metadata": {
  "kernelspec": {
   "display_name": "Python 3 (ipykernel)",
   "language": "python",
   "name": "python3"
  },
  "language_info": {
   "codemirror_mode": {
    "name": "ipython",
    "version": 3
   },
   "file_extension": ".py",
   "mimetype": "text/x-python",
   "name": "python",
   "nbconvert_exporter": "python",
   "pygments_lexer": "ipython3",
   "version": "3.9.7"
  }
 },
 "nbformat": 4,
 "nbformat_minor": 5
}
