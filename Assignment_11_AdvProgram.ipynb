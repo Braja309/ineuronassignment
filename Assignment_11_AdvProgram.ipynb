{
 "cells": [
  {
   "cell_type": "raw",
   "id": "f4bd4f37",
   "metadata": {},
   "source": [
    "1. Create a function that takes a list and returns a new list containing only prime numbers.\n",
    "\n",
    "Examples\n",
    "\n",
    "filter_primes([7, 9, 3, 9, 10, 11, 27]) ➞ [7, 3, 11]\n",
    "\n",
    "filter_primes([10007, 1009, 1007, 27, 147, 77, 1001, 70]) ➞ [10007, 1009]\n",
    "\n",
    "filter_primes([1009, 10, 10, 10, 3, 33, 9, 4, 1, 61, 63, 69, 1087, 1091, 1093, 1097]) ➞ [1009, 3, 61, 1087, 1091, 1093, 1097]"
   ]
  },
  {
   "cell_type": "code",
   "execution_count": 22,
   "id": "831c02dd",
   "metadata": {},
   "outputs": [
    {
     "name": "stdout",
     "output_type": "stream",
     "text": [
      "Please enter the list of numbers : [10007, 1009, 1007, 27, 147, 77, 1001, 70]\n",
      "Filtered list of prime numbers from the input list is : [10007, 1009]\n"
     ]
    }
   ],
   "source": [
    "#1->\n",
    "def filter_primes(List):\n",
    "    '''It will filter prime number list'''\n",
    "    List1 = [] \n",
    "    for i in List:      \n",
    "        temp = True\n",
    "        for j in range(2,(i//2)+1):\n",
    "            if i % j == 0:\n",
    "                temp = False\n",
    "                break\n",
    "        if temp == True:\n",
    "            List1.append(i)\n",
    "    return List1\n",
    "List = eval(input(\"Please enter the list of numbers : \"))\n",
    "print(\"Filtered list of prime numbers from the input list is :\",filter_primes(List))"
   ]
  },
  {
   "cell_type": "raw",
   "id": "b46df113",
   "metadata": {},
   "source": [
    "2. Once a water balloon pops, is soaks the area around it. The ground gets drier the further away you travel from the balloon.\n",
    "\n",
    "The effect of a water balloon popping can be modeled using a list. Create a function that takes a list which takes the pre-pop state and returns the state after the balloon is popped. The pre-pop state will contain at most a single balloon, whose size is represented by the only non-zero element.\n",
    "\n",
    "Examples\n",
    "\n",
    "pop([0, 0, 0, 0, 4, 0, 0, 0, 0]) ➞ [0, 1, 2, 3, 4, 3, 2, 1, 0]\n",
    "\n",
    "pop([0, 0, 0, 3, 0, 0, 0]) ➞ [0, 1, 2, 3, 2, 1, 0]\n",
    "\n",
    "pop([0, 0, 2, 0, 0]) ➞ [0, 1, 2, 1, 0]\n",
    "\n",
    "pop([0]) ➞ [0]"
   ]
  },
  {
   "cell_type": "code",
   "execution_count": 33,
   "id": "92056f27",
   "metadata": {},
   "outputs": [
    {
     "name": "stdout",
     "output_type": "stream",
     "text": [
      "Please enter the list : [0,0,0,0,4,0,0,0,0]\n",
      "State after balloon is popped : [0, 1, 2, 3, 4, 3, 2, 1, 0]\n"
     ]
    }
   ],
   "source": [
    "#2->\n",
    "def pop(List):\n",
    "    '''It will return state after balloon is popped'''\n",
    "    for i in range((len(List)//2)+1):\n",
    "        List[i] = i\n",
    "    for j in range((len(List)//2)+1,len(List)):\n",
    "        List[j] = len(List)-j-1\n",
    "    return List\n",
    "List = eval(input(\"Please enter the list : \"))\n",
    "print(\"State after balloon is popped :\",pop(List))"
   ]
  },
  {
   "cell_type": "raw",
   "id": "d487277d",
   "metadata": {},
   "source": [
    "3. \"Loves me, loves me not\" is a traditional game in which a person plucks off all the petals of a flower one by one, saying the phrase \"Loves me\" and \"Loves me not\" when determining whether the one that they love, loves them back.\n",
    "\n",
    "Given a number of petals, return a string which repeats the phrases \"Loves me\" and \"Loves me not\" for every alternating petal, and return the last phrase in all caps. Remember to put a comma and space between phrases.\n",
    "\n",
    "Examples\n",
    "\n",
    "loves_me(3) ➞ \"Loves me, Loves me not, LOVES ME\"\n",
    "\n",
    "loves_me(6) ➞ \"Loves me, Loves me not, Loves me, Loves me not, Loves me, LOVES ME NOT\"\n",
    "\n",
    "loves_me(1) ➞ \"LOVES ME\""
   ]
  },
  {
   "cell_type": "code",
   "execution_count": 39,
   "id": "25773970",
   "metadata": {},
   "outputs": [
    {
     "name": "stdout",
     "output_type": "stream",
     "text": [
      "Please enter the number : 6\n",
      "Output string is : Loves me, Loves me not, Loves me, Loves me not, Loves me, LOVES ME NOT\n"
     ]
    }
   ],
   "source": [
    "#3->\n",
    "def loves_me(num):\n",
    "    '''It will return loves me, loves me not string number of times with last one in capital'''\n",
    "    string = \"\"\n",
    "    for i in range(num-1):\n",
    "        if i%2==0:\n",
    "            string += \"Loves me, \"\n",
    "        else:\n",
    "            string += \"Loves me not, \"\n",
    "    if (num-1)%2 == 0:\n",
    "        string += \"LOVES ME\"\n",
    "    else:\n",
    "        string += \"LOVES ME NOT\"\n",
    "    return string\n",
    "num = int(input(\"Please enter the number : \"))\n",
    "print(\"Output string is :\",loves_me(num))"
   ]
  },
  {
   "cell_type": "raw",
   "id": "3bf1d8c6",
   "metadata": {},
   "source": [
    "4. Write a function that sorts each string in a list by the letter in alphabetic ascending order (a-z).\n",
    "\n",
    "Examples\n",
    "\n",
    "sort_by_letter([\"932c\", \"832u32\", \"2344b\"])\n",
    "➞ [\"2344b\", \"932c\", \"832u32\"]\n",
    "\n",
    "sort_by_letter([\"99a\", \"78b\", \"c2345\", \"11d\"])\n",
    "➞ [\"99a\", \"78b\", \"c2345\", \"11d\"]\n",
    "\n",
    "sort_by_letter([\"572z\", \"5y5\", \"304q2\"])\n",
    "➞ [\"304q2\", \"5y5\", \"572z\"]\n",
    "\n",
    "sort_by_letter([])\n",
    "➞ []"
   ]
  },
  {
   "cell_type": "code",
   "execution_count": 55,
   "id": "25a570bf",
   "metadata": {},
   "outputs": [
    {
     "name": "stdout",
     "output_type": "stream",
     "text": [
      "Please enter the list of strings : [\"932c\", \"832u32\", \"2344b\"]\n",
      "Sorted list is : ['2344b', '932c', '832u32']\n"
     ]
    }
   ],
   "source": [
    "#4->\n",
    "def sort_by_letter(List):\n",
    "    '''It will return sorted list of string by the letter in alphabetic ascending order (a-z)'''\n",
    "    for i in range(len(List)-1,0,-1):\n",
    "        for j in range(i):\n",
    "            for l in List[j]:\n",
    "                if l.isalpha():\n",
    "                    jf = l\n",
    "                    break\n",
    "            for l in List[j+1]:\n",
    "                if l.isalpha():\n",
    "                    j1f = l\n",
    "            if jf > j1f:\n",
    "                List[j], List[j+1] = List[j+1], List[j]\n",
    "    return List\n",
    "List = eval(input(\"Please enter the list of strings : \"))\n",
    "print(\"Sorted list is :\",sort_by_letter(List))"
   ]
  },
  {
   "cell_type": "raw",
   "id": "d7b619f7",
   "metadata": {},
   "source": [
    "5. There are three cups on a table, at positions A, B, and C. At the start, there is a ball hidden under the cup at position B.\n",
    "\n",
    "\n",
    "\n",
    "\n",
    "\n",
    "\n",
    "However, I perform several swaps on the cups, which is notated as two letters. For example, if I swap the cups at positions A and B, I could notate this as AB or BA.\n",
    "\n",
    "Create a function that returns the letter position that the ball is at, once I finish swapping the cups. The swaps will be given to you as a list.\n",
    "\n",
    "Example\n",
    "\n",
    "cup_swapping([\"AB\", \"CA\", \"AB\"]) ➞ \"C\"\n",
    "\n",
    "# Ball begins at position B.\n",
    "# Cups A and B swap, so the ball is at position A.\n",
    "# Cups C and A swap, so the ball is at position C.\n",
    "# Cups A and B swap, but the ball is at position C, so it doesn't move."
   ]
  },
  {
   "cell_type": "code",
   "execution_count": 61,
   "id": "625c6b96",
   "metadata": {},
   "outputs": [
    {
     "name": "stdout",
     "output_type": "stream",
     "text": [
      "Please enter the list of SWAP : [\"AB\", \"CA\", \"AB\"]\n",
      "Final ball position is : C\n"
     ]
    }
   ],
   "source": [
    "#5->\n",
    "def cup_swapping(List):\n",
    "    '''It will return the position where the ball is in'''\n",
    "    ball = \"B\"\n",
    "    for i in List:\n",
    "        if ball in i:\n",
    "            ballindex = i.index(ball)\n",
    "            if ballindex == 1:\n",
    "                ball = i[0]\n",
    "            else:\n",
    "                ball = i[1]\n",
    "    return ball\n",
    "List = eval(input(\"Please enter the list of SWAP : \"))\n",
    "print(\"Final ball position is :\",cup_swapping(List))"
   ]
  },
  {
   "cell_type": "code",
   "execution_count": null,
   "id": "549279fb",
   "metadata": {},
   "outputs": [],
   "source": []
  }
 ],
 "metadata": {
  "kernelspec": {
   "display_name": "Python 3 (ipykernel)",
   "language": "python",
   "name": "python3"
  },
  "language_info": {
   "codemirror_mode": {
    "name": "ipython",
    "version": 3
   },
   "file_extension": ".py",
   "mimetype": "text/x-python",
   "name": "python",
   "nbconvert_exporter": "python",
   "pygments_lexer": "ipython3",
   "version": "3.9.7"
  }
 },
 "nbformat": 4,
 "nbformat_minor": 5
}
