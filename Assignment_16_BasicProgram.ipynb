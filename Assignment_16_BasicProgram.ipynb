{
 "cells": [
  {
   "cell_type": "raw",
   "id": "30cabd4f",
   "metadata": {},
   "source": [
    "Question1. Write a function that stutters a word as if someone is struggling to read it. The first two letters are repeated twice with an ellipsis ... and space after each, and then the word is pronounced with a question mark ?.\n",
    "Examples\n",
    "stutter(\"incredible\") ➞ \"in... in... incredible?\"\n",
    "\n",
    "stutter(\"enthusiastic\") ➞ \"en... en... enthusiastic?\"\n",
    "\n",
    "stutter(\"outstanding\") ➞ \"ou... ou... outstanding?\"\n",
    "\n",
    "Hint :- Assume all input is in lower case and at least two characters long."
   ]
  },
  {
   "cell_type": "code",
   "execution_count": 11,
   "id": "bf167771",
   "metadata": {},
   "outputs": [
    {
     "name": "stdout",
     "output_type": "stream",
     "text": [
      "Please enter the word : incredible\n",
      "stutter output is : in... in... incredible?\n"
     ]
    }
   ],
   "source": [
    "#1->\n",
    "word = input(\"Please enter the word : \")\n",
    "def stutter(word):\n",
    "    \"\"\"It returns stutter output\"\"\"\n",
    "    return ((word[0:2]+'... ')*2)+word+\"?\"\n",
    "print(\"stutter output is :\",stutter(word))"
   ]
  },
  {
   "cell_type": "raw",
   "id": "8135384a",
   "metadata": {},
   "source": [
    "Question 2.Create a function that takes an angle in radians and returns the corresponding angle in degrees rounded to one decimal place.\n",
    "Examples\n",
    "radians_to_degrees(1) ➞ 57.3\n",
    "\n",
    "radians_to_degrees(20) ➞ 1145.9\n",
    "\n",
    "radians_to_degrees(50) ➞ 2864.8"
   ]
  },
  {
   "cell_type": "code",
   "execution_count": 15,
   "id": "4e901c65",
   "metadata": {},
   "outputs": [
    {
     "name": "stdout",
     "output_type": "stream",
     "text": [
      "Please enter teh angle in radian : 20\n",
      "Degree of angle is : 1145.5\n"
     ]
    }
   ],
   "source": [
    "#2->\n",
    "radian = int(input(\"Please enter teh angle in radian : \"))\n",
    "def radians_to_degrees(radian):\n",
    "    \"\"\"It takes radian of an angle as input and return degree value\"\"\"\n",
    "    return round(radian*(180/(22/7)),1)\n",
    "print(\"Degree of angle is :\",radians_to_degrees(radian))"
   ]
  },
  {
   "cell_type": "raw",
   "id": "937816df",
   "metadata": {},
   "source": [
    "Question 3. In this challenge, establish if a given integer num is a Curzon number. If 1 plus 2 elevated to num is exactly divisible by 1 plus 2 multiplied by num, then num is a Curzon number.\n",
    "Given a non-negative integer num, implement a function that returns True if num is a Curzon number, or False otherwise.\n",
    "Examples\n",
    "is_curzon(5) ➞ True\n",
    "# 2 ** 5 + 1 = 33\n",
    "# 2 * 5 + 1 = 11\n",
    "# 33 is a multiple of 11\n",
    "\n",
    "is_curzon(10) ➞ False\n",
    "# 2 ** 10 + 1 = 1025\n",
    "# 2 * 10 + 1 = 21\n",
    "# 1025 is not a multiple of 21\n",
    "\n",
    "is_curzon(14) ➞ True\n",
    "# 2 ** 14 + 1 = 16385\n",
    "# 2 * 14 + 1 = 29\n",
    "# 16385 is a multiple of 29"
   ]
  },
  {
   "cell_type": "code",
   "execution_count": 23,
   "id": "56da4d3d",
   "metadata": {},
   "outputs": [
    {
     "name": "stdout",
     "output_type": "stream",
     "text": [
      "Please enter the number : 14\n",
      "14 is curzon number : True\n"
     ]
    }
   ],
   "source": [
    "#3->\n",
    "num = int(input(\"Please enter the number : \"))\n",
    "def is_curzon(num):\n",
    "    \"\"\"It is to indentify if the number is curzon number\"\"\"\n",
    "    if (2**num + 1) % (2*num + 1) == 0:\n",
    "        return True\n",
    "    else:\n",
    "        return False\n",
    "print(num,\"is curzon number :\",is_curzon(num))"
   ]
  },
  {
   "cell_type": "raw",
   "id": "a94919dd",
   "metadata": {},
   "source": [
    "Question 4.Given the side length x find the area of a hexagon.\n",
    " \n",
    "Examples\n",
    "area_of_hexagon(1) ➞ 2.6\n",
    "\n",
    "area_of_hexagon(2) ➞ 10.4\n",
    "\n",
    "area_of_hexagon(3) ➞ 23.4"
   ]
  },
  {
   "cell_type": "code",
   "execution_count": 20,
   "id": "7d90797e",
   "metadata": {},
   "outputs": [
    {
     "name": "stdout",
     "output_type": "stream",
     "text": [
      "Please enter the side length : 2\n",
      "Area of hexagon is : 10.4\n"
     ]
    }
   ],
   "source": [
    "#4->\n",
    "import math\n",
    "length = int(input(\"Please enter the side length : \"))\n",
    "print(\"Area of hexagon is :\",round((3*math.sqrt(3)*length**2)/2,1))"
   ]
  },
  {
   "cell_type": "raw",
   "id": "24aa0ab1",
   "metadata": {},
   "source": [
    "Question 5. Create a function that returns a base-2 (binary) representation of a base-10 (decimal) string number. To convert is simple: ((2) means base-2 and (10) means base-10) 010101001(2) = 1 + 8 + 32 + 128.\n",
    "Going from right to left, the value of the most right bit is 1, now from that every bit to the left will be x2 the value, value of an 8 bit binary numbers are (256, 128, 64, 32, 16, 8, 4, 2, 1).\n",
    "Examples\n",
    "binary(1) ➞ \"1\"\n",
    "# 1*1 = 1\n",
    "\n",
    "binary(5) ➞ \"101\"\n",
    "# 1*1 + 1*4 = 5\n",
    "\n",
    "binary(10) ➞ \"1010\"\n",
    "# 1*2 + 1*8 = 10"
   ]
  },
  {
   "cell_type": "code",
   "execution_count": 7,
   "id": "35a50e92",
   "metadata": {},
   "outputs": [
    {
     "name": "stdout",
     "output_type": "stream",
     "text": [
      "Please enter the decimal number : 2\n",
      "Binary output for given decimal number is :\n",
      "10"
     ]
    }
   ],
   "source": [
    "#5->\n",
    "num = int(input(\"Please enter the decimal number : \"))\n",
    "def binary(num):\n",
    "    if num > 1:\n",
    "        binary(num//2)\n",
    "    print(str(num%2),end='')\n",
    "print(\"Binary output for given decimal number is :\")\n",
    "binary(num)"
   ]
  },
  {
   "cell_type": "code",
   "execution_count": null,
   "id": "2ce57860",
   "metadata": {},
   "outputs": [],
   "source": []
  }
 ],
 "metadata": {
  "kernelspec": {
   "display_name": "Python 3 (ipykernel)",
   "language": "python",
   "name": "python3"
  },
  "language_info": {
   "codemirror_mode": {
    "name": "ipython",
    "version": 3
   },
   "file_extension": ".py",
   "mimetype": "text/x-python",
   "name": "python",
   "nbconvert_exporter": "python",
   "pygments_lexer": "ipython3",
   "version": "3.9.7"
  }
 },
 "nbformat": 4,
 "nbformat_minor": 5
}
