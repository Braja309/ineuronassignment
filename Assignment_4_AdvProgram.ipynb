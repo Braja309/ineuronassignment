{
 "cells": [
  {
   "cell_type": "raw",
   "id": "efc6f092",
   "metadata": {},
   "source": [
    "1. In mathematics, the Fibonacci numbers, commonly denoted Fn, form a sequence, called the Fibonacci sequence, such that each number is the sum of the two preceding ones, starting from 0 and 1:\n",
    "\n",
    "The beginning of the sequence is this:\n",
    "\n",
    "0, 1, 1, 2, 3, 5, 8, 13, 21, 34, 55, 89, 144, ...\n",
    "\n",
    "The function fastFib(num) returns the fibonacci number Fn, of the given num as an argument.\n",
    "\n",
    "Examples\n",
    "\n",
    "fib_fast(5) ➞ 5\n",
    "\n",
    "fib_fast(10) ➞ 55\n",
    "\n",
    "fib_fast(20) ➞ 6765\n",
    "\n",
    "fib_fast(50) ➞ 12586269025"
   ]
  },
  {
   "cell_type": "code",
   "execution_count": 3,
   "id": "f26f8abd",
   "metadata": {},
   "outputs": [
    {
     "name": "stdout",
     "output_type": "stream",
     "text": [
      "Please enter the sequence : 20\n",
      "Fibonacci number is : 6765\n"
     ]
    }
   ],
   "source": [
    "#1->\n",
    "def fib_fast(seq):\n",
    "    \"\"\"It will return fibonacci number on seq\"\"\"\n",
    "    a = 0\n",
    "    b = 1\n",
    "    for i in range(seq):\n",
    "        a,b = b,a+b\n",
    "    return a\n",
    "num = int(input(\"Please enter the sequence : \"))\n",
    "print(\"Fibonacci number is :\",fib_fast(num))"
   ]
  },
  {
   "cell_type": "raw",
   "id": "95dff3be",
   "metadata": {},
   "source": [
    "2. Create a function that takes a strings characters as ASCII and returns each characters hexadecimal value as a string.\n",
    "\n",
    "Examples\n",
    "\n",
    "convert_to_hex(\"hello world\") ➞ \"68 65 6c 6c 6f 20 77 6f 72 6c 64\"\n",
    "\n",
    "convert_to_hex(\"Big Boi\") ➞ \"42 69 67 20 42 6f 69\"\n",
    "\n",
    "convert_to_hex(\"Marty Poppinson\") ➞ \"4d 61 72 74 79 20 50 6f 70 70 69 6e 73 6f 6e\""
   ]
  },
  {
   "cell_type": "code",
   "execution_count": 15,
   "id": "ccc261f5",
   "metadata": {},
   "outputs": [
    {
     "name": "stdout",
     "output_type": "stream",
     "text": [
      "Please enter the string : hello world\n",
      "Hexadecimal value is : 68 65 6c 6c 6f 20 77 6f 72 6c 64 \n"
     ]
    }
   ],
   "source": [
    "#2->\n",
    "def convert_to_hex(string):\n",
    "    \"\"\"It will convert string to hexadecimal value\"\"\"\n",
    "    str1 = \"\"\n",
    "    for i in string:\n",
    "        str1 += hex(ord(i))[2:]+' '\n",
    "    return str1\n",
    "string = input(\"Please enter the string : \")\n",
    "print(\"Hexadecimal value is :\",convert_to_hex(string))"
   ]
  },
  {
   "cell_type": "raw",
   "id": "904b599c",
   "metadata": {},
   "source": [
    "3. Someone has attempted to censor my strings by replacing every vowel with a *, l*k* th*s. Luckily, I've been able to find the vowels that were removed.\n",
    "\n",
    "Given a censored string and a string of the censored vowels, return the original uncensored string.\n",
    "\n",
    "Example\n",
    "\n",
    "uncensor(\"Wh*r* d*d my v*w*ls g*?\", \"eeioeo\") ➞ \"Where did my vowels go?\"\n",
    "\n",
    "uncensor(\"abcd\", \"\") ➞ \"abcd\"\n",
    "\n",
    "uncensor(\"*PP*RC*S*\", \"UEAE\") ➞ \"UPPERCASE\""
   ]
  },
  {
   "cell_type": "code",
   "execution_count": 20,
   "id": "501f2292",
   "metadata": {},
   "outputs": [
    {
     "name": "stdout",
     "output_type": "stream",
     "text": [
      "Please enter the string : Wh*r* d*d my v*w*ls g*?\n",
      "Please enter string elements : eeioeo\n",
      "Uncensored string is : Where did my vowels go?\n"
     ]
    }
   ],
   "source": [
    "#3->\n",
    "def uncensor(string,v):\n",
    "    \"\"\"it will replace * character with given string elements\"\"\"\n",
    "    str1 = \"\"\n",
    "    c = 0\n",
    "    for i in string:\n",
    "        if i == '*':\n",
    "            str1 += v[c]\n",
    "            c += 1\n",
    "        else:\n",
    "            str1 += i\n",
    "    return str1\n",
    "string = input(\"Please enter the string : \")\n",
    "vowel = input(\"Please enter string elements : \")\n",
    "print(\"Uncensored string is :\",uncensor(string,vowel))"
   ]
  },
  {
   "cell_type": "raw",
   "id": "5c6b2e51",
   "metadata": {},
   "source": [
    "4. Write a function that takes an IP address and returns the domain name using PTR DNS records.\n",
    "\n",
    "Example\n",
    "\n",
    "get_domain(\"8.8.8.8\") ➞ \"dns.google\"\n",
    "\n",
    "get_domain(\"8.8.4.4\") ➞ \"dns.google\""
   ]
  },
  {
   "cell_type": "code",
   "execution_count": 26,
   "id": "3b2359e9",
   "metadata": {},
   "outputs": [
    {
     "name": "stdout",
     "output_type": "stream",
     "text": [
      "Please enter the IP address : 8.8.4.4\n",
      "Domain name of given address is : dns.google\n"
     ]
    }
   ],
   "source": [
    "#4->\n",
    "def get_domain(addr):\n",
    "    \"\"\"It will return domain name from a IP Address\"\"\"\n",
    "    import socket\n",
    "    return socket.gethostbyaddr(addr)[0]\n",
    "address = input(\"Please enter the IP address : \")\n",
    "print(\"Domain name of given address is :\",get_domain(address))"
   ]
  },
  {
   "cell_type": "raw",
   "id": "c8b20939",
   "metadata": {},
   "source": [
    "5. Create a function that takes an integer n and returns the factorial of factorials. See below examples for a better understanding:\n",
    "\n",
    "Examples\n",
    "\n",
    "fact_of_fact(4) ➞ 288\n",
    "# 4! * 3! * 2! * 1! = 288\n",
    "\n",
    "fact_of_fact(5) ➞ 34560\n",
    "\n",
    "fact_of_fact(6) ➞ 24883200"
   ]
  },
  {
   "cell_type": "code",
   "execution_count": 27,
   "id": "ff9ff09c",
   "metadata": {},
   "outputs": [
    {
     "name": "stdout",
     "output_type": "stream",
     "text": [
      "Please enter the number : 6\n",
      "Factorial of factorial of 6 is : 24883200\n"
     ]
    }
   ],
   "source": [
    "#5->\n",
    "def fact_of_fact(num):\n",
    "    \"\"\"It will return factorial of factorial of number\"\"\"\n",
    "    result = 1\n",
    "    for i in range(num):\n",
    "        result *=  (num-i)**(i+1)\n",
    "    return result\n",
    "number = int(input(\"Please enter the number : \"))\n",
    "print(\"Factorial of factorial of\",number,\"is :\",fact_of_fact(number))"
   ]
  },
  {
   "cell_type": "code",
   "execution_count": null,
   "id": "832067c0",
   "metadata": {},
   "outputs": [],
   "source": []
  }
 ],
 "metadata": {
  "kernelspec": {
   "display_name": "Python 3 (ipykernel)",
   "language": "python",
   "name": "python3"
  },
  "language_info": {
   "codemirror_mode": {
    "name": "ipython",
    "version": 3
   },
   "file_extension": ".py",
   "mimetype": "text/x-python",
   "name": "python",
   "nbconvert_exporter": "python",
   "pygments_lexer": "ipython3",
   "version": "3.9.7"
  }
 },
 "nbformat": 4,
 "nbformat_minor": 5
}
