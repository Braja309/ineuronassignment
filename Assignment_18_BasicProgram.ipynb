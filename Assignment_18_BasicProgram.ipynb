{
 "cells": [
  {
   "cell_type": "raw",
   "id": "53440a28",
   "metadata": {},
   "source": [
    "Question 1\n",
    "Create a function that takes a list of non-negative integers and strings and return a new list without the strings.\n",
    "Examples\n",
    "filter_list([1, 2, \"a\", \"b\"]) ➞ [1, 2]\n",
    "\n",
    "filter_list([1, \"a\", \"b\", 0, 15]) ➞ [1, 0, 15]\n",
    "\n",
    "filter_list([1, 2, \"aasf\", \"1\", \"123\", 123]) ➞ [1, 2, 123]"
   ]
  },
  {
   "cell_type": "code",
   "execution_count": 21,
   "id": "69d09d06",
   "metadata": {},
   "outputs": [
    {
     "name": "stdout",
     "output_type": "stream",
     "text": [
      "Please enter a list of non-negetive integer and string : [1, 2, \"aasf\", \"1\", \"123\", 123]\n",
      "List of integer output is : [1, 2, 123]\n"
     ]
    }
   ],
   "source": [
    "#1->\n",
    "List = eval(input(\"Please enter a list of non-negetive integer and string : \"))\n",
    "def filter_list(List):\n",
    "    \"\"\"It will return list of integer from the List\"\"\"\n",
    "    i = 0\n",
    "    while i < len(List):\n",
    "        if type(List[i]) == int:\n",
    "            i +=1\n",
    "        elif type(List[i]) == str:\n",
    "            List.pop(i)\n",
    "    return List\n",
    "print(\"List of integer output is :\",filter_list(List))"
   ]
  },
  {
   "cell_type": "raw",
   "id": "fdf0c010",
   "metadata": {},
   "source": [
    "Question 2\n",
    "The \"Reverser\" takes a string as input and returns that string in reverse order, with the opposite case.\n",
    "Examples\n",
    "reverse(\"Hello World\") ➞ \"DLROw OLLEh\"\n",
    "\n",
    "reverse(\"ReVeRsE\") ➞ \"eSrEvEr\"\n",
    "\n",
    "reverse(\"Radar\") ➞ \"RADAr\""
   ]
  },
  {
   "cell_type": "code",
   "execution_count": 27,
   "id": "53b75e64",
   "metadata": {},
   "outputs": [
    {
     "name": "stdout",
     "output_type": "stream",
     "text": [
      "Please enter the string : Hello World\n",
      "Output string is : DLROw OLLEh\n"
     ]
    }
   ],
   "source": [
    "#2->\n",
    "string = input(\"Please enter the string : \")\n",
    "def reverse(string):\n",
    "    return string[::-1].swapcase()\n",
    "print(\"Output string is :\",reverse(string))"
   ]
  },
  {
   "cell_type": "raw",
   "id": "5690ac9f",
   "metadata": {},
   "source": [
    "Question 3\n",
    "You can assign variables from lists like this:\n",
    "lst = [1, 2, 3, 4, 5, 6]\n",
    "first = lst[0]\n",
    "middle = lst[1:-1]\n",
    "last = lst[-1]\n",
    "\n",
    "print(first) ➞ outputs 1\n",
    "print(middle) ➞ outputs [2, 3, 4, 5]\n",
    "print(last) ➞ outputs 6\n",
    "With Python 3, you can assign variables from lists in a much more succinct way. Create variables first, middle and last from the given list using destructuring assignment (check the Resources tab for some examples), where:\n",
    "first  ➞ 1\n",
    "\n",
    "middle ➞ [2, 3, 4, 5]\n",
    "\n",
    "last ➞ 6\n",
    "Your task is to unpack the list writeyourcodehere into three variables, being first, middle, and last, with middle being everything in between the first and last element. Then print all three variables."
   ]
  },
  {
   "cell_type": "code",
   "execution_count": 32,
   "id": "e4ed733a",
   "metadata": {},
   "outputs": [
    {
     "name": "stdout",
     "output_type": "stream",
     "text": [
      "1\n",
      "[2, 3, 4, 5]\n",
      "6\n"
     ]
    }
   ],
   "source": [
    "#3->\n",
    "first, *middle, last = [1,2,3,4,5,6]\n",
    "print(first)\n",
    "print(middle)\n",
    "print(last)"
   ]
  },
  {
   "cell_type": "raw",
   "id": "959b84fc",
   "metadata": {},
   "source": [
    "Question 4\n",
    "Write a function that calculates the factorial of a number recursively.\n",
    "Examples\n",
    "factorial(5) ➞ 120\n",
    "\n",
    "factorial(3) ➞ 6\n",
    "\n",
    "factorial(1) ➞ 1\n",
    "\n",
    "factorial(0) ➞ 1"
   ]
  },
  {
   "cell_type": "code",
   "execution_count": 33,
   "id": "f87072dd",
   "metadata": {},
   "outputs": [
    {
     "name": "stdout",
     "output_type": "stream",
     "text": [
      "Please enter a number : 5\n",
      "The factorial of 5 is : 120\n"
     ]
    }
   ],
   "source": [
    "#4->\n",
    "def factorial(num):\n",
    "    \"\"\"It will return factorial of a number\"\"\"\n",
    "    if num==1:\n",
    "        return num\n",
    "    else:\n",
    "        return num*factorial(num-1)\n",
    "num = int(input(\"Please enter a number : \"))\n",
    "if num==0:\n",
    "    print(\"Factorial is : 1\")\n",
    "elif num < 0:\n",
    "    print(\"Factorial doesn't exist for negetive number\")\n",
    "else:\n",
    "    print(\"The factorial of\", num, \"is :\", factorial(num))"
   ]
  },
  {
   "cell_type": "raw",
   "id": "699f8d80",
   "metadata": {},
   "source": [
    "Question 5\n",
    "Write a function that moves all elements of one type to the end of the list.\n",
    "Examples\n",
    "move_to_end([1, 3, 2, 4, 4, 1], 1) ➞ [3, 2, 4, 4, 1, 1]\n",
    "# Move all the 1s to the end of the array.\n",
    "\n",
    "move_to_end([7, 8, 9, 1, 2, 3, 4], 9) ➞ [7, 8, 1, 2, 3, 4, 9]\n",
    "\n",
    "move_to_end([\"a\", \"a\", \"a\", \"b\"], \"a\") ➞ [\"b\", \"a\", \"a\", \"a\"]"
   ]
  },
  {
   "cell_type": "code",
   "execution_count": 54,
   "id": "22063ce6",
   "metadata": {},
   "outputs": [
    {
     "name": "stdout",
     "output_type": "stream",
     "text": [
      "Please enter the list : [1,1,2,3,4,1,7]\n",
      "Please enter the element : 1\n",
      "Updated list after moving all 1 to end is : [2, 3, 4, 7, 1, 1, 1]\n"
     ]
    }
   ],
   "source": [
    "#5->\n",
    "List = eval(input(\"Please enter the list : \"))\n",
    "ele = eval(input(\"Please enter the element : \"))\n",
    "def move_to_end(List,ele):\n",
    "    \"\"\"It will move all ele elements to the end of the list\"\"\"\n",
    "    i = 0\n",
    "    c = List.count(ele) \n",
    "    if c > 0:\n",
    "        while i<len(List)-c:\n",
    "            if List[i] == ele:\n",
    "                for j in range(i,len(List)-1):\n",
    "                    List[j],List[j+1]=List[j+1],List[j]\n",
    "            else:\n",
    "                i += 1\n",
    "\n",
    "    return List\n",
    "print(\"Updated list after moving all\",ele,\"to end is :\",move_to_end(List,ele))"
   ]
  },
  {
   "cell_type": "code",
   "execution_count": null,
   "id": "d57f3d9d",
   "metadata": {},
   "outputs": [],
   "source": []
  }
 ],
 "metadata": {
  "kernelspec": {
   "display_name": "Python 3 (ipykernel)",
   "language": "python",
   "name": "python3"
  },
  "language_info": {
   "codemirror_mode": {
    "name": "ipython",
    "version": 3
   },
   "file_extension": ".py",
   "mimetype": "text/x-python",
   "name": "python",
   "nbconvert_exporter": "python",
   "pygments_lexer": "ipython3",
   "version": "3.9.7"
  }
 },
 "nbformat": 4,
 "nbformat_minor": 5
}
