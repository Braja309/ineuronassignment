{
 "cells": [
  {
   "cell_type": "raw",
   "id": "734ca6cd",
   "metadata": {},
   "source": [
    "1. Create a function that transposes a 2D matrix.\n",
    "\n",
    "Examples\n",
    "\n",
    "transpose_matrix([\n",
    "  [1, 1, 1],\n",
    "  [2, 2, 2],\n",
    "  [3, 3, 3]\n",
    "]) ➞ [\n",
    "  [1, 2, 3],\n",
    "  [1, 2, 3],\n",
    "  [1, 2, 3]\n",
    "]\n",
    "\n",
    "transpose_matrix([\n",
    "  [5, 5],\n",
    "  [6, 7],\n",
    "  [9, 1]\n",
    "]) ➞ [\n",
    "  [5, 6, 9],\n",
    "  [5, 7, 1]\n",
    "]"
   ]
  },
  {
   "cell_type": "code",
   "execution_count": 19,
   "id": "dd433080",
   "metadata": {},
   "outputs": [
    {
     "name": "stdout",
     "output_type": "stream",
     "text": [
      "Please enter the matrix : [   [5, 5],   [6, 7],   [9, 1] ]\n",
      "Transpose of the matrix is : [[5, 6, 9], [5, 7, 1]]\n"
     ]
    }
   ],
   "source": [
    "#1->\n",
    "def transpose_matrix(matrix):\n",
    "    '''It will return transpose of matrix'''\n",
    "    #This is list comprehension\n",
    "    #return [[matrix[j][i] for j in range(len(matrix))] for i in range(len(matrix[0]))]\n",
    "    matrix_T = []\n",
    "    for i in range(len(matrix[0])):\n",
    "        tempmat = []\n",
    "        for j in range(len(matrix)):\n",
    "            tempmat.append(matrix[j][i])\n",
    "        matrix_T.append(tempmat)\n",
    "    return matrix_T\n",
    "matrix = eval(input(\"Please enter the matrix : \"))\n",
    "print(\"Transpose of the matrix is :\",transpose_matrix(matrix))"
   ]
  },
  {
   "cell_type": "raw",
   "id": "4ccb08ed",
   "metadata": {},
   "source": [
    "2. Create a function that determines whether a string is a valid hex code.\n",
    "\n",
    "A hex code must begin with a pound key # and is exactly 6 characters in length. Each character must be a digit from 0-9 or an alphabetic character from A-F. All alphabetic characters may be uppercase or lowercase.\n",
    "\n",
    "Examples\n",
    "\n",
    "is_valid_hex_code(\"#CD5C5C\") ➞ True\n",
    "\n",
    "is_valid_hex_code(\"#EAECEE\") ➞ True\n",
    "\n",
    "is_valid_hex_code(\"#eaecee\") ➞ True\n",
    "\n",
    "is_valid_hex_code(\"#CD5C58C\") ➞ False\n",
    "# Length exceeds 6\n",
    "\n",
    "is_valid_hex_code(\"#CD5C5Z\") ➞ False\n",
    "# Not all alphabetic characters in A-F\n",
    "\n",
    "is_valid_hex_code(\"#CD5C&C\") ➞ False\n",
    "# Contains unacceptable character\n",
    "\n",
    "is_valid_hex_code(\"CD5C5C\") ➞ False\n",
    "# Missing #"
   ]
  },
  {
   "cell_type": "code",
   "execution_count": 31,
   "id": "e4a4e5cf",
   "metadata": {},
   "outputs": [
    {
     "name": "stdout",
     "output_type": "stream",
     "text": [
      "Please enter the string : #CD5C5C\n",
      "Entered string is a valid hex code : True\n"
     ]
    }
   ],
   "source": [
    "#2->\n",
    "def is_valid_hex_code(string):\n",
    "    '''It will return if it is valid hex code'''\n",
    "    if string[0] != '#' or len(string) != 7:\n",
    "        return False\n",
    "    else:\n",
    "        for i in range(1,len(string)):\n",
    "            if string[i].lower() not in ['a','b','c','d','e','f','0','1','2','3','4','5','6','7','8','9']:\n",
    "                return False\n",
    "        return True\n",
    "string = input(\"Please enter the string : \")\n",
    "print(\"Entered string is a valid hex code :\",is_valid_hex_code(string))"
   ]
  },
  {
   "cell_type": "raw",
   "id": "21fc8a26",
   "metadata": {},
   "source": [
    "3. Given a list of math equations (given as strings), return the percentage of correct answers as a string. Round to the nearest whole number.\n",
    "\n",
    "Examples\n",
    "\n",
    "mark_maths([\"2+2=4\", \"3+2=5\", \"10-3=3\", \"5+5=10\"]) ➞ \"75%\"\n",
    "\n",
    "mark_maths([\"1-2=-2\"]), \"0%\"\n",
    "\n",
    "mark_maths([\"2+3=5\", \"4+4=9\", \"3-1=2\"]) ➞ \"67%\""
   ]
  },
  {
   "cell_type": "code",
   "execution_count": 55,
   "id": "bc1395c1",
   "metadata": {},
   "outputs": [
    {
     "name": "stdout",
     "output_type": "stream",
     "text": [
      "Please enter the list of equations : [\"2+3=5\", \"4+4=9\", \"3-1=2\"]\n",
      "Persentage of correct answers is : 67%\n"
     ]
    }
   ],
   "source": [
    "#3->\n",
    "def mark_maths(List):\n",
    "    '''It will return persentage of correct answers'''\n",
    "    per = 0\n",
    "    for i in List:\n",
    "        if '+' in i.split('=')[0]:\n",
    "            if int(i.split('=')[0].split('+')[0]) + int(i.split('=')[0].split('+')[1]) == int(i.split('=')[1]):\n",
    "                per += 100/len(List)\n",
    "        elif '-' in i.split('=')[0]:\n",
    "            if int(i.split('=')[0].split('-')[0]) - int(i.split('=')[0].split('-')[1]) == int(i.split('=')[1]):\n",
    "                per += 100/len(List)\n",
    "    return str(round(per))+'%'\n",
    "List = eval(input(\"Please enter the list of equations : \"))\n",
    "print(\"Persentage of correct answers is :\",mark_maths(List))"
   ]
  },
  {
   "cell_type": "raw",
   "id": "a457b4eb",
   "metadata": {},
   "source": [
    "4. There are two players, Alice and Bob, each with a 3-by-3 grid. A referee tells Alice to fill out one particular row in the grid (say the second row) by putting either a 1 or a 0 in each box, such that the sum of the numbers in that row is odd. The referee tells Bob to fill out one column in the grid (say the first column) by putting either a 1 or a 0 in each box, such that the sum of the numbers in that column is even.\n",
    "\n",
    "Alice and Bob win the game if Alice’s numbers give an odd sum, Bob’s give an even sum, and (most important) they’ve each written down the same number in the one square where their row and column intersect.\n",
    "\n",
    "Examples\n",
    "\n",
    "magic_square_game([2, \"100\"], [1, \"101\"]) ➞ False\n",
    "\n",
    "magic_square_game([2, \"001\"], [1, \"101\"]) ➞ True\n",
    "\n",
    "magic_square_game([3, \"111\"], [2, \"011\"]) ➞ True\n",
    "\n",
    "magic_square_game([1, \"010\"], [3, \"101\"]) ➞ False\n",
    "\n",
    "# Two lists, Alice [row, \"her choice\"], Bob [column, \"his choice\"]"
   ]
  },
  {
   "cell_type": "code",
   "execution_count": 86,
   "id": "b2fb6e97",
   "metadata": {},
   "outputs": [
    {
     "name": "stdout",
     "output_type": "stream",
     "text": [
      "Please enter entry from Alice : [3,\"111\"]\n",
      "Please enter entry from Bob : [2,\"011\"]\n",
      "Alice and Bob wins : True\n"
     ]
    }
   ],
   "source": [
    "#4->\n",
    "def digitsum(num):\n",
    "    '''it will sums up all the digitsof the number'''\n",
    "    s = 0\n",
    "    while num >0:\n",
    "        s += num %10\n",
    "        num //= 10\n",
    "    return s\n",
    "def magic_square_game(Alice, Bob):\n",
    "    '''It will return if Alice and Bob win'''\n",
    "    if digitsum(int(Alice[1])) %2 == 0 or digitsum(int(Bob[1])) %2 != 0:\n",
    "        return False\n",
    "    List = [[],[],[]]\n",
    "    List[Alice[0]-1] = list(Alice[1])\n",
    "    if List[Alice[0]-1][Bob[0]-1] == Bob[1][Alice[0]-1]:\n",
    "        return True\n",
    "    else:\n",
    "        return False\n",
    "Alice = eval(input(\"Please enter entry from Alice : \"))\n",
    "Bob = eval(input(\"Please enter entry from Bob : \"))\n",
    "print(\"Alice and Bob wins :\",magic_square_game(Alice,Bob))"
   ]
  },
  {
   "cell_type": "raw",
   "id": "ec2eed0f",
   "metadata": {},
   "source": [
    "5. From point A, an object is moving towards point B at constant velocity va (in km/hr). From point B, another object is moving towards point A at constant velocity vb (in km/hr). Knowing this and the distance between point A and B (in km), write a function that returns how much time passes until both objects meet.\n",
    "\n",
    "Format the output like this:\n",
    "\n",
    "\"2h 23min 34s\"\n",
    "\n",
    "Examples\n",
    "\n",
    "lets_meet(100, 10, 30) ➞ \"2h 30min 0s\"\n",
    "\n",
    "lets_meet(280, 70, 80) ➞ \"1h 52min 0s\"\n",
    "\n",
    "lets_meet(90, 75, 65) ➞ \"0h 38min 34s\""
   ]
  },
  {
   "cell_type": "code",
   "execution_count": 100,
   "id": "17f4f345",
   "metadata": {},
   "outputs": [
    {
     "name": "stdout",
     "output_type": "stream",
     "text": [
      "Please enter distance(KM) between A and B : 100\n",
      "Please enter first object speed(km/hr) : 10\n",
      "Please enter second object speed(km/hr) : 30\n",
      "Both the object will pass after : 2h 30min 0s\n"
     ]
    }
   ],
   "source": [
    "#5->\n",
    "def lets_meet(dis,obj1_speed,obj2_speed):\n",
    "    '''It will measure the time when both A and B meets'''\n",
    "    time = dis/(obj1_speed+obj2_speed)\n",
    "    out = \"\"\n",
    "    for i in ['h ','min ','s']:\n",
    "        out += str(int(time))+i\n",
    "        time = (time-int(time))*60\n",
    "    return out\n",
    "Distance = int(input(\"Please enter distance(KM) between A and B : \"))\n",
    "Speed1 = int(input(\"Please enter first object speed(km/hr) : \"))\n",
    "Speed2 = int(input(\"Please enter second object speed(km/hr) : \"))\n",
    "print(\"Both the object will pass after :\",lets_meet(Distance,Speed1,Speed2))"
   ]
  },
  {
   "cell_type": "code",
   "execution_count": null,
   "id": "93a4b432",
   "metadata": {},
   "outputs": [],
   "source": []
  }
 ],
 "metadata": {
  "kernelspec": {
   "display_name": "Python 3 (ipykernel)",
   "language": "python",
   "name": "python3"
  },
  "language_info": {
   "codemirror_mode": {
    "name": "ipython",
    "version": 3
   },
   "file_extension": ".py",
   "mimetype": "text/x-python",
   "name": "python",
   "nbconvert_exporter": "python",
   "pygments_lexer": "ipython3",
   "version": "3.9.7"
  }
 },
 "nbformat": 4,
 "nbformat_minor": 5
}
