{
 "cells": [
  {
   "cell_type": "raw",
   "id": "d9eb8710",
   "metadata": {},
   "source": [
    "1.\tWrite a Python program to convert kilometers to miles?"
   ]
  },
  {
   "cell_type": "code",
   "execution_count": 2,
   "id": "5e567378",
   "metadata": {},
   "outputs": [
    {
     "name": "stdout",
     "output_type": "stream",
     "text": [
      "Enter distance in kilometers: 4.5\n",
      "4.5 kilometers = 2.796165 miles\n"
     ]
    }
   ],
   "source": [
    "#1->1 kms equals to 0.62137 miles.\n",
    "km = float(input(\"Enter distance in kilometers: \"))\n",
    "print(\"{} kilometers = {} miles\".format(km,km*0.62137))"
   ]
  },
  {
   "cell_type": "raw",
   "id": "07a67209",
   "metadata": {},
   "source": [
    "2.\tWrite a Python program to convert Celsius to Fahrenheit?"
   ]
  },
  {
   "cell_type": "code",
   "execution_count": 3,
   "id": "154093fc",
   "metadata": {},
   "outputs": [
    {
     "name": "stdout",
     "output_type": "stream",
     "text": [
      "Enter temparature in Celsius: 7\n",
      "7.0 Celsius = 44.6 Fahrenheit\n"
     ]
    }
   ],
   "source": [
    "#1->F = (C × 9/5) + 32\n",
    "Cel = float(input(\"Enter temparature in Celsius: \"))\n",
    "print(\"{} Celsius = {} Fahrenheit\".format(Cel,(Cel*(9/5))+32))"
   ]
  },
  {
   "cell_type": "raw",
   "id": "d235ac6c",
   "metadata": {},
   "source": [
    "3.\tWrite a Python program to display calendar?"
   ]
  },
  {
   "cell_type": "code",
   "execution_count": 18,
   "id": "73b937fa",
   "metadata": {},
   "outputs": [
    {
     "name": "stdout",
     "output_type": "stream",
     "text": [
      "Please enter the year : 2022\n",
      "Please enter the month : 1\n",
      "    January 2022\n",
      "Mo Tu We Th Fr Sa Su\n",
      "                1  2\n",
      " 3  4  5  6  7  8  9\n",
      "10 11 12 13 14 15 16\n",
      "17 18 19 20 21 22 23\n",
      "24 25 26 27 28 29 30\n",
      "31\n",
      "\n"
     ]
    }
   ],
   "source": [
    "#3->\n",
    "import calendar\n",
    "year = int(input(\"Please enter the year : \"))\n",
    "month = int(input(\"Please enter the month : \"))\n",
    "print(calendar.month(year,month))"
   ]
  },
  {
   "cell_type": "raw",
   "id": "8f90b5f3",
   "metadata": {},
   "source": [
    "4.\tWrite a Python program to solve quadratic equation?"
   ]
  },
  {
   "cell_type": "code",
   "execution_count": 30,
   "id": "58c69267",
   "metadata": {},
   "outputs": [
    {
     "name": "stdout",
     "output_type": "stream",
     "text": [
      "The solution are (-12+0j) and (2+0j)\n"
     ]
    }
   ],
   "source": [
    "#4->quadratic equation ax**2+b*X+c = 0   a ≠ 0\n",
    "import cmath\n",
    "a = 1\n",
    "b = 10\n",
    "c = -24\n",
    "\n",
    "dis = (b**2) - (4*a*c)\n",
    "\n",
    "sol1 = (-b-cmath.sqrt(dis))/(2*a)\n",
    "sol2 = (-b+cmath.sqrt(dis))/(2*a)\n",
    "\n",
    "print('The solution are {} and {}'.format(sol1,sol2))"
   ]
  },
  {
   "cell_type": "raw",
   "id": "af703316",
   "metadata": {},
   "source": [
    "5.\tWrite a Python program to swap two variables without temp variable?"
   ]
  },
  {
   "cell_type": "code",
   "execution_count": 32,
   "id": "506378b8",
   "metadata": {},
   "outputs": [
    {
     "name": "stdout",
     "output_type": "stream",
     "text": [
      "Please enter first value a: r\n",
      "Please enter first value b: h\n",
      "Swapped values are \n",
      " a= h b= r\n"
     ]
    }
   ],
   "source": [
    "#5->\n",
    "a = input(\"Please enter first value a: \")\n",
    "b = input(\"Please enter first value b: \")\n",
    "a,b=b,a\n",
    "print(\"Swapped values are \\n a=\",a,\"b=\",b)"
   ]
  },
  {
   "cell_type": "code",
   "execution_count": null,
   "id": "ba3410af",
   "metadata": {},
   "outputs": [],
   "source": []
  }
 ],
 "metadata": {
  "kernelspec": {
   "display_name": "Python 3 (ipykernel)",
   "language": "python",
   "name": "python3"
  },
  "language_info": {
   "codemirror_mode": {
    "name": "ipython",
    "version": 3
   },
   "file_extension": ".py",
   "mimetype": "text/x-python",
   "name": "python",
   "nbconvert_exporter": "python",
   "pygments_lexer": "ipython3",
   "version": "3.9.7"
  }
 },
 "nbformat": 4,
 "nbformat_minor": 5
}
