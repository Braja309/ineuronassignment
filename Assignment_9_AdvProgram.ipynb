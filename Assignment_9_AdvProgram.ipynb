{
 "cells": [
  {
   "cell_type": "raw",
   "id": "d08561da",
   "metadata": {},
   "source": [
    "1. YouTube offers different playback speed options for users. This allows users to increase or decrease the speed of the video content. Given the actual duration and playback speed of the video, calculate the playback duration of the video.\n",
    "\n",
    "Examples\n",
    "\n",
    "playback_duration(\"00:30:00\", 2) ➞ \"00:15:00\"\n",
    "\n",
    "playback_duration(\"01:20:00\", 1.5) ➞ \"00:53:20\"\n",
    "\n",
    "playback_duration(\"51:20:09\", 0.5) ➞ \"102:40:18\""
   ]
  },
  {
   "cell_type": "code",
   "execution_count": 28,
   "id": "cb4aa013",
   "metadata": {},
   "outputs": [
    {
     "name": "stdout",
     "output_type": "stream",
     "text": [
      "Please enter total time duration : 01:20:00\n",
      "Please enter the speed : 1.5\n",
      "Playback time duration is : 00:53:20\n"
     ]
    }
   ],
   "source": [
    "#1->\n",
    "def playback_duration(duration, speed):\n",
    "    '''It will return time to play the complete video'''\n",
    "    time = [3600,60,1]\n",
    "    total = 0\n",
    "    out = []\n",
    "    for i in range(3):\n",
    "        total += int(duration.split(\":\")[i])*time[i]\n",
    "    total /= speed\n",
    "    for i in range(3):\n",
    "        t = int(total/time[i])\n",
    "        if t<10:\n",
    "            out.append('0'+str(t))\n",
    "        else:\n",
    "            out.append(str(t))\n",
    "        total %= time[i]\n",
    "    return \":\".join(out)\n",
    "duration = input(\"Please enter total time duration : \")\n",
    "speed = eval(input(\"Please enter the speed : \"))\n",
    "print(\"Playback time duration is :\",playback_duration(duration,speed))"
   ]
  },
  {
   "cell_type": "raw",
   "id": "aad394ca",
   "metadata": {},
   "source": [
    "2. We needs your help to construct a building which will be a pile of n cubes. The cube at the bottom will have a volume of n^3, the cube above will have volume of (n-1)^3 and so on until the top which will have a volume of 1^3.\n",
    "\n",
    "Given the total volume m of the building, can you find the number of cubes n required for the building?\n",
    "\n",
    "In other words, you have to return an integer n such that:\n",
    "\n",
    "n^3 + (n-1)^3 + ... + 1^3 == m\n",
    "\n",
    "Return None if there is no such number.\n",
    "\n",
    "Examples\n",
    "\n",
    "pile_of_cubes(1071225) ➞ 45\n",
    "\n",
    "pile_of_cubes(4183059834009) ➞ 2022\n",
    "\n",
    "pile_of_cubes(16) ➞ None"
   ]
  },
  {
   "cell_type": "code",
   "execution_count": 41,
   "id": "f87aa2cc",
   "metadata": {},
   "outputs": [
    {
     "name": "stdout",
     "output_type": "stream",
     "text": [
      "Please enter the number : 4183059834009\n",
      "Pile of cube is : 2022\n"
     ]
    }
   ],
   "source": [
    "#2->\n",
    "def pile_of_cubes(num):\n",
    "    '''It will return pile of n cubes'''\n",
    "    s = 0\n",
    "    i = 0\n",
    "    while s<num:\n",
    "        i += 1\n",
    "        s += i**3\n",
    "    if s == num:\n",
    "        return i\n",
    "    else:\n",
    "        return 'None'\n",
    "num = int(input(\"Please enter the number : \"))\n",
    "print(\"Pile of cube is :\",pile_of_cubes(num))    "
   ]
  },
  {
   "cell_type": "raw",
   "id": "471720c3",
   "metadata": {},
   "source": [
    "3. A fulcrum of a list is an integer such that all elements to the left of it and all elements to the right of it sum to the same value. Write a function that finds the fulcrum of a list.\n",
    "\n",
    "To illustrate:\n",
    "\n",
    "find_fulcrum([3, 1, 5, 2, 4, 6, -1]) ➞ 2\n",
    "// Since [3, 1, 5] and [4, 6, -1] both sum to 9\n",
    "\n",
    "Examples\n",
    "\n",
    "find_fulcrum([1, 2, 4, 9, 10, -10, -9, 3]) ➞ 4\n",
    "\n",
    "find_fulcrum([9, 1, 9]) ➞ 1\n",
    "\n",
    "find_fulcrum([7, -1, 0, -1, 1, 1, 2, 3]) ➞ 0\n",
    "\n",
    "find_fulcrum([8, 8, 8, 8]) ➞ -1"
   ]
  },
  {
   "cell_type": "code",
   "execution_count": 48,
   "id": "04b91e85",
   "metadata": {},
   "outputs": [
    {
     "name": "stdout",
     "output_type": "stream",
     "text": [
      "Please enter the list of numbers : [1, 2, 4, 9, 10, -10, -9, 3]\n",
      "The fulcrum element is : 4\n"
     ]
    }
   ],
   "source": [
    "#3->\n",
    "def find_fulcrum(List):\n",
    "    '''It will return the element such that all elements to the left of it and all elements to the right of it sum to the same value'''\n",
    "    for i in range(len(List)):\n",
    "        if sum(List[:i]) == sum(List[i+1:]):\n",
    "            return List[i]\n",
    "    return -1\n",
    "List = eval(input(\"Please enter the list of numbers : \"))\n",
    "print(\"The fulcrum element is :\",find_fulcrum(List))"
   ]
  },
  {
   "cell_type": "raw",
   "id": "84f8d639",
   "metadata": {},
   "source": [
    "4. Given a list of integers representing the color of each sock, determine how many pairs of socks with matching colors there are. For example, there are 7 socks with colors [1, 2, 1, 2, 1, 3, 2]. There is one pair of color 1 and one of color 2. There are three odd socks left, one of each color. The number of pairs is 2.\n",
    "\n",
    "Create a function that returns an integer representing the number of matching pairs of socks that are available.\n",
    "\n",
    "Examples\n",
    "\n",
    "sock_merchant([10, 20, 20, 10, 10, 30, 50, 10, 20]) ➞ 3\n",
    "\n",
    "sock_merchant([50, 20, 30, 90, 30, 20, 50, 20, 90]) ➞ 4\n",
    "\n",
    "sock_merchant([]) ➞ 0"
   ]
  },
  {
   "cell_type": "code",
   "execution_count": 57,
   "id": "fa961244",
   "metadata": {},
   "outputs": [
    {
     "name": "stdout",
     "output_type": "stream",
     "text": [
      "Please enter list of numbers : [10, 20, 20, 10, 10, 30, 50, 10, 20]\n",
      "Count of same color pair socks is : 3\n"
     ]
    }
   ],
   "source": [
    "#4->\n",
    "def sock_merchant(List):\n",
    "    '''It will count of same color pair socks'''\n",
    "    dictionary = {i:List.count(i) for i in List}\n",
    "    s = 0\n",
    "    for value in dictionary.values():\n",
    "        s += value//2\n",
    "    return s\n",
    "List = eval(input(\"Please enter list of numbers : \"))\n",
    "print(\"Count of same color pair socks is :\",sock_merchant(List))"
   ]
  },
  {
   "cell_type": "raw",
   "id": "621488b6",
   "metadata": {},
   "source": [
    "5. Create a function that takes a string containing integers as well as other characters and return the sum of the negative integers only.\n",
    "\n",
    "Examples\n",
    "\n",
    "negative_sum(\"-12 13%14&-11\") ➞ -23\n",
    "# -12 + -11 = -23\n",
    "\n",
    "negative_sum(\"22 13%14&-11-22 13 12\") ➞ -33\n",
    "# -11 + -22 = -33"
   ]
  },
  {
   "cell_type": "code",
   "execution_count": 90,
   "id": "7c67e303",
   "metadata": {},
   "outputs": [
    {
     "name": "stdout",
     "output_type": "stream",
     "text": [
      "Please enter the string : -12 13%14&-11\n",
      "Sum of negetive integer is : -23\n"
     ]
    }
   ],
   "source": [
    "#5->\n",
    "def negetive_sum(string):\n",
    "    '''It will return sum of negetive integer'''\n",
    "    temp = \"-0\"\n",
    "    s = 0\n",
    "    i = 0\n",
    "    while i < len(string):\n",
    "        if string[i] == '-':\n",
    "            i += 1\n",
    "            while string[i].isdigit():\n",
    "                temp += string[i]\n",
    "                if i < len(string)-1:\n",
    "                    i += 1\n",
    "                else:\n",
    "                    break\n",
    "            i -= 1\n",
    "            s += int(temp)\n",
    "            temp = \"-0\"\n",
    "        i += 1\n",
    "    return s\n",
    "string = input(\"Please enter the string : \")\n",
    "print(\"Sum of negetive integer is :\",negetive_sum(string))            "
   ]
  },
  {
   "cell_type": "code",
   "execution_count": null,
   "id": "64190423",
   "metadata": {},
   "outputs": [],
   "source": []
  }
 ],
 "metadata": {
  "kernelspec": {
   "display_name": "Python 3 (ipykernel)",
   "language": "python",
   "name": "python3"
  },
  "language_info": {
   "codemirror_mode": {
    "name": "ipython",
    "version": 3
   },
   "file_extension": ".py",
   "mimetype": "text/x-python",
   "name": "python",
   "nbconvert_exporter": "python",
   "pygments_lexer": "ipython3",
   "version": "3.9.7"
  }
 },
 "nbformat": 4,
 "nbformat_minor": 5
}
