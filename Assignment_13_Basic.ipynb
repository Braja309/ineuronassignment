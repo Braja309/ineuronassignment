{
 "cells": [
  {
   "cell_type": "raw",
   "id": "d4c2bb54",
   "metadata": {},
   "source": [
    "1. What advantages do Excel spreadsheets have over CSV spreadsheets?"
   ]
  },
  {
   "cell_type": "markdown",
   "id": "a4bf5c2d",
   "metadata": {},
   "source": [
    "Ans - \n",
    "\n",
    "    In Excel, spreadsheets can have values of data types other than strings.\n",
    "    Cells can have different fonts, sizes, or color settings\n",
    "    Cells can have varying widths and heights\n",
    "    Adjacent cells can be merged.\n",
    "    Images and charts can be embeded."
   ]
  },
  {
   "cell_type": "raw",
   "id": "a9b1202c",
   "metadata": {},
   "source": [
    "2.What do you pass to csv.reader() and csv.writer() to create reader and writer objects?"
   ]
  },
  {
   "cell_type": "markdown",
   "id": "17fb27c7",
   "metadata": {},
   "source": [
    "Ans - You pass a File object, obtained from a call to open()."
   ]
  },
  {
   "cell_type": "raw",
   "id": "bc0fb1fe",
   "metadata": {},
   "source": [
    "3. What modes do File objects for reader and writer objects need to be opened in?"
   ]
  },
  {
   "cell_type": "markdown",
   "id": "bd838bc9",
   "metadata": {},
   "source": [
    "Ans - \n",
    "\n",
    "    reader objects > read-binary-('rb')\n",
    "    writer objects > write-binary-('wb')"
   ]
  },
  {
   "cell_type": "raw",
   "id": "2df976ae",
   "metadata": {},
   "source": [
    "4. What method takes a list argument and writes it to a CSV file?"
   ]
  },
  {
   "cell_type": "markdown",
   "id": "4a4b7179",
   "metadata": {},
   "source": [
    "Ans - writerow()"
   ]
  },
  {
   "cell_type": "raw",
   "id": "b1f39350",
   "metadata": {},
   "source": [
    "5. What do the keyword arguments delimiter and line terminator do?"
   ]
  },
  {
   "cell_type": "markdown",
   "id": "36b78f8f",
   "metadata": {},
   "source": [
    "Ans - Delimiter argument changes the string used to separate cells in a row and lineterminator argument changes the string used to separate rows."
   ]
  },
  {
   "cell_type": "raw",
   "id": "c9d7ee06",
   "metadata": {},
   "source": [
    "6. What function takes a string of JSON data and returns a Python data structure?"
   ]
  },
  {
   "cell_type": "markdown",
   "id": "d1a4469c",
   "metadata": {},
   "source": [
    "Ans - json.loads()"
   ]
  },
  {
   "cell_type": "raw",
   "id": "fb727a63",
   "metadata": {},
   "source": [
    "7. What function takes a Python data structure and returns a string of JSON data?"
   ]
  },
  {
   "cell_type": "markdown",
   "id": "31ba4f67",
   "metadata": {},
   "source": [
    "Ans - json.dumps()"
   ]
  }
 ],
 "metadata": {
  "kernelspec": {
   "display_name": "Python 3 (ipykernel)",
   "language": "python",
   "name": "python3"
  },
  "language_info": {
   "codemirror_mode": {
    "name": "ipython",
    "version": 3
   },
   "file_extension": ".py",
   "mimetype": "text/x-python",
   "name": "python",
   "nbconvert_exporter": "python",
   "pygments_lexer": "ipython3",
   "version": "3.9.7"
  }
 },
 "nbformat": 4,
 "nbformat_minor": 5
}
