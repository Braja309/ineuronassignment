{
 "cells": [
  {
   "cell_type": "markdown",
   "id": "a4bf5c2d",
   "metadata": {},
   "source": [
    "1-> \n",
    "\n",
    "    In Excel, spreadsheets can have values of data types other than strings.\n",
    "    Cells can have different fonts, sizes, or color settings\n",
    "    Cells can have varying widths and heights\n",
    "    Adjacent cells can be merged.\n",
    "    Images and charts can be embeded."
   ]
  },
  {
   "cell_type": "markdown",
   "id": "17fb27c7",
   "metadata": {},
   "source": [
    "2-> You pass a File object, obtained from a call to open()."
   ]
  },
  {
   "cell_type": "markdown",
   "id": "bd838bc9",
   "metadata": {},
   "source": [
    "3-> \n",
    "\n",
    "    reader objects > read-binary-('rb')\n",
    "    writer objects > write-binary-('wb')"
   ]
  },
  {
   "cell_type": "markdown",
   "id": "4a4b7179",
   "metadata": {},
   "source": [
    "4-> writerow()"
   ]
  },
  {
   "cell_type": "markdown",
   "id": "36b78f8f",
   "metadata": {},
   "source": [
    "5-> Delimiter argument changes the string used to separate cells in a row and lineterminator argument changes the string used to separate rows."
   ]
  },
  {
   "cell_type": "markdown",
   "id": "d1a4469c",
   "metadata": {},
   "source": [
    "6-> json.loads()"
   ]
  },
  {
   "cell_type": "markdown",
   "id": "31ba4f67",
   "metadata": {},
   "source": [
    "7-> json.dumps()"
   ]
  },
  {
   "cell_type": "code",
   "execution_count": null,
   "id": "19ac4120",
   "metadata": {},
   "outputs": [],
   "source": []
  }
 ],
 "metadata": {
  "kernelspec": {
   "display_name": "Python 3 (ipykernel)",
   "language": "python",
   "name": "python3"
  },
  "language_info": {
   "codemirror_mode": {
    "name": "ipython",
    "version": 3
   },
   "file_extension": ".py",
   "mimetype": "text/x-python",
   "name": "python",
   "nbconvert_exporter": "python",
   "pygments_lexer": "ipython3",
   "version": "3.9.7"
  }
 },
 "nbformat": 4,
 "nbformat_minor": 5
}
