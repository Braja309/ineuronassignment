{
 "cells": [
  {
   "cell_type": "raw",
   "id": "79ea815f",
   "metadata": {},
   "source": [
    "1.\tWrite a Python Program to find sum of array?"
   ]
  },
  {
   "cell_type": "code",
   "execution_count": 7,
   "id": "9aec68af",
   "metadata": {},
   "outputs": [
    {
     "name": "stdout",
     "output_type": "stream",
     "text": [
      "[2, 4, 23, 12, 54]\n",
      "Sum of given array is : 95\n"
     ]
    }
   ],
   "source": [
    "#1->\n",
    "list = [2,4,23,12,54]\n",
    "sum = 0\n",
    "print(list)\n",
    "for i in list:\n",
    "    sum += i\n",
    "print(\"Sum of given array is :\",sum)"
   ]
  },
  {
   "cell_type": "raw",
   "id": "54e59c30",
   "metadata": {},
   "source": [
    "2.\tWrite a Python Program to find largest element in an array?"
   ]
  },
  {
   "cell_type": "code",
   "execution_count": 12,
   "id": "cc6897b7",
   "metadata": {},
   "outputs": [
    {
     "name": "stdout",
     "output_type": "stream",
     "text": [
      "[2, 4, 23, 123, 54]\n",
      "Max of given array is : 123\n"
     ]
    }
   ],
   "source": [
    "#2->\n",
    "list = [2,4,23,123,54]\n",
    "max = 0\n",
    "print(list)\n",
    "for i in list:\n",
    "    if i>max:\n",
    "        max = i\n",
    "print(\"Max of given array is :\",max)"
   ]
  },
  {
   "cell_type": "raw",
   "id": "63281e72",
   "metadata": {},
   "source": [
    "3.\tWrite a Python Program for array rotation?"
   ]
  },
  {
   "cell_type": "code",
   "execution_count": 23,
   "id": "e3d2851b",
   "metadata": {},
   "outputs": [
    {
     "name": "stdout",
     "output_type": "stream",
     "text": [
      "Please enter rotation number : 2\n",
      "list after 2 rotation is [23, 123, 54, 2, 4]\n"
     ]
    }
   ],
   "source": [
    "#3->\n",
    "list = [2,4,23,123,54]\n",
    "rot = int(input(\"Please enter rotation number : \"))\n",
    "rot = rot%len(list)\n",
    "for i in range(0,rot):\n",
    "    list.append(list[i])\n",
    "print(\"list after\",rot,\"rotation is\",list[rot:])"
   ]
  },
  {
   "cell_type": "raw",
   "id": "f38f51b2",
   "metadata": {},
   "source": [
    "4.\tWrite a Python Program to Split the array and add the first part to the end?"
   ]
  },
  {
   "cell_type": "code",
   "execution_count": 31,
   "id": "f7eb0450",
   "metadata": {},
   "outputs": [
    {
     "name": "stdout",
     "output_type": "stream",
     "text": [
      "list after splitting the array and add the first part to the end is [123, 54, 35, 2, 4, 23]\n"
     ]
    }
   ],
   "source": [
    "#4->\n",
    "list = [2,4,23,123,54,35]\n",
    "l = len(list)\n",
    "for i in range(int(l/2)):\n",
    "    list.append(list[i])\n",
    "print(\"list after splitting the array and add the first part to the end is\",list[int(l/2):])"
   ]
  },
  {
   "cell_type": "raw",
   "id": "8d6a2a00",
   "metadata": {},
   "source": [
    "5.\tWrite a Python Program to check if given array is Monotonic?"
   ]
  },
  {
   "cell_type": "code",
   "execution_count": 4,
   "id": "41285916",
   "metadata": {},
   "outputs": [
    {
     "name": "stdout",
     "output_type": "stream",
     "text": [
      "True\n"
     ]
    }
   ],
   "source": [
    "#5->\n",
    "def isMonotonic(List):\n",
    "    \"\"\"This function is determine if the list is Monotonic\"\"\"\n",
    "    return (all(List[i] <= List[i + 1] for i in range(len(List) - 1)) or\n",
    "            all(List[i] >= List[i + 1] for i in range(len(List) - 1)))\n",
    "  \n",
    "list = [2,4,23,35,54,123]\n",
    "print(isMonotonic(list))"
   ]
  },
  {
   "cell_type": "code",
   "execution_count": null,
   "id": "fe4defc6",
   "metadata": {},
   "outputs": [],
   "source": []
  }
 ],
 "metadata": {
  "kernelspec": {
   "display_name": "Python 3 (ipykernel)",
   "language": "python",
   "name": "python3"
  },
  "language_info": {
   "codemirror_mode": {
    "name": "ipython",
    "version": 3
   },
   "file_extension": ".py",
   "mimetype": "text/x-python",
   "name": "python",
   "nbconvert_exporter": "python",
   "pygments_lexer": "ipython3",
   "version": "3.9.7"
  }
 },
 "nbformat": 4,
 "nbformat_minor": 5
}
