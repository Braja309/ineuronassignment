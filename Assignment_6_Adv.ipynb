{
 "cells": [
  {
   "cell_type": "raw",
   "id": "bf6fade7",
   "metadata": {},
   "source": [
    "Q1. Describe three applications for exception processing."
   ]
  },
  {
   "cell_type": "markdown",
   "id": "818ea1d4",
   "metadata": {},
   "source": [
    "#1-> the checked exception, the error and the runtime exception."
   ]
  },
  {
   "cell_type": "raw",
   "id": "146f8aa9",
   "metadata": {},
   "source": [
    "Q2. What happens if you don't do something extra to treat an exception?"
   ]
  },
  {
   "cell_type": "markdown",
   "id": "3627f694",
   "metadata": {},
   "source": [
    "#2-> It will stop the code excution there. If we put codes under Else or Finally block, it will run even though error ocurredin try block"
   ]
  },
  {
   "cell_type": "raw",
   "id": "05995008",
   "metadata": {},
   "source": [
    "Q3. What are your options for recovering from an exception in your script?"
   ]
  },
  {
   "cell_type": "markdown",
   "id": "65fd20f2",
   "metadata": {},
   "source": [
    "#3-> use try, expect, else, finally block"
   ]
  },
  {
   "cell_type": "raw",
   "id": "5eac8edd",
   "metadata": {},
   "source": [
    "Q4. Describe two methods for triggering exceptions in your script."
   ]
  },
  {
   "cell_type": "markdown",
   "id": "4e916109",
   "metadata": {},
   "source": [
    "#4-> Try – This method catches the exceptions raised by the program. Raise – Triggers an exception manually using custom exceptions."
   ]
  },
  {
   "cell_type": "raw",
   "id": "549f4bc8",
   "metadata": {},
   "source": [
    "Q5. Identify two methods for specifying actions to be executed at termination time, regardless of whether or not an exception exists."
   ]
  },
  {
   "cell_type": "markdown",
   "id": "818648ab",
   "metadata": {},
   "source": [
    "#5-> FInally clock executes everytime, regardless of whether or not an exception exists."
   ]
  },
  {
   "cell_type": "code",
   "execution_count": null,
   "id": "70482d55",
   "metadata": {},
   "outputs": [],
   "source": []
  }
 ],
 "metadata": {
  "kernelspec": {
   "display_name": "Python 3 (ipykernel)",
   "language": "python",
   "name": "python3"
  },
  "language_info": {
   "codemirror_mode": {
    "name": "ipython",
    "version": 3
   },
   "file_extension": ".py",
   "mimetype": "text/x-python",
   "name": "python",
   "nbconvert_exporter": "python",
   "pygments_lexer": "ipython3",
   "version": "3.9.7"
  }
 },
 "nbformat": 4,
 "nbformat_minor": 5
}
