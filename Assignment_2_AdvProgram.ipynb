{
 "cells": [
  {
   "cell_type": "raw",
   "id": "61715067",
   "metadata": {},
   "source": [
    "1. Write a function that takes a positive integer num and calculates how many dots exist in a pentagonal shape around the center dot on the Nth iteration.\n",
    "\n",
    "In the image below you can see the first iteration is only a single dot. On the second, there are 6 dots. On the third, there are 16 dots, and on the fourth there are 31 dots.\n",
    "\n",
    "Return the number of dots that exist in the whole pentagon on the Nth iteration.\n",
    "\n",
    "Examples\n",
    "\n",
    "pentagonal(1) ➞ 1\n",
    "\n",
    "pentagonal(2) ➞ 6\n",
    "\n",
    "pentagonal(3) ➞ 16\n",
    "\n",
    "pentagonal(8) ➞ 141"
   ]
  },
  {
   "cell_type": "code",
   "execution_count": 8,
   "id": "4d7be744",
   "metadata": {},
   "outputs": [
    {
     "name": "stdout",
     "output_type": "stream",
     "text": [
      "Please enter number fo iteration : 8\n",
      "Number of dots in the whole pentagon is : 141\n"
     ]
    }
   ],
   "source": [
    "#1->\n",
    "def pentagonal(n):\n",
    "    \"\"\"It will calculate how many dots exist in a pentagonal shape around the center dot on the nth iteration\"\"\"\n",
    "    if n == 1:\n",
    "        return 1\n",
    "    else:\n",
    "        return ((n-1)*5)+pentagonal(n-1)\n",
    "num = int(input(\"Please enter number fo iteration : \"))\n",
    "print(\"Number of dots in the whole pentagon is :\",pentagonal(num))"
   ]
  },
  {
   "cell_type": "raw",
   "id": "55c0c8d8",
   "metadata": {},
   "source": [
    "2.  Make a function that encrypts a given input with these steps:\n",
    "\n",
    "Input: \"apple\"\n",
    "\n",
    "Step 1: Reverse the input: \"elppa\"\n",
    "\n",
    "Step 2: Replace all vowels using the following chart:\n",
    "\n",
    "a => 0\n",
    "e => 1\n",
    "i => 2\n",
    "o => 2\n",
    "u => 3\n",
    "\n",
    "# \"1lpp0\"\n",
    "\n",
    "Step 3: Add \"aca\" to the end of the word: \"1lpp0aca\"\n",
    "\n",
    "Output: \"1lpp0aca\"\n",
    "\n",
    "Examples\n",
    "\n",
    "encrypt(\"banana\") ➞ \"0n0n0baca\"\n",
    "\n",
    "encrypt(\"karaca\") ➞ \"0c0r0kaca\"\n",
    "\n",
    "encrypt(\"burak\") ➞ \"k0r3baca\"\n",
    "\n",
    "encrypt(\"alpaca\") ➞ \"0c0pl0aca\""
   ]
  },
  {
   "cell_type": "code",
   "execution_count": 24,
   "id": "53c94f42",
   "metadata": {},
   "outputs": [
    {
     "name": "stdout",
     "output_type": "stream",
     "text": [
      "Please enter the string : banana\n",
      "Encrypted string is : 0n0n0bace\n"
     ]
    }
   ],
   "source": [
    "#2->\n",
    "def encrypt(string):\n",
    "    \"\"\"It will encrypt the string\"\"\"\n",
    "    vowels= {'a': 0,'e': 1,'i': 2,'o': 2,'u': 3}\n",
    "    str1 = \"\"\n",
    "    for i in string[::-1]:\n",
    "        if i in vowels:\n",
    "            str1 += str(vowels[i])\n",
    "        else:\n",
    "            str1 += i\n",
    "    return str1+'ace'\n",
    "string = input(\"Please enter the string : \")\n",
    "print(\"Encrypted string is :\",encrypt(string))"
   ]
  },
  {
   "cell_type": "raw",
   "id": "e908631b",
   "metadata": {},
   "source": [
    "3. Given the month and year as numbers, return whether that month contains a Friday 13th.(i.e You can check Python's datetime module)\n",
    "\n",
    "Examples\n",
    "\n",
    "has_friday_13(3, 2020) ➞ True\n",
    "\n",
    "has_friday_13(10, 2017) ➞ True\n",
    "\n",
    "has_friday_13(1, 1985) ➞ False"
   ]
  },
  {
   "cell_type": "code",
   "execution_count": 49,
   "id": "685df764",
   "metadata": {},
   "outputs": [
    {
     "name": "stdout",
     "output_type": "stream",
     "text": [
      "Please enter the month : 10\n",
      "Please enter the Year : 2017\n",
      "13th of given month is Friday : True\n"
     ]
    }
   ],
   "source": [
    "#3->\n",
    "def has_friday_13(month, year):\n",
    "    \"\"\"It will return if 13th of given input month is fryday\"\"\"\n",
    "    import datetime\n",
    "    import calendar\n",
    "    if calendar.day_name[datetime.datetime.strptime('13 '+month+' '+year, '%d %m %Y').weekday()]== 'Friday':\n",
    "        return True\n",
    "    else:\n",
    "        return False\n",
    "month = input(\"Please enter the month : \")\n",
    "year = input(\"Please enter the Year : \")\n",
    "print(\"13th of given month is Friday :\",has_friday_13(month,year))"
   ]
  },
  {
   "cell_type": "raw",
   "id": "95746d68",
   "metadata": {},
   "source": [
    "4. Write a regular expression that will help us count how many bad cookies are produced every day. You must use RegEx negative lookbehind.\n",
    "\n",
    "Example\n",
    "\n",
    "lst = [\"bad cookie\", \"good cookie\", \"bad cookie\", \"good cookie\", \"good cookie\"]\n",
    "pattern = \"yourregularexpressionhere\"\n",
    "\n",
    "len(re.findall(pattern, \", \".join(lst))) ➞ 2"
   ]
  },
  {
   "cell_type": "code",
   "execution_count": 72,
   "id": "e5f4f178",
   "metadata": {},
   "outputs": [
    {
     "data": {
      "text/plain": [
       "2"
      ]
     },
     "execution_count": 72,
     "metadata": {},
     "output_type": "execute_result"
    }
   ],
   "source": [
    "#4->\n",
    "lst = [\"bad cookie\", \"good cookie\", \"bad cookie\", \"good cookie\", \"good cookie\"]\n",
    "pattern = '(?<=)bad cookie'\n",
    "len(re.findall(pattern, \", \".join(lst)))"
   ]
  },
  {
   "cell_type": "raw",
   "id": "ea2b7202",
   "metadata": {},
   "source": [
    "5. Given a list of words in the singular form, return a set of those words in the plural form if they appear more than once in the list.\n",
    "\n",
    "Examples\n",
    "\n",
    "pluralize([\"cow\", \"pig\", \"cow\", \"cow\"]) ➞ { \"cows\", \"pig\" }\n",
    "\n",
    "pluralize([\"table\", \"table\", \"table\"]) ➞ { \"tables\" }\n",
    "\n",
    "pluralize([\"chair\", \"pencil\", \"arm\"]) ➞ { \"chair\", \"pencil\", \"arm\" }"
   ]
  },
  {
   "cell_type": "code",
   "execution_count": 85,
   "id": "1307f407",
   "metadata": {},
   "outputs": [
    {
     "name": "stdout",
     "output_type": "stream",
     "text": [
      "Please enter list of values : [\"cow\", \"pig\", \"cow\", \"cow\"]\n",
      "Set of words is : {'cows', 'pig'}\n"
     ]
    }
   ],
   "source": [
    "#5->\n",
    "def pluralize(List):\n",
    "    \"\"\"It will return a set of those words in the plural form if they appear more than once in the list\"\"\"\n",
    "    import inflect\n",
    "    p = inflect.engine()   \n",
    "    List1 = []\n",
    "    for i in List:\n",
    "        if List.count(i)>1:\n",
    "            List1.append(p.plural(i))\n",
    "        else:\n",
    "            List1.append(i)\n",
    "    return set(List1)\n",
    "List = eval(input(\"Please enter list of values : \"))\n",
    "print(\"Set of words is :\",pluralize(List))"
   ]
  },
  {
   "cell_type": "code",
   "execution_count": null,
   "id": "75f8fbad",
   "metadata": {},
   "outputs": [],
   "source": []
  }
 ],
 "metadata": {
  "kernelspec": {
   "display_name": "Python 3 (ipykernel)",
   "language": "python",
   "name": "python3"
  },
  "language_info": {
   "codemirror_mode": {
    "name": "ipython",
    "version": 3
   },
   "file_extension": ".py",
   "mimetype": "text/x-python",
   "name": "python",
   "nbconvert_exporter": "python",
   "pygments_lexer": "ipython3",
   "version": "3.9.7"
  }
 },
 "nbformat": 4,
 "nbformat_minor": 5
}
