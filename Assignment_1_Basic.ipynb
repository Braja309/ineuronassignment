{
 "cells": [
  {
   "cell_type": "markdown",
   "id": "dab6065d",
   "metadata": {},
   "source": [
    "1-> \n",
    "    \n",
    "    Values - 'hello', -87.8, 6 \n",
    "    Expressions - *, -, /, +"
   ]
  },
  {
   "cell_type": "markdown",
   "id": "1ac03233",
   "metadata": {},
   "source": [
    "2-> \n",
    "\n",
    "    A variable is a space, which can store everything from number to string. A string is quated value which can be assigned to a variable."
   ]
  },
  {
   "cell_type": "markdown",
   "id": "603de751",
   "metadata": {},
   "source": [
    "3-> \n",
    "\n",
    "    There can be multiple data types. Below are three out of them - \n",
    "    Numeric - It can be Integer, Float or Complex data type. Ex: int - 4\n",
    "    Stirng - It is a quated value. Ex: \"Braja\"\n",
    "    Sequence - It is a collection of data. It stores multiple items in a single variable. Ex: List - [1,\"Braja\",30], tuple - ('2','4')"
   ]
  },
  {
   "cell_type": "markdown",
   "id": "41d64217",
   "metadata": {},
   "source": [
    "4-> \n",
    "\n",
    "    Expression is made up of variables,operators and method invocations. It always evalute down to a single value. In python to print an expression, the interpreter evaluates the expression and displays the result."
   ]
  },
  {
   "cell_type": "markdown",
   "id": "b051ed06",
   "metadata": {},
   "source": [
    "5-> An expression evaluates to a single value, a statement does not.\n",
    "    \n",
    "    spam=10    ## a Statement\n",
    "    spam+10    ## an Expression"
   ]
  },
  {
   "cell_type": "markdown",
   "id": "c1e77828",
   "metadata": {},
   "source": [
    "6-> 22"
   ]
  },
  {
   "cell_type": "markdown",
   "id": "d699399d",
   "metadata": {},
   "source": [
    "7-> It will return same value for both term. Result: 'spamspamspam'"
   ]
  },
  {
   "cell_type": "markdown",
   "id": "9f6054ea",
   "metadata": {},
   "source": [
    "8-> Variables can't be a number"
   ]
  },
  {
   "cell_type": "markdown",
   "id": "36314e52",
   "metadata": {},
   "source": [
    "9-> int(), float(), str()"
   ]
  },
  {
   "cell_type": "code",
   "execution_count": 1,
   "id": "d6ff2319",
   "metadata": {},
   "outputs": [
    {
     "data": {
      "text/plain": [
       "'I have eaten 99 burritos.'"
      ]
     },
     "execution_count": 1,
     "metadata": {},
     "output_type": "execute_result"
    }
   ],
   "source": [
    "#10-> string can only be concatenated with another string. we can typecast integer to string like below - \n",
    "'I have eaten ' + str(99) + ' burritos.'"
   ]
  },
  {
   "cell_type": "code",
   "execution_count": null,
   "id": "8a659913",
   "metadata": {},
   "outputs": [],
   "source": []
  }
 ],
 "metadata": {
  "kernelspec": {
   "display_name": "Python 3 (ipykernel)",
   "language": "python",
   "name": "python3"
  },
  "language_info": {
   "codemirror_mode": {
    "name": "ipython",
    "version": 3
   },
   "file_extension": ".py",
   "mimetype": "text/x-python",
   "name": "python",
   "nbconvert_exporter": "python",
   "pygments_lexer": "ipython3",
   "version": "3.9.7"
  }
 },
 "nbformat": 4,
 "nbformat_minor": 5
}
