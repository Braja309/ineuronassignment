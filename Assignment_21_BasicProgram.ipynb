{
 "cells": [
  {
   "cell_type": "raw",
   "id": "ad5d2d79",
   "metadata": {},
   "source": [
    "Question1\n",
    "Write a function that takes a list and a number as arguments. Add the number to the end of the list, then remove the first element of the list. The function should then return the updated list.\n",
    "Examples\n",
    "next_in_line([5, 6, 7, 8, 9], 1) ➞ [6, 7, 8, 9, 1]\n",
    "\n",
    "next_in_line([7, 6, 3, 23, 17], 10) ➞ [6, 3, 23, 17, 10]\n",
    "\n",
    "next_in_line([1, 10, 20, 42 ], 6) ➞ [10, 20, 42, 6]\n",
    "\n",
    "next_in_line([], 6) ➞ \"No list has been selected\""
   ]
  },
  {
   "cell_type": "code",
   "execution_count": 1,
   "id": "7eaf975f",
   "metadata": {},
   "outputs": [
    {
     "name": "stdout",
     "output_type": "stream",
     "text": [
      "Please enter the list : [7,6,3,23,17]\n",
      "Please enter the number : 10\n",
      "Updated List is : [6, 3, 23, 17, 10]\n"
     ]
    }
   ],
   "source": [
    "#1->\n",
    "List = eval(input(\"Please enter the list : \"))\n",
    "num = int(input(\"Please enter the number : \"))\n",
    "def next_in_line(List,num):\n",
    "    \"\"\"It will add the number to the end of the list, then remove the first element of the list\"\"\"\n",
    "    List.append(num)\n",
    "    List.pop(0)\n",
    "    return List\n",
    "print(\"Updated List is :\",next_in_line(List,num))"
   ]
  },
  {
   "cell_type": "raw",
   "id": "6140f794",
   "metadata": {},
   "source": [
    "Question2\n",
    "Create the function that takes a list of dictionaries and returns the sum of people's budgets.\n",
    "Examples\n",
    "get_budgets([\n",
    "  { \"name\": \"John\", \"age\": 21, \"budget\": 23000 },\n",
    "  { \"name\": \"Steve\",  \"age\": 32, \"budget\": 40000 },\n",
    "  { \"name\": \"Martin\",  \"age\": 16, \"budget\": 2700 }\n",
    "]) ➞ 65700\n",
    "\n",
    "get_budgets([\n",
    "  { \"name\": \"John\",  \"age\": 21, \"budget\": 29000 },\n",
    "  { \"name\": \"Steve\",  \"age\": 32, \"budget\": 32000 },\n",
    "  { \"name\": \"Martin\",  \"age\": 16, \"budget\": 1600 }\n",
    "]) ➞ 62600"
   ]
  },
  {
   "cell_type": "code",
   "execution_count": 4,
   "id": "3c4bd25b",
   "metadata": {},
   "outputs": [
    {
     "name": "stdout",
     "output_type": "stream",
     "text": [
      "Please enter list of dictionary : [{\"name\":\"John\",\"age\":21,\"budget\":29000},{\"name\":\"Steve\",\"age\":32,\"budget\":32000},{\"name\":\"Martin\",\"age\":16,\"budget\":1600}]\n",
      "Please enter the key : budget\n",
      "Sum of people's budget is : 62600\n"
     ]
    }
   ],
   "source": [
    "#2->\n",
    "def get_budgets(List,key):\n",
    "    \"\"\"It will return sum of key value from list of dictionary\"\"\"\n",
    "    s = 0\n",
    "    for i in List:\n",
    "        s += i[key]\n",
    "    return s\n",
    "List = eval(input(\"Please enter list of dictionary : \"))\n",
    "key = input(\"Please enter the key : \")\n",
    "print(\"Sum of people's\",key,\"is :\",get_budgets(List,key))"
   ]
  },
  {
   "cell_type": "raw",
   "id": "3cdcfaed",
   "metadata": {},
   "source": [
    "Question3\n",
    "Create a function that takes a string and returns a string with its letters in alphabetical order.\n",
    "Examples\n",
    "alphabet_soup(\"hello\") ➞ \"ehllo\"\n",
    "\n",
    "alphabet_soup(\"edabit\") ➞ \"abdeit\"\n",
    "\n",
    "alphabet_soup(\"hacker\") ➞ \"acehkr\"\n",
    "\n",
    "alphabet_soup(\"geek\") ➞ \"eegk\"\n",
    "\n",
    "alphabet_soup(\"javascript\") ➞ \"aacijprstv\""
   ]
  },
  {
   "cell_type": "code",
   "execution_count": 8,
   "id": "6b96aad3",
   "metadata": {},
   "outputs": [
    {
     "name": "stdout",
     "output_type": "stream",
     "text": [
      "Please enter the string : hello\n",
      "Ouput string is : ehllo\n"
     ]
    }
   ],
   "source": [
    "#3->\n",
    "def alphabet_soup(string):\n",
    "    \"\"\"It will return the string in alphabetical order\"\"\"\n",
    "    return \"\".join(sorted(string))\n",
    "string = input(\"Please enter the string : \")\n",
    "print(\"Ouput string is :\",alphabet_soup(string))"
   ]
  },
  {
   "cell_type": "raw",
   "id": "e0ecb591",
   "metadata": {},
   "source": [
    "Question4\n",
    "Suppose that you invest $10,000 for 10 years at an interest rate of 6% compounded monthly. What will be the value of your investment at the end of the 10 year period?\n",
    "Create a function that accepts the principal p, the term in years t, the interest rate r, and the number of compounding periods per year n. The function returns the value at the end of term rounded to the nearest cent.\n",
    "For the example above:\n",
    "compound_interest(10000, 10, 0.06, 12) ➞ 18193.97\n",
    "Note that the interest rate is given as a decimal and n=12 because with monthly compounding there are 12 periods per year. Compounding can also be done annually, quarterly, weekly, or daily.\n",
    "Examples\n",
    "compound_interest(100, 1, 0.05, 1) ➞ 105.0\n",
    "\n",
    "compound_interest(3500, 15, 0.1, 4) ➞ 15399.26\n",
    "\n",
    "compound_interest(100000, 20, 0.15, 365) ➞ 2007316.26"
   ]
  },
  {
   "cell_type": "code",
   "execution_count": 19,
   "id": "997bd9ec",
   "metadata": {},
   "outputs": [
    {
     "name": "stdout",
     "output_type": "stream",
     "text": [
      "Please enter the principle amount : 3500\n",
      "Please enter the terms in year : 15\n",
      "Please enter rate of interest : 0.1\n",
      "Please enter number of compund period per year : 4\n",
      "Compound interest is : 15399.26\n"
     ]
    }
   ],
   "source": [
    "#4->\n",
    "def compound_interest(p,t,r,n):\n",
    "    \"\"\"It will return monthly compound interest\"\"\"\n",
    "    return round(P*((1+(r/n)))**(n*t),2)\n",
    "P = int(input(\"Please enter the principle amount : \"))\n",
    "T = int(input(\"Please enter the terms in year : \"))\n",
    "R = float(input(\"Please enter rate of interest : \"))\n",
    "N = int(input(\"Please enter number of compund period per year : \"))\n",
    "print(\"Compound interest is :\",compound_interest(P,T,R,N))"
   ]
  },
  {
   "cell_type": "raw",
   "id": "09be585f",
   "metadata": {},
   "source": [
    "Question5\n",
    "Write a function that takes a list of elements and returns only the integers.\n",
    "Examples\n",
    "return_only_integer([9, 2, \"space\", \"car\", \"lion\", 16]) ➞ [9, 2, 16]\n",
    "\n",
    "return_only_integer([\"hello\", 81, \"basketball\", 123, \"fox\"]) ➞ [81, 123]\n",
    "\n",
    "return_only_integer([10, \"121\", 56, 20, \"car\", 3, \"lion\"]) ➞ [10, 56, 20, 3]\n",
    "\n",
    "return_only_integer([\"String\",  True,  3.3,  1]) ➞ [1]"
   ]
  },
  {
   "cell_type": "code",
   "execution_count": 20,
   "id": "57bc7162",
   "metadata": {},
   "outputs": [
    {
     "name": "stdout",
     "output_type": "stream",
     "text": [
      "Please enter the List of Integer and string : [\"hello\", 81, \"basketball\", 123, \"fox\"]\n",
      "Filttered out integer list is : [81, 123]\n"
     ]
    }
   ],
   "source": [
    "#5->\n",
    "List = eval(input(\"Please enter the List of Integer and string : \"))\n",
    "def return_only_integer(List):\n",
    "    \"\"\"It will return only integer in a List\"\"\"\n",
    "    List1 = []\n",
    "    for i in List:\n",
    "        if type(i) == int:\n",
    "            List1.append(i)\n",
    "    return List1\n",
    "print(\"Filttered out integer list is :\",return_only_integer(List))"
   ]
  },
  {
   "cell_type": "code",
   "execution_count": null,
   "id": "25a7110d",
   "metadata": {},
   "outputs": [],
   "source": []
  }
 ],
 "metadata": {
  "kernelspec": {
   "display_name": "Python 3 (ipykernel)",
   "language": "python",
   "name": "python3"
  },
  "language_info": {
   "codemirror_mode": {
    "name": "ipython",
    "version": 3
   },
   "file_extension": ".py",
   "mimetype": "text/x-python",
   "name": "python",
   "nbconvert_exporter": "python",
   "pygments_lexer": "ipython3",
   "version": "3.9.7"
  }
 },
 "nbformat": 4,
 "nbformat_minor": 5
}
