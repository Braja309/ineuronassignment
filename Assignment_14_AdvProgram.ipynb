{
 "cells": [
  {
   "cell_type": "raw",
   "id": "d63b4eae",
   "metadata": {},
   "source": [
    "1. Given a list of numbers, create a function that removes 25% from every number in the list except the smallest number, and adds the total amount removed to the smallest number.\n",
    "\n",
    "Examples\n",
    "\n",
    "show_the_love([4, 1, 4]) ➞ [3, 3, 3]\n",
    "\n",
    "show_the_love([16, 10, 8]) ➞ [12, 7.5, 14.5]\n",
    "\n",
    "show_the_love([2, 100]) ➞ [27, 75]"
   ]
  },
  {
   "cell_type": "code",
   "execution_count": 24,
   "id": "b5e43945",
   "metadata": {},
   "outputs": [
    {
     "name": "stdout",
     "output_type": "stream",
     "text": [
      "Please enter list of numbers : [16,10,8]\n",
      "Output is : [12, 7.5, 14.5]\n"
     ]
    }
   ],
   "source": [
    "#1->\n",
    "def show_the_love(List):\n",
    "    '''It will return a modified list'''\n",
    "    minimum = min(List)\n",
    "    re_amount = 0\n",
    "    for i in range(len(List)):\n",
    "        if List[i] != minimum:\n",
    "            re_amount += .25*List[i]\n",
    "            List[i] *= 0.75\n",
    "            if List[i] == int(List[i]):\n",
    "                List[i] = int(List[i])\n",
    "        else:\n",
    "            minpos = i\n",
    "    List[minpos] += re_amount\n",
    "    return List\n",
    "List = eval(input(\"Please enter list of numbers : \"))\n",
    "print(\"Output is :\",show_the_love(List))"
   ]
  },
  {
   "cell_type": "raw",
   "id": "477d089d",
   "metadata": {},
   "source": [
    "2. Create a function that takes in two words as input and returns a list of three elements, in the following order:\n",
    "\n",
    "   1.Shared letters between two words.\n",
    "   2.Letters unique to word 1.\n",
    "   3.Letters unique to word 2.\n",
    "\n",
    "Each element should have unique letters, and have each letter be alphabetically sorted.\n",
    "\n",
    "Examples\n",
    "\n",
    "letters(\"sharp\", \"soap\") ➞ [\"aps\", \"hr\", \"o\"]\n",
    "\n",
    "letters(\"board\", \"bored\") ➞ [\"bdor\", \"a\", \"e\"]\n",
    "\n",
    "letters(\"happiness\", \"envelope\") ➞ [\"enp\", \"ahis\", \"lov\"]\n",
    "\n",
    "letters(\"kerfuffle\", \"fluffy\") ➞ [\"flu\", \"ekr\", \"y\"]\n",
    "# Even with multiple matching letters (e.g. 3 f's), there should \n",
    "# only exist a single \"f\" in your first element.\n",
    "\n",
    "letters(\"match\", \"ham\") ➞ [\"ahm\", \"ct\", \"\"]\n",
    "# \"ham\" does not contain any letters that are not found already \n",
    "# in \"match\"."
   ]
  },
  {
   "cell_type": "code",
   "execution_count": 42,
   "id": "00627506",
   "metadata": {},
   "outputs": [
    {
     "name": "stdout",
     "output_type": "stream",
     "text": [
      "Please enter the first word : match\n",
      "Please enter the second word : ham\n",
      "Output list is : ['mha', 'ct', '']\n"
     ]
    }
   ],
   "source": [
    "#2->\n",
    "def letters(word1,word2):\n",
    "    '''It will return list of 3 string - \n",
    "    1. Shared letters between two words, \n",
    "    2. Letters unique to word 1,\n",
    "    3. Letters unique to word 2.'''\n",
    "    List = [\"\",\"\",\"\"]\n",
    "    for i in set(word1+word2):\n",
    "        if i in word1:\n",
    "            if i in word2:\n",
    "                List[0] += i\n",
    "            else:\n",
    "                List[1] += i\n",
    "        else:\n",
    "            List[2] += i\n",
    "    return List\n",
    "word1 = input(\"Please enter the first word : \")\n",
    "word2 = input(\"Please enter the second word : \")\n",
    "print(\"Output list is :\",letters(word1,word2))"
   ]
  },
  {
   "cell_type": "raw",
   "id": "874753a4",
   "metadata": {},
   "source": [
    "3. Write a function that pairs the first number in an array with the last, the second number with the second to last, etc.\n",
    "\n",
    "Examples\n",
    "\n",
    "pairs([1, 2, 3, 4, 5, 6, 7]) ➞ [[1, 7], [2, 6], [3, 5], [4, 4]]\n",
    "\n",
    "pairs([1, 2, 3, 4, 5, 6]) ➞ [[1, 6], [2, 5], [3, 4]]\n",
    "\n",
    "pairs([5, 9, 8, 1, 2]) ➞ [[5, 2], [9, 1], [8, 8]]\n",
    "\n",
    "pairs([]) ➞ []"
   ]
  },
  {
   "cell_type": "code",
   "execution_count": 48,
   "id": "f64f48d5",
   "metadata": {},
   "outputs": [
    {
     "name": "stdout",
     "output_type": "stream",
     "text": [
      "Please enter the list : [1, 2, 3, 4, 5, 6, 7]\n",
      "Paired output is : [[1, 7], [2, 6], [3, 5]]\n"
     ]
    }
   ],
   "source": [
    "#3->\n",
    "def pairs(List):\n",
    "    '''It will return the pairs first number with last, the second number with the second to last, etc.'''\n",
    "    List1 = []\n",
    "    i = 0\n",
    "    j = len(List)-1\n",
    "    while i<j:\n",
    "        List1.append([List[i],List[j]])\n",
    "        i += 1\n",
    "        j -= 1\n",
    "    return List1\n",
    "List = eval(input(\"Please enter the list : \"))\n",
    "print(\"Paired output is :\",pairs(List))"
   ]
  },
  {
   "cell_type": "raw",
   "id": "bde79988",
   "metadata": {},
   "source": [
    "4. Write a function that adds two numbers. The catch, however, is that the numbers will be strings.\n",
    "\n",
    "Examples\n",
    "\n",
    "add_str_nums(\"4\", \"5\") ➞ \"9\"\n",
    "\n",
    "add_str_nums(\"abcdefg\", \"3\") ➞ \"-1\"\n",
    "\n",
    "add_str_nums(\"1\", \"\") ➞ \"1\"\n",
    "\n",
    "add_str_nums(\"1874682736267235927359283579235789257\", \"32652983572985729\") ➞ \"1874682736267235927391936562808774986\""
   ]
  },
  {
   "cell_type": "code",
   "execution_count": 58,
   "id": "0ea74acf",
   "metadata": {},
   "outputs": [
    {
     "name": "stdout",
     "output_type": "stream",
     "text": [
      "Please enter the first string : 1\n",
      "Please enter the second string : \n",
      "final output string is : 1\n"
     ]
    }
   ],
   "source": [
    "#4->\n",
    "def str_to_num(strnum):\n",
    "    '''It will convert string to num'''\n",
    "    if len(strnum) == 0:\n",
    "        return 0\n",
    "    else:\n",
    "        return int(strnum)\n",
    "def add_str_nums(strnum1,strnum2):\n",
    "    '''It will add two string number'''\n",
    "    return str(str_to_num(strnum1)+str_to_num(strnum2))\n",
    "string1 = input(\"Please enter the first string : \")\n",
    "string2 = input(\"Please enter the second string : \")\n",
    "print(\"final output string is :\",add_str_nums(string1,string2))"
   ]
  },
  {
   "cell_type": "raw",
   "id": "ae201b36",
   "metadata": {},
   "source": [
    "5. lPaeesh le pemu mnxit ehess rtnisg! Oh, sorry, that was supposed to say: Please help me unmix these strings!\n",
    "\n",
    "Somehow my strings have all become mixed up; every pair of characters has been swapped. Help me undo this so I can understand my strings again.\n",
    "\n",
    "Examples\n",
    "\n",
    "unmix(\"123456\") ➞ \"214365\"\n",
    "\n",
    "unmix(\"hTsii  s aimex dpus rtni.g\") ➞ \"This is a mixed up string.\"\n",
    "\n",
    "unmix(\"badce\") ➞ \"abcde\""
   ]
  },
  {
   "cell_type": "code",
   "execution_count": 71,
   "id": "daf10f99",
   "metadata": {},
   "outputs": [
    {
     "name": "stdout",
     "output_type": "stream",
     "text": [
      "Please enter the string : hTsii  s aimex dpus rtni.g\n",
      "Output string is : This is a mixed up string.\n"
     ]
    }
   ],
   "source": [
    "#5->\n",
    "def unmix(string):\n",
    "    '''It will return string swaping every pair of characters'''\n",
    "    List = list(string)\n",
    "    for i in range(0,len(List)-1,2):\n",
    "        List[i],List[i+1] = List[i+1],List[i]\n",
    "        \n",
    "    return \"\".join(List)\n",
    "string = input(\"Please enter the string : \")\n",
    "print(\"Output string is :\",unmix(string))"
   ]
  },
  {
   "cell_type": "code",
   "execution_count": null,
   "id": "63f660d8",
   "metadata": {},
   "outputs": [],
   "source": []
  }
 ],
 "metadata": {
  "kernelspec": {
   "display_name": "Python 3 (ipykernel)",
   "language": "python",
   "name": "python3"
  },
  "language_info": {
   "codemirror_mode": {
    "name": "ipython",
    "version": 3
   },
   "file_extension": ".py",
   "mimetype": "text/x-python",
   "name": "python",
   "nbconvert_exporter": "python",
   "pygments_lexer": "ipython3",
   "version": "3.9.7"
  }
 },
 "nbformat": 4,
 "nbformat_minor": 5
}
