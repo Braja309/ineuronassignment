{
 "cells": [
  {
   "cell_type": "raw",
   "id": "06aee444",
   "metadata": {},
   "source": [
    "1.\tWrite a Python program to find words which are greater than given length k?"
   ]
  },
  {
   "cell_type": "code",
   "execution_count": 7,
   "id": "aa6bb6a4",
   "metadata": {},
   "outputs": [
    {
     "name": "stdout",
     "output_type": "stream",
     "text": [
      "Please enter the sentence : Write a Python program to find words which are greater than given length k?\n",
      "Please enter the length : 5\n",
      "Please find below words greater than given length 5\n",
      "Python\n",
      "program\n",
      "greater\n",
      "length\n"
     ]
    }
   ],
   "source": [
    "#1->\n",
    "sen = input(\"Please enter the sentence : \")\n",
    "l = int(input(\"Please enter the length : \"))\n",
    "print(\"Please find below words greater than given length\",l)\n",
    "for i in sen.split():\n",
    "    if len(i) > l:\n",
    "        print(i)"
   ]
  },
  {
   "cell_type": "raw",
   "id": "dde470ee",
   "metadata": {},
   "source": [
    "2.\tWrite a Python program for removing i-th character from a string?"
   ]
  },
  {
   "cell_type": "code",
   "execution_count": 9,
   "id": "481cc5ad",
   "metadata": {},
   "outputs": [
    {
     "name": "stdout",
     "output_type": "stream",
     "text": [
      "Please enter the string : ineuron\n",
      "Please enter the position : 4\n",
      "String after removing 4 th character : ineron\n"
     ]
    }
   ],
   "source": [
    "#2->\n",
    "string = input(\"Please enter the string : \")\n",
    "i = int(input(\"Please enter the position : \"))\n",
    "nstring = \"\"\n",
    "for a in range(len(string)):\n",
    "    if a != i-1:\n",
    "        nstring += string[a]\n",
    "print(\"String after removing\",i,\"th character :\",nstring)"
   ]
  },
  {
   "cell_type": "raw",
   "id": "a4379c9e",
   "metadata": {},
   "source": [
    "3.\tWrite a Python program to split and join a string?"
   ]
  },
  {
   "cell_type": "code",
   "execution_count": 17,
   "id": "ce9eb21e",
   "metadata": {},
   "outputs": [
    {
     "name": "stdout",
     "output_type": "stream",
     "text": [
      "['ineuron', 'is', 'the', 'best']\n",
      "ineuron#is#the#best\n"
     ]
    }
   ],
   "source": [
    "#3->\n",
    "#split - it will split the sring by character and make a list\n",
    "string = \"ineuron#is#the#best\"\n",
    "print(string.split('#'))\n",
    "#join - it will insert string in between all the items in a sring,list or dictionary\n",
    "string = \"#\"\n",
    "print(string.join(['ineuron', 'is', 'the', 'best']))"
   ]
  },
  {
   "cell_type": "raw",
   "id": "03ac159a",
   "metadata": {},
   "source": [
    "4.\tWrite a Python to check if a given string is binary string or not?"
   ]
  },
  {
   "cell_type": "code",
   "execution_count": 19,
   "id": "f6abb513",
   "metadata": {},
   "outputs": [
    {
     "name": "stdout",
     "output_type": "stream",
     "text": [
      "Please enter a string : 10101011001\n",
      "It is a binary string\n"
     ]
    }
   ],
   "source": [
    "#4->\n",
    "string = input(\"Please enter a string : \")\n",
    "s = set(string)\n",
    "if s == {'0','1'} or s =={'0'} or s =={'1'}:\n",
    "    print(\"It is a binary string\")\n",
    "else:\n",
    "    print(\"It is not a binary string\")"
   ]
  },
  {
   "cell_type": "raw",
   "id": "814fdcb3",
   "metadata": {},
   "source": [
    "5.\tWrite a Python program to find uncommon words from two Strings?"
   ]
  },
  {
   "cell_type": "code",
   "execution_count": 4,
   "id": "8c0b52dd",
   "metadata": {},
   "outputs": [
    {
     "name": "stdout",
     "output_type": "stream",
     "text": [
      "Please enter first string : My Name is Braja Sundar Bera\n",
      "Please enter second string : ineuron is the best\n",
      "Uncommon words from two Strings are :  {'the', 'Sundar', 'My', 'best', 'ineuron', 'Braja', 'Bera', 'Name'}\n"
     ]
    }
   ],
   "source": [
    "#5->\n",
    "str1 = input(\"Please enter first string : \")\n",
    "str2 = input(\"Please enter second string : \")\n",
    "set1 = set(str1.split())\n",
    "set2 = set(str2.split())\n",
    "for i in set2:\n",
    "    if i in set1:\n",
    "        set1.remove(i)\n",
    "    else:\n",
    "        set1.add(i)\n",
    "print(\"Uncommon words from two Strings are : \", set1)"
   ]
  },
  {
   "cell_type": "raw",
   "id": "b94b4591",
   "metadata": {},
   "source": [
    "6.\tWrite a Python to find all duplicate characters in string?"
   ]
  },
  {
   "cell_type": "code",
   "execution_count": 7,
   "id": "73fcd87d",
   "metadata": {},
   "outputs": [
    {
     "name": "stdout",
     "output_type": "stream",
     "text": [
      "Please enter the string : BrajaSundarBera\n",
      "Duplicate characters are : ['B', 'r', 'a']\n"
     ]
    }
   ],
   "source": [
    "#6->\n",
    "string = input(\"Please enter the string : \")\n",
    "duplicates = []\n",
    "for i in string:\n",
    "    if string.count(i)>1:\n",
    "        if i not in duplicates:\n",
    "            duplicates.append(i)\n",
    "print(\"Duplicate characters are :\", duplicates)"
   ]
  },
  {
   "cell_type": "raw",
   "id": "d43c6e1b",
   "metadata": {},
   "source": [
    "7.\tWrite a Python Program to check if a string contains any special character?"
   ]
  },
  {
   "cell_type": "code",
   "execution_count": 12,
   "id": "8686fe68",
   "metadata": {},
   "outputs": [
    {
     "name": "stdout",
     "output_type": "stream",
     "text": [
      "Please enter the string : test@string\n",
      "Entered string contains special character\n"
     ]
    }
   ],
   "source": [
    "#7->\n",
    "import re\n",
    "string = input(\"Please enter the string : \")\n",
    "spech = re.compile('[@_!#$%^&*()<>?/\\|}{~:]')\n",
    "if(spech.search(string) == None):\n",
    "    print(\"Entered string doesn't contain any special character\")\n",
    "else:\n",
    "    print(\"Entered string contains special character\")"
   ]
  },
  {
   "cell_type": "code",
   "execution_count": null,
   "id": "b8e61082",
   "metadata": {},
   "outputs": [],
   "source": []
  }
 ],
 "metadata": {
  "kernelspec": {
   "display_name": "Python 3 (ipykernel)",
   "language": "python",
   "name": "python3"
  },
  "language_info": {
   "codemirror_mode": {
    "name": "ipython",
    "version": 3
   },
   "file_extension": ".py",
   "mimetype": "text/x-python",
   "name": "python",
   "nbconvert_exporter": "python",
   "pygments_lexer": "ipython3",
   "version": "3.9.7"
  }
 },
 "nbformat": 4,
 "nbformat_minor": 5
}
