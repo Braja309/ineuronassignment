{
 "cells": [
  {
   "cell_type": "raw",
   "id": "4dfed52d",
   "metadata": {},
   "source": [
    "Question 1\n",
    "Create a function that takes a number as an argument and returns True or False depending on whether the number is symmetrical or not. A number is symmetrical when it is the same as its reverse.\n",
    "Examples\n",
    "is_symmetrical(7227) ➞ True\n",
    "\n",
    "is_symmetrical(12567) ➞ False\n",
    "\n",
    "is_symmetrical(44444444) ➞ True\n",
    "\n",
    "is_symmetrical(9939) ➞ False\n",
    "\n",
    "is_symmetrical(1112111) ➞ True"
   ]
  },
  {
   "cell_type": "code",
   "execution_count": 7,
   "id": "c77cc7a5",
   "metadata": {},
   "outputs": [
    {
     "name": "stdout",
     "output_type": "stream",
     "text": [
      "Please enter the number : 1234321\n",
      "The number is symmetrical : True\n"
     ]
    }
   ],
   "source": [
    "#1->\n",
    "def is_symmetrical(num):\n",
    "    \"\"\"It will return if the number is symmetrical\"\"\"\n",
    "    num = str(num)\n",
    "    i = 0\n",
    "    j = len(num)-1\n",
    "    while i < j:\n",
    "        if num[i] != num[j]:\n",
    "            return False\n",
    "        i += 1\n",
    "        j -= 1\n",
    "    return True\n",
    "num = int(input(\"Please enter the number : \"))\n",
    "print(\"The number is symmetrical :\",is_symmetrical(num))        "
   ]
  },
  {
   "cell_type": "raw",
   "id": "0fd5ce6c",
   "metadata": {},
   "source": [
    "Question 2\n",
    "Given a string of numbers separated by a comma and space, return the product of the numbers.\n",
    "Examples\n",
    "multiply_nums(\"2, 3\") ➞ 6\n",
    "\n",
    "multiply_nums(\"1, 2, 3, 4\") ➞ 24\n",
    "\n",
    "multiply_nums(\"54, 75, 453, 0\") ➞ 0\n",
    "\n",
    "multiply_nums(\"10, -2\") ➞ -20"
   ]
  },
  {
   "cell_type": "code",
   "execution_count": 11,
   "id": "f30129ca",
   "metadata": {},
   "outputs": [
    {
     "name": "stdout",
     "output_type": "stream",
     "text": [
      "Please enter comma and space separated numbers in a string : 1, 2, 4, 5\n",
      "Product of numbers are : 40\n"
     ]
    }
   ],
   "source": [
    "#2->\n",
    "def multiply_nums(string):\n",
    "    \"\"\"It will multiply all the number in the string\"\"\"\n",
    "    m = 1\n",
    "    for i in string.split(', '):\n",
    "        m *= int(i)\n",
    "    return m\n",
    "string = input(\"Please enter comma and space separated numbers in a string : \")\n",
    "print(\"Product of numbers are :\",multiply_nums(string))"
   ]
  },
  {
   "cell_type": "raw",
   "id": "b62e56fd",
   "metadata": {},
   "source": [
    "Question 3\n",
    "Create a function that squares every digit of a number.\n",
    "Examples\n",
    "square_digits(9119) ➞ 811181\n",
    "\n",
    "square_digits(2483) ➞ 416649\n",
    "\n",
    "square_digits(3212) ➞ 9414\n",
    "Notes\n",
    "The function receives an integer and must return an integer."
   ]
  },
  {
   "cell_type": "code",
   "execution_count": 14,
   "id": "b3edf19e",
   "metadata": {},
   "outputs": [
    {
     "name": "stdout",
     "output_type": "stream",
     "text": [
      "Please enter the number : 2483\n",
      "Number after squaring every digit is : 416649\n"
     ]
    }
   ],
   "source": [
    "#3->\n",
    "def square_digits(num):\n",
    "    \"\"\"It will square every digit of the num\"\"\"\n",
    "    s = \"\"\n",
    "    for i in str(num):\n",
    "        s += str(int(i)**2)\n",
    "    return int(s)\n",
    "num = input(\"Please enter the number : \")\n",
    "print(\"Number after squaring every digit is :\",square_digits(num))"
   ]
  },
  {
   "cell_type": "raw",
   "id": "41b8f731",
   "metadata": {},
   "source": [
    "Question 4\n",
    "Create a function that sorts a list and removes all duplicate items from it.\n",
    "Examples\n",
    "setify([1, 3, 3, 5, 5]) ➞ [1, 3, 5]\n",
    "\n",
    "setify([4, 4, 4, 4]) ➞ [4]\n",
    "\n",
    "setify([5, 7, 8, 9, 10, 15]) ➞ [5, 7, 8, 9, 10, 15]\n",
    "\n",
    "setify([3, 3, 3, 2, 1]) ➞ [1, 2, 3]"
   ]
  },
  {
   "cell_type": "code",
   "execution_count": 21,
   "id": "f20ca195",
   "metadata": {},
   "outputs": [
    {
     "name": "stdout",
     "output_type": "stream",
     "text": [
      "Please enter list of numbers[4,5,2,1,6,3,4,5,1]\n",
      "Output list is : [1, 2, 3, 4, 5, 6]\n"
     ]
    }
   ],
   "source": [
    "#4->\n",
    "def setify(List):\n",
    "    \"\"\"It will sort the List and remove all duplicate items from it\"\"\"\n",
    "    return list(set(sorted(List)))\n",
    "List = eval(input(\"Please enter list of numbers\"))\n",
    "print(\"Output list is :\",setify(List))"
   ]
  },
  {
   "cell_type": "raw",
   "id": "8a25b534",
   "metadata": {},
   "source": [
    "Question 5\n",
    "Create a function that returns the mean of all digits.\n",
    "Examples\n",
    "mean(42) ➞ 3\n",
    "\n",
    "mean(12345) ➞ 3\n",
    "\n",
    "mean(666) ➞ 6\n",
    "Notes\n",
    "•\tThe mean of all digits is the sum of digits / how many digits there are (e.g. mean of digits in 512 is (5+1+2)/3(number of digits) = 8/3=2).\n",
    "•\tThe mean will always be an integer."
   ]
  },
  {
   "cell_type": "code",
   "execution_count": 24,
   "id": "835b7c6f",
   "metadata": {},
   "outputs": [
    {
     "name": "stdout",
     "output_type": "stream",
     "text": [
      "Please enter the number : 512\n",
      "Mean of all digit is : 2\n"
     ]
    }
   ],
   "source": [
    "#5->\n",
    "def mean(num):\n",
    "    \"\"\"It will return mean of all digit in num\"\"\"\n",
    "    s = 0\n",
    "    l = len(str(num))\n",
    "    for i in str(num):\n",
    "        s += int(i)\n",
    "    return int(s/l)\n",
    "num = int(input(\"Please enter the number : \"))\n",
    "print(\"Mean of all digit is :\",mean(num))"
   ]
  },
  {
   "cell_type": "code",
   "execution_count": null,
   "id": "aaf278f6",
   "metadata": {},
   "outputs": [],
   "source": []
  }
 ],
 "metadata": {
  "kernelspec": {
   "display_name": "Python 3 (ipykernel)",
   "language": "python",
   "name": "python3"
  },
  "language_info": {
   "codemirror_mode": {
    "name": "ipython",
    "version": 3
   },
   "file_extension": ".py",
   "mimetype": "text/x-python",
   "name": "python",
   "nbconvert_exporter": "python",
   "pygments_lexer": "ipython3",
   "version": "3.9.7"
  }
 },
 "nbformat": 4,
 "nbformat_minor": 5
}
