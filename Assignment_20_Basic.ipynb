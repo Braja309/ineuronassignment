{
 "cells": [
  {
   "cell_type": "raw",
   "id": "006174a1",
   "metadata": {},
   "source": [
    "1. Set the variable test1 to the string 'This is a test of the emergency text system,' and save test1 to a file named test.txt."
   ]
  },
  {
   "cell_type": "code",
   "execution_count": 1,
   "id": "ea1d8983",
   "metadata": {},
   "outputs": [],
   "source": [
    "#1->\n",
    "test1 = 'This is a test of the emergency text system,'\n",
    "file1 = open(\"test.txt\",\"w\")\n",
    "file1.write(test1)\n",
    "file1.close()"
   ]
  },
  {
   "cell_type": "raw",
   "id": "ca25ed1e",
   "metadata": {},
   "source": [
    "2. Read the contents of the file test.txt into the variable test2. Is there a difference between test 1 and test 2?"
   ]
  },
  {
   "cell_type": "code",
   "execution_count": 2,
   "id": "d822db59",
   "metadata": {},
   "outputs": [
    {
     "name": "stdout",
     "output_type": "stream",
     "text": [
      "This is a test of the emergency text system,\n"
     ]
    }
   ],
   "source": [
    "#2->\n",
    "file1 = open(\"test.txt\",\"r+\") \n",
    "print(file1.read())"
   ]
  },
  {
   "cell_type": "raw",
   "id": "fbc4eb81",
   "metadata": {},
   "source": [
    "3. Create a CSV file called books.csv by using these lines:\n",
    "title,author,year\n",
    "The Weirdstone of Brisingamen,Alan Garner,1960\n",
    "Perdido Street Station,China Miéville,2000\n",
    "Thud!,Terry Pratchett,2005\n",
    "The Spellman Files,Lisa Lutz,2007\n",
    "Small Gods,Terry Pratchett,1992"
   ]
  },
  {
   "cell_type": "code",
   "execution_count": 59,
   "id": "85d5873d",
   "metadata": {},
   "outputs": [
    {
     "data": {
      "text/html": [
       "<div>\n",
       "<style scoped>\n",
       "    .dataframe tbody tr th:only-of-type {\n",
       "        vertical-align: middle;\n",
       "    }\n",
       "\n",
       "    .dataframe tbody tr th {\n",
       "        vertical-align: top;\n",
       "    }\n",
       "\n",
       "    .dataframe thead th {\n",
       "        text-align: right;\n",
       "    }\n",
       "</style>\n",
       "<table border=\"1\" class=\"dataframe\">\n",
       "  <thead>\n",
       "    <tr style=\"text-align: right;\">\n",
       "      <th></th>\n",
       "      <th>title</th>\n",
       "      <th>author</th>\n",
       "      <th>year</th>\n",
       "    </tr>\n",
       "  </thead>\n",
       "  <tbody>\n",
       "    <tr>\n",
       "      <th>0</th>\n",
       "      <td>The Weirdstone of Brisingamen</td>\n",
       "      <td>Alan Garner</td>\n",
       "      <td>1960</td>\n",
       "    </tr>\n",
       "    <tr>\n",
       "      <th>1</th>\n",
       "      <td>Perdido Street Station</td>\n",
       "      <td>China Mieville</td>\n",
       "      <td>2000</td>\n",
       "    </tr>\n",
       "    <tr>\n",
       "      <th>2</th>\n",
       "      <td>Thud!</td>\n",
       "      <td>Terry Pratchett</td>\n",
       "      <td>2005</td>\n",
       "    </tr>\n",
       "    <tr>\n",
       "      <th>3</th>\n",
       "      <td>The Spellman Files</td>\n",
       "      <td>Lisa Lutz</td>\n",
       "      <td>2007</td>\n",
       "    </tr>\n",
       "    <tr>\n",
       "      <th>4</th>\n",
       "      <td>Small Gods</td>\n",
       "      <td>Terry Pratchett</td>\n",
       "      <td>1992</td>\n",
       "    </tr>\n",
       "  </tbody>\n",
       "</table>\n",
       "</div>"
      ],
      "text/plain": [
       "                           title           author  year\n",
       "0  The Weirdstone of Brisingamen      Alan Garner  1960\n",
       "1         Perdido Street Station   China Mieville  2000\n",
       "2                          Thud!  Terry Pratchett  2005\n",
       "3             The Spellman Files        Lisa Lutz  2007\n",
       "4                     Small Gods  Terry Pratchett  1992"
      ]
     },
     "execution_count": 59,
     "metadata": {},
     "output_type": "execute_result"
    }
   ],
   "source": [
    "#3->\n",
    "import csv\n",
    "with open('books.csv', 'w', newline='') as file:\n",
    "    writer = csv.writer(file)\n",
    "    writer.writerow([\"title\", \"author\", \"year\"])\n",
    "    writer.writerow([\"The Weirdstone of Brisingamen\", \"Alan Garner\", 1960])\n",
    "    writer.writerow([\"Perdido Street Station\", \"China Mieville\", 2000])\n",
    "    writer.writerow([\"Thud!\", \"Terry Pratchett\", 2005])\n",
    "    writer.writerow([\"The Spellman Files\", \"Lisa Lutz\", 2007])\n",
    "    writer.writerow([\"Small Gods\", \"Terry Pratchett\", 1992])\n",
    "import pandas as pd\n",
    "pd.read_csv(\"books.csv\")    "
   ]
  },
  {
   "cell_type": "raw",
   "id": "d5e321e0",
   "metadata": {},
   "source": [
    "4. Use the sqlite3 module to create a SQLite database called books.db, and a table called books with these fields: title (text), author (text), and year (integer)."
   ]
  },
  {
   "cell_type": "code",
   "execution_count": 95,
   "id": "a6454aa5",
   "metadata": {},
   "outputs": [],
   "source": [
    "#4->\n",
    "import sqlite3\n",
    "con = sqlite3.connect(\"books.db\")\n",
    "tb = con.cursor()\n",
    "tb.execute('''CREATE TABLE books (title text, author text, year integer)''')\n",
    "con.commit()\n",
    "con.close()"
   ]
  },
  {
   "cell_type": "raw",
   "id": "b1fadab0",
   "metadata": {},
   "source": [
    "5. Read books.csv and insert its data into the book table."
   ]
  },
  {
   "cell_type": "code",
   "execution_count": 96,
   "id": "256d5d98",
   "metadata": {},
   "outputs": [
    {
     "name": "stdout",
     "output_type": "stream",
     "text": [
      "[('The Weirdstone of Brisingamen', 'Alan Garner', 1960), ('Perdido Street Station', 'China Mieville', 2000), ('Thud!', 'Terry Pratchett', 2005), ('The Spellman Files', 'Lisa Lutz', 2007), ('Small Gods', 'Terry Pratchett', 1992)]\n"
     ]
    }
   ],
   "source": [
    "#5->\n",
    "import pandas as pd\n",
    "con = sqlite3.connect(\"books.db\")\n",
    "tb = con.cursor()\n",
    "\n",
    "#a_file = open(\"books.csv\")\n",
    "#rows = csv.reader(a_file)\n",
    "#tb.executemany(\"INSERT INTO books (title, author, year) VALUES (?, ?, ?)\", rows)\n",
    "data = pd.read_csv('books.csv')\n",
    "df = pd.DataFrame(data)\n",
    "for i in df.itertuples():\n",
    "    tb.execute('''INSERT INTO books (title, author, year) VALUES (?,?,?)''',(i.title, i.author, i.year))    \n",
    "tb.execute(\"SELECT * FROM books\")\n",
    "print(tb.fetchall())\n",
    "con.commit()\n",
    "con.close()"
   ]
  },
  {
   "cell_type": "raw",
   "id": "aafad230",
   "metadata": {},
   "source": [
    "6. Select and print the title column from the book table in alphabetical order."
   ]
  },
  {
   "cell_type": "code",
   "execution_count": 97,
   "id": "951f60c8",
   "metadata": {},
   "outputs": [
    {
     "name": "stdout",
     "output_type": "stream",
     "text": [
      "[('Perdido Street Station',), ('Small Gods',), ('The Spellman Files',), ('The Weirdstone of Brisingamen',), ('Thud!',)]\n"
     ]
    }
   ],
   "source": [
    "#6->\n",
    "con = sqlite3.connect(\"books.db\")\n",
    "tb = con.cursor()\n",
    "\n",
    "tb.execute(\"SELECT title FROM books ORDER BY TITLE\")\n",
    "print(tb.fetchall())\n",
    "con.commit()\n",
    "con.close()"
   ]
  },
  {
   "cell_type": "raw",
   "id": "f3a9a250",
   "metadata": {},
   "source": [
    "7. From the book table, select and print all columns in the order of publication."
   ]
  },
  {
   "cell_type": "code",
   "execution_count": 98,
   "id": "49e680f5",
   "metadata": {},
   "outputs": [
    {
     "name": "stdout",
     "output_type": "stream",
     "text": [
      "[('The Weirdstone of Brisingamen', 'Alan Garner', 1960), ('Small Gods', 'Terry Pratchett', 1992), ('Perdido Street Station', 'China Mieville', 2000), ('Thud!', 'Terry Pratchett', 2005), ('The Spellman Files', 'Lisa Lutz', 2007)]\n"
     ]
    }
   ],
   "source": [
    "#7->\n",
    "con = sqlite3.connect(\"books.db\")\n",
    "tb = con.cursor()\n",
    "\n",
    "tb.execute(\"SELECT * FROM books ORDER BY year\")\n",
    "print(tb.fetchall())\n",
    "con.commit()\n",
    "con.close()"
   ]
  },
  {
   "cell_type": "raw",
   "id": "68468319",
   "metadata": {},
   "source": [
    "8. Use the sqlalchemy module to connect to the sqlite3 database books.db that you just made in exercise 6."
   ]
  },
  {
   "cell_type": "code",
   "execution_count": 102,
   "id": "24c71f50",
   "metadata": {},
   "outputs": [
    {
     "data": {
      "text/plain": [
       "<sqlalchemy.engine.base.Connection at 0x23decd76280>"
      ]
     },
     "execution_count": 102,
     "metadata": {},
     "output_type": "execute_result"
    }
   ],
   "source": [
    "#8->\n",
    "import sqlalchemy\n",
    "engine= sqlalchemy.create_engine('sqlite:///books.db')\n",
    "engine.connect()"
   ]
  },
  {
   "cell_type": "raw",
   "id": "e438d2bd",
   "metadata": {},
   "source": [
    "9. Install the Redis server and the Python redis library (pip install redis) on your computer. Create a Redis hash called test with the fields count (1) and name ('Fester Bestertester'). Print all the fields for test."
   ]
  },
  {
   "cell_type": "code",
   "execution_count": 11,
   "id": "20e06afd",
   "metadata": {},
   "outputs": [
    {
     "name": "stderr",
     "output_type": "stream",
     "text": [
      "C:\\Users\\Braja\\AppData\\Local\\Temp/ipykernel_9540/1950545129.py:5: DeprecationWarning: Redis.hmset() is deprecated. Use Redis.hset() instead.\n",
      "  con.hmset('test', {'count': 1,'name': 'Fester Bestertester'})\n"
     ]
    },
    {
     "data": {
      "text/plain": [
       "{b'count': b'1', b'name': b'Fester Bestertester'}"
      ]
     },
     "execution_count": 11,
     "metadata": {},
     "output_type": "execute_result"
    }
   ],
   "source": [
    "#9->\n",
    "#!pip install redis\n",
    "import redis\n",
    "con = redis.Redis()\n",
    "con.hmset('test', {'count': 1,'name': 'Fester Bestertester'})\n",
    "con.hgetall('test')"
   ]
  },
  {
   "cell_type": "raw",
   "id": "ed73074b",
   "metadata": {},
   "source": [
    "10. Increment the count field of test and print it."
   ]
  },
  {
   "cell_type": "code",
   "execution_count": 12,
   "id": "43f04f98",
   "metadata": {},
   "outputs": [
    {
     "data": {
      "text/plain": [
       "b'2'"
      ]
     },
     "execution_count": 12,
     "metadata": {},
     "output_type": "execute_result"
    }
   ],
   "source": [
    "#10->\n",
    "con.hincrby('test','count', 1)\n",
    "con.hget('test','count')"
   ]
  },
  {
   "cell_type": "code",
   "execution_count": null,
   "id": "3108489a",
   "metadata": {},
   "outputs": [],
   "source": []
  }
 ],
 "metadata": {
  "kernelspec": {
   "display_name": "Python 3 (ipykernel)",
   "language": "python",
   "name": "python3"
  },
  "language_info": {
   "codemirror_mode": {
    "name": "ipython",
    "version": 3
   },
   "file_extension": ".py",
   "mimetype": "text/x-python",
   "name": "python",
   "nbconvert_exporter": "python",
   "pygments_lexer": "ipython3",
   "version": "3.9.7"
  }
 },
 "nbformat": 4,
 "nbformat_minor": 5
}
