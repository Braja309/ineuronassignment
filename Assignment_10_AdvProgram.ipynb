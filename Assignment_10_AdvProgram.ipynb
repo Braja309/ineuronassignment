{
 "cells": [
  {
   "cell_type": "raw",
   "id": "56f250fd",
   "metadata": {},
   "source": [
    "1. Create a function that takes the width, height and character and returns a picture frame as a 2D list.\n",
    "\n",
    "Examples\n",
    "\n",
    "get_frame(4, 5, \"#\") ➞ [\n",
    "  [\"####\"],\n",
    "  [\"#  #\"],\n",
    "  [\"#  #\"],\n",
    "  [\"#  #\"],\n",
    "  [\"####\"]\n",
    "]\n",
    "# Frame is 4 characters wide and 5 characters tall.\n",
    "\n",
    "\n",
    "get_frame(10, 3, \"*\") ➞ [\n",
    "  [\"**********\"],\n",
    "  [\"*        *\"],\n",
    "  [\"**********\"]\n",
    "]\n",
    "# Frame is 10 characters and wide and 3 characters tall.\n",
    "\n",
    "\n",
    "get_frame(2, 5, \"0\") ➞ \"invalid\"\n",
    "# Frame's width is not more than 2."
   ]
  },
  {
   "cell_type": "code",
   "execution_count": 31,
   "id": "6588559e",
   "metadata": {},
   "outputs": [
    {
     "name": "stdout",
     "output_type": "stream",
     "text": [
      "Please enter the width : 10\n",
      "Please enter the height : 5\n",
      "Please enter the character : #\n",
      "2D List is : [['##########'], ['#        #'], ['#        #'], ['#        #'], ['##########']]\n"
     ]
    }
   ],
   "source": [
    "#1->\n",
    "def get_frame(width,height,ch):\n",
    "    '''It will return a picture frame in 2d list'''\n",
    "    if width <= 2:\n",
    "        return 'invalid'\n",
    "    else:\n",
    "        List = [[ch*width]]\n",
    "        for i in range(1,height-1):\n",
    "            List.append([ch+\" \"*(width-2)+ch])\n",
    "        List.append([ch*width])\n",
    "    return List\n",
    "width = int(input(\"Please enter the width : \"))\n",
    "height = int(input(\"Please enter the height : \"))\n",
    "ch = input(\"Please enter the character : \")\n",
    "print(\"2D List is :\",get_frame(width,height,ch))"
   ]
  },
  {
   "cell_type": "raw",
   "id": "1a7c2d88",
   "metadata": {},
   "source": [
    "2. Write three functions:\n",
    "\n",
    "  1. boolean_and\n",
    "  2. boolean_or\n",
    "  3. boolean_xor\n",
    "These functions should evaluate a list of True and False values, starting from the leftmost element and evaluating pairwise.\n",
    "\n",
    "Examples\n",
    "\n",
    "boolean_and([True, True, False, True]) ➞ False\n",
    "# [True, True, False, True] => [True, False, True] => [False, True] => False\n",
    "\n",
    "boolean_or([True, True, False, False]) ➞ True\n",
    "# [True, True, False, True] => [True, False, False] => [True, False] => True\n",
    "\n",
    "boolean_xor([True, True, False, False]) ➞ False\n",
    "# [True, True, False, False] => [False, False, False] => [False, False] => False"
   ]
  },
  {
   "cell_type": "code",
   "execution_count": 29,
   "id": "7e7944a2",
   "metadata": {},
   "outputs": [
    {
     "name": "stdout",
     "output_type": "stream",
     "text": [
      "Please enter list of boolean values : [True, True, False, False] \n",
      "AND output is : False \n",
      "OR output is : True \n",
      "XOR output is : False\n"
     ]
    }
   ],
   "source": [
    "#2->\n",
    "def boolean_and(List):\n",
    "    '''It will return bollean value from AND operation of list of boolean values'''\n",
    "    boolean = List[0] and List[1]\n",
    "    for i in range(2,len(List)):\n",
    "        boolean = boolean and List[i]\n",
    "    return boolean\n",
    "def boolean_or(List):\n",
    "    '''It will return bollean value from OR operation of list of boolean values'''\n",
    "    boolean = List[0] or List[1]\n",
    "    for i in range(2,len(List)):\n",
    "        boolean = boolean or List[i]\n",
    "    return boolean\n",
    "def boolean_xor(List):\n",
    "    '''It will return bollean value from XOR operation of list of boolean values'''\n",
    "    boolean = not (List[0] or List[1])\n",
    "    for i in range(2,len(List)):\n",
    "        boolean = not (boolean or List[i])\n",
    "    return boolean\n",
    "List = eval(input(\"Please enter list of boolean values : \"))\n",
    "print(\"AND output is :\",boolean_and(List),\"\\nOR output is :\",boolean_or(List),\"\\nXOR output is :\",boolean_xor(List))"
   ]
  },
  {
   "cell_type": "raw",
   "id": "1c026c82",
   "metadata": {},
   "source": [
    "3. Create a function that creates a box based on dimension n.\n",
    "\n",
    "Examples\n",
    "\n",
    "make_box(5) ➞ [\n",
    "  \"#####\",\n",
    "  \"#   #\",\n",
    "  \"#   #\",\n",
    "  \"#   #\",\n",
    "  \"#####\"\n",
    "]\n",
    "\n",
    "make_box(3) ➞ [\n",
    "  \"###\",\n",
    "  \"# #\",\n",
    "  \"###\"\n",
    "]\n",
    "\n",
    "make_box(2) ➞ [\n",
    "  \"##\",\n",
    "  \"##\"\n",
    "]\n",
    "\n",
    "make_box(1) ➞ [\n",
    "  \"#\"\n",
    "]"
   ]
  },
  {
   "cell_type": "code",
   "execution_count": 38,
   "id": "8eaa89c8",
   "metadata": {},
   "outputs": [
    {
     "name": "stdout",
     "output_type": "stream",
     "text": [
      "Please enter the number : 4\n",
      "box list output is : ['####', '#  #', '#  #', '####']\n"
     ]
    }
   ],
   "source": [
    "#3->\n",
    "def make_box(num):\n",
    "    '''It will return list box based on num'''\n",
    "    if num == 1:\n",
    "        return ['#']\n",
    "    else:\n",
    "        List = ['#'*num]\n",
    "        for i in range(1,num-1):\n",
    "            List.append('#'+' '*(num-2)+'#')\n",
    "        List.append('#'*num)\n",
    "    return List\n",
    "num = int(input(\"Please enter the number : \"))\n",
    "print(\"box list output is :\",make_box(num))"
   ]
  },
  {
   "cell_type": "raw",
   "id": "23796454",
   "metadata": {},
   "source": [
    "4. Given a common phrase, return False if any individual word in the phrase contains duplicate letters. Return True otherwise.\n",
    "\n",
    "Examples\n",
    "\n",
    "no_duplicate_letters(\"Fortune favours the bold.\") ➞ True\n",
    "\n",
    "no_duplicate_letters(\"You can lead a horse to water, but you can't make him drink.\") ➞ True\n",
    "\n",
    "no_duplicate_letters(\"Look before you leap.\") ➞ False\n",
    "# Duplicate letters in \"Look\" and \"before\".\n",
    "\n",
    "no_duplicate_letters(\"An apple a day keeps the doctor away.\") ➞ False\n",
    "# Duplicate letters in \"apple\", \"keeps\", \"doctor\", and \"away\"."
   ]
  },
  {
   "cell_type": "code",
   "execution_count": 42,
   "id": "86a8f507",
   "metadata": {},
   "outputs": [
    {
     "name": "stdout",
     "output_type": "stream",
     "text": [
      "Please enter the phrase : You can lead a horse to water, but you can't make him drink.\n",
      "Indivisual word is not having duplicate letters : True\n"
     ]
    }
   ],
   "source": [
    "#4->\n",
    "def no_duplicate_letters(phrase):\n",
    "    '''It will return if indivisual word is not having duplicate letters'''\n",
    "    \n",
    "    for i in phrase.split():\n",
    "        for j in i:\n",
    "            if i.count(j)>1:\n",
    "                return False\n",
    "    return True\n",
    "Phrase = input(\"Please enter the phrase : \")\n",
    "print(\"Indivisual word is not having duplicate letters :\",no_duplicate_letters(Phrase))"
   ]
  },
  {
   "cell_type": "raw",
   "id": "499593da",
   "metadata": {},
   "source": [
    "5. Write a regular expression that will match the states that voted yes to President Trump's impeachment. You must use RegEx positive lookahead.\n",
    "\n",
    "Example\n",
    "\n",
    "txt = \"Texas = no, California = yes, Florida = yes, Michigan = no\"\n",
    "pattern = \"yourregularexpressionhere\"\n",
    "\n",
    "re.findall(pattern, txt) ➞ [\"California\", \"Florida\"]"
   ]
  },
  {
   "cell_type": "code",
   "execution_count": 55,
   "id": "c1c84b2e",
   "metadata": {},
   "outputs": [
    {
     "data": {
      "text/plain": [
       "['California', 'Florida']"
      ]
     },
     "execution_count": 55,
     "metadata": {},
     "output_type": "execute_result"
    }
   ],
   "source": [
    "#5->\n",
    "import re\n",
    "txt = \"Texas = no, California = yes, Florida = yes, Michigan = no\"\n",
    "pattern = r\"([a-zA-Z]+) = yes\"\n",
    "re.findall(pattern, txt)"
   ]
  },
  {
   "cell_type": "code",
   "execution_count": null,
   "id": "e14dfa23",
   "metadata": {},
   "outputs": [],
   "source": []
  }
 ],
 "metadata": {
  "kernelspec": {
   "display_name": "Python 3 (ipykernel)",
   "language": "python",
   "name": "python3"
  },
  "language_info": {
   "codemirror_mode": {
    "name": "ipython",
    "version": 3
   },
   "file_extension": ".py",
   "mimetype": "text/x-python",
   "name": "python",
   "nbconvert_exporter": "python",
   "pygments_lexer": "ipython3",
   "version": "3.9.7"
  }
 },
 "nbformat": 4,
 "nbformat_minor": 5
}
