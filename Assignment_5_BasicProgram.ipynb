{
 "cells": [
  {
   "cell_type": "raw",
   "id": "7fbc46fb",
   "metadata": {},
   "source": [
    "1.\tWrite a Python Program to Find LCM?"
   ]
  },
  {
   "cell_type": "code",
   "execution_count": 2,
   "id": "20aba0fc",
   "metadata": {},
   "outputs": [
    {
     "name": "stdout",
     "output_type": "stream",
     "text": [
      "Please enter first number: 3\n",
      "Please enter second number: 6\n",
      "The LCM of 3 and 6 is : 6\n"
     ]
    }
   ],
   "source": [
    "#1->\n",
    "num1 = int(input(\"Please enter first number: \"))  \n",
    "num2 = int(input(\"Please enter second number: \"))  \n",
    "if num1 > num2:  \n",
    "    greater = num1  \n",
    "else:  \n",
    "    greater = num2  \n",
    "while(True):  \n",
    "    if((greater % num1 == 0) and (greater % num2 == 0)):  \n",
    "        lcm = greater  \n",
    "        break  \n",
    "    greater += 1     \n",
    "print(\"The LCM of\", num1,\"and\", num2,\"is :\", lcm)  "
   ]
  },
  {
   "cell_type": "raw",
   "id": "d0869757",
   "metadata": {},
   "source": [
    "2.\tWrite a Python Program to Find HCF?"
   ]
  },
  {
   "cell_type": "code",
   "execution_count": 6,
   "id": "aa76c378",
   "metadata": {},
   "outputs": [
    {
     "name": "stdout",
     "output_type": "stream",
     "text": [
      "Please enter first number: 6\n",
      "Please enter second number: 9\n",
      "The HCF of 6 and 9 is : 3\n"
     ]
    }
   ],
   "source": [
    "#2->\n",
    "num1 = int(input(\"Please enter first number: \"))  \n",
    "num2 = int(input(\"Please enter second number: \"))  \n",
    "if num1 < num2:  \n",
    "    lower = num1  \n",
    "else:  \n",
    "    lower = num2  \n",
    "while(True):  \n",
    "    if((num1 % lower == 0) and (num2 % lower == 0)):  \n",
    "        hcf = lower  \n",
    "        break  \n",
    "    lower -= 1     \n",
    "print(\"The HCF of\", num1,\"and\", num2,\"is :\", hcf)  "
   ]
  },
  {
   "cell_type": "raw",
   "id": "330b39fc",
   "metadata": {},
   "source": [
    "3.\tWrite a Python Program to Convert Decimal to Binary, Octal and Hexadecimal?"
   ]
  },
  {
   "cell_type": "code",
   "execution_count": 58,
   "id": "d8eaf5ec",
   "metadata": {},
   "outputs": [
    {
     "name": "stdout",
     "output_type": "stream",
     "text": [
      "Please enter the decimal number: 123\n",
      "Decimal to Binary is: 1111011\n",
      "Decimal to Binary is: 1111011\n",
      "Decimal to Binary is: 1111011\n",
      "Decimal to Octal is: 173\n",
      "Decimal to Octal is: 173\n",
      "Decimal to Octal is: 173\n",
      "Decimal to Hexadecimal is: 7B\n",
      "Decimal to Hexadecimal is: 7b\n",
      "Decimal to Hexadecimal is: 7b\n"
     ]
    }
   ],
   "source": [
    "#3->\n",
    "def DecimalToBinary(num):\n",
    "    \"\"\"Convert a Decimal number to Binary\"\"\" \n",
    "    binary = ''\n",
    "    while num >= 1:\n",
    "        rem = num % 2\n",
    "        binary = str(rem) + binary\n",
    "        num //= 2\n",
    "    return binary\n",
    "def DecimalToOctal(num):\n",
    "    \"\"\"Convert a Decimal number to Octal\"\"\" \n",
    "    octal = ''\n",
    "    while num >= 1:\n",
    "        rem = num % 8\n",
    "        octal = str(rem) + octal\n",
    "        num //= 8\n",
    "    return octal\n",
    "def DecimalToHexDecimal(num):\n",
    "    \"\"\"Convert a Decimal number to Hexadecimal\"\"\"\n",
    "    conv = {0:'0',1:'1',2:'2',3:'3',4:'4',5:'5',6:'6',7:'7',8:'8',9:'9',10:'A',11:'B',12:'C',13:'D',14:'E',15:'F'}\n",
    "    hex = ''\n",
    "    while num >= 1:\n",
    "        rem = num % 16\n",
    "        hex = conv[rem] + hex\n",
    "        num //= 16\n",
    "    return hex\n",
    "num = int(input(\"Please enter the decimal number: \")) \n",
    "print(\"Decimal to Binary is:\",DecimalToBinary(num))\n",
    "print(\"Decimal to Binary is: {0:b}\".format(num))\n",
    "print(\"Decimal to Binary is:\",bin(num)[2:])\n",
    "print(\"Decimal to Octal is:\",DecimalToOctal(num))\n",
    "print(\"Decimal to Octal is: {0:o}\".format(num))\n",
    "print(\"Decimal to Octal is:\",oct(num)[2:])\n",
    "print(\"Decimal to Hexadecimal is:\",DecimalToHexDecimal(num))\n",
    "print(\"Decimal to Hexadecimal is: {0:x}\".format(num))\n",
    "print(\"Decimal to Hexadecimal is:\",hex(num)[2:])"
   ]
  },
  {
   "cell_type": "raw",
   "id": "05c158dc",
   "metadata": {},
   "source": [
    "4.\tWrite a Python Program To Find ASCII value of a character?"
   ]
  },
  {
   "cell_type": "code",
   "execution_count": 74,
   "id": "93536209",
   "metadata": {},
   "outputs": [
    {
     "name": "stdout",
     "output_type": "stream",
     "text": [
      "Please enter the character : A\n",
      "ASCII value of A is: 65\n"
     ]
    }
   ],
   "source": [
    "#4->\n",
    "cr = input(\"Please enter the character : \")\n",
    "print(\"ASCII value of\",cr,\"is:\",ord(cr))"
   ]
  },
  {
   "cell_type": "raw",
   "id": "9351c9b4",
   "metadata": {},
   "source": [
    "5.\tWrite a Python Program to Make a Simple Calculator with 4 basic mathematical operations?"
   ]
  },
  {
   "cell_type": "code",
   "execution_count": 78,
   "id": "6d66b02b",
   "metadata": {},
   "outputs": [
    {
     "name": "stdout",
     "output_type": "stream",
     "text": [
      "Please mention mathematical operarion (Add/Sub/Mul/Div) : Mul\n",
      "Please enter first number : 34\n",
      "Please enter second number : 12\n",
      "34 x 12 = 408\n"
     ]
    }
   ],
   "source": [
    "#5->\n",
    "def add(a,b):\n",
    "    return a+b\n",
    "def sub(a,b):\n",
    "    return a-b\n",
    "def mul(a,b):\n",
    "    return a*b\n",
    "def div(a,b):\n",
    "    return a/b\n",
    "oper = input(\"Please mention mathematical operarion (Add/Sub/Mul/Div) : \")\n",
    "num1 = int(input(\"Please enter first number : \"))\n",
    "num2 = int(input(\"Please enter second number : \"))\n",
    "if oper == 'Add':\n",
    "    print(num1,\"+\",num2,\"=\",add(num1,num2))\n",
    "if oper == 'Sub':\n",
    "    print(num1,\"-\",num2,\"=\",sub(num1,num2))\n",
    "if oper == 'Mul':\n",
    "    print(num1,\"x\",num2,\"=\",mul(num1,num2))\n",
    "if oper == 'Div':\n",
    "    print(num1,\"/\",num2,\"=\",div(num1,num2))"
   ]
  },
  {
   "cell_type": "code",
   "execution_count": null,
   "id": "032284a9",
   "metadata": {},
   "outputs": [],
   "source": []
  }
 ],
 "metadata": {
  "kernelspec": {
   "display_name": "Python 3 (ipykernel)",
   "language": "python",
   "name": "python3"
  },
  "language_info": {
   "codemirror_mode": {
    "name": "ipython",
    "version": 3
   },
   "file_extension": ".py",
   "mimetype": "text/x-python",
   "name": "python",
   "nbconvert_exporter": "python",
   "pygments_lexer": "ipython3",
   "version": "3.9.7"
  }
 },
 "nbformat": 4,
 "nbformat_minor": 5
}
