{
 "cells": [
  {
   "cell_type": "raw",
   "id": "1808a28a",
   "metadata": {},
   "source": [
    "Question1\n",
    "Create a function that takes a string and returns a string in which each character is repeated once.\n",
    "Examples\n",
    "double_char(\"String\") ➞ \"SSttrriinngg\"\n",
    "\n",
    "double_char(\"Hello World!\") ➞ \"HHeelllloo  WWoorrlldd!!\"\n",
    "\n",
    "double_char(\"1234!_ \") ➞ \"11223344!!__  \""
   ]
  },
  {
   "cell_type": "code",
   "execution_count": 1,
   "id": "b11871d0",
   "metadata": {},
   "outputs": [
    {
     "name": "stdout",
     "output_type": "stream",
     "text": [
      "Please enter the string : Hello World!\n",
      "Update double character string is : HHeelllloo  WWoorrlldd!!\n"
     ]
    }
   ],
   "source": [
    "#1->\n",
    "string = input(\"Please enter the string : \")\n",
    "def double_char(string):\n",
    "    \"\"\"It will return string after each character is repeated once\"\"\"\n",
    "    s = \"\"\n",
    "    for i in string:\n",
    "        s += i*2\n",
    "    return s\n",
    "print(\"Update double character string is :\",double_char(string))"
   ]
  },
  {
   "cell_type": "raw",
   "id": "9673b792",
   "metadata": {},
   "source": [
    "Question2\n",
    "Create a function that reverses a boolean value and returns the string \"boolean expected\" if another variable type is given.\n",
    "Examples\n",
    "reverse(True) ➞ False\n",
    "\n",
    "reverse(False) ➞ True\n",
    "\n",
    "reverse(0) ➞ \"boolean expected\"\n",
    "\n",
    "reverse(None) ➞ \"boolean expected\""
   ]
  },
  {
   "cell_type": "code",
   "execution_count": 8,
   "id": "f7c8b528",
   "metadata": {},
   "outputs": [
    {
     "name": "stdout",
     "output_type": "stream",
     "text": [
      "Please enter the boolean value : False\n",
      "Reverse of False is : True\n"
     ]
    }
   ],
   "source": [
    "#2->\n",
    "bl = eval(input(\"Please enter the boolean value : \"))\n",
    "def reverse(b):\n",
    "    \"\"\"It will reverse the boolean value\"\"\"\n",
    "    if type(b) != bool:\n",
    "        return \"boolean expected\"\n",
    "    else:\n",
    "        return not b\n",
    "print(\"Reverse of\",bl,\"is :\",reverse(bl))"
   ]
  },
  {
   "cell_type": "raw",
   "id": "66989006",
   "metadata": {},
   "source": [
    "Question3\n",
    "Create a function that returns the thickness (in meters) of a piece of paper after folding it n number of times. The paper starts off with a thickness of 0.5mm.\n",
    "Examples\n",
    "num_layers(1) ➞ \"0.001m\"\n",
    "# Paper folded once is 1mm (equal to 0.001m)\n",
    "\n",
    "num_layers(4) ➞ \"0.008m\"\n",
    "# Paper folded 4 times is 8mm (equal to 0.008m)\n",
    "\n",
    "num_layers(21) ➞ \"1048.576m\"\n",
    "# Paper folded 21 times is 1048576mm (equal to 1048.576m)"
   ]
  },
  {
   "cell_type": "code",
   "execution_count": 13,
   "id": "0f49ff93",
   "metadata": {},
   "outputs": [
    {
     "name": "stdout",
     "output_type": "stream",
     "text": [
      "Please enter number of fold of the paper : 21\n",
      "Thickness of the paper after 21 fold in meter is : 1048.576\n"
     ]
    }
   ],
   "source": [
    "#3->\n",
    "n = int(input(\"Please enter number of fold of the paper : \"))\n",
    "def num_layers(n):\n",
    "    \"\"\"It will calculate the thicknes of the paper after folding n number of times\"\"\"\n",
    "    thick = 0.5\n",
    "    return ((2**n)*thick)/1000\n",
    "print(\"Thickness of the paper after\",n,\"fold in meter is :\",num_layers(n))"
   ]
  },
  {
   "cell_type": "raw",
   "id": "07fd097d",
   "metadata": {},
   "source": [
    "Question4\n",
    "Create a function that takes a single string as argument and returns an ordered list containing the indices of all capital letters in the string.\n",
    "Examples\n",
    "index_of_caps(\"eDaBiT\") ➞ [1, 3, 5]\n",
    "\n",
    "index_of_caps(\"eQuINoX\") ➞ [1, 3, 4, 6]\n",
    "\n",
    "index_of_caps(\"determine\") ➞ []\n",
    "\n",
    "index_of_caps(\"STRIKE\") ➞ [0, 1, 2, 3, 4, 5]\n",
    "\n",
    "index_of_caps(\"sUn\") ➞ [1]"
   ]
  },
  {
   "cell_type": "code",
   "execution_count": 18,
   "id": "a6823789",
   "metadata": {},
   "outputs": [
    {
     "name": "stdout",
     "output_type": "stream",
     "text": [
      "Please enter the string : eQuINoX\n",
      "Capital letter indices are : [1, 3, 4, 6]\n"
     ]
    }
   ],
   "source": [
    "#4->\n",
    "string = input(\"Please enter the string : \")\n",
    "def index_of_caps(string):\n",
    "    List = []\n",
    "    for i in range(len(string)):\n",
    "        if string[i].isupper() == True:\n",
    "            List.append(i)\n",
    "    return List\n",
    "print(\"Capital letter indices are :\",index_of_caps(string))"
   ]
  },
  {
   "cell_type": "raw",
   "id": "9ff0f6f3",
   "metadata": {},
   "source": [
    "Question5\n",
    "Using list comprehensions, create a function that finds all even numbers from 1 to the given number.\n",
    "Examples\n",
    "find_even_nums(8) ➞ [2, 4, 6, 8]\n",
    "\n",
    "find_even_nums(4) ➞ [2, 4]\n",
    "\n",
    "find_even_nums(2) ➞ [2]"
   ]
  },
  {
   "cell_type": "code",
   "execution_count": 21,
   "id": "2ef3468a",
   "metadata": {},
   "outputs": [
    {
     "name": "stdout",
     "output_type": "stream",
     "text": [
      "Please enter the number : 8\n",
      "Even numbers till 8 is : [2, 4, 6, 8]\n"
     ]
    }
   ],
   "source": [
    "#5->\n",
    "n = int(input(\"Please enter the number : \"))\n",
    "def find_even_nums(n):\n",
    "    \"\"\"It will return even numbers from 1 to n\"\"\"\n",
    "    return [i for i in range(1,n+1) if i%2==0]\n",
    "print(\"Even numbers till\",n,\"is :\",find_even_nums(n))"
   ]
  },
  {
   "cell_type": "code",
   "execution_count": null,
   "id": "ad57b48f",
   "metadata": {},
   "outputs": [],
   "source": []
  }
 ],
 "metadata": {
  "kernelspec": {
   "display_name": "Python 3 (ipykernel)",
   "language": "python",
   "name": "python3"
  },
  "language_info": {
   "codemirror_mode": {
    "name": "ipython",
    "version": 3
   },
   "file_extension": ".py",
   "mimetype": "text/x-python",
   "name": "python",
   "nbconvert_exporter": "python",
   "pygments_lexer": "ipython3",
   "version": "3.9.7"
  }
 },
 "nbformat": 4,
 "nbformat_minor": 5
}
