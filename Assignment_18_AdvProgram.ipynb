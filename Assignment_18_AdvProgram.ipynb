{
 "cells": [
  {
   "cell_type": "raw",
   "id": "611ce1e4",
   "metadata": {},
   "source": [
    "1. A robot has been given a list of movement instructions. Each instruction is either left, right, up or down, followed by a distance to move. The robot starts at [0, 0]. You want to calculate where the robot will end up and return its final position as a list.\n",
    "\n",
    "To illustrate, if the robot is given the following instructions:\n",
    "\n",
    "[\"right 10\", \"up 50\", \"left 30\", \"down 10\"]\n",
    "\n",
    "It will end up 20 left and 40 up from where it started, so we return [-20, 40].\n",
    "\n",
    "Examples\n",
    "\n",
    "track_robot([\"right 10\", \"up 50\", \"left 30\", \"down 10\"]) ➞ [-20, 40]\n",
    "\n",
    "track_robot([]) ➞ [0, 0]\n",
    "// If there are no instructions, the robot doesn't move.\n",
    "\n",
    "track_robot([\"right 100\", \"right 100\", \"up 500\", \"up 10000\"]) ➞ [200, 10500]"
   ]
  },
  {
   "cell_type": "code",
   "execution_count": 3,
   "id": "d056a130",
   "metadata": {},
   "outputs": [
    {
     "name": "stdout",
     "output_type": "stream",
     "text": [
      "Please enter list of movements : [\"right 100\", \"right 100\", \"up 500\", \"up 10000\"]\n",
      "Final position is : [200, 10500]\n"
     ]
    }
   ],
   "source": [
    "#1->\n",
    "def track_robot(List):\n",
    "    '''It will return final position after movement'''\n",
    "    pos = [0,0]\n",
    "    for i in List:\n",
    "        if i.split()[0] == \"right\":\n",
    "            pos[0] += int(i.split()[1])\n",
    "        if i.split()[0] == \"left\":\n",
    "            pos[0] -= int(i.split()[1])\n",
    "        if i.split()[0] == \"up\":\n",
    "            pos[1] += int(i.split()[1])\n",
    "        if i.split()[0] == \"down\":\n",
    "            pos[1] -= int(i.split()[1])\n",
    "    return pos\n",
    "List = eval(input(\"Please enter list of movements : \"))\n",
    "print(\"Final position is :\",track_robot(List))"
   ]
  },
  {
   "cell_type": "raw",
   "id": "7c770ddf",
   "metadata": {},
   "source": [
    "2. Write a function that will return the longest word in a sentence. In cases where more than one word is found, return the first one.\n",
    "\n",
    "Examples\n",
    "\n",
    "find_longest(\"A thing of beauty is a joy forever.\") ➞ \"forever\"\n",
    "\n",
    "find_longest(\"Forgetfulness is by all means powerless!\") ➞ \"forgetfulness\"\n",
    "\n",
    "find_longest(\"\\\"Strengths\\\" is the longest and most commonly used word that contains only a single vowel.\") ➞ \"strengths\""
   ]
  },
  {
   "cell_type": "code",
   "execution_count": 20,
   "id": "746890b3",
   "metadata": {},
   "outputs": [
    {
     "name": "stdout",
     "output_type": "stream",
     "text": [
      "Please enter the sentence : \\\"Strengths\\\" is the longest and most commonly used word that contains only a single vowel.\n",
      "Longest work is : strengths\n"
     ]
    }
   ],
   "source": [
    "#2->\n",
    "def find_longest(sen):\n",
    "    '''It will return largest word from the sentence'''\n",
    "    import re \n",
    "    sen = re.sub(r'[^\\w\\s]','',sen)\n",
    "    long = sen.split()[0]\n",
    "    for i in sen.split():\n",
    "        if len(i) > len(long):\n",
    "            long = i\n",
    "    return long.lower()\n",
    "sen = input(\"Please enter the sentence : \")\n",
    "print(\"Longest work is :\",find_longest(sen))"
   ]
  },
  {
   "cell_type": "raw",
   "id": "fba140e2",
   "metadata": {},
   "source": [
    "3. Create a function to check if a candidate is qualified in an imaginary coding interview of an imaginary tech startup.\n",
    "\n",
    "The criteria for a candidate to be qualified in the coding interview is:\n",
    "\n",
    "   1. The candidate should have complete all the questions.\n",
    "   2. The maximum time given to complete the interview is 120 minutes.\n",
    "   3. The maximum time given for very easy questions is 5 minutes each.\n",
    "   4. The maximum time given for easy questions is 10 minutes each.\n",
    "   5. The maximum time given for medium questions is 15 minutes each.\n",
    "   6. The maximum time given for hard questions is 20 minutes each.\n",
    "\n",
    "If all the above conditions are satisfied, return \"qualified\", else return \"disqualified\".\n",
    "\n",
    "You will be given a list of time taken by a candidate to solve a particular question and the total time taken by the candidate to complete the interview.\n",
    "\n",
    "Given a list , in a true condition will always be in the format [very easy, very easy, easy, easy, medium, medium, hard, hard].\n",
    "\n",
    "The maximum time to complete the interview includes a buffer time of 20 minutes.\n",
    "\n",
    "Examples\n",
    "\n",
    "interview([5, 5, 10, 10, 15, 15, 20, 20], 120) ➞ \"qualified\"\n",
    "\n",
    "interview([2, 3, 8, 6, 5, 12, 10, 18], 64) ➞  \"qualified\"\n",
    "\n",
    "interview([5, 5, 10, 10, 25, 15, 20, 20], 120) ➞ \"disqualified\"\n",
    "# Exceeded the time limit for a medium question.\n",
    "\n",
    "interview([5, 5, 10, 10, 15, 15, 20], 120) ➞ \"disqualified\"\n",
    "# Did not complete all the questions.\n",
    "\n",
    "interview([5, 5, 10, 10, 15, 15, 20, 20], 130) ➞ \"disqualified\"\n",
    "# Solved all the questions in their respected time limits but exceeded the total time limit of the interview."
   ]
  },
  {
   "cell_type": "code",
   "execution_count": 25,
   "id": "ad3a2997",
   "metadata": {},
   "outputs": [
    {
     "name": "stdout",
     "output_type": "stream",
     "text": [
      "Please enter list time taken per question : [5, 5, 10, 10, 15, 15, 20, 20]\n",
      "Please enter total time taken : 120\n",
      "Candidate is : qualified\n"
     ]
    }
   ],
   "source": [
    "#3->\n",
    "def interview(List,tot):\n",
    "    '''It will return if the candidate is qualified or not'''\n",
    "    if tot > 120 or len(List)!=8:\n",
    "        return 'disqualified'\n",
    "    else:\n",
    "        for i in range(0,len(List),2):\n",
    "            if List[i] > ((i/2)+1)*5 or List[i+1] > ((i/2)+1)*5:\n",
    "                return 'disqualified'\n",
    "        return 'qualified'\n",
    "List = eval(input(\"Please enter list time taken per question : \"))\n",
    "Total = int(input(\"Please enter total time taken : \"))\n",
    "print(\"Candidate is :\",interview(List,Total))"
   ]
  },
  {
   "cell_type": "raw",
   "id": "f5808a48",
   "metadata": {},
   "source": [
    "4. Write a function that divides a list into chunks of size n, where n is the length of each chunk.\n",
    "\n",
    "Examples\n",
    "\n",
    "chunkify([2, 3, 4, 5], 2) ➞ [[2, 3], [4, 5]]\n",
    "\n",
    "chunkify([2, 3, 4, 5, 6], 2) ➞ [[2, 3], [4, 5], [6]]\n",
    "\n",
    "chunkify([2, 3, 4, 5, 6, 7], 3) ➞ [[2, 3, 4], [5, 6, 7]]\n",
    "\n",
    "chunkify([2, 3, 4, 5, 6, 7], 1) ➞ [[2], [3], [4], [5], [6], [7]]\n",
    "\n",
    "chunkify([2, 3, 4, 5, 6, 7], 7) ➞ [[2, 3, 4, 5, 6, 7]]"
   ]
  },
  {
   "cell_type": "code",
   "execution_count": 26,
   "id": "9d844371",
   "metadata": {},
   "outputs": [
    {
     "name": "stdout",
     "output_type": "stream",
     "text": [
      "Please enter the list : [2, 3, 4, 5, 6, 7]\n",
      "Please entersize of each chunks : 3\n",
      "Chunked List is : [[2, 3, 4], [5, 6, 7]]\n"
     ]
    }
   ],
   "source": [
    "#4->\n",
    "def chunkify(List,n):\n",
    "    '''It will devide the List into multiple chunks'''\n",
    "    final = []\n",
    "    for i in range(0,len(List),n):\n",
    "        final.append(List[i:i+n])\n",
    "    return final\n",
    "List = eval(input(\"Please enter the list : \"))\n",
    "n = int(input(\"Please entersize of each chunks : \"))\n",
    "print(\"Chunked List is :\",chunkify(List,n))"
   ]
  },
  {
   "cell_type": "raw",
   "id": "2157b6f1",
   "metadata": {},
   "source": [
    "5. You are given a list of strings consisting of grocery items, with prices in parentheses. Return a list of prices in float format.\n",
    "\n",
    "Examples\n",
    "\n",
    "get_prices([\"salad ($4.99)\"]) ➞ [4.99]\n",
    "\n",
    "get_prices([\n",
    "  \"artichokes ($1.99)\",\n",
    "  \"rotiserrie chicken ($5.99)\",\n",
    "  \"gum ($0.75)\"\n",
    "])\n",
    "\n",
    "➞ [1.99, 5.99, 0.75]\n",
    "\n",
    "get_prices([\n",
    "  \"ice cream ($5.99)\",\n",
    "  \"banana ($0.20)\",\n",
    "  \"sandwich ($8.50)\",\n",
    "  \"soup ($1.99)\"\n",
    "])\n",
    "\n",
    "➞ [5.99, 0.2, 8.50, 1.99]"
   ]
  },
  {
   "cell_type": "code",
   "execution_count": 40,
   "id": "01feb217",
   "metadata": {},
   "outputs": [
    {
     "name": "stdout",
     "output_type": "stream",
     "text": [
      "Please enter list of grocery items : [   \"ice cream ($5.99)\",   \"banana ($0.20)\",   \"sandwich ($8.50)\",   \"soup ($1.99)\" ]\n",
      "Price list is : [5.99, 0.2, 8.5, 1.99]\n"
     ]
    }
   ],
   "source": [
    "#5->-prices\n",
    "def get_prices(List):\n",
    "    '''It will return the price in float format'''\n",
    "    #return [float(i.split('$')[1][:-1]) for i in List]\n",
    "    for i in range(len(List)):\n",
    "        List[i] = float(List[i].split('$')[1][:-1])\n",
    "    return List\n",
    "List = eval(input(\"Please enter list of grocery items : \"))\n",
    "print(\"Price list is :\",get_prices(List))"
   ]
  },
  {
   "cell_type": "code",
   "execution_count": null,
   "id": "331fc7b2",
   "metadata": {},
   "outputs": [],
   "source": []
  }
 ],
 "metadata": {
  "kernelspec": {
   "display_name": "Python 3 (ipykernel)",
   "language": "python",
   "name": "python3"
  },
  "language_info": {
   "codemirror_mode": {
    "name": "ipython",
    "version": 3
   },
   "file_extension": ".py",
   "mimetype": "text/x-python",
   "name": "python",
   "nbconvert_exporter": "python",
   "pygments_lexer": "ipython3",
   "version": "3.9.7"
  }
 },
 "nbformat": 4,
 "nbformat_minor": 5
}
