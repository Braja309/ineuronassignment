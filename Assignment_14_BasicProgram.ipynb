{
 "cells": [
  {
   "cell_type": "raw",
   "id": "f51e9bcc",
   "metadata": {},
   "source": [
    "Question 1:\n",
    "\n",
    "Define a class with a generator which can iterate the numbers, which are divisible by 7, between a given range 0 and n."
   ]
  },
  {
   "cell_type": "code",
   "execution_count": 9,
   "id": "2f1f8b3c",
   "metadata": {},
   "outputs": [
    {
     "name": "stdout",
     "output_type": "stream",
     "text": [
      "Please enter the value for n : 100\n",
      "List of numbers divsible by 7, between given range 0 and 100 is :\n",
      "0 7 14 21 28 35 42 49 56 63 70 77 84 91 98 "
     ]
    }
   ],
   "source": [
    "#1->\n",
    "class test:\n",
    "    def divisibleby7(n):\n",
    "        for i in range(n+1):\n",
    "            if i%7 == 0:\n",
    "                yield i\n",
    "Range = int(input(\"Please enter the value for n : \"))\n",
    "print(\"List of numbers divsible by 7, between given range 0 and\",Range,\"is :\")\n",
    "for i in test.divisibleby7(Range):\n",
    "    print(i,end=\" \")"
   ]
  },
  {
   "cell_type": "raw",
   "id": "a2b4b1ed",
   "metadata": {},
   "source": [
    "Question 2:\n",
    "Write a program to compute the frequency of the words from the input. The output should output after sorting the key alphanumerically. \n",
    "\n",
    "Suppose the following input is supplied to the program:\n",
    "\n",
    "New to Python or choosing between Python 2 and Python 3? Read Python 2 or Python 3.\n",
    "\n",
    "Then, the output should be:\n",
    "\n",
    "2:2\n",
    "\n",
    "3.:1\n",
    "\n",
    "3?:1\n",
    "\n",
    "New:1\n",
    "\n",
    "Python:5\n",
    "\n",
    "Read:1\n",
    "\n",
    "and:1\n",
    "\n",
    "between:1\n",
    "\n",
    "choosing:1\n",
    "\n",
    "or:2\n",
    "\n",
    "to:1"
   ]
  },
  {
   "cell_type": "code",
   "execution_count": 29,
   "id": "23c3e4ff",
   "metadata": {},
   "outputs": [
    {
     "name": "stdout",
     "output_type": "stream",
     "text": [
      "Please enter the sring : New to Python or choosing between Python 2 and Python 3? Read Python 2 or Python 3.\n",
      "Please find below output :\n",
      "2 : 2\n",
      "3. : 1\n",
      "3? : 1\n",
      "New : 1\n",
      "Python : 5\n",
      "Read : 1\n",
      "and : 1\n",
      "between : 1\n",
      "choosing : 1\n",
      "or : 2\n",
      "to : 1\n"
     ]
    }
   ],
   "source": [
    "#2->\n",
    "from collections import Counter\n",
    "string = input(\"Please enter the sring : \")\n",
    "strList = string.split()\n",
    "wordcount = Counter(sorted(strList))\n",
    "print(\"Please find below output :\")\n",
    "for key,value in dict(wordcount).items():\n",
    "    print(key,\":\",value)"
   ]
  },
  {
   "cell_type": "raw",
   "id": "6c69c461",
   "metadata": {},
   "source": [
    "Question 3:\n",
    "Define a class Person and its two child classes: Male and Female. All classes have a method \"getGender\" which can print \"Male\" for Male class and \"Female\" for Female class."
   ]
  },
  {
   "cell_type": "code",
   "execution_count": 4,
   "id": "cc40e550",
   "metadata": {},
   "outputs": [
    {
     "name": "stdout",
     "output_type": "stream",
     "text": [
      "Male\n",
      "Female\n"
     ]
    }
   ],
   "source": [
    "#3->\n",
    "class Person:\n",
    "    pass\n",
    "class Male(Person):\n",
    "    def getGender():\n",
    "        print(\"Male\")\n",
    "class Female(Person):\n",
    "    def getGender():\n",
    "        print(\"Female\")\n",
    "Male.getGender()\n",
    "Female.getGender()"
   ]
  },
  {
   "cell_type": "raw",
   "id": "84367d92",
   "metadata": {},
   "source": [
    "Question 4:  \n",
    "Please write a program to generate all sentences where subject is in [\"I\", \"You\"] and verb is in [\"Play\", \"Love\"] and the object is in [\"Hockey\",\"Football\"]."
   ]
  },
  {
   "cell_type": "code",
   "execution_count": 12,
   "id": "f1bf0d7b",
   "metadata": {},
   "outputs": [
    {
     "name": "stdout",
     "output_type": "stream",
     "text": [
      "Please enter the sentences '.' separated : I Play Football.I do not Play Hockey.You Play Hockey\n",
      "I Play Football\n",
      "You Play Hockey\n"
     ]
    }
   ],
   "source": [
    "#4->\n",
    "sentences = input(\"Please enter the sentences '.' separated : \")\n",
    "def matchsen(sentences):\n",
    "    sentences = sentences.split('.')\n",
    "    for i in sentences:\n",
    "        if len(i.split()) >= 3:\n",
    "            if i.split()[0] in [\"I\", \"You\"]:\n",
    "                if i.split()[1] in [\"Play\",\"Love\"]:\n",
    "                    if i.split()[2] in [\"Hockey\",\"Football\"]:\n",
    "                        yield i\n",
    "for a in matchsen(sentences):\n",
    "    print(a)"
   ]
  },
  {
   "cell_type": "raw",
   "id": "af8484e0",
   "metadata": {},
   "source": [
    "Question 5:\n",
    "\n",
    "Please write a program to compress and decompress the string \"hello world!hello world!hello world!hello world!\"."
   ]
  },
  {
   "cell_type": "code",
   "execution_count": 24,
   "id": "f45a63ce",
   "metadata": {},
   "outputs": [
    {
     "name": "stdout",
     "output_type": "stream",
     "text": [
      "String after compressing the string is : b'\\x1f\\x8b\\x08\\x00\\xbf\\xd9\\xd3a\\x02\\xff\\xcbH\\xcd\\xc9\\xc9W(\\xcf/\\xcaIQ\\xcc \\x82\\r\\x00\\xd3\\xe6\\xcf\\xae0\\x00\\x00\\x00'\n",
      "String after decompressing the string again is : b'hello world!hello world!hello world!hello world!'\n"
     ]
    }
   ],
   "source": [
    "#5->\n",
    "import gzip\n",
    "string = \"hello world!hello world!hello world!hello world!\"\n",
    "print(\"String after compressing the string is :\",gzip.compress(bytes(string, 'utf-8')))\n",
    "print(\"String after decompressing the string again is :\",gzip.decompress(gzip.compress(bytes(string, 'utf-8'))))"
   ]
  },
  {
   "cell_type": "raw",
   "id": "81f36d4d",
   "metadata": {},
   "source": [
    "Question 6:\n",
    "\n",
    "Please write a binary search function which searches an item in a sorted list. The function should return the index of element to be searched in the list."
   ]
  },
  {
   "cell_type": "code",
   "execution_count": 30,
   "id": "33382b2b",
   "metadata": {},
   "outputs": [
    {
     "name": "stdout",
     "output_type": "stream",
     "text": [
      "Please enter an item to be searched in the list : 35\n",
      "Index for number 35 is : 6\n"
     ]
    }
   ],
   "source": [
    "#6->\n",
    "sorted_list = [1,3,5,8,10,20,35,38,42,55]\n",
    "item = int(input(\"Please enter an item to be searched in the list : \"))\n",
    "def bin_search(list, low, high, i):\n",
    "    \"\"\"Binary search of an element is a list and retun the index\"\"\"\n",
    "    if high >= low:\n",
    "        mid = (low+high)//2\n",
    "        if list[mid] == i:\n",
    "            return mid\n",
    "        elif list[mid] > i:\n",
    "            return bin_search(list, low, mid-1, i)\n",
    "        else:\n",
    "            return bin_search(list, mid+1, high, i)   \n",
    "    else:\n",
    "        return \"not present\"\n",
    "print(\"Index for number\",item,\"is :\",bin_search(sorted_list, 0, len(sorted_list)-1, item))"
   ]
  },
  {
   "cell_type": "code",
   "execution_count": null,
   "id": "300dcf4f",
   "metadata": {},
   "outputs": [],
   "source": []
  }
 ],
 "metadata": {
  "kernelspec": {
   "display_name": "Python 3 (ipykernel)",
   "language": "python",
   "name": "python3"
  },
  "language_info": {
   "codemirror_mode": {
    "name": "ipython",
    "version": 3
   },
   "file_extension": ".py",
   "mimetype": "text/x-python",
   "name": "python",
   "nbconvert_exporter": "python",
   "pygments_lexer": "ipython3",
   "version": "3.9.7"
  }
 },
 "nbformat": 4,
 "nbformat_minor": 5
}
