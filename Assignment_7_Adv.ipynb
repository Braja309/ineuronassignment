{
 "cells": [
  {
   "cell_type": "raw",
   "id": "cce29ade",
   "metadata": {},
   "source": [
    "Q1. What is the purpose of the try statement?"
   ]
  },
  {
   "cell_type": "markdown",
   "id": "98879afe",
   "metadata": {},
   "source": [
    "#1-> This block is to write main code where exception may occure."
   ]
  },
  {
   "cell_type": "raw",
   "id": "c52dbc2f",
   "metadata": {},
   "source": [
    "Q2. What are the two most popular try statement variations?"
   ]
  },
  {
   "cell_type": "markdown",
   "id": "29d61d1f",
   "metadata": {},
   "source": [
    "#2-> Error in Python can be of two types i.e. Syntax errors and Exceptions."
   ]
  },
  {
   "cell_type": "raw",
   "id": "dbb0a8a4",
   "metadata": {},
   "source": [
    "Q3. What is the purpose of the raise statement?"
   ]
  },
  {
   "cell_type": "markdown",
   "id": "39a6f2c3",
   "metadata": {},
   "source": [
    "#3-> It will help to raise a custom Exception."
   ]
  },
  {
   "cell_type": "raw",
   "id": "e921eb4c",
   "metadata": {},
   "source": [
    "Q4. What does the assert statement do, and what other statement is it like?"
   ]
  },
  {
   "cell_type": "markdown",
   "id": "f676fce8",
   "metadata": {},
   "source": [
    "#4-> An assert statement checks whether a condition is true. If a condition evaluates to True, a program will keep running. If a condition is false, the program will return an AssertionError."
   ]
  },
  {
   "cell_type": "raw",
   "id": "2fffed73",
   "metadata": {},
   "source": [
    "Q5. What is the purpose of the with/as argument, and what other statement is it like?"
   ]
  },
  {
   "cell_type": "markdown",
   "id": "77bfa9ea",
   "metadata": {},
   "source": [
    "#5-> with statement helps avoiding bugs and leaks by ensuring that a resource is properly released when the code using the resource is completely executed."
   ]
  },
  {
   "cell_type": "code",
   "execution_count": null,
   "id": "b8de00d0",
   "metadata": {},
   "outputs": [],
   "source": []
  }
 ],
 "metadata": {
  "kernelspec": {
   "display_name": "Python 3 (ipykernel)",
   "language": "python",
   "name": "python3"
  },
  "language_info": {
   "codemirror_mode": {
    "name": "ipython",
    "version": 3
   },
   "file_extension": ".py",
   "mimetype": "text/x-python",
   "name": "python",
   "nbconvert_exporter": "python",
   "pygments_lexer": "ipython3",
   "version": "3.9.7"
  }
 },
 "nbformat": 4,
 "nbformat_minor": 5
}
