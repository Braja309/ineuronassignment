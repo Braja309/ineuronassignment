{
 "cells": [
  {
   "cell_type": "markdown",
   "id": "1b176a81",
   "metadata": {},
   "source": [
    "1. In the below elements which of them are values or an expression? eg:- values can be integer or string and expressions will be mathematical operators.\n",
    "\n",
    "* \n",
    "'hello'\n",
    "-87.8\n",
    "- \n",
    "/ \n",
    "+\t\n",
    "6 "
   ]
  },
  {
   "cell_type": "markdown",
   "id": "dab6065d",
   "metadata": {},
   "source": [
    "Ans - \n",
    "    \n",
    "    Values - 'hello', -87.8, 6 \n",
    "    Expressions - *, -, /, +"
   ]
  },
  {
   "cell_type": "markdown",
   "id": "2145355d",
   "metadata": {},
   "source": [
    "2. What is the difference between string and variable?"
   ]
  },
  {
   "cell_type": "markdown",
   "id": "1ac03233",
   "metadata": {},
   "source": [
    "Ans - \n",
    "\n",
    "    A variable is a space, which can store everything from number to string. A string is quated value which can be assigned to a variable."
   ]
  },
  {
   "cell_type": "markdown",
   "id": "3669bfe7",
   "metadata": {},
   "source": [
    "3. Describe three different data types."
   ]
  },
  {
   "cell_type": "markdown",
   "id": "603de751",
   "metadata": {},
   "source": [
    "Ans - \n",
    "\n",
    "    There can be multiple data types. Below are three out of them - \n",
    "    Numeric - It can be Integer, Float or Complex data type. Ex: int - 4\n",
    "    Stirng - It is a quated value. Ex: \"Braja\"\n",
    "    Sequence - It is a collection of data. It stores multiple items in a single variable. Ex: List - [1,\"Braja\",30], tuple - ('2','4')"
   ]
  },
  {
   "cell_type": "markdown",
   "id": "dc348635",
   "metadata": {},
   "source": [
    "4. What is an expression made up of? What do all expressions do?"
   ]
  },
  {
   "cell_type": "markdown",
   "id": "41d64217",
   "metadata": {},
   "source": [
    "Ans - \n",
    "\n",
    "    Expression is made up of variables,operators and method invocations. It always evalute down to a single value. In python to print an expression, the interpreter evaluates the expression and displays the result."
   ]
  },
  {
   "cell_type": "markdown",
   "id": "526e7ab1",
   "metadata": {},
   "source": [
    "5. This assignment statements, like spam = 10. What is the difference between an expression and a statement?"
   ]
  },
  {
   "cell_type": "markdown",
   "id": "b051ed06",
   "metadata": {},
   "source": [
    "Ans - An expression evaluates to a single value, a statement does not.\n",
    "    \n",
    "    spam=10    ## a Statement\n",
    "    spam+10    ## an Expression"
   ]
  },
  {
   "cell_type": "markdown",
   "id": "b6d7fdea",
   "metadata": {},
   "source": [
    "6. After running the following code, what does the variable bacon contain?\n",
    "bacon = 22\n",
    "bacon + 1"
   ]
  },
  {
   "cell_type": "markdown",
   "id": "c1e77828",
   "metadata": {},
   "source": [
    "Ans - 22"
   ]
  },
  {
   "cell_type": "markdown",
   "id": "1db5b0ab",
   "metadata": {},
   "source": [
    "7. What should the values of the following two terms be?\n",
    "'spam' + 'spamspam'\n",
    "'spam' * 3"
   ]
  },
  {
   "cell_type": "markdown",
   "id": "d699399d",
   "metadata": {},
   "source": [
    "Ans - It will return same value for both term. Result: 'spamspamspam'"
   ]
  },
  {
   "cell_type": "markdown",
   "id": "87280bba",
   "metadata": {},
   "source": [
    "8. Why is eggs a valid variable name while 100 is invalid?"
   ]
  },
  {
   "cell_type": "markdown",
   "id": "9f6054ea",
   "metadata": {},
   "source": [
    "Ans - Variables can't be a number"
   ]
  },
  {
   "cell_type": "markdown",
   "id": "9cd93263",
   "metadata": {},
   "source": [
    "9. What three functions can be used to get the integer, floating-point number, or string version of a value?"
   ]
  },
  {
   "cell_type": "markdown",
   "id": "36314e52",
   "metadata": {},
   "source": [
    "Ans - int(), float(), str()"
   ]
  },
  {
   "cell_type": "markdown",
   "id": "ca0cb263",
   "metadata": {},
   "source": [
    "10. Why does this expression cause an error? How can you fix it?\n",
    "'I have eaten ' + 99 + ' burritos.'"
   ]
  },
  {
   "cell_type": "code",
   "execution_count": 1,
   "id": "d6ff2319",
   "metadata": {},
   "outputs": [
    {
     "data": {
      "text/plain": [
       "'I have eaten 99 burritos.'"
      ]
     },
     "execution_count": 1,
     "metadata": {},
     "output_type": "execute_result"
    }
   ],
   "source": [
    "##Ans - string can only be concatenated with another string. we can typecast integer to string like below - \n",
    "'I have eaten ' + str(99) + ' burritos.'"
   ]
  },
  {
   "cell_type": "code",
   "execution_count": null,
   "id": "24e0a7e7",
   "metadata": {},
   "outputs": [],
   "source": []
  }
 ],
 "metadata": {
  "kernelspec": {
   "display_name": "Python 3 (ipykernel)",
   "language": "python",
   "name": "python3"
  },
  "language_info": {
   "codemirror_mode": {
    "name": "ipython",
    "version": 3
   },
   "file_extension": ".py",
   "mimetype": "text/x-python",
   "name": "python",
   "nbconvert_exporter": "python",
   "pygments_lexer": "ipython3",
   "version": "3.9.7"
  }
 },
 "nbformat": 4,
 "nbformat_minor": 5
}
