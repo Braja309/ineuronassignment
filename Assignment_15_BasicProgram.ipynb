{
 "cells": [
  {
   "cell_type": "raw",
   "id": "83b179e8",
   "metadata": {},
   "source": [
    "Question 1:\n",
    "Please write a program using generator to print the numbers which can be divisible by 5 and 7 between 0 and n in comma separated form while n is input by console.\n",
    "Example:\n",
    "If the following n is given as input to the program:\n",
    "100\n",
    "Then, the output of the program should be:\n",
    "0,35,70"
   ]
  },
  {
   "cell_type": "code",
   "execution_count": 2,
   "id": "e77df405",
   "metadata": {},
   "outputs": [
    {
     "name": "stdout",
     "output_type": "stream",
     "text": [
      "Please enter the range : 100\n",
      "Numbers divisible by 5 and 7 between 0 and 100 are :\n",
      "0,35,70,"
     ]
    }
   ],
   "source": [
    "#1->\n",
    "def divisiblenum(n):\n",
    "    for i in range(0,n+1):\n",
    "        if i % 5 == 0 and i % 7 == 0:\n",
    "            yield i\n",
    "num = int(input(\"Please enter the range : \"))\n",
    "print(\"Numbers divisible by 5 and 7 between 0 and\",num,\"are :\")\n",
    "for i in divisiblenum(num):\n",
    "    print(i,end=',')"
   ]
  },
  {
   "cell_type": "raw",
   "id": "6a8bf038",
   "metadata": {},
   "source": [
    "Question 2:\n",
    "Please write a program using generator to print the even numbers between 0 and n in comma separated form while n is input by console.\n",
    "Example:\n",
    "If the following n is given as input to the program:\n",
    "10\n",
    "Then, the output of the program should be:\n",
    "0,2,4,6,8,10"
   ]
  },
  {
   "cell_type": "code",
   "execution_count": 5,
   "id": "b4ac8886",
   "metadata": {},
   "outputs": [
    {
     "name": "stdout",
     "output_type": "stream",
     "text": [
      "Please enter the range : 10\n",
      "Even numbers between 0 and 10 are :\n",
      "0,2,4,6,8,10,"
     ]
    }
   ],
   "source": [
    "#2->\n",
    "def evennum(n):\n",
    "    for i in range(0,n+1):\n",
    "        if i % 2 == 0:\n",
    "            yield i\n",
    "num = int(input(\"Please enter the range : \"))\n",
    "print(\"Even numbers between 0 and\",num,\"are :\")\n",
    "for i in evennum(num):\n",
    "    print(i,end=',')"
   ]
  },
  {
   "cell_type": "raw",
   "id": "619a2a40",
   "metadata": {},
   "source": [
    "Question 3:\n",
    "The Fibonacci Sequence is computed based on the following formula:\n",
    "f(n)=0 if n=0\n",
    "f(n)=1 if n=1\n",
    "f(n)=f(n-1)+f(n-2) if n>1\n",
    "Please write a program using list comprehension to print the Fibonacci Sequence in comma separated form with a given n input by console.\n",
    "Example:\n",
    "If the following n is given as input to the program:\n",
    "7\n",
    "Then, the output of the program should be:\n",
    "0,1,1,2,3,5,8,13"
   ]
  },
  {
   "cell_type": "code",
   "execution_count": 9,
   "id": "ca65b608",
   "metadata": {},
   "outputs": [
    {
     "name": "stdout",
     "output_type": "stream",
     "text": [
      "Please enter the number : 7\n",
      "Output is : [0, 1, 1, 2, 3, 5, 8, 13]\n"
     ]
    }
   ],
   "source": [
    "#3->\n",
    "n = int(input(\"Please enter the number : \"))\n",
    "List=[0,1]  \n",
    "[List.append(List[-2]+List[-1]) for i in range(n-1)]\n",
    "print(\"Output is :\",List)  "
   ]
  },
  {
   "cell_type": "raw",
   "id": "d8e90813",
   "metadata": {},
   "source": [
    "Question 4:\n",
    "Assuming that we have some email addresses in the \"username@companyname.com\" format, please write program to print the user name of a given email address. Both user names and company names are composed of letters only.\n",
    "Example:\n",
    "If the following email address is given as input to the program:\n",
    "john@google.com\n",
    "Then, the output of the program should be:\n",
    "john"
   ]
  },
  {
   "cell_type": "code",
   "execution_count": 10,
   "id": "98690149",
   "metadata": {},
   "outputs": [
    {
     "name": "stdout",
     "output_type": "stream",
     "text": [
      "Please enter the email address : john@google.com\n",
      "Username is : john\n"
     ]
    }
   ],
   "source": [
    "#4->\n",
    "email = input(\"Please enter the email address : \")\n",
    "print(\"Username is :\",email.split('@')[0])"
   ]
  },
  {
   "cell_type": "raw",
   "id": "afa2fa8a",
   "metadata": {},
   "source": [
    "Question 5:\n",
    "Define a class named Shape and its subclass Square. The Square class has an init function which takes a length as argument. Both classes have a area function which can print the area of the shape where Shape's area is 0 by default."
   ]
  },
  {
   "cell_type": "code",
   "execution_count": 22,
   "id": "696d7b05",
   "metadata": {},
   "outputs": [],
   "source": [
    "#5->\n",
    "class Shape():\n",
    "    def area():\n",
    "        print(0)\n",
    "class Square(Shape):\n",
    "    def __init__(self,length):\n",
    "        self.length = length\n",
    "    def area(length):\n",
    "        print(length**2)"
   ]
  },
  {
   "cell_type": "code",
   "execution_count": null,
   "id": "ceeb57d7",
   "metadata": {},
   "outputs": [],
   "source": []
  }
 ],
 "metadata": {
  "kernelspec": {
   "display_name": "Python 3 (ipykernel)",
   "language": "python",
   "name": "python3"
  },
  "language_info": {
   "codemirror_mode": {
    "name": "ipython",
    "version": 3
   },
   "file_extension": ".py",
   "mimetype": "text/x-python",
   "name": "python",
   "nbconvert_exporter": "python",
   "pygments_lexer": "ipython3",
   "version": "3.9.7"
  }
 },
 "nbformat": 4,
 "nbformat_minor": 5
}
