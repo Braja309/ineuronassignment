{
 "cells": [
  {
   "cell_type": "raw",
   "id": "a324f6df",
   "metadata": {},
   "source": [
    "1.\tWrite a Python Program to Add Two Matrices?"
   ]
  },
  {
   "cell_type": "code",
   "execution_count": 8,
   "id": "405d484f",
   "metadata": {},
   "outputs": [
    {
     "name": "stdout",
     "output_type": "stream",
     "text": [
      "Addition of two matrices is:\n",
      " [[12, 14, 16], [18, 20, 22], [24, 26, 28]]\n"
     ]
    }
   ],
   "source": [
    "#1->\n",
    "Matrices1 = [[1,2,3],[4,5,6],[7,8,9]]\n",
    "Matrices2 = [[11,12,13],[14,15,16],[17,18,19]]\n",
    "result = [[0,0,0],[0,0,0],[0,0,0]]\n",
    "for i in range(len(Matrices1)):\n",
    "    for j in range(len(Matrices1[0])):\n",
    "        result[i][j] =Matrices1[i][j]+Matrices2[i][j]\n",
    "print(\"Addition of two matrices is:\\n\",result)"
   ]
  },
  {
   "cell_type": "raw",
   "id": "369688bc",
   "metadata": {},
   "source": [
    "2.\tWrite a Python Program to Multiply Two Matrices?"
   ]
  },
  {
   "cell_type": "code",
   "execution_count": 14,
   "id": "607a110e",
   "metadata": {},
   "outputs": [
    {
     "name": "stdout",
     "output_type": "stream",
     "text": [
      "Multiplication of two matrices is:\n",
      " [[90, 96, 102, 78], [216, 231, 246, 201], [342, 366, 390, 324], [468, 501, 534, 447]]\n"
     ]
    }
   ],
   "source": [
    "#1->\n",
    "Matrices1 = [[1,2,3],[4,5,6],[7,8,9],[10,11,12]]\n",
    "Matrices2 = [[11,12,13,14],[14,15,16,17],[17,18,19,10]]\n",
    "result = [[0,0,0,0],[0,0,0,0],[0,0,0,0],[0,0,0,0]]\n",
    "for i in range(len(Matrices1)):\n",
    "    for j in range(len(Matrices2[0])):\n",
    "        for k in range(len(Matrices2)):\n",
    "            result[i][j] += Matrices1[i][k]*Matrices2[k][j]\n",
    "print(\"Multiplication of two matrices is:\\n\",result)"
   ]
  },
  {
   "cell_type": "raw",
   "id": "4dd55aeb",
   "metadata": {},
   "source": [
    "3.\tWrite a Python Program to Transpose a Matrix?"
   ]
  },
  {
   "cell_type": "code",
   "execution_count": 17,
   "id": "681ac51f",
   "metadata": {},
   "outputs": [
    {
     "name": "stdout",
     "output_type": "stream",
     "text": [
      "Tranpose of matrices is:\n",
      " [[1, 4, 7, 10], [2, 5, 8, 11], [3, 6, 9, 12]]\n"
     ]
    }
   ],
   "source": [
    "#3->\n",
    "Matrices = [[1,2,3],[4,5,6],[7,8,9],[10,11,12]]\n",
    "result = [[0,0,0,0],[0,0,0,0],[0,0,0,0]]\n",
    "for i in range(len(Matrices[0])):\n",
    "    for j in range(len(Matrices)):\n",
    "        result[i][j] = Matrices[j][i]\n",
    "print(\"Tranpose of matrices is:\\n\",result)"
   ]
  },
  {
   "cell_type": "raw",
   "id": "f4262301",
   "metadata": {},
   "source": [
    "4.\tWrite a Python Program to Sort Words in Alphabetic Order?"
   ]
  },
  {
   "cell_type": "code",
   "execution_count": 30,
   "id": "49e64818",
   "metadata": {},
   "outputs": [
    {
     "name": "stdout",
     "output_type": "stream",
     "text": [
      "Please enter the sentance :\n",
      "My name is braja Sundar Bera\n",
      "Please find below sorted words:\n",
      " bera, braja, is, my, name, sundar\n"
     ]
    }
   ],
   "source": [
    "#4->\n",
    "Sent = input(\"Please enter the sentance :\\n\")\n",
    "wordList = [w.lower() for w in Sent.split()]\n",
    "wordList.sort()\n",
    "#print(wordList)\n",
    "print(\"Please find below sorted words:\\n\",\", \".join(wordList))"
   ]
  },
  {
   "cell_type": "raw",
   "id": "64a94bc8",
   "metadata": {},
   "source": [
    "5.\tWrite a Python Program to Remove Punctuation From a String?"
   ]
  },
  {
   "cell_type": "code",
   "execution_count": 35,
   "id": "92fb5461",
   "metadata": {},
   "outputs": [
    {
     "name": "stdout",
     "output_type": "stream",
     "text": [
      "Enter a string: My name --is !@Braja% Sundar*() Bera.\n",
      "String after removing punctuations - \n",
      " My name is Braja Sundar Bera\n"
     ]
    }
   ],
   "source": [
    "#5->\n",
    "punctuations = '''!()-[]{};:'\"\\,<>./?@#$%^&*_~'''\n",
    "str = input(\"Enter a string: \")\n",
    "final_string = \"\"\n",
    "for char in str:\n",
    "   if char not in punctuations:\n",
    "       final_string = final_string + char\n",
    "\n",
    "print(\"String after removing punctuations - \\n\",final_string)"
   ]
  },
  {
   "cell_type": "code",
   "execution_count": null,
   "id": "ea329f07",
   "metadata": {},
   "outputs": [],
   "source": []
  }
 ],
 "metadata": {
  "kernelspec": {
   "display_name": "Python 3 (ipykernel)",
   "language": "python",
   "name": "python3"
  },
  "language_info": {
   "codemirror_mode": {
    "name": "ipython",
    "version": 3
   },
   "file_extension": ".py",
   "mimetype": "text/x-python",
   "name": "python",
   "nbconvert_exporter": "python",
   "pygments_lexer": "ipython3",
   "version": "3.9.7"
  }
 },
 "nbformat": 4,
 "nbformat_minor": 5
}
