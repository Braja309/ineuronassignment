{
 "cells": [
  {
   "cell_type": "raw",
   "id": "48fefa46",
   "metadata": {},
   "source": [
    "1. What is the concept of an abstract superclass?"
   ]
  },
  {
   "cell_type": "markdown",
   "id": "ba09eb2b",
   "metadata": {},
   "source": [
    "#1-> A class is called an Abstract class if it contains one or more abstract methods. An abstract method is a method that is declared, but contains no implementation."
   ]
  },
  {
   "cell_type": "raw",
   "id": "7cbc0590",
   "metadata": {},
   "source": [
    "2. What happens when a class statement's top level contains a basic assignment statement?"
   ]
  },
  {
   "cell_type": "code",
   "execution_count": 2,
   "id": "bd473c00",
   "metadata": {},
   "outputs": [],
   "source": [
    "#2-> \n",
    "class Cls:\n",
    "    x = 3             # class variable\n",
    "inst = Cls()\n",
    "inst.x = inst.x + 1   # writes inst.x as 4 leaving Cls.x as 3"
   ]
  },
  {
   "cell_type": "raw",
   "id": "37750231",
   "metadata": {},
   "source": [
    "3. Why does a class need to manually call a superclass's __init__ method?"
   ]
  },
  {
   "cell_type": "markdown",
   "id": "8004ddff",
   "metadata": {},
   "source": [
    "#3-> The child classes that may be using cooperative multiple inheritance will call the correct next parent class"
   ]
  },
  {
   "cell_type": "raw",
   "id": "61e401c0",
   "metadata": {},
   "source": [
    "4. How can you augment, instead of completely replacing, an inherited method?"
   ]
  },
  {
   "cell_type": "code",
   "execution_count": 1,
   "id": "47d085d6",
   "metadata": {},
   "outputs": [],
   "source": [
    "#4-> Redefine the method in a subclass and call back to the superclass version of the method manually with passing self instance.\n",
    "#Exm - \n",
    "class Spam:\n",
    "    def update(self):\n",
    "        print('updating spam!')\n",
    "\n",
    "class SpamLite(Spam):\n",
    "    def update(self):\n",
    "        print('this spam is lite!')\n",
    "        Spam.update(self)"
   ]
  },
  {
   "cell_type": "raw",
   "id": "1e3029a4",
   "metadata": {},
   "source": [
    "5. How is the local scope of a class different from that of a function?"
   ]
  },
  {
   "cell_type": "markdown",
   "id": "68c73040",
   "metadata": {},
   "source": [
    "#5-> Declaring a variable inside a function inside a class : only that function can access it (its in that functions local scope): comment: if the variable is declared without self then it is accessible within that function only, kinda local variable."
   ]
  },
  {
   "cell_type": "code",
   "execution_count": null,
   "id": "f1264000",
   "metadata": {},
   "outputs": [],
   "source": []
  }
 ],
 "metadata": {
  "kernelspec": {
   "display_name": "Python 3 (ipykernel)",
   "language": "python",
   "name": "python3"
  },
  "language_info": {
   "codemirror_mode": {
    "name": "ipython",
    "version": 3
   },
   "file_extension": ".py",
   "mimetype": "text/x-python",
   "name": "python",
   "nbconvert_exporter": "python",
   "pygments_lexer": "ipython3",
   "version": "3.9.7"
  }
 },
 "nbformat": 4,
 "nbformat_minor": 5
}
