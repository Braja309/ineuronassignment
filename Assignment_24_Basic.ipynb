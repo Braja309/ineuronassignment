{
 "cells": [
  {
   "cell_type": "raw",
   "id": "e014b370",
   "metadata": {},
   "source": [
    "1. What is the relationship between def statements and lambda expressions ?"
   ]
  },
  {
   "cell_type": "markdown",
   "id": "60aba91b",
   "metadata": {},
   "source": [
    "1->\n",
    "Lambda: Lambda definition does not include a “return” statement, it always contains an expression which is returned. we don’t have to assign it to a variable at all. This is the simplicity of lambda functions\n",
    "\n",
    "def functions: Functions help break our program into smaller and modular chunks. As our program grows larger and larger, functions make it more organised and manageable. They can be called and used anywhere we want."
   ]
  },
  {
   "cell_type": "raw",
   "id": "f73a364e",
   "metadata": {},
   "source": [
    "2. What is the benefit of lambda?"
   ]
  },
  {
   "cell_type": "markdown",
   "id": "fceb4793",
   "metadata": {},
   "source": [
    "2->It reduces the amount of code. It has Higher Efficiency."
   ]
  },
  {
   "cell_type": "raw",
   "id": "1f483396",
   "metadata": {},
   "source": [
    "3. Compare and contrast map, filter, and reduce."
   ]
  },
  {
   "cell_type": "markdown",
   "id": "7f5c5aab",
   "metadata": {},
   "source": [
    "3->\n",
    "The map() function iterates through all items in the given iterable and executes the function we passed as an argument on each of them.\n",
    "\n",
    "filter() forms a new list that contains only elements that satisfy a certain condition, i.e. the function we passed returns True.\n",
    "\n",
    "reduce() works differently than map() and filter(). It does not return a new list based on the function and iterable we've passed. Instead, it returns a single value.\n",
    "Also, in Python 3 reduce() isn't a built-in function anymore, and it can be found in the functools module."
   ]
  },
  {
   "cell_type": "raw",
   "id": "ec943380",
   "metadata": {},
   "source": [
    "4. What are function annotations, and how are they used?"
   ]
  },
  {
   "cell_type": "markdown",
   "id": "458f2b73",
   "metadata": {},
   "source": [
    "4->Function annotations are arbitrary python expressions that are associated with various part of functions. These expressions are evaluated at compile time."
   ]
  },
  {
   "cell_type": "raw",
   "id": "da7d8311",
   "metadata": {},
   "source": [
    "5. What are recursive functions, and how are they used?"
   ]
  },
  {
   "cell_type": "markdown",
   "id": "aca8e195",
   "metadata": {},
   "source": [
    "5->A recursive function is a function that calls itself during its execution. The process may repeat several times, outputting the result and the end of each iteration. "
   ]
  },
  {
   "cell_type": "raw",
   "id": "c4c2284e",
   "metadata": {},
   "source": [
    "6. What are some general design guidelines for coding functions?"
   ]
  },
  {
   "cell_type": "markdown",
   "id": "9e65462b",
   "metadata": {},
   "source": [
    "6->\n",
    "• Use docstrings\n",
    "• Use of regular and updated comments, which will be easier to read.\n",
    "• Use 4-space indentation and no tabs."
   ]
  },
  {
   "cell_type": "raw",
   "id": "d47db7a4",
   "metadata": {},
   "source": [
    "7. Name three or more ways that functions can communicate results to a caller."
   ]
  },
  {
   "cell_type": "markdown",
   "id": "3be0d6e0",
   "metadata": {},
   "source": [
    "7->\n",
    "you need to include a “return” statement in your function to tell Python that you intend to return a value to the calling program."
   ]
  },
  {
   "cell_type": "code",
   "execution_count": null,
   "id": "f1c0d710",
   "metadata": {},
   "outputs": [],
   "source": []
  }
 ],
 "metadata": {
  "kernelspec": {
   "display_name": "Python 3 (ipykernel)",
   "language": "python",
   "name": "python3"
  },
  "language_info": {
   "codemirror_mode": {
    "name": "ipython",
    "version": 3
   },
   "file_extension": ".py",
   "mimetype": "text/x-python",
   "name": "python",
   "nbconvert_exporter": "python",
   "pygments_lexer": "ipython3",
   "version": "3.9.7"
  }
 },
 "nbformat": 4,
 "nbformat_minor": 5
}
