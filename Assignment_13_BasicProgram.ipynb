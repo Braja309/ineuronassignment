{
 "cells": [
  {
   "cell_type": "raw",
   "id": "5e29ac80",
   "metadata": {},
   "source": [
    "Question 1:\n",
    "\n",
    "Write a program that calculates and prints the value according to the given formula:\n",
    "\n",
    "Q = Square root of [(2 * C * D)/H]\n",
    "\n",
    "Following are the fixed values of C and H:\n",
    "\n",
    "C is 50. H is 30.\n",
    "\n",
    "D is the variable whose values should be input to your program in a comma-separated sequence.\n",
    "\n",
    "Example\n",
    "\n",
    "Let us assume the following comma separated input sequence is given to the program:\n",
    "\n",
    "100,150,180\n",
    "\n",
    "The output of the program should be:\n",
    "\n",
    "18,22,24"
   ]
  },
  {
   "cell_type": "code",
   "execution_count": 15,
   "id": "4721851a",
   "metadata": {},
   "outputs": [
    {
     "name": "stdout",
     "output_type": "stream",
     "text": [
      "Please enter values of D in a comma separated : 100,150,180\n",
      "Final output is : 18,22,24\n"
     ]
    }
   ],
   "source": [
    "#1->\n",
    "import math\n",
    "C = 50\n",
    "H = 30\n",
    "D = input(\"Please enter values of D in a comma separated : \")\n",
    "D_list = D.split(',')\n",
    "O_list = []\n",
    "for i in D_list:\n",
    "    O_list.append(str(round(math.sqrt((2*C*int(i))/H))))\n",
    "print(\"Final output is :\",\",\".join(O_list))    "
   ]
  },
  {
   "cell_type": "raw",
   "id": "5d687998",
   "metadata": {},
   "source": [
    "Question 2:\n",
    "Write a program which takes 2 digits, X,Y as input and generates a 2-dimensional array. The element value in the i-th row and j-th column of the array should be i*j.\n",
    "\n",
    "Note: i=0,1.., X-1; j=0,1,¡¬Y-1.\n",
    "\n",
    "Example\n",
    "\n",
    "Suppose the following inputs are given to the program:\n",
    "\n",
    "3,5\n",
    "\n",
    "Then, the output of the program should be:\n",
    "\n",
    "[[0, 0, 0, 0, 0], [0, 1, 2, 3, 4], [0, 2, 4, 6, 8]] "
   ]
  },
  {
   "cell_type": "code",
   "execution_count": 19,
   "id": "e39bfbed",
   "metadata": {},
   "outputs": [
    {
     "name": "stdout",
     "output_type": "stream",
     "text": [
      "Please enter the valye of X : 4\n",
      "Please enter the valye of Y : 5\n",
      "Final output is : [[0, 0, 0, 0, 0], [0, 1, 2, 3, 4], [0, 2, 4, 6, 8], [0, 3, 6, 9, 12]]\n"
     ]
    }
   ],
   "source": [
    "#2->\n",
    "X = int(input(\"Please enter the valye of X : \"))\n",
    "Y = int(input(\"Please enter the valye of Y : \"))\n",
    "final_list = []\n",
    "for i in range(X):\n",
    "    temp_list = [0]\n",
    "    for j in range(1,Y):\n",
    "        temp_list.append(i+temp_list[j-1])\n",
    "    final_list.append(temp_list)\n",
    "print(\"Final output is :\",final_list)\n",
    "    "
   ]
  },
  {
   "cell_type": "raw",
   "id": "17dd2a53",
   "metadata": {},
   "source": [
    "Question 3:\n",
    "Write a program that accepts a comma separated sequence of words as input and prints the words in a comma-separated sequence after sorting them alphabetically.\n",
    "\n",
    "Suppose the following input is supplied to the program:\n",
    "\n",
    "without,hello,bag,world\n",
    "\n",
    "Then, the output should be:\n",
    "\n",
    "bag,hello,without,world"
   ]
  },
  {
   "cell_type": "code",
   "execution_count": 22,
   "id": "53ba3efe",
   "metadata": {},
   "outputs": [
    {
     "name": "stdout",
     "output_type": "stream",
     "text": [
      "Please enter comma separated sequence of words : without,hello,bag,world\n",
      "Comma separated sorted sequence is : bag,hello,without,world\n"
     ]
    }
   ],
   "source": [
    "#3->\n",
    "string = input(\"Please enter comma separated sequence of words : \")\n",
    "print(\"Comma separated sorted sequence is :\",\",\".join(sorted(string.split(','))))"
   ]
  },
  {
   "cell_type": "raw",
   "id": "5cb2f6cf",
   "metadata": {},
   "source": [
    "Question 4:\n",
    "Write a program that accepts a sequence of whitespace separated words as input and prints the words after removing all duplicate words and sorting them alphanumerically.\n",
    "\n",
    "Suppose the following input is supplied to the program:\n",
    "\n",
    "hello world and practice makes perfect and hello world again\n",
    "\n",
    "Then, the output should be:\n",
    "\n",
    "again and hello makes perfect practice world"
   ]
  },
  {
   "cell_type": "code",
   "execution_count": 2,
   "id": "3cc4e403",
   "metadata": {},
   "outputs": [
    {
     "name": "stdout",
     "output_type": "stream",
     "text": [
      "Please enter whitespace separated words : hello world and practice makes perfect and hello world again\n",
      "The out is : again and hello makes perfect practice world\n"
     ]
    }
   ],
   "source": [
    "#4->\n",
    "from collections import Counter\n",
    "inp = input(\"Please enter whitespace separated words : \")\n",
    "inp = inp.split(\" \")\n",
    "Count = Counter(inp)\n",
    "print(\"The out is :\",\" \".join(sorted(Count.keys())))"
   ]
  },
  {
   "cell_type": "raw",
   "id": "dcbc3755",
   "metadata": {},
   "source": [
    "Question 5:\n",
    "Write a program that accepts a sentence and calculate the number of letters and digits.\n",
    "\n",
    "Suppose the following input is supplied to the program:\n",
    "\n",
    "hello world! 123\n",
    "\n",
    "Then, the output should be:\n",
    "\n",
    "LETTERS 10\n",
    "\n",
    "DIGITS 3"
   ]
  },
  {
   "cell_type": "code",
   "execution_count": 13,
   "id": "19e93a81",
   "metadata": {},
   "outputs": [
    {
     "name": "stdout",
     "output_type": "stream",
     "text": [
      "Please enter the string : hello world! 123\n",
      "Output count is :\n",
      "LETTERS 10\n",
      "DIGITS 3\n"
     ]
    }
   ],
   "source": [
    "#5->\n",
    "string = input(\"Please enter the string : \")\n",
    "numc = 0\n",
    "letc = 0\n",
    "for i in string:\n",
    "    if i.isdigit() == True:\n",
    "        numc += 1\n",
    "    elif i.isalpha() == True:\n",
    "        letc +=1\n",
    "print(\"Output count is :\\nLETTERS {}\\nDIGITS {}\".format(letc,numc))"
   ]
  },
  {
   "cell_type": "raw",
   "id": "97310f0b",
   "metadata": {},
   "source": [
    "Question 6:\n",
    "A website requires the users to input username and password to register. Write a program to check the validity of password input by users.\n",
    "\n",
    "Following are the criteria for checking the password:\n",
    "\n",
    "1. At least 1 letter between [a-z]\n",
    "\n",
    "2. At least 1 number between [0-9]\n",
    "\n",
    "1. At least 1 letter between [A-Z]\n",
    "\n",
    "3. At least 1 character from [$#@]\n",
    "\n",
    "4. Minimum length of transaction password: 6\n",
    "\n",
    "5. Maximum length of transaction password: 12\n",
    "\n",
    "Your program should accept a sequence of comma separated passwords and will check them according to the above criteria. Passwords that match the criteria are to be printed, each separated by a comma.\n",
    "\n",
    "Example\n",
    "\n",
    "If the following passwords are given as input to the program:\n",
    "\n",
    "ABd1234@1,a F1#,2w3E*,2We3345\n",
    "\n",
    "Then, the output of the program should be:\n",
    "\n",
    "ABd1234@1"
   ]
  },
  {
   "cell_type": "code",
   "execution_count": 29,
   "id": "824fc581",
   "metadata": {},
   "outputs": [
    {
     "name": "stdout",
     "output_type": "stream",
     "text": [
      "Please enter username : Braja\n",
      "Please enter comma separated passwords : ABd1234@1,a F1#,2w3E*@,2We3345\n",
      "Valid passwords are : ABd1234@1,2w3E*@\n"
     ]
    }
   ],
   "source": [
    "#6->\n",
    "user = input(\"Please enter username : \") #nothing to validate\n",
    "password = input(\"Please enter comma separated passwords : \")\n",
    "passList = password.split(',')\n",
    "outputList = []\n",
    "for pa in passList:\n",
    "    c = 0\n",
    "    if 6 <= len(pa) <= 12:\n",
    "        if any(i.isdigit() for i in pa):\n",
    "            c+=1\n",
    "        if any(i.islower() for i in pa):\n",
    "            c+=1\n",
    "        if any(i.isupper() for i in pa):\n",
    "            c+=1\n",
    "        if any(i in ['$','#','@'] for i in pa):\n",
    "            c+=1\n",
    "    if c == 4:\n",
    "        outputList.append(pa)\n",
    "print(\"Valid passwords are :\",\",\".join(outputList))            "
   ]
  },
  {
   "cell_type": "code",
   "execution_count": null,
   "id": "72c13d8a",
   "metadata": {},
   "outputs": [],
   "source": []
  }
 ],
 "metadata": {
  "kernelspec": {
   "display_name": "Python 3 (ipykernel)",
   "language": "python",
   "name": "python3"
  },
  "language_info": {
   "codemirror_mode": {
    "name": "ipython",
    "version": 3
   },
   "file_extension": ".py",
   "mimetype": "text/x-python",
   "name": "python",
   "nbconvert_exporter": "python",
   "pygments_lexer": "ipython3",
   "version": "3.9.7"
  }
 },
 "nbformat": 4,
 "nbformat_minor": 5
}
