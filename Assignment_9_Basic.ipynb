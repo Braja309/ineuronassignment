{
 "cells": [
  {
   "cell_type": "raw",
   "id": "5a7cf36d",
   "metadata": {},
   "source": [
    " 1. To what does a relative path refer?"
   ]
  },
  {
   "cell_type": "markdown",
   "id": "2545d4cc",
   "metadata": {},
   "source": [
    "Ans - A relative path refers to a location that is relative to a current directory"
   ]
  },
  {
   "cell_type": "raw",
   "id": "2b065dd7",
   "metadata": {},
   "source": [
    "2. What does an absolute path start with your operating system?"
   ]
  },
  {
   "cell_type": "markdown",
   "id": "d95dc756",
   "metadata": {},
   "source": [
    "Ans - Absolute path starts with the root element, like C:\\."
   ]
  },
  {
   "cell_type": "raw",
   "id": "e94cd636",
   "metadata": {},
   "source": [
    "3. What do the functions os.getcwd() and os.chdir() do?"
   ]
  },
  {
   "cell_type": "code",
   "execution_count": 16,
   "id": "833f5a18",
   "metadata": {},
   "outputs": [
    {
     "name": "stdout",
     "output_type": "stream",
     "text": [
      "C:\\Users\\Braja\\Desktop\\Data Science\\ineuron Class\\Assignments\\Python\n",
      "C:\\Users\\Braja\\Desktop\\Data Science\\ineuron Class\\Assignments\n",
      "C:\\Users\\Braja\\Desktop\\Data Science\\ineuron Class\\Assignments\\Python\n"
     ]
    }
   ],
   "source": [
    "#Ans - \n",
    "import os\n",
    "print(os.getcwd())   #It returns the current working directory/path.\n",
    "os.chdir(path='C:\\\\Users\\\\Braja\\\\Desktop\\\\Data Science\\\\ineuron Class\\\\Assignments')  #It changes the working directory/path and return nothing.\n",
    "print(os.getcwd())\n",
    "os.chdir(path='C:\\\\Users\\\\Braja\\\\Desktop\\\\Data Science\\\\ineuron Class\\\\Assignments\\\\Python')\n",
    "print(os.getcwd())"
   ]
  },
  {
   "cell_type": "raw",
   "id": "a9168ded",
   "metadata": {},
   "source": [
    "4. What are the . and .. folders?"
   ]
  },
  {
   "cell_type": "markdown",
   "id": "102f993c",
   "metadata": {},
   "source": [
    "Ans - The . folder is the current folder, and .. is the parent folder."
   ]
  },
  {
   "cell_type": "raw",
   "id": "f118a3a6",
   "metadata": {},
   "source": [
    "5. In C:\\bacon\\eggs\\spam.txt, which part is the dir name, and which part is the base name?"
   ]
  },
  {
   "cell_type": "markdown",
   "id": "c49765ee",
   "metadata": {},
   "source": [
    "Ans - dir name - 'C:\\bacon\\eggs\\'. base name - 'spam.txt'"
   ]
  },
  {
   "cell_type": "raw",
   "id": "0aaadd5e",
   "metadata": {},
   "source": [
    "6. What are the three “mode” arguments that can be passed to the open() function?"
   ]
  },
  {
   "cell_type": "markdown",
   "id": "03316e11",
   "metadata": {},
   "source": [
    "Ans - 'r' for read mode, 'w' for write mode, and 'a' for append mode."
   ]
  },
  {
   "cell_type": "raw",
   "id": "e1d9a489",
   "metadata": {},
   "source": [
    "7. What happens if an existing file is opened in write mode?"
   ]
  },
  {
   "cell_type": "markdown",
   "id": "35e87d12",
   "metadata": {},
   "source": [
    "Ans - Existing file can be overwritten."
   ]
  },
  {
   "cell_type": "raw",
   "id": "65747e55",
   "metadata": {},
   "source": [
    "8. How do you tell the difference between read() and readlines()?"
   ]
  },
  {
   "cell_type": "markdown",
   "id": "bf91ce70",
   "metadata": {},
   "source": [
    "Ans - read() returns the file’s entire contents in a single string. The readlines() method returns a list of strings, where each string is a line from the contents."
   ]
  },
  {
   "cell_type": "raw",
   "id": "be54e0b1",
   "metadata": {},
   "source": [
    "9. What data structure does a shelf value resemble?"
   ]
  },
  {
   "cell_type": "markdown",
   "id": "8587a6f1",
   "metadata": {},
   "source": [
    "Ans - A shelf value resembles a dictionary value; it has keys and values, along with keys() and values() methods that work similarly to the dictionary methods of the same names."
   ]
  }
 ],
 "metadata": {
  "kernelspec": {
   "display_name": "Python 3 (ipykernel)",
   "language": "python",
   "name": "python3"
  },
  "language_info": {
   "codemirror_mode": {
    "name": "ipython",
    "version": 3
   },
   "file_extension": ".py",
   "mimetype": "text/x-python",
   "name": "python",
   "nbconvert_exporter": "python",
   "pygments_lexer": "ipython3",
   "version": "3.9.7"
  }
 },
 "nbformat": 4,
 "nbformat_minor": 5
}
