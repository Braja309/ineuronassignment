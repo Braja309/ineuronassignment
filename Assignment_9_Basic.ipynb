{
 "cells": [
  {
   "cell_type": "markdown",
   "id": "2545d4cc",
   "metadata": {},
   "source": [
    "1-> A relative path refers to a location that is relative to a current directory"
   ]
  },
  {
   "cell_type": "markdown",
   "id": "d95dc756",
   "metadata": {},
   "source": [
    "2-> Absolute path starts with the root element, like C:\\."
   ]
  },
  {
   "cell_type": "code",
   "execution_count": 3,
   "id": "833f5a18",
   "metadata": {},
   "outputs": [
    {
     "name": "stdout",
     "output_type": "stream",
     "text": [
      "C:\\Users\\Braja\\Desktop\\Data Science\\ineuron Class\\Assignments\\Python\\Basic\n",
      "C:\\Users\\Braja\\Desktop\\Data Science\\ineuron Class\\Assignments\n",
      "C:\\Users\\Braja\\Desktop\\Data Science\\ineuron Class\\Assignments\\Python\\Basic\n"
     ]
    }
   ],
   "source": [
    "#3-> \n",
    "import os\n",
    "print(os.getcwd())   #It returns the current working directory/path.\n",
    "os.chdir(path='C:\\\\Users\\\\Braja\\\\Desktop\\\\Data Science\\\\ineuron Class\\\\Assignments')  #It changes the working directory/path and return nothing.\n",
    "print(os.getcwd())\n",
    "os.chdir(path='C:\\\\Users\\\\Braja\\\\Desktop\\\\Data Science\\\\ineuron Class\\\\Assignments\\\\Python\\\\Basic')\n",
    "print(os.getcwd())"
   ]
  },
  {
   "cell_type": "markdown",
   "id": "102f993c",
   "metadata": {},
   "source": [
    "4-> The . folder is the current folder, and .. is the parent folder."
   ]
  },
  {
   "cell_type": "markdown",
   "id": "c49765ee",
   "metadata": {},
   "source": [
    "5-> dir name - 'C:\\bacon\\eggs\\'. base name - 'spam.txt'"
   ]
  },
  {
   "cell_type": "markdown",
   "id": "03316e11",
   "metadata": {},
   "source": [
    "6-> 'r' for read mode, 'w' for write mode, and 'a' for append mode."
   ]
  },
  {
   "cell_type": "markdown",
   "id": "35e87d12",
   "metadata": {},
   "source": [
    "7-> Existing file can be overwritten."
   ]
  },
  {
   "cell_type": "markdown",
   "id": "bf91ce70",
   "metadata": {},
   "source": [
    "8-> read() returns the file’s entire contents in a single string. The readlines() method returns a list of strings, where each string is a line from the contents."
   ]
  },
  {
   "cell_type": "markdown",
   "id": "8587a6f1",
   "metadata": {},
   "source": [
    "9-> A shelf value resembles a dictionary value; it has keys and values, along with keys() and values() methods that work similarly to the dictionary methods of the same names."
   ]
  },
  {
   "cell_type": "code",
   "execution_count": null,
   "id": "e459e384",
   "metadata": {},
   "outputs": [],
   "source": []
  }
 ],
 "metadata": {
  "kernelspec": {
   "display_name": "Python 3 (ipykernel)",
   "language": "python",
   "name": "python3"
  },
  "language_info": {
   "codemirror_mode": {
    "name": "ipython",
    "version": 3
   },
   "file_extension": ".py",
   "mimetype": "text/x-python",
   "name": "python",
   "nbconvert_exporter": "python",
   "pygments_lexer": "ipython3",
   "version": "3.9.7"
  }
 },
 "nbformat": 4,
 "nbformat_minor": 5
}
