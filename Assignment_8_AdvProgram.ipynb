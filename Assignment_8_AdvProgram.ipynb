{
 "cells": [
  {
   "cell_type": "raw",
   "id": "e8e5249e",
   "metadata": {},
   "source": [
    "1. Given a sentence as txt, return True if any two adjacent words have this property: One word ends with a vowel, while the word immediately after begins with a vowel (a e i o u).\n",
    "\n",
    "Examples\n",
    "\n",
    "vowel_links(\"a very large appliance\") ➞ True\n",
    "\n",
    "vowel_links(\"go to edabit\") ➞ True\n",
    "\n",
    "vowel_links(\"an open fire\") ➞ False\n",
    "\n",
    "vowel_links(\"a sudden applause\") ➞ False"
   ]
  },
  {
   "cell_type": "code",
   "execution_count": 4,
   "id": "cc1b389d",
   "metadata": {},
   "outputs": [
    {
     "name": "stdout",
     "output_type": "stream",
     "text": [
      "Please enter the sentence : go to edabit\n",
      "Two adjacent words have this property: One word ends with a vowel, while the word immediately after begins with a vowel :\n",
      " True\n"
     ]
    }
   ],
   "source": [
    "#1->\n",
    "def vowel_links(sen):\n",
    "    '''It will return if any two adjacent words in a sentence have this property: \n",
    "    One word ends with a vowel, while the word immediately after begins with a vowel (a e i o u)'''\n",
    "    vowels = ['a','e','i','o','u']\n",
    "    for i in range(len(sen.split())-1):\n",
    "        if sen.split()[i][-1].lower() in vowels and sen.split()[i+1][0].lower() in vowels:\n",
    "            return True\n",
    "    return False\n",
    "sen = input(\"Please enter the sentence : \")\n",
    "print(\"Two adjacent words have this property: One word ends with a vowel, while the word immediately after begins with a vowel :\\n\",vowel_links(sen))"
   ]
  },
  {
   "cell_type": "raw",
   "id": "c969389a",
   "metadata": {},
   "source": [
    "2. You are given three inputs: a string, one letter, and a second letter.\n",
    "\n",
    "Write a function that returns True if every instance of the first letter occurs before every instance of the second letter.\n",
    "\n",
    "Examples\n",
    "\n",
    "first_before_second(\"a rabbit jumps joyfully\", \"a\", \"j\") ➞ True\n",
    "# Every instance of \"a\" occurs before every instance of \"j\".\n",
    "\n",
    "first_before_second(\"knaves knew about waterfalls\", \"k\", \"w\") ➞  True\n",
    "\n",
    "first_before_second(\"happy birthday\", \"a\", \"y\") ➞ False\n",
    "# The \"a\" in \"birthday\" occurs after the \"y\" in \"happy\".\n",
    "\n",
    "first_before_second(\"precarious kangaroos\", \"k\", \"a\") ➞ False"
   ]
  },
  {
   "cell_type": "code",
   "execution_count": 14,
   "id": "76fcd1b8",
   "metadata": {},
   "outputs": [
    {
     "name": "stdout",
     "output_type": "stream",
     "text": [
      "Please enter the string : knaves knew about waterfalls\n",
      "Please enter the first string : k\n",
      "Please enter the second string : w\n",
      "Every instance of the k occurs before every instance of the w : True\n"
     ]
    }
   ],
   "source": [
    "#2->\n",
    "def first_before_second(string,letter1,letter2):\n",
    "    '''It will return if every instance of the letter1 occurs before every instance of the letter2.\n",
    "    Expectation - both the letter should be present in the given string'''\n",
    "    index_letter1 = 0\n",
    "    index_letter2 = string.index(letter2)\n",
    "    for i in range(len(string)):\n",
    "        if string[i] == letter1:\n",
    "            index_letter1 = i\n",
    "    if index_letter2<index_letter1:\n",
    "        return False\n",
    "    else:\n",
    "        return True\n",
    "string = input(\"Please enter the string : \")\n",
    "letter1 = input(\"Please enter the first string : \")\n",
    "letter2 = input(\"Please enter the second string : \")\n",
    "print(\"Every instance of the\",letter1,\"occurs before every instance of the\",letter2,\":\",first_before_second(string,letter1,letter2))"
   ]
  },
  {
   "cell_type": "raw",
   "id": "bf958d1e",
   "metadata": {},
   "source": [
    "3. Create a function that returns the characters from a list or string r on odd or even positions, depending on the specifier s. The specifier will be \"odd\" for items on odd positions (1, 3, 5, ...) and \"even\" for items on even positions (2, 4, 6, ...).\n",
    "\n",
    "Examples\n",
    "\n",
    "char_at_pos([2, 4, 6, 8, 10], \"even\") ➞ [4, 8]\n",
    "# 4 & 8 occupy the 2nd & 4th positions\n",
    "\n",
    "char_at_pos(\"EDABIT\", \"odd\") ➞ \"EAI\"\n",
    "# \"E\", \"A\" and \"I\" occupy the 1st, 3rd and 5th positions\n",
    "\n",
    "char_at_pos([\"A\", \"R\", \"B\", \"I\", \"T\", \"R\", \"A\", \"R\", \"I\", \"L\", \"Y\"], \"odd\") ➞ [\"A\", \"B\", \"T\", \"A\", \"I\", \"Y\"]"
   ]
  },
  {
   "cell_type": "code",
   "execution_count": 25,
   "id": "d868d3ef",
   "metadata": {},
   "outputs": [
    {
     "name": "stdout",
     "output_type": "stream",
     "text": [
      "Please enter a list or string : EDABIT\n",
      "Please enter the position odd/even : odd\n",
      "odd position element string or list is : EAI\n"
     ]
    }
   ],
   "source": [
    "#3->-\n",
    "def char_at_pos(inp,pos):\n",
    "    '''It will return even or odd position character from list or string'''\n",
    "    try:\n",
    "        Eter = eval(inp)\n",
    "    except:\n",
    "        Eter = inp\n",
    "    finally:\n",
    "        if pos == 'odd':\n",
    "            return Eter[::2]\n",
    "        else:\n",
    "            return Eter[1::2]\n",
    "inp = input(\"Please enter a list or string : \")\n",
    "pos = input(\"Please enter the position odd/even : \")\n",
    "print(pos,\"position element string or list is :\",char_at_pos(inp,pos))            "
   ]
  },
  {
   "cell_type": "raw",
   "id": "46179b22",
   "metadata": {},
   "source": [
    "4. Write a function that returns the greatest common divisor of all list elements. If the greatest common divisor is 1, return 1.\n",
    "\n",
    "Examples\n",
    "\n",
    "GCD([10, 20, 40]) ➞ 10\n",
    "\n",
    "GCD([1, 2, 3, 100]) ➞ 1\n",
    "\n",
    "GCD([1024, 192, 2048, 512]) ➞ 64"
   ]
  },
  {
   "cell_type": "code",
   "execution_count": 31,
   "id": "620b3610",
   "metadata": {},
   "outputs": [
    {
     "name": "stdout",
     "output_type": "stream",
     "text": [
      "Please enter the list of numbers: [1024, 192, 2048, 512]\n",
      "Greatest common divisor is : 64\n"
     ]
    }
   ],
   "source": [
    "#4->\n",
    "def gcd(a,b):\n",
    "    '''It will return gcd of 2 numbers'''\n",
    "    if(b==0):\n",
    "        return a\n",
    "    else:\n",
    "        return gcd(b,a%b)\n",
    "def GCD(List):\n",
    "    '''It will return greatest common divisor of all list elements'''\n",
    "    gcd2 = gcd(List[0],List[1])\n",
    "    for i in range(2,len(List)):\n",
    "        gcd2 = gcd(gcd2,List[i])\n",
    "    return gcd2\n",
    "List = eval(input(\"Please enter the list of numbers: \"))  \n",
    "print(\"Greatest common divisor is :\",GCD(List))  "
   ]
  },
  {
   "cell_type": "raw",
   "id": "436d286c",
   "metadata": {},
   "source": [
    "5. A number/string is a palindrome if the digits/characters are the same when read both forward and backward. Examples include \"racecar\" and 12321. Given a positive number n, check if n or the binary representation of n is palindromic. Return the following:\n",
    "\n",
    "- \"Decimal only.\" if only n is a palindrome.\n",
    "- \"Binary only.\" if only the binary representation of n is a palindrome.\n",
    "- \"Decimal and binary.\" if both are palindromes.\n",
    "- \"Neither!\" if neither are palindromes.\n",
    "\n",
    "Examples\n",
    "\n",
    "palindrome_type(1306031) ➞ \"Decimal only.\"\n",
    "# decimal = 1306031\n",
    "# binary  = \"100111110110110101111\"\n",
    "\n",
    "palindrome_type(427787) ➞ \"Binary only.\"\n",
    "# decimal = 427787\n",
    "# binary  = \"1101000011100001011\"\n",
    "\n",
    "palindrome_type(313) ➞ \"Decimal and binary.\"\n",
    "# decimal = 313\n",
    "# binary  = 100111001\n",
    "\n",
    "palindrome_type(934) ➞ \"Neither!\"\n",
    "# decimal = 934\n",
    "# binary  = \"1110100110\""
   ]
  },
  {
   "cell_type": "code",
   "execution_count": 41,
   "id": "6fe204bb",
   "metadata": {},
   "outputs": [
    {
     "name": "stdout",
     "output_type": "stream",
     "text": [
      "Please enter the number : 313\n",
      "Output is : Decimal and binary.\n"
     ]
    }
   ],
   "source": [
    "#5->\n",
    "def palindrome(string):\n",
    "    '''It will return if given input is palindrome'''\n",
    "    low = 0\n",
    "    high = len(string)-1\n",
    "    while low<high:\n",
    "        if string[low] != string[high]:\n",
    "            return False\n",
    "        low +=1\n",
    "        high -=1\n",
    "    return True\n",
    "def palindrome_type(num):\n",
    "    '''It will return if the number and binary of number are palindrome'''\n",
    "    if palindrome(str(num)) and palindrome(bin(num)[2:]):\n",
    "        return \"Decimal and binary.\"\n",
    "    elif palindrome(str(num)):\n",
    "        return \"Decimal only.\"\n",
    "    elif palindrome(bin(num)[2:]):\n",
    "        return \"Binary only.\"\n",
    "    else:\n",
    "        return \"Neither!\"\n",
    "num = int(input(\"Please enter the number : \"))\n",
    "print(\"Output is :\",palindrome_type(num))"
   ]
  },
  {
   "cell_type": "code",
   "execution_count": null,
   "id": "46cb822a",
   "metadata": {},
   "outputs": [],
   "source": []
  }
 ],
 "metadata": {
  "kernelspec": {
   "display_name": "Python 3 (ipykernel)",
   "language": "python",
   "name": "python3"
  },
  "language_info": {
   "codemirror_mode": {
    "name": "ipython",
    "version": 3
   },
   "file_extension": ".py",
   "mimetype": "text/x-python",
   "name": "python",
   "nbconvert_exporter": "python",
   "pygments_lexer": "ipython3",
   "version": "3.9.7"
  }
 },
 "nbformat": 4,
 "nbformat_minor": 5
}
