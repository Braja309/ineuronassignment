{
 "cells": [
  {
   "cell_type": "raw",
   "id": "f7fe1afa",
   "metadata": {},
   "source": [
    "1. Write a function that returns True if a given name can generate an array of words.\n",
    "\n",
    "Examples\n",
    "\n",
    "anagram(\"Justin Bieber\", [\"injures\", \"ebb\", \"it\"]) ➞ True\n",
    "\n",
    "anagram(\"Natalie Portman\", [\"orname ntal\", \"pita\"]) ➞ True\n",
    "\n",
    "anagram(\"Chris Pratt\", [\"chirps\", \"rat\"]) ➞ False\n",
    "# Not all letters are used\n",
    "\n",
    "anagram(\"Jeff Goldblum\", [\"jog\", \"meld\", \"bluffs\"]) ➞ False\n",
    "# \"s\" does not exist in the original name"
   ]
  },
  {
   "cell_type": "code",
   "execution_count": 22,
   "id": "a2d80d94",
   "metadata": {},
   "outputs": [
    {
     "name": "stdout",
     "output_type": "stream",
     "text": [
      "Please enter the string : Natalie Portman\n",
      "Please enter the list : [\"orname ntal\", \"pita\"]\n",
      "Both string and List are matching : True\n"
     ]
    }
   ],
   "source": [
    "#1->\n",
    "def anagram(string,List):\n",
    "    '''It will return if string and List both matches'''\n",
    "    dictstr = {i:string.lower().count(i) for i in string.lower() if i != \" \"}\n",
    "    dictList = \"\"\n",
    "    for i in List:\n",
    "        dictList += i.lower()\n",
    "    dictList = {i:dictList.count(i) for i in dictList if i != \" \"}\n",
    "    if len(dictstr) != len(dictList):\n",
    "        return False\n",
    "    else:\n",
    "        for i in dictList.keys():\n",
    "            if dictstr[i] != dictList[i]:\n",
    "                return False\n",
    "        return True\n",
    "string = input(\"Please enter the string : \")\n",
    "List = eval(input(\"Please enter the list : \"))\n",
    "print(\"Both string and List are matching :\",anagram(string,List))"
   ]
  },
  {
   "cell_type": "raw",
   "id": "c3b80c4d",
   "metadata": {},
   "source": [
    "2. Given an array of users, each defined by an object with the following properties: name, score, reputation create a function that sorts the array to form the correct leaderboard.\n",
    "\n",
    "The leaderboard takes into consideration the score of each user of course, but an emphasis is put on their reputation in the community, so to get the trueScore, you should add the reputation multiplied by 2 to the score.\n",
    "\n",
    "Once you know the trueScore of each user, sort the array according to it in descending order.\n",
    "\n",
    "Examples\n",
    "\n",
    "leaderboards([\n",
    "  { \"name\": \"a\", \"score\": 100, \"reputation\": 20 },\n",
    "  { \"name\": \"b\", \"score\": 90, \"reputation\": 40 },\n",
    "  { \"name\": \"c\", \"score\": 115, \"reputation\": 30 },\n",
    "]) ➞ [\n",
    "  { \"name\": \"c\", \"score\": 115, \"reputation\": 30 },  # trueScore = 175\n",
    "  { \"name\": \"b\", \"score\": 90, \"reputation\": 40 },   # trueScore = 170\n",
    "  { \"name\": \"a\", \"score\": 100, \"reputation\": 20 }   # trueScore = 140\n",
    "]"
   ]
  },
  {
   "cell_type": "code",
   "execution_count": 28,
   "id": "48576eb2",
   "metadata": {},
   "outputs": [
    {
     "name": "stdout",
     "output_type": "stream",
     "text": [
      "Please enter list users : [   { \"name\": \"a\", \"score\": 100, \"reputation\": 20 },   { \"name\": \"b\", \"score\": 90, \"reputation\": 40 },   { \"name\": \"c\", \"score\": 115, \"reputation\": 30 }, ]\n",
      "Sorted list according to their total score : [{'name': 'c', 'score': 115, 'reputation': 30}, {'name': 'b', 'score': 90, 'reputation': 40}, {'name': 'a', 'score': 100, 'reputation': 20}]\n"
     ]
    }
   ],
   "source": [
    "#2->\n",
    "def leaderboards(List):\n",
    "    '''It will sort the user according to their total score (score+2*reputation)'''\n",
    "    for i in range(len(List)-1,0,-1):\n",
    "        for j in range(i):\n",
    "            if List[j]['score'] + (2*List[j]['reputation']) < List[j+1]['score'] + (2*List[j+1]['reputation']):\n",
    "                List[j],List[j+1] = List[j+1],List[j]\n",
    "    return List\n",
    "List = eval(input(\"Please enter list users : \"))\n",
    "print(\"Sorted list according to their total score :\",leaderboards(List))"
   ]
  },
  {
   "cell_type": "raw",
   "id": "3c071ddd",
   "metadata": {},
   "source": [
    "3. Create a function that, given a phrase and a number of letters guessed, returns a string with hyphens - for every letter of the phrase not guessed, and each letter guessed in place.\n",
    "\n",
    "Examples\n",
    "\n",
    "hangman(\"helicopter\", [\"o\", \"e\", \"s\"]) ➞ \"-e---o--e-\"\n",
    "\n",
    "hangman(\"tree\", [\"r\", \"t\", \"e\"]) ➞ \"tree\"\n",
    "\n",
    "hangman(\"Python rules\", [\"a\", \"n\", \"p\", \"r\", \"z\"]) ➞ \"P----n r----\"\n",
    "\n",
    "hangman(\"He\"s a very naughty boy!\", [\"e\", \"a\", \"y\"]) ➞ \"-e\"- a -e-y -a----y –y!\""
   ]
  },
  {
   "cell_type": "code",
   "execution_count": 37,
   "id": "6921f75e",
   "metadata": {},
   "outputs": [
    {
     "name": "stdout",
     "output_type": "stream",
     "text": [
      "Please enter the string : Python rules\n",
      "Please enter list of guesed letter : [\"a\", \"n\", \"p\", \"r\", \"z\"]\n",
      "Output string is : P----n-r----\n"
     ]
    }
   ],
   "source": [
    "#3->\n",
    "def hangman(string,List):\n",
    "    '''It will return a string with hyphens - for every letter of the phrase not guessed, and each letter guessed in place'''\n",
    "    for i in string:\n",
    "        if i.lower() not in List:\n",
    "            string = string.replace(i,'-')\n",
    "    return string\n",
    "string = input(\"Please enter the string : \")\n",
    "List = eval(input(\"Please enter list of guesed letter : \"))\n",
    "print(\"Output string is :\",hangman(string,List))"
   ]
  },
  {
   "cell_type": "raw",
   "id": "cec13fda",
   "metadata": {},
   "source": [
    "4. The Collatz sequence is as follows:\n",
    "\n",
    "  - Start with some given integer n.\n",
    "  - If it is even, the next number will be n divided by 2.\n",
    "  - If it is odd, multiply it by 3 and add 1 to make the next number.\n",
    "  - The sequence stops when it reaches 1.\n",
    "\n",
    "According to the Collatz conjecture, it will always reach 1. If that's true, you can construct a finite sequence following the aforementioned method for any given integer.\n",
    "\n",
    "Write a function that takes in an integer n and returns the highest integer in the corresponding Collatz sequence.\n",
    "\n",
    "Examples\n",
    "\n",
    "max_collatz(10) ➞ 16\n",
    "# Collatz sequence: 10, 5, 16, 8, 4, 2, 1\n",
    "\n",
    "max_collatz(32) ➞ 32\n",
    "# Collatz sequence: 32, 16, 8, 4, 2, 1\n",
    "\n",
    "max_collatz(85) ➞ 256\n",
    "# Collatz sequence: 85, 256, 128, 64, 32, 16, 8, 4, 2, 1"
   ]
  },
  {
   "cell_type": "code",
   "execution_count": 42,
   "id": "b4cfd240",
   "metadata": {},
   "outputs": [
    {
     "name": "stdout",
     "output_type": "stream",
     "text": [
      "Please enter the number : 85\n",
      "Maximum number from the collatz is : 256\n"
     ]
    }
   ],
   "source": [
    "#4->\n",
    "def max_collatz(num):\n",
    "    '''It will return max number from the collatz'''\n",
    "    maximum = num\n",
    "    i = num\n",
    "    while i != 1:\n",
    "        if i %2 == 0:\n",
    "            i //= 2\n",
    "        else:\n",
    "            i = (i*3)+1\n",
    "        if i > maximum:\n",
    "            maximum = i\n",
    "    return maximum\n",
    "num = int(input(\"Please enter the number : \"))\n",
    "print(\"Maximum number from the collatz is :\",max_collatz(num))"
   ]
  },
  {
   "cell_type": "raw",
   "id": "69b3179c",
   "metadata": {},
   "source": [
    "5. Write a function that sorts a list of integers by their digit length in descending order, then settles ties by sorting numbers with the same digit length in ascending order.\n",
    "\n",
    "Examples\n",
    "\n",
    "digit_sort([77, 23, 5, 7, 101])\n",
    "➞ [101, 23, 77, 5, 7]\n",
    "\n",
    "digit_sort([1, 5, 9, 2, 789, 563, 444])\n",
    "➞ [444, 563, 789, 1, 2, 5, 9]\n",
    "\n",
    "digit_sort([53219, 3772, 564, 32, 1])\n",
    "➞ [53219, 3772, 564, 32, 1]"
   ]
  },
  {
   "cell_type": "code",
   "execution_count": 47,
   "id": "b57729a3",
   "metadata": {},
   "outputs": [
    {
     "name": "stdout",
     "output_type": "stream",
     "text": [
      "Please enter list of numbers : [1, 5, 9, 2, 789, 563, 444]\n",
      "Sorted list is : [444, 563, 789, 1, 2, 5, 9]\n"
     ]
    }
   ],
   "source": [
    "#5->\n",
    "def digit_sort(List):\n",
    "    '''It will sort list of integers by their digit length in descending order, \n",
    "    then settles ties by sorting numbers with the same digit length in ascending order.'''\n",
    "    \n",
    "    for i in range(len(List)-1,0,-1):\n",
    "        for j in range(i):\n",
    "            if len(str(List[j])) < len(str(List[j+1])):\n",
    "                List[j],List[j+1] = List[j+1],List[j]\n",
    "            elif len(str(List[j])) == len(str(List[j+1])):\n",
    "                if List[j] > List[j+1]:\n",
    "                    List[j],List[j+1] = List[j+1],List[j]\n",
    "    return List\n",
    "List = eval(input(\"Please enter list of numbers : \"))\n",
    "print(\"Sorted list is :\",digit_sort(List))"
   ]
  },
  {
   "cell_type": "code",
   "execution_count": null,
   "id": "b6faa0f7",
   "metadata": {},
   "outputs": [],
   "source": []
  }
 ],
 "metadata": {
  "kernelspec": {
   "display_name": "Python 3 (ipykernel)",
   "language": "python",
   "name": "python3"
  },
  "language_info": {
   "codemirror_mode": {
    "name": "ipython",
    "version": 3
   },
   "file_extension": ".py",
   "mimetype": "text/x-python",
   "name": "python",
   "nbconvert_exporter": "python",
   "pygments_lexer": "ipython3",
   "version": "3.9.7"
  }
 },
 "nbformat": 4,
 "nbformat_minor": 5
}
