{
 "cells": [
  {
   "cell_type": "markdown",
   "id": "01c17a01",
   "metadata": {},
   "source": [
    "1-> \n",
    "\n",
    "    ####zoo.py file\n",
    "    def hours():\n",
    "        print('Open 9-5 daily')\n",
    "    ####Main file\n",
    "    import zoo\n",
    "        zoo.hours()"
   ]
  },
  {
   "cell_type": "markdown",
   "id": "24cdd167",
   "metadata": {},
   "source": [
    "2-> \n",
    "\n",
    "    import zoo as menagerie\n",
    "    menagerie.hours()"
   ]
  },
  {
   "cell_type": "markdown",
   "id": "6d9855c1",
   "metadata": {},
   "source": [
    "3-> \n",
    "\n",
    "    from zoo import hours\n",
    "    hours()"
   ]
  },
  {
   "cell_type": "markdown",
   "id": "7c605954",
   "metadata": {},
   "source": [
    "4-> \n",
    "\n",
    "    from zoo import hours as info\n",
    "    info()"
   ]
  },
  {
   "cell_type": "code",
   "execution_count": 1,
   "id": "c75826b8",
   "metadata": {},
   "outputs": [
    {
     "name": "stdout",
     "output_type": "stream",
     "text": [
      "{'a': 1, 'b': 2, 'c': 3}\n"
     ]
    }
   ],
   "source": [
    "#5-> \n",
    "plain = {'a':1,'b':2,'c':3}\n",
    "print(plain)"
   ]
  },
  {
   "cell_type": "code",
   "execution_count": 2,
   "id": "1e950f29",
   "metadata": {},
   "outputs": [
    {
     "name": "stdout",
     "output_type": "stream",
     "text": [
      "OrderedDict([('a', 1), ('b', 2), ('c', 3)])\n"
     ]
    }
   ],
   "source": [
    "#6-> \n",
    "from collections import OrderedDict\n",
    "fancy = OrderedDict(plain)\n",
    "print(fancy)\n",
    "#It printed same order as plain"
   ]
  },
  {
   "cell_type": "code",
   "execution_count": 3,
   "id": "2ee0ea85",
   "metadata": {},
   "outputs": [
    {
     "name": "stdout",
     "output_type": "stream",
     "text": [
      "[1, 2, 3, 4, 5]\n"
     ]
    }
   ],
   "source": [
    "#7-> \n",
    "dict_of_lists = {}\n",
    "dict_of_lists['a'] = [1,2,3,4,5]\n",
    "print(dict_of_lists['a'])"
   ]
  },
  {
   "cell_type": "code",
   "execution_count": null,
   "id": "3c583451",
   "metadata": {},
   "outputs": [],
   "source": []
  }
 ],
 "metadata": {
  "kernelspec": {
   "display_name": "Python 3 (ipykernel)",
   "language": "python",
   "name": "python3"
  },
  "language_info": {
   "codemirror_mode": {
    "name": "ipython",
    "version": 3
   },
   "file_extension": ".py",
   "mimetype": "text/x-python",
   "name": "python",
   "nbconvert_exporter": "python",
   "pygments_lexer": "ipython3",
   "version": "3.9.7"
  }
 },
 "nbformat": 4,
 "nbformat_minor": 5
}
