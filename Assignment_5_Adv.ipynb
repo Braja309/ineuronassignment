{
 "cells": [
  {
   "cell_type": "raw",
   "id": "eb192d25",
   "metadata": {},
   "source": [
    "Q1. What is the meaning of multiple inheritance?"
   ]
  },
  {
   "cell_type": "code",
   "execution_count": 1,
   "id": "128b50c8",
   "metadata": {},
   "outputs": [],
   "source": [
    "#1-> when one child class is inheritted from multiple parent class, that is called mutiple inheritance.\n",
    "class a:\n",
    "    pass\n",
    "class b:\n",
    "    pass\n",
    "class c(a,b): #class c is inheritted from class a and b\n",
    "    pass"
   ]
  },
  {
   "cell_type": "raw",
   "id": "5a404fed",
   "metadata": {},
   "source": [
    "Q2. What is the concept of delegation?"
   ]
  },
  {
   "cell_type": "markdown",
   "id": "c3318df9",
   "metadata": {},
   "source": [
    "#2-> Delegation is an object oriented technique (also called a design pattern). Let's say you have an object x and want to change the behaviour of just one of its methods.Delegation is an object oriented technique (also called a design pattern). Let's say you have an object x and want to change the behaviour of just one of its methods."
   ]
  },
  {
   "cell_type": "raw",
   "id": "52a6a682",
   "metadata": {},
   "source": [
    "Q3. What is the concept of composition?"
   ]
  },
  {
   "cell_type": "markdown",
   "id": "6258b6c2",
   "metadata": {},
   "source": [
    "#3-> Composition is a concept that models a has a relationship. It enables creating complex types by combining objects of other types. This means that a class Composite can contain an object of another class Component. This relationship means that a Composite has a Component."
   ]
  },
  {
   "cell_type": "raw",
   "id": "24bc6b19",
   "metadata": {},
   "source": [
    "Q4. What are bound methods and how do we use them?"
   ]
  },
  {
   "cell_type": "markdown",
   "id": "67467d89",
   "metadata": {},
   "source": [
    "#4-> A bound method is the one which is dependent on the instance of the class as the first argument. It passes the instance as the first argument which is used to access the variables and functions."
   ]
  },
  {
   "cell_type": "raw",
   "id": "ec2979e0",
   "metadata": {},
   "source": [
    "Q5. What is the purpose of pseudoprivate attributes?"
   ]
  },
  {
   "cell_type": "markdown",
   "id": "b0250fbb",
   "metadata": {},
   "source": [
    "#5-> Python has a private definition method is to add a double underline __ in front of the variable or method, but in fact this is the pseudo-private of python"
   ]
  },
  {
   "cell_type": "code",
   "execution_count": null,
   "id": "a3401f81",
   "metadata": {},
   "outputs": [],
   "source": []
  }
 ],
 "metadata": {
  "kernelspec": {
   "display_name": "Python 3 (ipykernel)",
   "language": "python",
   "name": "python3"
  },
  "language_info": {
   "codemirror_mode": {
    "name": "ipython",
    "version": 3
   },
   "file_extension": ".py",
   "mimetype": "text/x-python",
   "name": "python",
   "nbconvert_exporter": "python",
   "pygments_lexer": "ipython3",
   "version": "3.9.7"
  }
 },
 "nbformat": 4,
 "nbformat_minor": 5
}
