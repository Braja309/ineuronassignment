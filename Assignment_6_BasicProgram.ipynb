{
 "cells": [
  {
   "cell_type": "raw",
   "id": "658cd62b",
   "metadata": {},
   "source": [
    "1.\tWrite a Python Program to Display Fibonacci Sequence Using Recursion?"
   ]
  },
  {
   "cell_type": "code",
   "execution_count": 4,
   "id": "87f2e34e",
   "metadata": {},
   "outputs": [
    {
     "name": "stdout",
     "output_type": "stream",
     "text": [
      "Please enter number of terms : 10\n",
      "Fibonacci sequence:\n",
      "0\n",
      "1\n",
      "1\n",
      "2\n",
      "3\n",
      "5\n",
      "8\n",
      "13\n",
      "21\n",
      "34\n"
     ]
    }
   ],
   "source": [
    "#1->\n",
    "def recur_fibo(n):\n",
    "    \"\"\"Fibnacci series\"\"\"\n",
    "    if n <= 1:\n",
    "        return n\n",
    "    else:\n",
    "        return(recur_fibo(n-1) + recur_fibo(n-2))\n",
    "count = int(input(\"Please enter number of terms : \"))\n",
    "if count <= 0:\n",
    "    print(\"Plese enter a positive integer\")\n",
    "else:\n",
    "    print(\"Fibonacci sequence:\")\n",
    "    for i in range(count):\n",
    "        print(recur_fibo(i))"
   ]
  },
  {
   "cell_type": "raw",
   "id": "996efcd8",
   "metadata": {},
   "source": [
    "2.\tWrite a Python Program to Find Factorial of Number Using Recursion?"
   ]
  },
  {
   "cell_type": "code",
   "execution_count": 5,
   "id": "8cf8a80f",
   "metadata": {},
   "outputs": [
    {
     "name": "stdout",
     "output_type": "stream",
     "text": [
      "Please enter a number : 4\n",
      "The factorial of 4 is 24\n"
     ]
    }
   ],
   "source": [
    "#2->\n",
    "def fact(num):\n",
    "    \"\"\"It will return factorial of a number\"\"\"\n",
    "    if num==1:\n",
    "        return num\n",
    "    else:\n",
    "        return num*fact(num-1)\n",
    "num = int(input(\"Please enter a number : \"))\n",
    "if num==0:\n",
    "    print(\"Factorial is : 1\")\n",
    "elif num < 0:\n",
    "    print(\"Factorial doesn't exist for negetive number\")\n",
    "else:\n",
    "    print(\"The factorial of\", num, \"is :\", fact(num))"
   ]
  },
  {
   "cell_type": "raw",
   "id": "9dd1990d",
   "metadata": {},
   "source": [
    "3.\tWrite a Python Program to calculate your Body Mass Index?"
   ]
  },
  {
   "cell_type": "code",
   "execution_count": 7,
   "id": "cc92c01c",
   "metadata": {},
   "outputs": [
    {
     "name": "stdout",
     "output_type": "stream",
     "text": [
      "Please enter weight in kg : 63\n",
      "Please enter height in meter: 1.53\n",
      "Body Mass Index is : 26.91\n"
     ]
    }
   ],
   "source": [
    "#3->\n",
    "weight = float(input(\"Please enter weight in kg : \"))\n",
    "height = float(input(\"Please enter height in meter: \"))\n",
    "print(\"Body Mass Index is :\",round(weight / (height * height), 2))"
   ]
  },
  {
   "cell_type": "raw",
   "id": "63bcdf6b",
   "metadata": {},
   "source": [
    "4.\tWrite a Python Program to calculate the natural logarithm of any number?"
   ]
  },
  {
   "cell_type": "code",
   "execution_count": 9,
   "id": "6001641e",
   "metadata": {},
   "outputs": [
    {
     "name": "stdout",
     "output_type": "stream",
     "text": [
      "Please enter the number : 2\n",
      "natural logarithm of 2 is 0.6931471805599453\n"
     ]
    }
   ],
   "source": [
    "#4->\n",
    "num = int(input(\"Please enter the number : \"))\n",
    "import numpy as np\n",
    "print(\"natural logarithm of\",num, \"is\", np.log(num))"
   ]
  },
  {
   "cell_type": "raw",
   "id": "2389b6cf",
   "metadata": {},
   "source": [
    "5.\tWrite a Python Program for cube sum of first n natural numbers?"
   ]
  },
  {
   "cell_type": "code",
   "execution_count": 12,
   "id": "1db43785",
   "metadata": {},
   "outputs": [
    {
     "name": "stdout",
     "output_type": "stream",
     "text": [
      "Please enter the natural number : 4\n",
      "Cube sum of first 4 natural numbers is 100\n"
     ]
    }
   ],
   "source": [
    "#5->\n",
    "num = int(input(\"Please enter the natural number : \"))\n",
    "import numpy as np\n",
    "sum = 0\n",
    "for i in range(1,num+1):\n",
    "    sum+=i**3\n",
    "print(\"Cube sum of first\",num, \"natural numbers is\", sum)"
   ]
  },
  {
   "cell_type": "code",
   "execution_count": null,
   "id": "1e4f1a54",
   "metadata": {},
   "outputs": [],
   "source": []
  }
 ],
 "metadata": {
  "kernelspec": {
   "display_name": "Python 3 (ipykernel)",
   "language": "python",
   "name": "python3"
  },
  "language_info": {
   "codemirror_mode": {
    "name": "ipython",
    "version": 3
   },
   "file_extension": ".py",
   "mimetype": "text/x-python",
   "name": "python",
   "nbconvert_exporter": "python",
   "pygments_lexer": "ipython3",
   "version": "3.9.7"
  }
 },
 "nbformat": 4,
 "nbformat_minor": 5
}
