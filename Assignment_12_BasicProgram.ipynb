{
 "cells": [
  {
   "cell_type": "raw",
   "id": "fa7f7864",
   "metadata": {},
   "source": [
    "1.\tWrite a Python program to Extract Unique values dictionary values?"
   ]
  },
  {
   "cell_type": "code",
   "execution_count": 3,
   "id": "77c09170",
   "metadata": {},
   "outputs": [
    {
     "name": "stdout",
     "output_type": "stream",
     "text": [
      "Unique dictionary values are : ['Be', 'Br', 'Su', 'De']\n"
     ]
    }
   ],
   "source": [
    "#1->\n",
    "dictionary = {1:'br',2:'sd',3:'br'}\n",
    "uniq = []\n",
    "for key,value in diction.items():\n",
    "    if value not in uniq:\n",
    "        uniq.append(value)\n",
    "print(\"Unique dictionary values are :\",uniq)"
   ]
  },
  {
   "cell_type": "raw",
   "id": "8a3055a5",
   "metadata": {},
   "source": [
    "2.\tWrite a Python program to find the sum of all items in a dictionary?"
   ]
  },
  {
   "cell_type": "code",
   "execution_count": 4,
   "id": "dcbfa340",
   "metadata": {},
   "outputs": [
    {
     "name": "stdout",
     "output_type": "stream",
     "text": [
      "Sum of all items in the dictionary is : 14\n"
     ]
    }
   ],
   "source": [
    "#2->\n",
    "dictionary = {'br':3,'sd':7,'bd':4}\n",
    "sum = 0\n",
    "for key,value in dictionary.items():\n",
    "    sum += value\n",
    "print(\"Sum of all items in the dictionary is :\",sum)"
   ]
  },
  {
   "cell_type": "raw",
   "id": "82bda575",
   "metadata": {},
   "source": [
    "3.\tWrite a Python program to Merging two Dictionaries?"
   ]
  },
  {
   "cell_type": "code",
   "execution_count": 5,
   "id": "618466fc",
   "metadata": {},
   "outputs": [
    {
     "name": "stdout",
     "output_type": "stream",
     "text": [
      "Merged dictionary is : {'be': 8, 'su': 1, 'ba': 5, 'br': 3, 'sd': 7, 'bd': 4}\n"
     ]
    }
   ],
   "source": [
    "#3->\n",
    "dict1 = {'br':3,'sd':7,'bd':4}\n",
    "dict2 = {'be':8,'su':1,'ba':5}\n",
    "dict2.update(dict1)\n",
    "print(\"Merged dictionary is :\",dict2)"
   ]
  },
  {
   "cell_type": "raw",
   "id": "0c52e56c",
   "metadata": {},
   "source": [
    "4.\tWrite a Python program to convert key-values list to flat dictionary?"
   ]
  },
  {
   "cell_type": "code",
   "execution_count": 6,
   "id": "939caec3",
   "metadata": {},
   "outputs": [
    {
     "name": "stdout",
     "output_type": "stream",
     "text": [
      "converted key-values list to flat dictionary is : {1: 'be', 2: 'su', 3: 'ba', 4: 'br', 5: 'sd', 6: 'bd'}\n"
     ]
    }
   ],
   "source": [
    "#4->\n",
    "keys = [1,2,3,4,5,6]\n",
    "values = ['be','su','ba','br','sd','bd']\n",
    "dictionary = {}\n",
    "for i in range(len(keys)):\n",
    "    dictionary[keys[i]] = values[i]\n",
    "print(\"converted key-values list to flat dictionary is :\",dictionary)"
   ]
  },
  {
   "cell_type": "raw",
   "id": "762ee816",
   "metadata": {},
   "source": [
    "5.\tWrite a Python program to insertion at the beginning in OrderedDict?"
   ]
  },
  {
   "cell_type": "code",
   "execution_count": 7,
   "id": "513b94f7",
   "metadata": {},
   "outputs": [
    {
     "name": "stdout",
     "output_type": "stream",
     "text": [
      "Resultant Dictionary : OrderedDict([(3, 'Be'), (1, 'Br'), (2, 'Su')])\n"
     ]
    }
   ],
   "source": [
    "#5->\n",
    "from collections import OrderedDict\n",
    "diction = OrderedDict([(1,'Br'),(2,'Su')])\n",
    "diction.update({3:'Be'})\n",
    "diction.move_to_end(3, last=False)\n",
    "print(\"Resultant Dictionary :\",diction)"
   ]
  },
  {
   "cell_type": "raw",
   "id": "59d4a37f",
   "metadata": {},
   "source": [
    "6.\tWrite a Python program to check order of character in string using OrderedDict()?"
   ]
  },
  {
   "cell_type": "code",
   "execution_count": 21,
   "id": "a6d8340b",
   "metadata": {},
   "outputs": [
    {
     "name": "stdout",
     "output_type": "stream",
     "text": [
      "Please enter the string : Braja Sundar Bera\n",
      "Please enter the pattern : Bar\n",
      "Order of character is correct\n"
     ]
    }
   ],
   "source": [
    "#6->\n",
    "from collections import OrderedDict\n",
    "string = input(\"Please enter the string : \")\n",
    "pattern = input(\"Please enter the pattern : \")\n",
    "parlen = 0\n",
    "flag = False\n",
    "for i in string:\n",
    "    if(i==pattern[parlen]):\n",
    "        parlen += 1\n",
    "    if(parlen == len(pattern)):\n",
    "        flag = True\n",
    "        break\n",
    "if(flag == True):\n",
    "    print(\"Order of character is correct\")\n",
    "else:\n",
    "    print(\"Order of character is incorrect\")"
   ]
  },
  {
   "cell_type": "raw",
   "id": "35a8b9e0",
   "metadata": {},
   "source": [
    "7.\tWrite a Python program to sort Python Dictionaries by Key or Value?"
   ]
  },
  {
   "cell_type": "code",
   "execution_count": 23,
   "id": "85cbfebe",
   "metadata": {},
   "outputs": [
    {
     "name": "stdout",
     "output_type": "stream",
     "text": [
      "Sorted dictionary is: [(1, 'br'), (2, 'sd'), (3, 'br'), (4, 'se'), (5, 'su')]\n"
     ]
    }
   ],
   "source": [
    "#7->\n",
    "dictionary = {1:'br',5:'su',4:'se',2:'sd',3:'br'}\n",
    "print(\"Sorted dictionary is:\",sorted(dictionary.items()))"
   ]
  },
  {
   "cell_type": "code",
   "execution_count": null,
   "id": "b8ae7e11",
   "metadata": {},
   "outputs": [],
   "source": []
  }
 ],
 "metadata": {
  "kernelspec": {
   "display_name": "Python 3 (ipykernel)",
   "language": "python",
   "name": "python3"
  },
  "language_info": {
   "codemirror_mode": {
    "name": "ipython",
    "version": 3
   },
   "file_extension": ".py",
   "mimetype": "text/x-python",
   "name": "python",
   "nbconvert_exporter": "python",
   "pygments_lexer": "ipython3",
   "version": "3.9.7"
  }
 },
 "nbformat": 4,
 "nbformat_minor": 5
}
