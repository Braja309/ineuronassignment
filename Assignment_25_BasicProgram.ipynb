{
 "cells": [
  {
   "cell_type": "raw",
   "id": "d676220c",
   "metadata": {},
   "source": [
    "Question1\n",
    "Create a function that takes three integer arguments (a, b, c) and returns the amount of integers which are of equal value.\n",
    "Examples\n",
    "equal(3, 4, 3) ➞ 2\n",
    "\n",
    "equal(1, 1, 1) ➞ 3\n",
    "\n",
    "equal(3, 4, 1) ➞ 0 \n",
    "Notes\n",
    "Your function must return 0, 2 or 3."
   ]
  },
  {
   "cell_type": "code",
   "execution_count": 3,
   "id": "a8294177",
   "metadata": {},
   "outputs": [
    {
     "name": "stdout",
     "output_type": "stream",
     "text": [
      "Please enter 3 numbers comma separated : 3,4,3\n",
      "The amount of integers which are of equal value : 2\n"
     ]
    }
   ],
   "source": [
    "#1->\n",
    "def equal(a,b,c):\n",
    "    \"\"\"It will return the amount of integers which are of equal value\"\"\"\n",
    "    List = [a,b,c]\n",
    "    for i in range(len(List)-1):\n",
    "        if List.count(List[i])>1:\n",
    "            return List.count(List[i])\n",
    "    return 0\n",
    "Inputs = input(\"Please enter 3 numbers comma separated : \")\n",
    "a = int(Inputs.split(',')[0])\n",
    "b = int(Inputs.split(',')[1])\n",
    "c = int(Inputs.split(',')[2])\n",
    "print(\"The amount of integers which are of equal value :\",equal(a,b,c))"
   ]
  },
  {
   "cell_type": "raw",
   "id": "6cdd7eab",
   "metadata": {},
   "source": [
    "Question2\n",
    "Write a function that converts a dictionary into a list of keys-values tuples.\n",
    "Examples\n",
    "dict_to_list({\n",
    "  \"D\": 1,\n",
    "  \"B\": 2,\n",
    "  \"C\": 3\n",
    "}) ➞ [(\"B\", 2), (\"C\", 3), (\"D\", 1)]\n",
    "\n",
    "dict_to_list({\n",
    "  \"likes\": 2,\n",
    "  \"dislikes\": 3,\n",
    "  \"followers\": 10\n",
    "}) ➞ [(\"dislikes\", 3), (\"followers\", 10), (\"likes\", 2)]\n",
    "Notes\n",
    "Return the elements in the list in alphabetical order."
   ]
  },
  {
   "cell_type": "code",
   "execution_count": 8,
   "id": "14c2220a",
   "metadata": {},
   "outputs": [
    {
     "name": "stdout",
     "output_type": "stream",
     "text": [
      "Please enter the dictionary : {\"likes\": 2,\"dislikes\": 3,\"followers\": 10 }\n",
      "List of keys-values tuples is : [('likes', 2), ('dislikes', 3), ('followers', 10)]\n"
     ]
    }
   ],
   "source": [
    "#2->\n",
    "def dict_to_list(diction):\n",
    "    \"\"\"It will return converting a dictionary into a list of keys-values tuples\"\"\"\n",
    "    List = []\n",
    "    for key,value in diction.items():\n",
    "        List.append((key,value))\n",
    "    return List\n",
    "diction = eval(input(\"Please enter the dictionary : \"))\n",
    "print(\"List of keys-values tuples is :\",dict_to_list(diction))"
   ]
  },
  {
   "cell_type": "raw",
   "id": "7d683447",
   "metadata": {},
   "source": [
    "Question3\n",
    "Write a function that creates a dictionary with each (key, value) pair being the (lower case, upper case) versions of a letter, respectively.\n",
    "Examples\n",
    "mapping([\"p\", \"s\"]) ➞ { \"p\": \"P\", \"s\": \"S\" }\n",
    "\n",
    "mapping([\"a\", \"b\", \"c\"]) ➞ { \"a\": \"A\", \"b\": \"B\", \"c\": \"C\" }\n",
    "\n",
    "mapping([\"a\", \"v\", \"y\", \"z\"]) ➞ { \"a\": \"A\", \"v\": \"V\", \"y\": \"Y\", \"z\": \"Z\" }\n",
    "Notes\n",
    "All of the letters in the input list will always be lowercase."
   ]
  },
  {
   "cell_type": "code",
   "execution_count": 11,
   "id": "c4060a44",
   "metadata": {},
   "outputs": [
    {
     "name": "stdout",
     "output_type": "stream",
     "text": [
      "Please enter the list of letters : ['a','b','c']\n",
      "Dictionary with lower case, upper case versions of a letter is : {'a': 'A', 'b': 'B', 'c': 'C'}\n"
     ]
    }
   ],
   "source": [
    "#3->\n",
    "def mapping(List):\n",
    "    \"\"\"It will return a dictionary with each (key, value) pair being the (lower case, upper case) versions of a letter\"\"\"\n",
    "    diction = {}\n",
    "    for i in List:\n",
    "        diction[i.lower()] = i.upper()\n",
    "    return diction\n",
    "List = eval(input(\"Please enter the list of letters : \"))\n",
    "print(\"Dictionary with lower case, upper case versions of a letter is :\",mapping(List))"
   ]
  },
  {
   "cell_type": "raw",
   "id": "7a82a1b8",
   "metadata": {},
   "source": [
    "Question4\n",
    "Write a function, that replaces all vowels in a string with a specified vowel.\n",
    "Examples\n",
    "vow_replace(\"apples and bananas\", \"u\") ➞ \"upplus und bununus\"\n",
    "\n",
    "vow_replace(\"cheese casserole\", \"o\") ➞ \"chooso cossorolo\"\n",
    "\n",
    "vow_replace(\"stuffed jalapeno poppers\", \"e\") ➞ \"steffed jelepene peppers\"\n",
    "Notes\n",
    "All words will be lowercase. Y is not considered a vowel."
   ]
  },
  {
   "cell_type": "code",
   "execution_count": 14,
   "id": "12d506bd",
   "metadata": {},
   "outputs": [
    {
     "name": "stdout",
     "output_type": "stream",
     "text": [
      "Please enter the string : cheese casserole\n",
      "Please enter the vowel element : o\n",
      "String after replacing vowels is : chooso cossorolo\n"
     ]
    }
   ],
   "source": [
    "#4->\n",
    "def vow_replace(string,ele):\n",
    "    \"\"\"It will return replacing vowels in the string with ele\"\"\"\n",
    "    for i in string:\n",
    "        if i.lower() in ['a','e','i','o','u']:\n",
    "            string = string.replace(i,ele)\n",
    "    return string\n",
    "string = input(\"Please enter the string : \")\n",
    "ele = input(\"Please enter the vowel element : \")\n",
    "print(\"String after replacing vowels is :\",vow_replace(string,ele))"
   ]
  },
  {
   "cell_type": "raw",
   "id": "cd48079b",
   "metadata": {},
   "source": [
    "Question5\n",
    "Create a function that takes a string as input and capitalizes a letter if its ASCII code is even and returns its lower case version if its ASCII code is odd.\n",
    "Examples\n",
    "ascii_capitalize(\"to be or not to be!\") ➞ \"To Be oR NoT To Be!\"\n",
    "\n",
    "ascii_capitalize(\"THE LITTLE MERMAID\") ➞ \"THe LiTTLe meRmaiD\"\n",
    "\n",
    "ascii_capitalize(\"Oh what a beautiful morning.\") ➞ \"oH wHaT a BeauTiFuL moRNiNg.\""
   ]
  },
  {
   "cell_type": "code",
   "execution_count": 21,
   "id": "9fbb282c",
   "metadata": {},
   "outputs": [
    {
     "name": "stdout",
     "output_type": "stream",
     "text": [
      "Please enter the string : THE LITTLE MERMAID\n",
      "Output string  is : THe LiTTLe meRmaiD\n"
     ]
    }
   ],
   "source": [
    "#5->\n",
    "def ascii_capitalize(string):\n",
    "    \"\"\"It will return the string after capitalizing a letter if its ASCII code is even and lower case version if its ASCII code is odd\"\"\"\n",
    "    for i in string:\n",
    "        if ord(i) % 2 ==0:\n",
    "            string = string.replace(i,i.upper())\n",
    "        else:\n",
    "            string = string.replace(i,i.lower())\n",
    "    return string\n",
    "string = input(\"Please enter the string : \")\n",
    "print(\"Output string  is :\",ascii_capitalize(string))"
   ]
  },
  {
   "cell_type": "code",
   "execution_count": null,
   "id": "d53dac51",
   "metadata": {},
   "outputs": [],
   "source": []
  }
 ],
 "metadata": {
  "kernelspec": {
   "display_name": "Python 3 (ipykernel)",
   "language": "python",
   "name": "python3"
  },
  "language_info": {
   "codemirror_mode": {
    "name": "ipython",
    "version": 3
   },
   "file_extension": ".py",
   "mimetype": "text/x-python",
   "name": "python",
   "nbconvert_exporter": "python",
   "pygments_lexer": "ipython3",
   "version": "3.9.7"
  }
 },
 "nbformat": 4,
 "nbformat_minor": 5
}
