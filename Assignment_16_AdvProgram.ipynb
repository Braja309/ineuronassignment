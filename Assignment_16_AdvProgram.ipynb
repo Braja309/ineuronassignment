{
 "cells": [
  {
   "cell_type": "raw",
   "id": "634bf0c2",
   "metadata": {},
   "source": [
    "1. Rondo Form is a type of musical structure, in which there is a recurring theme/refrain, notated as A. Here are the rules for valid rondo forms:\n",
    "\n",
    "   - Rondo forms always start and end with an A section.\n",
    "   - In between the A sections, there should be contrasting sections notated as B, then C, then D, etc... No letter should be skipped.\n",
    "   - There shouldn't be any repeats in the sequence (such as ABBACCA).\n",
    "\n",
    "Create a function which validates whether a given string is a valid Rondo Form.\n",
    "\n",
    "Examples\n",
    "\n",
    "valid_rondo(\"ABACADAEAFAGAHAIAJA\") ➞ True\n",
    "\n",
    "valid_rondo(\"ABA\") ➞ True\n",
    "\n",
    "valid_rondo(\"ABBACCA\") ➞ False\n",
    "\n",
    "valid_rondo(\"ACAC\") ➞ False\n",
    "\n",
    "valid_rondo(\"A\") ➞ False"
   ]
  },
  {
   "cell_type": "code",
   "execution_count": 15,
   "id": "19240cc2",
   "metadata": {},
   "outputs": [
    {
     "name": "stdout",
     "output_type": "stream",
     "text": [
      "Please enter the string : ABACADAEAFAGAHAIAJA\n",
      "The string is in valid rondo : True\n"
     ]
    }
   ],
   "source": [
    "#1->\n",
    "def valid_rondo(string):\n",
    "    '''It will return if the string is in valid rondo form'''\n",
    "    \n",
    "    if string[0] != \"A\" or string[-1]!= \"A\" or len(string) == 1:\n",
    "        return False\n",
    "    else:\n",
    "        for i in range(1,len(string)-1,2):\n",
    "            if ord(string[i]) != ord(\"A\")+((i+1)/2) or string[i+1] != \"A\":\n",
    "                return False\n",
    "        return True\n",
    "string = input(\"Please enter the string : \")\n",
    "print(\"The string is in valid rondo :\",valid_rondo(string))            "
   ]
  },
  {
   "cell_type": "raw",
   "id": "0cfef87b",
   "metadata": {},
   "source": [
    "2. Create a function that returns the whole of the first sentence which contains a specific word. Include the full stop at the end of the sentence.\n",
    "\n",
    "Examples\n",
    "\n",
    "txt = \"I have a cat. I have a mat. Things are going swell.\"\n",
    "\n",
    "sentence_searcher(txt, \"have\") ➞ \"I have a cat.\"\n",
    "\n",
    "sentence_searcher(txt, \"MAT\") ➞ \"I have a mat.\"\n",
    "\n",
    "sentence_searcher(txt, \"things\") ➞ \"Things are going swell.\"\n",
    "\n",
    "sentence_searcher(txt, \"flat\") ➞ \"\""
   ]
  },
  {
   "cell_type": "code",
   "execution_count": 26,
   "id": "d3cbea86",
   "metadata": {},
   "outputs": [
    {
     "name": "stdout",
     "output_type": "stream",
     "text": [
      "Please enter the word : MAT\n",
      "word is present in sentence : I have a mat.\n"
     ]
    }
   ],
   "source": [
    "#2->\n",
    "def sentence_searcher(txt,word):\n",
    "    '''It will return the sentence which is having the word'''\n",
    "    for i in (txt+' ').split('. '):\n",
    "        if word.lower() in i.lower():\n",
    "            return i+'.'\n",
    "    return \"\"\n",
    "txt = \"I have a cat. I have a mat. Things are going swell.\"\n",
    "word = input(\"Please enter the word : \")\n",
    "print(\"word is present in sentence :\",sentence_searcher(txt,word))"
   ]
  },
  {
   "cell_type": "raw",
   "id": "1bd574c2",
   "metadata": {},
   "source": [
    "3. Given a number, find the \"round \"of each digit of the number. An integer is called \"round\" if all its digits except the leftmost (most significant) are equal to zero.\n",
    "\n",
    "    - Round numbers: 4000, 1, 9, 800, 90\n",
    "    - Not round numbers: 110, 707, 222, 1001\n",
    "\n",
    "Create a function that takes a number and returns the \"round\" of each digit (except if the digit is zero) as a string. Check out the following examples for more clarification.\n",
    "\n",
    "Examples\n",
    "\n",
    "sum_round(101) ➞ \"1 100\"\n",
    "\n",
    "sum_round(1234) ➞ \"4 30 200 1000\"\n",
    "\n",
    "sum_round(54210) ➞ \"10 200 4000 50000\""
   ]
  },
  {
   "cell_type": "code",
   "execution_count": 109,
   "id": "815fa909",
   "metadata": {},
   "outputs": [
    {
     "name": "stdout",
     "output_type": "stream",
     "text": [
      "Please enter the number : 54210\n",
      "Output is : 10 200 4000 50000\n"
     ]
    }
   ],
   "source": [
    "#3->\n",
    "def sum_round(num):\n",
    "    '''It will return round of each digit'''\n",
    "    string = \"\"\n",
    "    for i in range(len(str(num))+1):\n",
    "        if num % (10**i) != 0:\n",
    "            string += str(num%(10**i))+' '\n",
    "            num -= num%(10**i)\n",
    "    return string[:-1]\n",
    "num = int(input(\"Please enter the number : \"))\n",
    "print(\"Output is :\",sum_round(num))"
   ]
  },
  {
   "cell_type": "raw",
   "id": "b850a7ad",
   "metadata": {},
   "source": [
    "4. Your task, is to create N x N multiplication table, of size n provided in parameter.\n",
    "\n",
    "For example, when n is 5, the multiplication table is:\n",
    "\n",
    "   - 1, 2, 3, 4, 5\n",
    "   - 2, 4, 6, 8, 10\n",
    "   - 3, 6, 9, 12, 15\n",
    "   - 4, 8, 12, 16, 20\n",
    "   - 5, 10, 15, 20, 25\n",
    "\n",
    "This example will result in:\n",
    "\n",
    "[[1, 2, 3, 4, 5], [2, 4, 6, 8, 10], [3, 6, 9, 12, 15], [4, 8, 12, 16, 20], [5, 10, 15, 20, 25]]\n",
    "\n",
    "Examples\n",
    "\n",
    "multiplication_table(1) ➞ [[1]]\n",
    "\n",
    "multiplication_table(3) ➞ [[1, 2, 3], [2, 4, 6], [3, 6, 9]]"
   ]
  },
  {
   "cell_type": "code",
   "execution_count": 115,
   "id": "5ab15457",
   "metadata": {},
   "outputs": [
    {
     "name": "stdout",
     "output_type": "stream",
     "text": [
      "Please enter the number : 5\n",
      "Multiplication table is :\n",
      " [[1, 2, 3, 4, 5], [2, 4, 6, 8, 10], [3, 6, 9, 12, 15], [4, 8, 12, 16, 20], [5, 10, 15, 20, 25]]\n"
     ]
    }
   ],
   "source": [
    "#4->\n",
    "def multiplication_table(num):\n",
    "    '''It will return multiplication table'''\n",
    "    List = []\n",
    "    for i in range(1,num+1):\n",
    "        List.append([i*j for j in range(1,num+1)])\n",
    "    return List\n",
    "num = int(input(\"Please enter the number : \"))\n",
    "print(\"Multiplication table is :\\n\",multiplication_table(num))"
   ]
  },
  {
   "cell_type": "raw",
   "id": "cee0d92a",
   "metadata": {},
   "source": [
    "5. Create a function that returns True if two lines rhyme and False otherwise. For the purposes of this exercise, two lines rhyme if the last word from each sentence contains the same vowels.\n",
    "\n",
    "Examples\n",
    "\n",
    "does_rhyme(\"Sam I am!\", \"Green eggs and ham.\") ➞ True\n",
    "\n",
    "does_rhyme(\"Sam I am!\", \"Green eggs and HAM.\") ➞ True\n",
    "# Capitalization and punctuation should not matter.\n",
    "\n",
    "does_rhyme(\"You are off to the races\", \"a splendid day.\") ➞ False\n",
    "\n",
    "does_rhyme(\"and frequently do?\", \"you gotta move.\") ➞ False"
   ]
  },
  {
   "cell_type": "code",
   "execution_count": 146,
   "id": "167e3878",
   "metadata": {},
   "outputs": [
    {
     "name": "stdout",
     "output_type": "stream",
     "text": [
      "Please enter the first sentence : Sam I am!\n",
      "Please enter the second sentence : Green eggs and HAM.\n",
      "Two lines are in rhyme : True\n"
     ]
    }
   ],
   "source": [
    "#5->\n",
    "def does_rhyme(sen1,sen2):\n",
    "    '''It will compare last word of both sen and check if similar vowels are present'''\n",
    "    dict1 = {i:sen1.split()[-1].lower().count(i.lower()) for i in sen1.split()[-1].lower() if i in ['a','e','i','o','u']}\n",
    "    dict2 = {i:sen2.split()[-1].lower().count(i.lower()) for i in sen2.split()[-1].lower() if i in ['a','e','i','o','u']}\n",
    "    if dict1 == dict2:\n",
    "        return True\n",
    "    else:\n",
    "        return False\n",
    "sen1 = input(\"Please enter the first sentence : \")\n",
    "sen2 = input(\"Please enter the second sentence : \")\n",
    "print(\"Two lines are in rhyme :\",does_rhyme(sen1,sen2))"
   ]
  },
  {
   "cell_type": "code",
   "execution_count": null,
   "id": "2c211c2c",
   "metadata": {},
   "outputs": [],
   "source": []
  }
 ],
 "metadata": {
  "kernelspec": {
   "display_name": "Python 3 (ipykernel)",
   "language": "python",
   "name": "python3"
  },
  "language_info": {
   "codemirror_mode": {
    "name": "ipython",
    "version": 3
   },
   "file_extension": ".py",
   "mimetype": "text/x-python",
   "name": "python",
   "nbconvert_exporter": "python",
   "pygments_lexer": "ipython3",
   "version": "3.9.7"
  }
 },
 "nbformat": 4,
 "nbformat_minor": 5
}
