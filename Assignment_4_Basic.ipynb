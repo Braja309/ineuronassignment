{
 "cells": [
  {
   "cell_type": "raw",
   "id": "d8dad212",
   "metadata": {},
   "source": [
    "1. What exactly is []?"
   ]
  },
  {
   "cell_type": "markdown",
   "id": "fa18b627",
   "metadata": {},
   "source": [
    "Ans - Empty List"
   ]
  },
  {
   "cell_type": "raw",
   "id": "977c297d",
   "metadata": {},
   "source": [
    "2. In a list of values stored in a variable called spam, how would you assign the value 'hello' as the third value? (Assume [2, 4, 6, 8, 10] are in spam.)"
   ]
  },
  {
   "cell_type": "markdown",
   "id": "b494ea6d",
   "metadata": {},
   "source": [
    "Ans - spam[2]='hello'       -- third value, which is index 2"
   ]
  },
  {
   "cell_type": "raw",
   "id": "16047633",
   "metadata": {},
   "source": [
    "Let's pretend the spam includes the list ['a', 'b', 'c', 'd'] for the next three queries.\n",
    "3. What is the value of spam[int(int('3' * 2) / 11)]?"
   ]
  },
  {
   "cell_type": "code",
   "execution_count": 2,
   "id": "07ecf9b5",
   "metadata": {},
   "outputs": [
    {
     "data": {
      "text/plain": [
       "'d'"
      ]
     },
     "execution_count": 2,
     "metadata": {},
     "output_type": "execute_result"
    }
   ],
   "source": [
    "#Ans - It will return 3rd index value\n",
    "spam = ['a','b','c','d']\n",
    "spam[int(int('3' * 2) / 11)]"
   ]
  },
  {
   "cell_type": "raw",
   "id": "db54892b",
   "metadata": {},
   "source": [
    "4. What is the value of spam[-1]?"
   ]
  },
  {
   "cell_type": "code",
   "execution_count": 3,
   "id": "6ac17ab6",
   "metadata": {},
   "outputs": [
    {
     "data": {
      "text/plain": [
       "'d'"
      ]
     },
     "execution_count": 3,
     "metadata": {},
     "output_type": "execute_result"
    }
   ],
   "source": [
    "#Ans - It will return last element\n",
    "spam[-1]"
   ]
  },
  {
   "cell_type": "raw",
   "id": "a5f9f85d",
   "metadata": {},
   "source": [
    "5. What is the value of spam[:2]?"
   ]
  },
  {
   "cell_type": "code",
   "execution_count": 4,
   "id": "871a22f6",
   "metadata": {},
   "outputs": [
    {
     "data": {
      "text/plain": [
       "['a', 'b']"
      ]
     },
     "execution_count": 4,
     "metadata": {},
     "output_type": "execute_result"
    }
   ],
   "source": [
    "#Ans - It will return first 2 element\n",
    "spam[:2]"
   ]
  },
  {
   "cell_type": "raw",
   "id": "9e93cb6e",
   "metadata": {},
   "source": [
    "Let's pretend bacon has the list [3.14, 'cat,' 11, 'cat,' True] for the next three questions.\n",
    "6. What is the value of bacon.index('cat')?"
   ]
  },
  {
   "cell_type": "code",
   "execution_count": 10,
   "id": "a6dd8c80",
   "metadata": {},
   "outputs": [
    {
     "data": {
      "text/plain": [
       "1"
      ]
     },
     "execution_count": 10,
     "metadata": {},
     "output_type": "execute_result"
    }
   ],
   "source": [
    "#Ans - 1\n",
    "bacon = [3.14,'cat',11,'cat',True]\n",
    "bacon.index('cat')"
   ]
  },
  {
   "cell_type": "raw",
   "id": "2ebf1c14",
   "metadata": {},
   "source": [
    "7. How does bacon.append(99) change the look of the list value in bacon?"
   ]
  },
  {
   "cell_type": "code",
   "execution_count": 11,
   "id": "7da3d92c",
   "metadata": {},
   "outputs": [
    {
     "data": {
      "text/plain": [
       "[3.14, 'cat', 11, 'cat', True, 99]"
      ]
     },
     "execution_count": 11,
     "metadata": {},
     "output_type": "execute_result"
    }
   ],
   "source": [
    "#Ans - It will append 99 as last element\n",
    "bacon.append(99)\n",
    "bacon"
   ]
  },
  {
   "cell_type": "raw",
   "id": "ed8625a7",
   "metadata": {},
   "source": [
    "8. How does bacon.remove('cat') change the look of the list in bacon?"
   ]
  },
  {
   "cell_type": "code",
   "execution_count": 12,
   "id": "fd91ec8a",
   "metadata": {},
   "outputs": [
    {
     "data": {
      "text/plain": [
       "[3.14, 11, 'cat', True, 99]"
      ]
     },
     "execution_count": 12,
     "metadata": {},
     "output_type": "execute_result"
    }
   ],
   "source": [
    "#Ans - it will remove first 'cat' element\n",
    "bacon.remove('cat')\n",
    "bacon"
   ]
  },
  {
   "cell_type": "raw",
   "id": "f3c8de04",
   "metadata": {},
   "source": [
    "9. What are the list concatenation and list replication operators?"
   ]
  },
  {
   "cell_type": "code",
   "execution_count": 15,
   "id": "dac80f4c",
   "metadata": {},
   "outputs": [
    {
     "name": "stdout",
     "output_type": "stream",
     "text": [
      "[1, 2, 4, 4, 6, 8]\n",
      "[1, 2, 4, 1, 2, 4]\n"
     ]
    }
   ],
   "source": [
    "#Ans - Operator for concatenation is +, replication operator is *\n",
    "print([1,2,4] + [4,6,8])\n",
    "print([1,2,4] * 2)"
   ]
  },
  {
   "cell_type": "raw",
   "id": "232aa47c",
   "metadata": {},
   "source": [
    "10. What is difference between the list methods append() and insert()?"
   ]
  },
  {
   "cell_type": "markdown",
   "id": "75437713",
   "metadata": {},
   "source": [
    "Ans - append() will add value only to the end of a list. insert() can add value in any index, which will be passed a parameter."
   ]
  },
  {
   "cell_type": "raw",
   "id": "8c7ba534",
   "metadata": {},
   "source": [
    "11. What are the two methods for removing items from a list?"
   ]
  },
  {
   "cell_type": "markdown",
   "id": "37a3abaf",
   "metadata": {},
   "source": [
    "Ans - list.remove(1), list.pop(1), del list[1]"
   ]
  },
  {
   "cell_type": "raw",
   "id": "03a280d4",
   "metadata": {},
   "source": [
    "12. Describe how list values and string values are identical."
   ]
  },
  {
   "cell_type": "markdown",
   "id": "2ca77fc4",
   "metadata": {},
   "source": [
    "Ans - Both lists and strings can have indexes and slices, be used in for loops, be concatenated or replicated. can be used with the in and not in operators. can be passed to len() function"
   ]
  },
  {
   "cell_type": "raw",
   "id": "becc42dc",
   "metadata": {},
   "source": [
    "13. What's the difference between tuples and lists?"
   ]
  },
  {
   "cell_type": "markdown",
   "id": "37dcd84b",
   "metadata": {},
   "source": [
    "Ans - Lists are mutable, can have values added, removed, or changed. Tuples are immutable, cannot be changed at all. \n",
    "Tuples are written using parentheses(), while lists use the square brackets[]."
   ]
  },
  {
   "cell_type": "raw",
   "id": "bbf912b1",
   "metadata": {},
   "source": [
    "14. How do you type a tuple value that only contains the integer 42?"
   ]
  },
  {
   "cell_type": "markdown",
   "id": "b0ae7578",
   "metadata": {},
   "source": [
    "Ans - (42,)"
   ]
  },
  {
   "cell_type": "raw",
   "id": "95e2bbc0",
   "metadata": {},
   "source": [
    "15. How do you get a list value's tuple form? How do you get a tuple value's list form?"
   ]
  },
  {
   "cell_type": "markdown",
   "id": "f25612f5",
   "metadata": {},
   "source": [
    "Ans - tupe() and list() respectively"
   ]
  },
  {
   "cell_type": "raw",
   "id": "79011708",
   "metadata": {},
   "source": [
    "16. Variables that \"contain\" list values are not necessarily lists themselves. Instead, what do they contain?"
   ]
  },
  {
   "cell_type": "markdown",
   "id": "0c99efd6",
   "metadata": {},
   "source": [
    "Ans - They contain references of list values"
   ]
  },
  {
   "cell_type": "raw",
   "id": "5bb4957c",
   "metadata": {},
   "source": [
    "17. How do you distinguish between copy.copy() and copy.deepcopy()?"
   ]
  },
  {
   "cell_type": "markdown",
   "id": "07862aac",
   "metadata": {},
   "source": [
    "Ans - The copy.copy() function will do a shallow copy of a list, while the copy.deepcopy() function will do a deep copy of a list"
   ]
  },
  {
   "cell_type": "code",
   "execution_count": null,
   "id": "7f033efc",
   "metadata": {},
   "outputs": [],
   "source": []
  }
 ],
 "metadata": {
  "kernelspec": {
   "display_name": "Python 3 (ipykernel)",
   "language": "python",
   "name": "python3"
  },
  "language_info": {
   "codemirror_mode": {
    "name": "ipython",
    "version": 3
   },
   "file_extension": ".py",
   "mimetype": "text/x-python",
   "name": "python",
   "nbconvert_exporter": "python",
   "pygments_lexer": "ipython3",
   "version": "3.9.7"
  }
 },
 "nbformat": 4,
 "nbformat_minor": 5
}
