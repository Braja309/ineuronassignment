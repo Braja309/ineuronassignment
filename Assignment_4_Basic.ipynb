{
 "cells": [
  {
   "cell_type": "markdown",
   "id": "fa18b627",
   "metadata": {},
   "source": [
    "1-> Empty List"
   ]
  },
  {
   "cell_type": "markdown",
   "id": "b494ea6d",
   "metadata": {},
   "source": [
    "2-> spam[2]='hello'       -- third value, which is index 2"
   ]
  },
  {
   "cell_type": "code",
   "execution_count": 1,
   "id": "07ecf9b5",
   "metadata": {},
   "outputs": [
    {
     "data": {
      "text/plain": [
       "'d'"
      ]
     },
     "execution_count": 1,
     "metadata": {},
     "output_type": "execute_result"
    }
   ],
   "source": [
    "#3-> It will return 3rd index value\n",
    "spam = ['a','b','c','d']\n",
    "spam[int(int('3' * 2) / 11)]"
   ]
  },
  {
   "cell_type": "code",
   "execution_count": 2,
   "id": "6ac17ab6",
   "metadata": {},
   "outputs": [
    {
     "data": {
      "text/plain": [
       "'d'"
      ]
     },
     "execution_count": 2,
     "metadata": {},
     "output_type": "execute_result"
    }
   ],
   "source": [
    "#4-> It will return last element\n",
    "spam[-1]"
   ]
  },
  {
   "cell_type": "code",
   "execution_count": 3,
   "id": "871a22f6",
   "metadata": {},
   "outputs": [
    {
     "data": {
      "text/plain": [
       "['a', 'b']"
      ]
     },
     "execution_count": 3,
     "metadata": {},
     "output_type": "execute_result"
    }
   ],
   "source": [
    "#5-> It will return first 2 element\n",
    "spam[:2]"
   ]
  },
  {
   "cell_type": "code",
   "execution_count": 4,
   "id": "a6dd8c80",
   "metadata": {},
   "outputs": [
    {
     "data": {
      "text/plain": [
       "1"
      ]
     },
     "execution_count": 4,
     "metadata": {},
     "output_type": "execute_result"
    }
   ],
   "source": [
    "#6-> 1\n",
    "bacon = [3.14,'cat',11,'cat',True]\n",
    "bacon.index('cat')"
   ]
  },
  {
   "cell_type": "code",
   "execution_count": 5,
   "id": "7da3d92c",
   "metadata": {},
   "outputs": [
    {
     "data": {
      "text/plain": [
       "[3.14, 'cat', 11, 'cat', True, 99]"
      ]
     },
     "execution_count": 5,
     "metadata": {},
     "output_type": "execute_result"
    }
   ],
   "source": [
    "#7-> It will append 99 as last element\n",
    "bacon.append(99)\n",
    "bacon"
   ]
  },
  {
   "cell_type": "code",
   "execution_count": 6,
   "id": "fd91ec8a",
   "metadata": {},
   "outputs": [
    {
     "data": {
      "text/plain": [
       "[3.14, 11, 'cat', True, 99]"
      ]
     },
     "execution_count": 6,
     "metadata": {},
     "output_type": "execute_result"
    }
   ],
   "source": [
    "#8-> it will remove first 'cat' element\n",
    "bacon.remove('cat')\n",
    "bacon"
   ]
  },
  {
   "cell_type": "code",
   "execution_count": 7,
   "id": "dac80f4c",
   "metadata": {},
   "outputs": [
    {
     "name": "stdout",
     "output_type": "stream",
     "text": [
      "[1, 2, 4, 4, 6, 8]\n",
      "[1, 2, 4, 1, 2, 4]\n"
     ]
    }
   ],
   "source": [
    "#9-> Operator for concatenation is +, replication operator is *\n",
    "print([1,2,4] + [4,6,8])\n",
    "print([1,2,4] * 2)"
   ]
  },
  {
   "cell_type": "markdown",
   "id": "75437713",
   "metadata": {},
   "source": [
    "10-> append() will add value only to the end of a list. insert() can add value in any index, which will be passed a parameter."
   ]
  },
  {
   "cell_type": "markdown",
   "id": "37a3abaf",
   "metadata": {},
   "source": [
    "11-> list.remove(1), list.pop(1), del list[1]"
   ]
  },
  {
   "cell_type": "markdown",
   "id": "2ca77fc4",
   "metadata": {},
   "source": [
    "12-> Both lists and strings can have indexes and slices, be used in for loops, be concatenated or replicated. can be used with the in and not in operators. can be passed to len() function"
   ]
  },
  {
   "cell_type": "markdown",
   "id": "37dcd84b",
   "metadata": {},
   "source": [
    "13-> Lists are mutable, can have values added, removed, or changed. Tuples are immutable, cannot be changed at all. \n",
    "Tuples are written using parentheses(), while lists use the square brackets[]."
   ]
  },
  {
   "cell_type": "markdown",
   "id": "b0ae7578",
   "metadata": {},
   "source": [
    "14-> (42,)"
   ]
  },
  {
   "cell_type": "markdown",
   "id": "f25612f5",
   "metadata": {},
   "source": [
    "15-> tupe() and list() respectively"
   ]
  },
  {
   "cell_type": "markdown",
   "id": "0c99efd6",
   "metadata": {},
   "source": [
    "16-> They contain references of list values"
   ]
  },
  {
   "cell_type": "markdown",
   "id": "07862aac",
   "metadata": {},
   "source": [
    "17-> The copy.copy() function will do a shallow copy of a list, while the copy.deepcopy() function will do a deep copy of a list"
   ]
  },
  {
   "cell_type": "code",
   "execution_count": null,
   "id": "7f033efc",
   "metadata": {},
   "outputs": [],
   "source": []
  }
 ],
 "metadata": {
  "kernelspec": {
   "display_name": "Python 3 (ipykernel)",
   "language": "python",
   "name": "python3"
  },
  "language_info": {
   "codemirror_mode": {
    "name": "ipython",
    "version": 3
   },
   "file_extension": ".py",
   "mimetype": "text/x-python",
   "name": "python",
   "nbconvert_exporter": "python",
   "pygments_lexer": "ipython3",
   "version": "3.9.7"
  }
 },
 "nbformat": 4,
 "nbformat_minor": 5
}
