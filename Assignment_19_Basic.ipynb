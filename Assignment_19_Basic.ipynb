{
 "cells": [
  {
   "cell_type": "raw",
   "id": "9ec93795",
   "metadata": {},
   "source": [
    "1. Make a class called Thing with no contents and print it. Then, create an object called example from this class and also print it. Are the printed values the same or different?"
   ]
  },
  {
   "cell_type": "code",
   "execution_count": 5,
   "id": "97f78424",
   "metadata": {},
   "outputs": [
    {
     "name": "stdout",
     "output_type": "stream",
     "text": [
      "<class '__main__.Thing'>\n",
      "<__main__.Thing object at 0x0000017D3E4001F0>\n"
     ]
    }
   ],
   "source": [
    "#1->\n",
    "class Thing():\n",
    "    pass\n",
    "print(Thing)\n",
    "example = Thing()\n",
    "print(example)\n",
    "#They printed different"
   ]
  },
  {
   "cell_type": "raw",
   "id": "0e128758",
   "metadata": {},
   "source": [
    "2. Create a new class called Thing2 and add the value 'abc' to the letters class attribute. Letters should be printed."
   ]
  },
  {
   "cell_type": "code",
   "execution_count": 7,
   "id": "cb1293bb",
   "metadata": {},
   "outputs": [
    {
     "name": "stdout",
     "output_type": "stream",
     "text": [
      "abc\n"
     ]
    }
   ],
   "source": [
    "#2->\n",
    "class Thing2():\n",
    "    letters = 'abc'\n",
    "print(Thing2.letters)"
   ]
  },
  {
   "cell_type": "raw",
   "id": "d83d5fdd",
   "metadata": {},
   "source": [
    "3. Make yet another class called, of course, Thing3. This time, assign the value 'xyz' to an instance (object) attribute called letters. Print letters. Do you need to make an object from the class to do this?"
   ]
  },
  {
   "cell_type": "code",
   "execution_count": 17,
   "id": "82a82938",
   "metadata": {},
   "outputs": [
    {
     "name": "stdout",
     "output_type": "stream",
     "text": [
      "type object 'Thing3' has no attribute 'letters'\n",
      "xyz\n"
     ]
    }
   ],
   "source": [
    "#3->\n",
    "class Thing3:\n",
    "    def __init__(self):\n",
    "        self.letters = 'xyz'\n",
    "try:\n",
    "    Obj = Thing3()\n",
    "    print(Thing3.letters)\n",
    "except Exception as Ex:\n",
    "    print(Ex)\n",
    "finally:\n",
    "    print(Obj.letters)\n",
    "#Here, we need to make an object."
   ]
  },
  {
   "cell_type": "raw",
   "id": "d9c4824d",
   "metadata": {},
   "source": [
    "4. Create an Element class with the instance attributes name, symbol, and number. Create a class object with the values 'Hydrogen,' 'H,' and 1."
   ]
  },
  {
   "cell_type": "code",
   "execution_count": 18,
   "id": "1e083c49",
   "metadata": {},
   "outputs": [],
   "source": [
    "#4->\n",
    "class Element:\n",
    "    def __init__(self,name,symbol,number):\n",
    "        self.name=name\n",
    "        self.symbol=symbol\n",
    "        self.number=number\n",
    "HObj = Element('Hydrogen','H',1)"
   ]
  },
  {
   "cell_type": "raw",
   "id": "d5e394d6",
   "metadata": {},
   "source": [
    "5. Make a dictionary with these keys and values: 'name': 'Hydrogen', 'symbol': 'H', 'number': 1. Then, create an object called hydrogen from class Element using this dictionary."
   ]
  },
  {
   "cell_type": "code",
   "execution_count": 34,
   "id": "f3db26d2",
   "metadata": {},
   "outputs": [],
   "source": [
    "#5->\n",
    "dict = {'name':'Hydrogen','symbol':'H','number':1}\n",
    "hydrogen = Element(dict['name'],dict['symbol'],dict['number'])\n",
    "#hydrogen = Element(**dict)"
   ]
  },
  {
   "cell_type": "raw",
   "id": "18fa13f4",
   "metadata": {},
   "source": [
    "6. For the Element class, define a method called dump() that prints the values of the object’s attributes (name, symbol, and number). Create the hydrogen object from this new definition and use dump() to print its attributes."
   ]
  },
  {
   "cell_type": "code",
   "execution_count": 35,
   "id": "47d9cdeb",
   "metadata": {},
   "outputs": [
    {
     "name": "stdout",
     "output_type": "stream",
     "text": [
      "name=Hydrogen, symbol=H, number=1\n"
     ]
    }
   ],
   "source": [
    "#6->\n",
    "class Element:\n",
    "    def __init__(self, name, symbol, number):\n",
    "        self.name = name\n",
    "        self.symbol = symbol\n",
    "        self.number = number\n",
    "    def dump(self):\n",
    "        print('name={}, symbol={}, number={}'.format(self.name, self.symbol, self.number))\n",
    "hydrogen = Element(**dict)\n",
    "hydrogen.dump()"
   ]
  },
  {
   "cell_type": "raw",
   "id": "604d3c40",
   "metadata": {},
   "source": [
    "7. Call print(hydrogen). In the definition of Element, change the name of method dump to __str__, create a new hydrogen object, and call print(hydrogen) again."
   ]
  },
  {
   "cell_type": "code",
   "execution_count": 37,
   "id": "3f5337f8",
   "metadata": {},
   "outputs": [
    {
     "name": "stdout",
     "output_type": "stream",
     "text": [
      "<__main__.Element object at 0x0000017D40B6EA60>\n",
      "name=Hydrogen, symbol=H, number=1\n"
     ]
    }
   ],
   "source": [
    "#7->\n",
    "print(hydrogen)\n",
    "class Element:\n",
    "    def __init__(self, name, symbol, number):\n",
    "        self.name = name\n",
    "        self.symbol = symbol\n",
    "        self.number = number\n",
    "    def __str__(self):\n",
    "        return ('name={}, symbol={}, number={}'.format(self.name, self.symbol, self.number))\n",
    "hydrogen = Element(**dict)\n",
    "print(hydrogen)"
   ]
  },
  {
   "cell_type": "raw",
   "id": "b8fdaf60",
   "metadata": {},
   "source": [
    "8. Modify Element to make the attributes name, symbol, and number private. Define a getter property for each to return its value."
   ]
  },
  {
   "cell_type": "code",
   "execution_count": 39,
   "id": "b0909502",
   "metadata": {},
   "outputs": [
    {
     "name": "stdout",
     "output_type": "stream",
     "text": [
      "Hydrogen\n",
      "H\n",
      "1\n"
     ]
    }
   ],
   "source": [
    "#8->\n",
    "class Element:\n",
    "    def __init__(self, name, symbol, number):\n",
    "        self.__name = name\n",
    "        self.__symbol = symbol\n",
    "        self.__number = number\n",
    "    @property\n",
    "    def name(self):\n",
    "        return self.__name\n",
    "    @property\n",
    "    def symbol(self):\n",
    "        return self.__symbol\n",
    "    @property\n",
    "    def number(self):\n",
    "        return self.__number\n",
    "hydrogen = Element(**dict)\n",
    "print(hydrogen.name)\n",
    "print(hydrogen.symbol)\n",
    "print(hydrogen.number)"
   ]
  },
  {
   "cell_type": "raw",
   "id": "d0ee4709",
   "metadata": {},
   "source": [
    "9. Define three classes: Bear, Rabbit, and Octothorpe. For each, define only one method: eats(). This should return 'berries' (Bear), 'clover' (Rabbit), or 'campers' (Octothorpe). Create one object from each and print what it eats."
   ]
  },
  {
   "cell_type": "code",
   "execution_count": 42,
   "id": "feb42291",
   "metadata": {},
   "outputs": [
    {
     "name": "stdout",
     "output_type": "stream",
     "text": [
      "berries\n",
      "clover\n",
      "campers\n"
     ]
    }
   ],
   "source": [
    "#9->\n",
    "class Bear:\n",
    "    def eats(sef):\n",
    "        return 'berries'\n",
    "class Rabit:\n",
    "    def eats(self):\n",
    "        return 'clover'\n",
    "class Octothorpe:\n",
    "    def eats(self):\n",
    "        return 'campers'\n",
    "B = Bear()\n",
    "R = Rabit()\n",
    "O = Octothorpe()\n",
    "print(B.eats())\n",
    "print(R.eats())\n",
    "print(O.eats())"
   ]
  },
  {
   "cell_type": "raw",
   "id": "2ecba5f9",
   "metadata": {},
   "source": [
    "10. Define these classes: Laser, Claw, and SmartPhone. Each has only one method: does(). This returns 'disintegrate' (Laser), 'crush' (Claw), or 'ring' (SmartPhone). Then, define the class Robot that has one instance (object) of each of these. Define a does() method for the Robot that prints what its component objects do."
   ]
  },
  {
   "cell_type": "code",
   "execution_count": 43,
   "id": "6fd7f4ff",
   "metadata": {},
   "outputs": [
    {
     "name": "stdout",
     "output_type": "stream",
     "text": [
      "Laser=disintegrate, Claw=crush, Smartphone=ring\n"
     ]
    }
   ],
   "source": [
    "#10->\n",
    "class Laser:\n",
    "    def does(self):\n",
    "        return 'disintegrate'\n",
    "class Claw:\n",
    "    def does(self):\n",
    "        return 'crush'\n",
    "class SmartPhone:\n",
    "    def does(self):\n",
    "        return 'ring'\n",
    "class Robot:\n",
    "    def __init__(self):\n",
    "        self.Laser = Laser()\n",
    "        self.Claw = Claw()\n",
    "        self.SmartPhone = SmartPhone()\n",
    "    def does(self):\n",
    "        return ('Laser={}, Claw={}, Smartphone={}'.format(self.Laser.does(), self.Claw.does(), self.SmartPhone.does()))\n",
    "R = Robot()\n",
    "print(R.does())"
   ]
  },
  {
   "cell_type": "code",
   "execution_count": null,
   "id": "4e688d8f",
   "metadata": {},
   "outputs": [],
   "source": []
  }
 ],
 "metadata": {
  "kernelspec": {
   "display_name": "Python 3 (ipykernel)",
   "language": "python",
   "name": "python3"
  },
  "language_info": {
   "codemirror_mode": {
    "name": "ipython",
    "version": 3
   },
   "file_extension": ".py",
   "mimetype": "text/x-python",
   "name": "python",
   "nbconvert_exporter": "python",
   "pygments_lexer": "ipython3",
   "version": "3.9.7"
  }
 },
 "nbformat": 4,
 "nbformat_minor": 5
}
