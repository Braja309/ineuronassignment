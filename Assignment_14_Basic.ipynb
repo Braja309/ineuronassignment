{
 "cells": [
  {
   "cell_type": "markdown",
   "id": "e20ccbc5",
   "metadata": {},
   "source": [
    "1-> RGBA is a tuple of 4 integer, each ranging from 0-255. RGBA stands Red, Green, Blue, Alpha."
   ]
  },
  {
   "cell_type": "markdown",
   "id": "a8f66fa3",
   "metadata": {},
   "source": [
    "2-> ImageColor.getcolor('CornflowerBlue', 'RGBA') will return (100, 149, 237, 255), the RGBA value for that color."
   ]
  },
  {
   "cell_type": "markdown",
   "id": "1bb266e7",
   "metadata": {},
   "source": [
    "3-> A box tuple is a tuple value of four integers: the left edge x-coordinate, the top edge y-coordinate, the width, and the height, respectively."
   ]
  },
  {
   "cell_type": "markdown",
   "id": "a69ae0ad",
   "metadata": {},
   "source": [
    "4-> width,height = Image.size"
   ]
  },
  {
   "cell_type": "markdown",
   "id": "7b9c659a",
   "metadata": {},
   "source": [
    "5-> image.crop((0, 50, 50, 50))"
   ]
  },
  {
   "cell_type": "markdown",
   "id": "8ea02136",
   "metadata": {},
   "source": [
    "6-> image.save('newfilename.png')"
   ]
  },
  {
   "cell_type": "markdown",
   "id": "10eac6be",
   "metadata": {},
   "source": [
    "7-> ImageDraw module contains code to draw on images"
   ]
  },
  {
   "cell_type": "markdown",
   "id": "fe74b8cd",
   "metadata": {},
   "source": [
    "8-> ImageDraw objects have shape-drawing methods such as point(), line(), or rectangle(). They are returned by passing the Image object to the ImageDraw.Draw() function."
   ]
  },
  {
   "cell_type": "code",
   "execution_count": null,
   "id": "210c306f",
   "metadata": {},
   "outputs": [],
   "source": []
  }
 ],
 "metadata": {
  "kernelspec": {
   "display_name": "Python 3 (ipykernel)",
   "language": "python",
   "name": "python3"
  },
  "language_info": {
   "codemirror_mode": {
    "name": "ipython",
    "version": 3
   },
   "file_extension": ".py",
   "mimetype": "text/x-python",
   "name": "python",
   "nbconvert_exporter": "python",
   "pygments_lexer": "ipython3",
   "version": "3.9.7"
  }
 },
 "nbformat": 4,
 "nbformat_minor": 5
}
