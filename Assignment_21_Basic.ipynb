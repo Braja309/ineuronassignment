{
 "cells": [
  {
   "cell_type": "raw",
   "id": "67b9a10e",
   "metadata": {},
   "source": [
    "1. Add the current date to the text file today.txt as a string."
   ]
  },
  {
   "cell_type": "code",
   "execution_count": 1,
   "id": "c449b5d2",
   "metadata": {},
   "outputs": [],
   "source": [
    "#1->\n",
    "import datetime\n",
    "str = datetime.datetime.now().strftime(\"%d %B %Y %H:%M:%S.%f\")\n",
    "with open(\"today.txt\", 'w') as file:\n",
    "    file.write(str)\n",
    "file.close()"
   ]
  },
  {
   "cell_type": "raw",
   "id": "eda1e799",
   "metadata": {},
   "source": [
    "2. Read the text file today.txt into the string today_string"
   ]
  },
  {
   "cell_type": "code",
   "execution_count": 2,
   "id": "e0e902e5",
   "metadata": {},
   "outputs": [
    {
     "name": "stdout",
     "output_type": "stream",
     "text": [
      "26 December 2021 21:12:57.093129\n"
     ]
    }
   ],
   "source": [
    "#2->\n",
    "with open(\"today.txt\", 'r') as file:\n",
    "    today_string = file.read()\n",
    "file.close()\n",
    "print(today_string)"
   ]
  },
  {
   "cell_type": "raw",
   "id": "e6c1ede5",
   "metadata": {},
   "source": [
    "3. Parse the date from today_string."
   ]
  },
  {
   "cell_type": "code",
   "execution_count": 3,
   "id": "489c9e3f",
   "metadata": {},
   "outputs": [
    {
     "name": "stdout",
     "output_type": "stream",
     "text": [
      "Date-time: 2021-12-26 21:12:57.093129\n",
      "Date: 2021-12-26\n",
      "Time: 21:12:57.093129\n"
     ]
    }
   ],
   "source": [
    "#3->\n",
    "obj = datetime.datetime.strptime(today_string,\"%d %B %Y %H:%M:%S.%f\")\n",
    "print('Date-time:', obj)\n",
    "print('Date:', obj.date())\n",
    "print('Time:', obj.time())"
   ]
  },
  {
   "cell_type": "raw",
   "id": "99119eba",
   "metadata": {},
   "source": [
    "4. List the files in your current directory"
   ]
  },
  {
   "cell_type": "code",
   "execution_count": 4,
   "id": "1c6e8f53",
   "metadata": {},
   "outputs": [
    {
     "data": {
      "text/plain": [
       "['.ipynb_checkpoints',\n",
       " 'AssignmentTest',\n",
       " 'Assignment_10_Basic.docx',\n",
       " 'Assignment_10_Basic.ipynb',\n",
       " 'Assignment_11_Basic.docx',\n",
       " 'Assignment_11_Basic.ipynb',\n",
       " 'Assignment_12_Basic.docx',\n",
       " 'Assignment_12_Basic.ipynb',\n",
       " 'Assignment_13_Basic.docx',\n",
       " 'Assignment_13_Basic.ipynb',\n",
       " 'Assignment_14_Basic.docx',\n",
       " 'Assignment_14_Basic.ipynb',\n",
       " 'Assignment_15_Basic.docx',\n",
       " 'Assignment_15_Basic.ipynb',\n",
       " 'Assignment_16_Basic.docx',\n",
       " 'Assignment_16_Basic.ipynb',\n",
       " 'Assignment_17_Basic.docx',\n",
       " 'Assignment_17_Basic.ipynb',\n",
       " 'Assignment_18_Basic.docx',\n",
       " 'Assignment_18_Basic.ipynb',\n",
       " 'Assignment_19_Basic.docx',\n",
       " 'Assignment_19_Basic.ipynb',\n",
       " 'Assignment_1_Basic.docx',\n",
       " 'Assignment_1_Basic.ipynb',\n",
       " 'Assignment_20_Basic.docx',\n",
       " 'Assignment_20_Basic.ipynb',\n",
       " 'Assignment_21_Basic.docx',\n",
       " 'Assignment_21_Basic.ipynb',\n",
       " 'Assignment_22_Basic.docx',\n",
       " 'Assignment_22_Basic.ipynb',\n",
       " 'Assignment_23_Basic.docx',\n",
       " 'Assignment_23_Basic.ipynb',\n",
       " 'Assignment_24_Basic.docx',\n",
       " 'Assignment_24_Basic.ipynb',\n",
       " 'Assignment_25_Basic.docx',\n",
       " 'Assignment_25_Basic.ipynb',\n",
       " 'Assignment_2_Basic.docx',\n",
       " 'Assignment_2_Basic.ipynb',\n",
       " 'Assignment_3_Basic.docx',\n",
       " 'Assignment_3_Basic.ipynb',\n",
       " 'Assignment_4_Basic.docx',\n",
       " 'Assignment_4_Basic.ipynb',\n",
       " 'Assignment_5_Basic.docx',\n",
       " 'Assignment_5_Basic.ipynb',\n",
       " 'Assignment_6_Basic.docx',\n",
       " 'Assignment_6_Basic.ipynb',\n",
       " 'Assignment_7_Basic.docx',\n",
       " 'Assignment_7_Basic.ipynb',\n",
       " 'Assignment_8_Basic.docx',\n",
       " 'Assignment_8_Basic.ipynb',\n",
       " 'Assignment_9_Basic.docx',\n",
       " 'Assignment_9_Basic.ipynb',\n",
       " 'books.csv',\n",
       " 'books.db',\n",
       " 'test.txt',\n",
       " 'today.txt',\n",
       " '~$signment_21_Basic.docx']"
      ]
     },
     "execution_count": 4,
     "metadata": {},
     "output_type": "execute_result"
    }
   ],
   "source": [
    "#4->\n",
    "import os\n",
    "os.listdir()"
   ]
  },
  {
   "cell_type": "raw",
   "id": "14ebb35b",
   "metadata": {},
   "source": [
    "5. Create a list of all of the files in your parent directory (minimum five files should be available)."
   ]
  },
  {
   "cell_type": "code",
   "execution_count": 5,
   "id": "0e7532b6",
   "metadata": {},
   "outputs": [
    {
     "data": {
      "text/plain": [
       "['Basic',\n",
       " 'dd.csv',\n",
       " 'New Text Document.txt',\n",
       " 'protagonist.csv',\n",
       " 'redis-2.4.6-setup-64-bit.exe']"
      ]
     },
     "execution_count": 5,
     "metadata": {},
     "output_type": "execute_result"
    }
   ],
   "source": [
    "#5->\n",
    "import os\n",
    "os.listdir(path='..',)"
   ]
  },
  {
   "cell_type": "raw",
   "id": "94363b7e",
   "metadata": {},
   "source": [
    "6. Use multiprocessing to create three separate processes. Make each one wait a random number of seconds between one and five, print the current time, and then exit."
   ]
  },
  {
   "cell_type": "code",
   "execution_count": 19,
   "id": "857d8129",
   "metadata": {},
   "outputs": [
    {
     "name": "stdout",
     "output_type": "stream",
     "text": [
      "main line\n",
      "module name: __main__\n",
      "parent process: 7096\n",
      "process id: 9976\n"
     ]
    }
   ],
   "source": [
    "#6->\n",
    "from multiprocessing import Process\n",
    "import os\n",
    "\n",
    "def info(title):\n",
    "    print(title)\n",
    "    print('module name:', __name__)\n",
    "    print('parent process:', os.getppid())\n",
    "    print('process id:', os.getpid())\n",
    "\n",
    "def f(name):\n",
    "    info('function f')\n",
    "    print('hello', name)\n",
    "\n",
    "if __name__ == '__main__':\n",
    "    info('main line')\n",
    "    p = Process(target=f, args=('bob',))\n",
    "    p.start()\n",
    "    p.join()"
   ]
  },
  {
   "cell_type": "raw",
   "id": "fc135c4a",
   "metadata": {},
   "source": [
    "7. Create a date object of your day of birth."
   ]
  },
  {
   "cell_type": "code",
   "execution_count": 7,
   "id": "8bbb9761",
   "metadata": {},
   "outputs": [
    {
     "name": "stdout",
     "output_type": "stream",
     "text": [
      "Date-time: 14-June-1990\n"
     ]
    }
   ],
   "source": [
    "#7->\n",
    "dateobj = datetime.datetime.strptime(\"14 June 1990\",\"%d %B %Y\")\n",
    "print('Date-time:', dateobj.strftime(\"%d-%B-%Y\"))"
   ]
  },
  {
   "cell_type": "raw",
   "id": "c7233f71",
   "metadata": {},
   "source": [
    "8. What day of the week was your day of birth?"
   ]
  },
  {
   "cell_type": "code",
   "execution_count": 8,
   "id": "7feb3f19",
   "metadata": {},
   "outputs": [
    {
     "name": "stdout",
     "output_type": "stream",
     "text": [
      "Thursday\n"
     ]
    }
   ],
   "source": [
    "#8->\n",
    "import calendar\n",
    "born = datetime.datetime.strptime(\"14 June 1990\",\"%d %B %Y\").weekday()\n",
    "print(calendar.day_name[born])"
   ]
  },
  {
   "cell_type": "raw",
   "id": "8104f23d",
   "metadata": {},
   "source": [
    "9. When will you be (or when were you) 10,000 days old?"
   ]
  },
  {
   "cell_type": "code",
   "execution_count": 15,
   "id": "4367c37a",
   "metadata": {},
   "outputs": [
    {
     "data": {
      "text/plain": [
       "'30 October 2017'"
      ]
     },
     "execution_count": 15,
     "metadata": {},
     "output_type": "execute_result"
    }
   ],
   "source": [
    "#9->\n",
    "(dateobj+datetime.timedelta(days=10000)).strftime(\"%d %B %Y\")"
   ]
  },
  {
   "cell_type": "code",
   "execution_count": null,
   "id": "b459ccb2",
   "metadata": {},
   "outputs": [],
   "source": []
  }
 ],
 "metadata": {
  "kernelspec": {
   "display_name": "Python 3 (ipykernel)",
   "language": "python",
   "name": "python3"
  },
  "language_info": {
   "codemirror_mode": {
    "name": "ipython",
    "version": 3
   },
   "file_extension": ".py",
   "mimetype": "text/x-python",
   "name": "python",
   "nbconvert_exporter": "python",
   "pygments_lexer": "ipython3",
   "version": "3.9.7"
  }
 },
 "nbformat": 4,
 "nbformat_minor": 5
}
