{
 "cells": [
  {
   "cell_type": "raw",
   "id": "1f58142a",
   "metadata": {},
   "source": [
    "1. Write a function that counts how many concentric layers a rug.\n",
    "\n",
    "Examples\n",
    "\n",
    "count_layers([\n",
    "  \"AAAA\",\n",
    "  \"ABBA\",\n",
    "  \"AAAA\"\n",
    "]) ➞ 2\n",
    "\n",
    "count_layers([\n",
    "  \"AAAAAAAAA\",\n",
    "  \"ABBBBBBBA\",\n",
    "  \"ABBAAABBA\",\n",
    "  \"ABBBBBBBA\",\n",
    "  \"AAAAAAAAA\"\n",
    "]) ➞ 3\n",
    "\n",
    "count_layers([\n",
    "  \"AAAAAAAAAAA\",\n",
    "  \"AABBBBBBBAA\",\n",
    "  \"AABCCCCCBAA\",\n",
    "  \"AABCAAACBAA\",\n",
    "  \"AABCADACBAA\",\n",
    "  \"AABCAAACBAA\",\n",
    "  \"AABCCCCCBAA\",\n",
    "  \"AABBBBBBBAA\",\n",
    "  \"AAAAAAAAAAA\"\n",
    "]) ➞ 5"
   ]
  },
  {
   "cell_type": "code",
   "execution_count": 1,
   "id": "012e6612",
   "metadata": {},
   "outputs": [
    {
     "name": "stdout",
     "output_type": "stream",
     "text": [
      "Please enter the concentric layer : [   \"AAAAAAAAAAA\",   \"AABBBBBBBAA\",   \"AABCCCCCBAA\",   \"AABCAAACBAA\",   \"AABCADACBAA\",   \"AABCAAACBAA\",   \"AABCCCCCBAA\",   \"AABBBBBBBAA\",   \"AAAAAAAAAAA\" ]\n",
      "Count of concentric layer is : 5\n"
     ]
    }
   ],
   "source": [
    "#1->\n",
    "def count_layers(Layers):\n",
    "    '''It wiil count concentric layers'''\n",
    "    return (len(Layers)//2)+1\n",
    "Layers = eval(input(\"Please enter the concentric layer : \"))\n",
    "print(\"Count of concentric layer is :\",count_layers(Layers))"
   ]
  },
  {
   "cell_type": "raw",
   "id": "de80b48d",
   "metadata": {},
   "source": [
    "2. There are many different styles of music and many albums exhibit multiple styles. Create a function that takes a list of musical styles from albums and returns how many styles are unique.\n",
    "\n",
    "Examples\n",
    "\n",
    "unique_styles([\n",
    "  \"Dub,Dancehall\",\n",
    "  \"Industrial,Heavy Metal\",\n",
    "  \"Techno,Dubstep\",\n",
    "  \"Synth-pop,Euro-Disco\",\n",
    "  \"Industrial,Techno,Minimal\"\n",
    "]) ➞ 9\n",
    "\n",
    "unique_styles([\n",
    "  \"Soul\",\n",
    "  \"House,Folk\",\n",
    "  \"Trance,Downtempo,Big Beat,House\",\n",
    "  \"Deep House\",\n",
    "  \"Soul\"\n",
    "]) ➞ 7"
   ]
  },
  {
   "cell_type": "code",
   "execution_count": 7,
   "id": "8fa7c183",
   "metadata": {},
   "outputs": [
    {
     "name": "stdout",
     "output_type": "stream",
     "text": [
      "Please enter list of musical styls from albums : [   \"Soul\",   \"House,Folk\",   \"Trance,Downtempo,Big Beat,House\",   \"Deep House\",   \"Soul\" ]\n",
      "Count of unique musical style is : 7\n"
     ]
    }
   ],
   "source": [
    "#2->\n",
    "def unique_styles(albums):\n",
    "    '''It will return number of unique musical styles from album list'''\n",
    "    unique_style = []\n",
    "    for i in range(len(albums)):\n",
    "        for j in albums[i].split(','):\n",
    "            if j not in unique_style:\n",
    "                unique_style.append(j)\n",
    "    return len(unique_style)\n",
    "List = eval(input(\"Please enter list of musical styls from albums : \"))\n",
    "print(\"Count of unique musical style is :\",unique_styles(List))"
   ]
  },
  {
   "cell_type": "raw",
   "id": "4287c69e",
   "metadata": {},
   "source": [
    "3. Create a function that finds a target number in a list of prime numbers. Implement a binary search algorithm in your function. The target number will be from 2 through 97. If the target is prime then return \"yes\" else return \"no\".\n",
    "\n",
    "Examples\n",
    "\n",
    "primes = [2, 3, 5, 7, 11, 13, 17, 19, 23, 29, 31, 37, 41, 43, 47, 53, 59, 61, 67, 71, 73, 79, 83, 89, 97]\n",
    "\n",
    "\n",
    "is_prime(primes, 3) ➞ \"yes\"\n",
    "\n",
    "is_prime(primes, 4) ➞ \"no\"\n",
    "\n",
    "is_prime(primes, 67) ➞ \"yes\"\n",
    "\n",
    "is_prime(primes, 36) ➞ \"no\""
   ]
  },
  {
   "cell_type": "code",
   "execution_count": 20,
   "id": "9eb36562",
   "metadata": {},
   "outputs": [
    {
     "name": "stdout",
     "output_type": "stream",
     "text": [
      "Please enter the number : 67\n",
      "The number is present in primes list : yes\n"
     ]
    }
   ],
   "source": [
    "#3->\n",
    "def is_prime(primes, num):\n",
    "    '''It will return if given number is present in primes list'''\n",
    "    \n",
    "    low = 0\n",
    "    high = len(primes)\n",
    "    \n",
    "    mid = (low+high)//2\n",
    "    if mid > 0:\n",
    "        if primes[mid] == num:\n",
    "            return 'yes'\n",
    "        elif primes[mid] > num:\n",
    "            return is_prime(primes[:mid],num)\n",
    "        else:\n",
    "            return is_prime(primes[mid+1:],num)\n",
    "    else:\n",
    "        if primes[mid] == num:\n",
    "            return 'yes'\n",
    "        else:\n",
    "            return 'no'\n",
    "primes = [2, 3, 5, 7, 11, 13, 17, 19, 23, 29, 31, 37, 41, 43, 47, 53, 59, 61, 67, 71, 73, 79, 83, 89, 97]\n",
    "num = int(input(\"Please enter the number : \"))\n",
    "print(\"The number is present in primes list :\",is_prime(primes,num))"
   ]
  },
  {
   "cell_type": "raw",
   "id": "efc1162c",
   "metadata": {},
   "source": [
    "4. Create a function that takes in n, a, b and returns the number of positive values raised to the nth power that lie in the range [a, b], inclusive.\n",
    "\n",
    "Examples\n",
    "\n",
    "power_ranger(2, 49, 65) ➞ 2\n",
    "# 2 squares (n^2) lie between 49 and 65, 49 (7^2) and 64 (8^2)\n",
    "\n",
    "power_ranger(3, 1, 27) ➞ 3\n",
    "# 3 cubes (n^3) lie between 1 and 27, 1 (1^3), 8 (2^3) and 27 (3^3)\n",
    "\n",
    "power_ranger(10, 1, 5) ➞ 1\n",
    "# 1 value raised to the 10th power lies between 1 and 5, 1 (1^10)\n",
    "\n",
    "power_ranger(5, 31, 33) ➞ 1\n",
    "\n",
    "power_ranger(4, 250, 1300) ➞ 3"
   ]
  },
  {
   "cell_type": "code",
   "execution_count": 31,
   "id": "e00094f8",
   "metadata": {},
   "outputs": [
    {
     "name": "stdout",
     "output_type": "stream",
     "text": [
      "Please enter the power : 4\n",
      "Please enter lower range : 250\n",
      "Please enter upper range : 1300\n",
      "Number of values raised to the 4 th power lies between 250 and 1300 is : 3\n"
     ]
    }
   ],
   "source": [
    "#4->\n",
    "def power_range(n, a, b):\n",
    "    '''It will return number of nth power that lie in the range [a, b]'''\n",
    "    s = 0\n",
    "    v = int(a**(1/n))\n",
    "    if v**n<a:\n",
    "        v +=1\n",
    "    while a<= v**n <=b:\n",
    "        s +=1\n",
    "        v +=1\n",
    "    return s\n",
    "n = int(input(\"Please enter the power : \"))\n",
    "a = int(input(\"Please enter lower range : \"))\n",
    "b = int(input(\"Please enter upper range : \"))\n",
    "print(\"Number of values raised to the\",n,\"th power lies between\",a,\"and\",b,\"is :\",power_range(n,a,b))"
   ]
  },
  {
   "cell_type": "raw",
   "id": "bf1657f5",
   "metadata": {},
   "source": [
    "5. Given a number, return the difference between the maximum and minimum numbers that can be formed when the digits are rearranged.\n",
    "\n",
    "Examples\n",
    "\n",
    "rearranged_difference(972882) ➞ 760833\n",
    "# 988722 - 227889 = 760833\n",
    "\n",
    "rearranged_difference(3320707) ➞ 7709823\n",
    "# 7733200 - 23377 = 7709823\n",
    "\n",
    "rearranged_difference(90010) ➞ 90981\n",
    "# 91000 - 19 = 90981"
   ]
  },
  {
   "cell_type": "code",
   "execution_count": 48,
   "id": "2973293a",
   "metadata": {},
   "outputs": [
    {
     "name": "stdout",
     "output_type": "stream",
     "text": [
      "Please enter the number : 3320707\n",
      "Difference between the maximum and minimum number is : 7709823\n"
     ]
    }
   ],
   "source": [
    "#5->\n",
    "def rearranged_difference(num):\n",
    "    '''It will return the difference between the maximum and minimum numbers that can be formed when the digits are rearranged'''\n",
    "    #largest number\n",
    "    maximum = int(\"\".join(sorted(str(num))[::-1]))\n",
    "    #lowest number\n",
    "    minimum = int(\"\".join(sorted(str(num))))\n",
    "    return maximum-minimum\n",
    "num = int(input(\"Please enter the number : \"))\n",
    "print(\"Difference between the maximum and minimum number is :\",rearranged_difference(num))"
   ]
  },
  {
   "cell_type": "code",
   "execution_count": null,
   "id": "931baf3f",
   "metadata": {},
   "outputs": [],
   "source": []
  }
 ],
 "metadata": {
  "kernelspec": {
   "display_name": "Python 3 (ipykernel)",
   "language": "python",
   "name": "python3"
  },
  "language_info": {
   "codemirror_mode": {
    "name": "ipython",
    "version": 3
   },
   "file_extension": ".py",
   "mimetype": "text/x-python",
   "name": "python",
   "nbconvert_exporter": "python",
   "pygments_lexer": "ipython3",
   "version": "3.9.7"
  }
 },
 "nbformat": 4,
 "nbformat_minor": 5
}
