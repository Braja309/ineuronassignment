{
 "cells": [
  {
   "cell_type": "raw",
   "id": "49381de6",
   "metadata": {},
   "source": [
    "Question1\n",
    "Create a function that takes an integer and returns a list from 1 to the given number, where:\n",
    "1.\tIf the number can be divided evenly by 4, amplify it by 10 (i.e. return 10 times the number).\n",
    "2.\tIf the number cannot be divided evenly by 4, simply return the number.\n",
    "Examples\n",
    "amplify(4) ➞ [1, 2, 3, 40]\n",
    "\n",
    "amplify(3) ➞ [1, 2, 3]\n",
    "\n",
    "amplify(25) ➞ [1, 2, 3, 40, 5, 6, 7, 80, 9, 10, 11, 120, 13, 14, 15, 160, 17, 18, 19, 200, 21, 22, 23, 240, 25]\n",
    "Notes\n",
    "•\tThe given integer will always be equal to or greater than 1.\n",
    "•\tInclude the number (see example above).\n",
    "•\tTo perform this problem with its intended purpose, try doing it with list comprehensions. If that's too difficult, just solve the challenge any way you can."
   ]
  },
  {
   "cell_type": "code",
   "execution_count": 1,
   "id": "a3e72030",
   "metadata": {},
   "outputs": [
    {
     "name": "stdout",
     "output_type": "stream",
     "text": [
      "Please enter the number : 25\n",
      "Output list is : [1, 2, 3, 40, 5, 6, 7, 80, 9, 10, 11, 120, 13, 14, 15, 160, 17, 18, 19, 200, 21, 22, 23, 240, 25]\n"
     ]
    }
   ],
   "source": [
    "#1->\n",
    "def amplify(num):\n",
    "    \"\"\"It will return list of numbers multiplying by 10 if it is divisible by 4, otherwise number\"\"\"\n",
    "    List = []\n",
    "    for i in range(1,num+1):\n",
    "        if i%4 == 0:\n",
    "            List.append(i*10)\n",
    "        else:\n",
    "            List.append(i)\n",
    "    return List\n",
    "num = int(input(\"Please enter the number : \"))\n",
    "print(\"Output list is :\",amplify(num))"
   ]
  },
  {
   "cell_type": "raw",
   "id": "0de8abfd",
   "metadata": {},
   "source": [
    "Question2\n",
    "Create a function that takes a list of numbers and return the number that's unique.\n",
    "Examples\n",
    "unique([3, 3, 3, 7, 3, 3]) ➞ 7\n",
    "\n",
    "unique([0, 0, 0.77, 0, 0]) ➞ 0.77\n",
    "\n",
    "unique([0, 1, 1, 1, 1, 1, 1, 1]) ➞ 0\n",
    "Notes\n",
    "Test cases will always have exactly one unique number while all others are the same."
   ]
  },
  {
   "cell_type": "code",
   "execution_count": 5,
   "id": "fbc2f274",
   "metadata": {},
   "outputs": [
    {
     "name": "stdout",
     "output_type": "stream",
     "text": [
      "Please enter the list of numbers : [3,3,3,3,7,2,2]\n",
      "Unique number is : 7\n"
     ]
    }
   ],
   "source": [
    "#2->\n",
    "def unique(List):\n",
    "    \"\"\"It will return one unique number\"\"\"\n",
    "    for i in List:\n",
    "        if List.count(i) == 1:\n",
    "            return i\n",
    "    return \"No unique number\"\n",
    "List = eval(input(\"Please enter the list of numbers : \"))\n",
    "print(\"Unique number is :\",unique(List))"
   ]
  },
  {
   "cell_type": "raw",
   "id": "128e61ee",
   "metadata": {},
   "source": [
    "Question3\n",
    "Your task is to create a Circle constructor that creates a circle with a radius provided by an argument. The circles constructed must have two getters getArea() (PIr^2) and getPerimeter() (2PI*r) which give both respective areas and perimeter (circumference).\n",
    "For help with this class, I have provided you with a Rectangle constructor which you can use as a base example.\n",
    "Examples\n",
    "circy = Circle(11)\n",
    "circy.getArea()\n",
    "\n",
    "# Should return 380.132711084365\n",
    "\n",
    "circy = Circle(4.44)\n",
    "circy.getPerimeter()\n",
    "\n",
    "# Should return 27.897342763877365\n",
    "Notes\n",
    "Round results up to the nearest integer."
   ]
  },
  {
   "cell_type": "code",
   "execution_count": 7,
   "id": "5afc1e46",
   "metadata": {},
   "outputs": [
    {
     "name": "stdout",
     "output_type": "stream",
     "text": [
      "Please enter the radius of the circle : 11\n",
      "Area of the circle is : 380.2857142857143\n",
      "Perimeter of the circle is : 69.14285714285714\n"
     ]
    }
   ],
   "source": [
    "#3->\n",
    "class Circle():\n",
    "    def __init__(self,r):\n",
    "        self.radius = r\n",
    "        \n",
    "    def getArea(self):\n",
    "        return (22/7)*self.radius**2\n",
    "    \n",
    "    def getPerimeter(self):\n",
    "        return 2*(22/7)*self.radius\n",
    "radius = int(input(\"Please enter the radius of the circle : \"))\n",
    "circy = Circle(radius)\n",
    "print(\"Area of the circle is :\",circy.getArea())\n",
    "print(\"Perimeter of the circle is :\",circy.getPerimeter())"
   ]
  },
  {
   "cell_type": "raw",
   "id": "3774bf80",
   "metadata": {},
   "source": [
    "Question4\n",
    "Create a function that takes a list of strings and return a list, sorted from shortest to longest.\n",
    "Examples\n",
    "sort_by_length([\"Google\", \"Apple\", \"Microsoft\"])\n",
    "➞ [\"Apple\", \"Google\", \"Microsoft\"]\n",
    "\n",
    "sort_by_length([\"Leonardo\", \"Michelangelo\", \"Raphael\", \"Donatello\"])\n",
    "➞ [\"Raphael\", \"Leonardo\", \"Donatello\", \"Michelangelo\"]\n",
    "\n",
    "sort_by_length([\"Turing\", \"Einstein\", \"Jung\"])\n",
    "➞ [\"Jung\", \"Turing\", \"Einstein\"]\n",
    "Notes\n",
    "All test cases contain lists with strings of different lengths, so you won't have to deal with multiple strings of the same length."
   ]
  },
  {
   "cell_type": "code",
   "execution_count": 8,
   "id": "ed383d12",
   "metadata": {},
   "outputs": [
    {
     "name": "stdout",
     "output_type": "stream",
     "text": [
      "Please enter the list : [\"Leonardo\", \"Michelangelo\", \"Raphael\", \"Donatello\"]\n",
      "Sorted list is : ['Raphael', 'Leonardo', 'Donatello', 'Michelangelo']\n"
     ]
    }
   ],
   "source": [
    "#4->\n",
    "def sort_by_length(List):\n",
    "    \"\"\"It will sort list of string by length\"\"\"\n",
    "    return sorted(List, key= len)\n",
    "List = eval(input(\"Please enter the list : \"))\n",
    "print(\"Sorted list is :\",sort_by_length(List))    "
   ]
  },
  {
   "cell_type": "raw",
   "id": "aaa50400",
   "metadata": {},
   "source": [
    "Question5\n",
    "Create a function that validates whether three given integers form a Pythagorean triplet. The sum of the squares of the two smallest integers must equal the square of the largest number to be validated.\n",
    "\n",
    "\n",
    "Examples\n",
    "is_triplet(3, 4, 5) ➞ True\n",
    "# 3² + 4² = 25\n",
    "# 5² = 25\n",
    "\n",
    "is_triplet(13, 5, 12) ➞ True\n",
    "# 5² + 12² = 169\n",
    "# 13² = 169\n",
    "\n",
    "is_triplet(1, 2, 3) ➞ False\n",
    "# 1² + 2² = 5\n",
    "# 3² = 9\n",
    "Notes\n",
    "Numbers may not be given in a sorted order."
   ]
  },
  {
   "cell_type": "code",
   "execution_count": 24,
   "id": "6c59ace7",
   "metadata": {},
   "outputs": [
    {
     "name": "stdout",
     "output_type": "stream",
     "text": [
      "Please enter 3 numbers comma separated : 13,5,12\n",
      "Given 3 intergers from a pythagorean triplet : True\n"
     ]
    }
   ],
   "source": [
    "#5->\n",
    "def is_triplet(a,b,c):\n",
    "    \"\"\"It will return if the given 3 intergers from a pythagorean triplet\"\"\"\n",
    "    List = [a,b,c]\n",
    "    List.sort()\n",
    "    if List[0]**2 + List[1]**2 == List[2]**2:\n",
    "        return True\n",
    "    else:\n",
    "        return False\n",
    "Inputs = input(\"Please enter 3 numbers comma separated : \")\n",
    "a = int(Inputs.split(',')[0])\n",
    "b = int(Inputs.split(',')[1])\n",
    "c = int(Inputs.split(',')[2])\n",
    "print(\"Given 3 intergers from a pythagorean triplet :\",is_triplet(a,b,c))"
   ]
  },
  {
   "cell_type": "code",
   "execution_count": null,
   "id": "2eecd2a7",
   "metadata": {},
   "outputs": [],
   "source": []
  }
 ],
 "metadata": {
  "kernelspec": {
   "display_name": "Python 3 (ipykernel)",
   "language": "python",
   "name": "python3"
  },
  "language_info": {
   "codemirror_mode": {
    "name": "ipython",
    "version": 3
   },
   "file_extension": ".py",
   "mimetype": "text/x-python",
   "name": "python",
   "nbconvert_exporter": "python",
   "pygments_lexer": "ipython3",
   "version": "3.9.7"
  }
 },
 "nbformat": 4,
 "nbformat_minor": 5
}
