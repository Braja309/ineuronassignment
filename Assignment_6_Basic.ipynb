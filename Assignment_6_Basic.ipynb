{
 "cells": [
  {
   "cell_type": "markdown",
   "id": "ce893367",
   "metadata": {},
   "source": [
    "1-> It represents character in string value, without that it is dificult to type into code.\n",
    "\n",
    "    Example : Text = \"We are \\\"iNeuron\\\".\"   ----- This is to keep \"\" in the output."
   ]
  },
  {
   "cell_type": "markdown",
   "id": "3669d88f",
   "metadata": {},
   "source": [
    "2-> \n",
    "\n",
    "    \\n - New Line\n",
    "    \\t - Tab space"
   ]
  },
  {
   "cell_type": "markdown",
   "id": "5435f903",
   "metadata": {},
   "source": [
    "3-> We can use double backslash to keep one backslash."
   ]
  },
  {
   "cell_type": "markdown",
   "id": "e48f3859",
   "metadata": {},
   "source": [
    "4-> Single qoute is fine because, double qoute is used to mark beginning and end of the string."
   ]
  },
  {
   "cell_type": "markdown",
   "id": "dc029b46",
   "metadata": {},
   "source": [
    "5-> Multiline string can be used"
   ]
  },
  {
   "cell_type": "code",
   "execution_count": 1,
   "id": "78f3247e",
   "metadata": {},
   "outputs": [
    {
     "name": "stdout",
     "output_type": "stream",
     "text": [
      "e\n",
      "Hello\n",
      "Hello\n",
      "lo, world!\n"
     ]
    }
   ],
   "source": [
    "#6-> \n",
    "print('Hello, world!'[1])\n",
    "print('Hello, world!'[0:5])\n",
    "print('Hello, world!'[:5])\n",
    "print('Hello, world!'[3:])"
   ]
  },
  {
   "cell_type": "code",
   "execution_count": 2,
   "id": "f1511383",
   "metadata": {},
   "outputs": [
    {
     "name": "stdout",
     "output_type": "stream",
     "text": [
      "HELLO\n",
      "True\n",
      "hello\n"
     ]
    }
   ],
   "source": [
    "#7-> \n",
    "print('Hello'.upper())\n",
    "print('Hello'.upper().isupper())\n",
    "print('Hello'.upper().lower())"
   ]
  },
  {
   "cell_type": "code",
   "execution_count": 3,
   "id": "4669e362",
   "metadata": {},
   "outputs": [
    {
     "name": "stdout",
     "output_type": "stream",
     "text": [
      "['Remember,', 'remember,', 'the', 'fifth', 'of', 'July.']\n",
      "There-can-only-one.\n"
     ]
    }
   ],
   "source": [
    "#8-> \n",
    "print('Remember, remember, the fifth of July.'.split())\n",
    "print('-'.join('There can only one.'.split()))"
   ]
  },
  {
   "cell_type": "markdown",
   "id": "7f9744ed",
   "metadata": {},
   "source": [
    "9-> rjust(), ljust(), center()"
   ]
  },
  {
   "cell_type": "markdown",
   "id": "844b3162",
   "metadata": {},
   "source": [
    "10-> strip(), rstrip(), lstrip() methods of string can be used."
   ]
  },
  {
   "cell_type": "code",
   "execution_count": null,
   "id": "4a0895a3",
   "metadata": {},
   "outputs": [],
   "source": []
  }
 ],
 "metadata": {
  "kernelspec": {
   "display_name": "Python 3 (ipykernel)",
   "language": "python",
   "name": "python3"
  },
  "language_info": {
   "codemirror_mode": {
    "name": "ipython",
    "version": 3
   },
   "file_extension": ".py",
   "mimetype": "text/x-python",
   "name": "python",
   "nbconvert_exporter": "python",
   "pygments_lexer": "ipython3",
   "version": "3.9.7"
  }
 },
 "nbformat": 4,
 "nbformat_minor": 5
}
