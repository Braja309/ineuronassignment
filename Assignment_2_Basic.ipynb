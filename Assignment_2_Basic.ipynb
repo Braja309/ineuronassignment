{
 "cells": [
  {
   "cell_type": "markdown",
   "id": "80b79b0a",
   "metadata": {},
   "source": [
    "1-> There are two possible values for boolean data type: True and False. (First letter Capital)"
   ]
  },
  {
   "cell_type": "markdown",
   "id": "c6b1059e",
   "metadata": {},
   "source": [
    "2-> and operator, or operator, not operator"
   ]
  },
  {
   "cell_type": "markdown",
   "id": "bd50cd89",
   "metadata": {},
   "source": [
    "3->\n",
    "<table style=\"width:100%\">\n",
    "<tr>\n",
    "<th>X</th>\n",
    "<th>Y</th>\n",
    "<th>X and Y(True if both are True else False)</th>\n",
    "<th>X or Y(True if at least one is True else False)</th>\n",
    "<th>not(X)(Opposite)</th>\n",
    "<th>not(Y)(Opposite)</th>\n",
    "</tr>\n",
    "\n",
    "<tr>\n",
    "<td>True</td>\n",
    "<td>True</td>\n",
    "<td>True</td>\n",
    "<td>True</td>\n",
    "<td>False</td>\n",
    "<td>False</td>\n",
    "</tr>\n",
    "\n",
    "<tr>\n",
    "<td>True</td>\n",
    "<td>False</td>\n",
    "<td>False</td>\n",
    "<td>True</td>\n",
    "<td>False</td>\n",
    "<td>True</td>\n",
    "</tr>\n",
    "\n",
    "<tr>\n",
    "<td>False</td>\n",
    "<td>True</td>\n",
    "<td>False</td>\n",
    "<td>True</td>\n",
    "<td>True</td>\n",
    "<td>False</td>\n",
    "</tr>\n",
    "    \n",
    "<tr>\n",
    "<td>False</td>\n",
    "<td>False</td>\n",
    "<td>False</td>\n",
    "<td>False</td>\n",
    "<td>True</td>\n",
    "<td>True</td>\n",
    "</tr>\n",
    "</table>"
   ]
  },
  {
   "cell_type": "markdown",
   "id": "7a083bb5",
   "metadata": {},
   "source": [
    "4-> \n",
    "\n",
    "    (5 > 4) and (3 == 5)                      =>> False\n",
    "    not (5 > 4)                               =>> False\n",
    "    (5 > 4) or (3 == 5)                       =>> True\n",
    "    not ((5 > 4) or (3 == 5))                 =>> False\n",
    "    (True and True) and (True == False)       =>> False\n",
    "    (not False) or (not True)                 =>> True"
   ]
  },
  {
   "cell_type": "markdown",
   "id": "f0d0b994",
   "metadata": {},
   "source": [
    "5-> \n",
    "    \n",
    "    ==   is equal to\n",
    "    !=   is not equal to\n",
    "    <    is less than\n",
    "    <=   is less than equal to\n",
    "    >    is greater than\n",
    "    >=   is greater than equal to"
   ]
  },
  {
   "cell_type": "markdown",
   "id": "9804ea27",
   "metadata": {},
   "source": [
    "6-> One is Comperison operator and another is assignment operator.\n",
    "\n",
    "    2==3    - It will compare 2 with 3, if both are equal and return True or False.\n",
    "    a=3     - It will assign value 3 to a variable and does not return anything."
   ]
  },
  {
   "cell_type": "markdown",
   "id": "9fb22cc3",
   "metadata": {},
   "source": [
    "7-> \n",
    "\n",
    "    spam = 0               \n",
    "    if spam == 10:         -Block 1 \n",
    "        print('eggs')      \n",
    "    if spam > 5:           -Block 2\n",
    "        print('bacon')\n",
    "    else:                  -Block 3\n",
    "        print('ham')\n",
    "        print('spam')\n",
    "        print('spam')\n"
   ]
  },
  {
   "cell_type": "code",
   "execution_count": 1,
   "id": "97b7091f",
   "metadata": {},
   "outputs": [
    {
     "name": "stdout",
     "output_type": "stream",
     "text": [
      "Enter a number : 3\n",
      "Greetings!\n"
     ]
    }
   ],
   "source": [
    "#8-> \n",
    "spam = int(input(\"Enter a number : \"))\n",
    "if spam==1:\n",
    "    print(\"Hello\")\n",
    "elif spam==2:\n",
    "    print(\"Howdy\")\n",
    "else:\n",
    "    print(\"Greetings!\")"
   ]
  },
  {
   "cell_type": "markdown",
   "id": "aea25d8e",
   "metadata": {},
   "source": [
    "9-> Interrupt the kernel"
   ]
  },
  {
   "cell_type": "markdown",
   "id": "2d0be232",
   "metadata": {},
   "source": [
    "10-> The break statement stops the loop in which the statement is written. A continue statement skips a single iteration in a loop, and moves to the next iteration."
   ]
  },
  {
   "cell_type": "markdown",
   "id": "db264e77",
   "metadata": {},
   "source": [
    "11-> All 3 will give same output.\n",
    "\n",
    "    Explanation -\n",
    "    for i in range(0,10,1):\n",
    "        print(i)\n",
    "    range(10)        - It loop through 0 to 9, excludes 10.\n",
    "    range(0,10)      - We can define start value, here it loop through 0 to 9, excludes 10.\n",
    "    range(0,10,1)    - We can define start value as well as steps, here it loop through 0 to 9 and steps by, excludes 10. \n",
    "    At the end all 3 gives same result"
   ]
  },
  {
   "cell_type": "code",
   "execution_count": 2,
   "id": "02be1e4f",
   "metadata": {},
   "outputs": [
    {
     "name": "stdout",
     "output_type": "stream",
     "text": [
      "For Loop -\n",
      "1\n",
      "2\n",
      "3\n",
      "4\n",
      "5\n",
      "6\n",
      "7\n",
      "8\n",
      "9\n",
      "10\n",
      "While Loop -\n",
      "1\n",
      "2\n",
      "3\n",
      "4\n",
      "5\n",
      "6\n",
      "7\n",
      "8\n",
      "9\n",
      "10\n"
     ]
    }
   ],
   "source": [
    "#12->\n",
    "a = 10\n",
    "print(\"For Loop -\")\n",
    "for i in range(1,a+1):\n",
    "    print(i)\n",
    "b = 1\n",
    "print(\"While Loop -\")\n",
    "while b<=10:\n",
    "    print(b)\n",
    "    b+=1"
   ]
  },
  {
   "cell_type": "markdown",
   "id": "09babfe4",
   "metadata": {},
   "source": [
    "13-> \n",
    "\n",
    "    import spam\n",
    "    spam.bacon()"
   ]
  },
  {
   "cell_type": "code",
   "execution_count": null,
   "id": "396a5847",
   "metadata": {},
   "outputs": [],
   "source": []
  }
 ],
 "metadata": {
  "kernelspec": {
   "display_name": "Python 3 (ipykernel)",
   "language": "python",
   "name": "python3"
  },
  "language_info": {
   "codemirror_mode": {
    "name": "ipython",
    "version": 3
   },
   "file_extension": ".py",
   "mimetype": "text/x-python",
   "name": "python",
   "nbconvert_exporter": "python",
   "pygments_lexer": "ipython3",
   "version": "3.9.7"
  }
 },
 "nbformat": 4,
 "nbformat_minor": 5
}
