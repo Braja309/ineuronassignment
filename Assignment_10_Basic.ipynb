{
 "cells": [
  {
   "cell_type": "markdown",
   "id": "d82b9bcc",
   "metadata": {},
   "source": [
    "1-> The shutil.copy() function will copy a single file, while shutil.copytree() will copy an entire folder, along with all its contents."
   ]
  },
  {
   "cell_type": "markdown",
   "id": "f62fd2c0",
   "metadata": {},
   "source": [
    "2-> shutil.move() is used for renaming as well as moving it."
   ]
  },
  {
   "cell_type": "markdown",
   "id": "6489fb92",
   "metadata": {},
   "source": [
    "3-> send2trash functions will move a file or folder to the recycle bin, and shutil functions will permanently delete files and folders."
   ]
  },
  {
   "cell_type": "markdown",
   "id": "e69604ba",
   "metadata": {},
   "source": [
    "4-> zipfile.ZipFile()"
   ]
  },
  {
   "cell_type": "code",
   "execution_count": 2,
   "id": "4d3c4e39",
   "metadata": {},
   "outputs": [
    {
     "name": "stdout",
     "output_type": "stream",
     "text": [
      "Test.docx is getting coppied to C:\\Users\\Braja\\Desktop\\Data Science\\ineuron Class\\Assignments\\Python\\Basic\\AssignmentTest\\New folder\n",
      "Done\n",
      "Test1.docx is getting coppied to C:\\Users\\Braja\\Desktop\\Data Science\\ineuron Class\\Assignments\\Python\\Basic\\AssignmentTest\\New folder\n",
      "Done\n",
      "Test2.docx is getting coppied to C:\\Users\\Braja\\Desktop\\Data Science\\ineuron Class\\Assignments\\Python\\Basic\\AssignmentTest\\New folder\n",
      "Done\n"
     ]
    }
   ],
   "source": [
    "#5->\n",
    "import os\n",
    "import shutil\n",
    "folder = \"C:\\\\Users\\\\Braja\\\\Desktop\\\\Data Science\\\\ineuron Class\\\\Assignments\\\\Python\\\\Basic\\\\AssignmentTest\"\n",
    "extensions = ['.doc','.docx']\n",
    "destfolder = \"C:\\\\Users\\\\Braja\\\\Desktop\\\\Data Science\\\\ineuron Class\\\\Assignments\\\\Python\\\\Basic\\\\AssignmentTest\\\\New folder\"\n",
    "def specificFileCopy(folder,extensions,destfolder):\n",
    "    for dirpath, subfolder, filenames in os.walk(folder):\n",
    "        for filename in filenames:\n",
    "            name, ext = os.path.splitext(filename)\n",
    "            if ext in extensions:\n",
    "                fileAbsPath = dirpath + os.path.sep + filename\n",
    "                print(filename,'is getting coppied to',destfolder)\n",
    "                shutil.copy(fileAbsPath,destfolder)\n",
    "                print(\"Done\")\n",
    "        break\n",
    "specificFileCopy(folder,extensions,destfolder)"
   ]
  },
  {
   "cell_type": "code",
   "execution_count": null,
   "id": "8dc98208",
   "metadata": {},
   "outputs": [],
   "source": []
  }
 ],
 "metadata": {
  "kernelspec": {
   "display_name": "Python 3 (ipykernel)",
   "language": "python",
   "name": "python3"
  },
  "language_info": {
   "codemirror_mode": {
    "name": "ipython",
    "version": 3
   },
   "file_extension": ".py",
   "mimetype": "text/x-python",
   "name": "python",
   "nbconvert_exporter": "python",
   "pygments_lexer": "ipython3",
   "version": "3.9.7"
  }
 },
 "nbformat": 4,
 "nbformat_minor": 5
}
