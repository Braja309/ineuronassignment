{
 "cells": [
  {
   "cell_type": "raw",
   "id": "29555599",
   "metadata": {},
   "source": [
    "1. How do you distinguish between shutil.copy() and shutil.copytree()?"
   ]
  },
  {
   "cell_type": "markdown",
   "id": "d82b9bcc",
   "metadata": {},
   "source": [
    "Ans - The shutil.copy() function will copy a single file, while shutil.copytree() will copy an entire folder, along with all its contents."
   ]
  },
  {
   "cell_type": "raw",
   "id": "f0093b16",
   "metadata": {},
   "source": [
    "2. What function is used to rename files??"
   ]
  },
  {
   "cell_type": "markdown",
   "id": "f62fd2c0",
   "metadata": {},
   "source": [
    "Ans - shutil.move() is used for renaming as well as moving it."
   ]
  },
  {
   "cell_type": "raw",
   "id": "34176838",
   "metadata": {},
   "source": [
    "3. What is the difference between the delete functions in the send2trash and shutil modules?"
   ]
  },
  {
   "cell_type": "markdown",
   "id": "6489fb92",
   "metadata": {},
   "source": [
    "Ans - send2trash functions will move a file or folder to the recycle bin, and shutil functions will permanently delete files and folders."
   ]
  },
  {
   "cell_type": "raw",
   "id": "699643f6",
   "metadata": {},
   "source": [
    "4.ZipFile objects have a close() method just like File objects’ close() method. What ZipFile method is equivalent to File objects’ open() method?"
   ]
  },
  {
   "cell_type": "markdown",
   "id": "e69604ba",
   "metadata": {},
   "source": [
    "Ans - zipfile.ZipFile()"
   ]
  },
  {
   "cell_type": "raw",
   "id": "866b4edf",
   "metadata": {},
   "source": [
    "5. Create a programme that searches a folder tree for files with a certain file extension (such as .pdf or .jpg). Copy these files from whatever location they are in to a new folder."
   ]
  },
  {
   "cell_type": "code",
   "execution_count": 26,
   "id": "4d3c4e39",
   "metadata": {},
   "outputs": [
    {
     "name": "stdout",
     "output_type": "stream",
     "text": [
      "Test.docx is getting coppied to C:\\Users\\Braja\\Desktop\\Data Science\\ineuron Class\\Assignments\\Python\\AssignmentTest\\New folder\n",
      "Done\n",
      "Test1.docx is getting coppied to C:\\Users\\Braja\\Desktop\\Data Science\\ineuron Class\\Assignments\\Python\\AssignmentTest\\New folder\n",
      "Done\n",
      "Test2.docx is getting coppied to C:\\Users\\Braja\\Desktop\\Data Science\\ineuron Class\\Assignments\\Python\\AssignmentTest\\New folder\n",
      "Done\n"
     ]
    }
   ],
   "source": [
    "import os\n",
    "import shutil\n",
    "folder = \"C:\\\\Users\\\\Braja\\\\Desktop\\\\Data Science\\\\ineuron Class\\\\Assignments\\\\Python\\\\AssignmentTest\"\n",
    "extensions = ['.doc','.docx']\n",
    "destfolder = \"C:\\\\Users\\\\Braja\\\\Desktop\\\\Data Science\\\\ineuron Class\\\\Assignments\\\\Python\\\\AssignmentTest\\\\New folder\"\n",
    "def specificFileCopy(folder,extensions,destfolder):\n",
    "    for dirpath, subfolder, filenames in os.walk(folder):\n",
    "        for filename in filenames:\n",
    "            name, ext = os.path.splitext(filename)\n",
    "            if ext in extensions:\n",
    "                fileAbsPath = dirpath + os.path.sep + filename\n",
    "                print(filename,'is getting coppied to',destfolder)\n",
    "                shutil.copy(fileAbsPath,destfolder)\n",
    "                print(\"Done\")\n",
    "        break\n",
    "specificFileCopy(folder,extensions,destfolder)"
   ]
  }
 ],
 "metadata": {
  "kernelspec": {
   "display_name": "Python 3 (ipykernel)",
   "language": "python",
   "name": "python3"
  },
  "language_info": {
   "codemirror_mode": {
    "name": "ipython",
    "version": 3
   },
   "file_extension": ".py",
   "mimetype": "text/x-python",
   "name": "python",
   "nbconvert_exporter": "python",
   "pygments_lexer": "ipython3",
   "version": "3.9.7"
  }
 },
 "nbformat": 4,
 "nbformat_minor": 5
}
