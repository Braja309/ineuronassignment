{
 "cells": [
  {
   "cell_type": "raw",
   "id": "20adcd4f",
   "metadata": {},
   "source": [
    "1.\tWrite a Python program to find sum of elements in list?"
   ]
  },
  {
   "cell_type": "code",
   "execution_count": 1,
   "id": "78cadf59",
   "metadata": {},
   "outputs": [
    {
     "name": "stdout",
     "output_type": "stream",
     "text": [
      "Sum of elements is the list is : 21\n"
     ]
    }
   ],
   "source": [
    "#1->\n",
    "List = [1,2,3,4,5,6]\n",
    "sum= 0\n",
    "for i in List:\n",
    "    sum += i\n",
    "print(\"Sum of elements in the list is :\",sum)"
   ]
  },
  {
   "cell_type": "raw",
   "id": "38a6ea69",
   "metadata": {},
   "source": [
    "2.\tWrite a Python program to  Multiply all numbers in the list?"
   ]
  },
  {
   "cell_type": "code",
   "execution_count": 2,
   "id": "90fac375",
   "metadata": {},
   "outputs": [
    {
     "name": "stdout",
     "output_type": "stream",
     "text": [
      "Value after Multipling all numbers the list is : 720\n"
     ]
    }
   ],
   "source": [
    "#2->\n",
    "List = [1,2,3,4,5,6]\n",
    "total= 1\n",
    "for i in List:\n",
    "    total *= i\n",
    "print(\"Value after Multipling all numbers the list is :\",total)"
   ]
  },
  {
   "cell_type": "raw",
   "id": "38e611ab",
   "metadata": {},
   "source": [
    "3.\tWrite a Python program to find smallest number in a list?"
   ]
  },
  {
   "cell_type": "code",
   "execution_count": 8,
   "id": "f22ce311",
   "metadata": {},
   "outputs": [
    {
     "name": "stdout",
     "output_type": "stream",
     "text": [
      "Smallest number in the list is : 2\n"
     ]
    }
   ],
   "source": [
    "#3->\n",
    "List = [4,5,6,7,3,9,2,10,34]\n",
    "small = List[0]\n",
    "for i in List:\n",
    "    if i < small:\n",
    "        small = i\n",
    "print(\"Smallest number in the list is :\",small)"
   ]
  },
  {
   "cell_type": "raw",
   "id": "c6a24262",
   "metadata": {},
   "source": [
    "4.\tWrite a Python program to find largest number in a list?"
   ]
  },
  {
   "cell_type": "code",
   "execution_count": 9,
   "id": "b34c2c1f",
   "metadata": {},
   "outputs": [
    {
     "name": "stdout",
     "output_type": "stream",
     "text": [
      "Largest number in the list is : 34\n"
     ]
    }
   ],
   "source": [
    "#4->\n",
    "List = [4,5,6,7,3,9,2,10,34]\n",
    "large = List[0]\n",
    "for i in List:\n",
    "    if i > large:\n",
    "        large = i\n",
    "print(\"Largest number in the list is :\",large)"
   ]
  },
  {
   "cell_type": "raw",
   "id": "9fe0433a",
   "metadata": {},
   "source": [
    "5.\tWrite a Python program to find second largest number in a list?"
   ]
  },
  {
   "cell_type": "code",
   "execution_count": 13,
   "id": "38e8d008",
   "metadata": {},
   "outputs": [
    {
     "name": "stdout",
     "output_type": "stream",
     "text": [
      "Second largest number in the list is : 10\n"
     ]
    }
   ],
   "source": [
    "#5->\n",
    "List = [4,5,6,7,3,9,2,10,34]\n",
    "large = List[0]\n",
    "seclarge = List[0]\n",
    "for i in List:\n",
    "    if i > large:\n",
    "        seclarge = large\n",
    "        large = i\n",
    "    elif large > i > seclarge:\n",
    "        seclarge = i\n",
    "print(\"Second largest number in the list is :\",seclarge)"
   ]
  },
  {
   "cell_type": "raw",
   "id": "20f6365a",
   "metadata": {},
   "source": [
    "6.\tWrite a Python program to find N largest elements from a list?"
   ]
  },
  {
   "cell_type": "code",
   "execution_count": 68,
   "id": "af57b758",
   "metadata": {},
   "outputs": [
    {
     "name": "stdout",
     "output_type": "stream",
     "text": [
      "Please enter the number : 4\n",
      "Please find 4 largest elements are: [34, 10, 9, 7]\n"
     ]
    }
   ],
   "source": [
    "#6->\n",
    "List = [5,6,7,4,3,9,2,10,34]\n",
    "n = int(input(\"Please enter the number : \"))\n",
    "final_list = []\n",
    "for i in range(n):\n",
    "    m = 0\n",
    "    for j in List:\n",
    "        if j > m:\n",
    "            m = j\n",
    "    List.remove(m)\n",
    "    final_list.append(m)\n",
    "print(\"Please find\",n,\"largest elements are:\",final_list)"
   ]
  },
  {
   "cell_type": "raw",
   "id": "557c79de",
   "metadata": {},
   "source": [
    "7.\tWrite a Python program to print even numbers in a list?"
   ]
  },
  {
   "cell_type": "code",
   "execution_count": 17,
   "id": "d0ed2770",
   "metadata": {},
   "outputs": [
    {
     "name": "stdout",
     "output_type": "stream",
     "text": [
      "even numbers :\n",
      "4\n",
      "6\n",
      "2\n",
      "10\n",
      "34\n"
     ]
    }
   ],
   "source": [
    "#7->\n",
    "List = [4,5,6,7,3,9,2,10,34]\n",
    "print(\"even numbers :\")\n",
    "for i in List:\n",
    "    if i %2 == 0:\n",
    "        print(i)"
   ]
  },
  {
   "cell_type": "raw",
   "id": "3c0fc663",
   "metadata": {},
   "source": [
    "8.\tWrite a Python program to print odd numbers in a List?"
   ]
  },
  {
   "cell_type": "code",
   "execution_count": 19,
   "id": "882d8978",
   "metadata": {},
   "outputs": [
    {
     "name": "stdout",
     "output_type": "stream",
     "text": [
      "odd numbers :\n",
      "5\n",
      "7\n",
      "3\n",
      "9\n"
     ]
    }
   ],
   "source": [
    "#8->\n",
    "List = [4,5,6,7,3,9,2,10,34]\n",
    "print(\"odd numbers :\")\n",
    "for i in List:\n",
    "    if i %2 != 0:\n",
    "        print(i)"
   ]
  },
  {
   "cell_type": "raw",
   "id": "6e8be591",
   "metadata": {},
   "source": [
    "9.\tWrite a Python program to Remove empty List from List?"
   ]
  },
  {
   "cell_type": "code",
   "execution_count": 53,
   "id": "c8fa3711",
   "metadata": {},
   "outputs": [
    {
     "name": "stdout",
     "output_type": "stream",
     "text": [
      "List after removing empty list is : [4, 5, 6, 7, 3, 9, [3, 4, 5, 6], 2, 10, 34]\n"
     ]
    }
   ],
   "source": [
    "#9->\n",
    "List = [4,5,6,[],7,3,9,[3,4,5,6],2,10,[],34]\n",
    "i = 0\n",
    "while i < len(List):\n",
    "    #print(type(List[i]),i,List[i])\n",
    "    if (type(List[i]) == list and len(List[i]) == 0):\n",
    "        List.pop(i)\n",
    "    i += 1        \n",
    "print(\"List after removing empty list is :\", List)"
   ]
  },
  {
   "cell_type": "raw",
   "id": "78e68467",
   "metadata": {},
   "source": [
    "10.\tWrite a Python program to Cloning or Copying a list?"
   ]
  },
  {
   "cell_type": "code",
   "execution_count": 58,
   "id": "52e6519b",
   "metadata": {},
   "outputs": [
    {
     "name": "stdout",
     "output_type": "stream",
     "text": [
      "Cloned/Copied list is : [4, 5, 6, 7, 3, 9, 2, 5, 10, 34]\n"
     ]
    }
   ],
   "source": [
    "#10->\n",
    "List = [4,5,6,7,3,9,2,5,10,34]\n",
    "#List1 = List.copy()\n",
    "List1 = []\n",
    "for i in List:\n",
    "    List1.append(i)        \n",
    "print(\"Cloned/Copied list is :\", List1)"
   ]
  },
  {
   "cell_type": "raw",
   "id": "30ae3808",
   "metadata": {},
   "source": [
    "11.\tWrite a Python program to Count occurrences of an element in a list?"
   ]
  },
  {
   "cell_type": "code",
   "execution_count": 63,
   "id": "5510dce0",
   "metadata": {},
   "outputs": [
    {
     "name": "stdout",
     "output_type": "stream",
     "text": [
      "Occurances of each element:\n",
      "Element\tCount\n",
      "2 \t 1\n",
      "3 \t 1\n",
      "4 \t 3\n",
      "5 \t 2\n",
      "6 \t 1\n",
      "7 \t 1\n",
      "34 \t 1\n",
      "9 \t 1\n",
      "10 \t 1\n"
     ]
    }
   ],
   "source": [
    "#11->\n",
    "List = [4,5,6,7,4,3,9,2,5,10,4,34]\n",
    "Set = set(List)\n",
    "print(\"Occurances of each element:\\nElement\\tCount\")\n",
    "Dict = {}\n",
    "for i in Set:\n",
    "    print(i,'\\t',List.count(i))"
   ]
  },
  {
   "cell_type": "code",
   "execution_count": null,
   "id": "9245ec0e",
   "metadata": {},
   "outputs": [],
   "source": []
  }
 ],
 "metadata": {
  "kernelspec": {
   "display_name": "Python 3 (ipykernel)",
   "language": "python",
   "name": "python3"
  },
  "language_info": {
   "codemirror_mode": {
    "name": "ipython",
    "version": 3
   },
   "file_extension": ".py",
   "mimetype": "text/x-python",
   "name": "python",
   "nbconvert_exporter": "python",
   "pygments_lexer": "ipython3",
   "version": "3.9.7"
  }
 },
 "nbformat": 4,
 "nbformat_minor": 5
}
