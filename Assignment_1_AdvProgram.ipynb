{
 "cells": [
  {
   "cell_type": "raw",
   "id": "3bf1704a",
   "metadata": {},
   "source": [
    "1. Write a function that takes a list of lists and returns the value of all of the symbols in it, where each symbol adds or takes something from the total score. Symbol values:\n",
    "\n",
    "# = 5\n",
    "O = 3\n",
    "X = 1\n",
    "! = -1\n",
    "!! = -3\n",
    "!!! = -5\n",
    "\n",
    "A list of lists containing 2 #s, a O, and a !!! would equal (0 + 5 + 5 + 3 - 5) 8.\n",
    "\n",
    "If the final score is negative, return 0 (e.g. 3 #s, 3 !!s, 2 !!!s and a X would be (0 + 5 + 5 + 5 - 3 - 3 - 3 - 5 - 5 + 1) -3, so return 0.\n",
    "\n",
    "Examples\n",
    "\n",
    "check_score([\n",
    "  [\"#\", \"!\"],\n",
    "  [\"!!\", \"X\"]\n",
    "]) ➞ 2\n",
    "\n",
    "check_score([\n",
    "  [\"!!!\", \"O\", \"!\"],\n",
    "  [\"X\", \"#\", \"!!!\"],\n",
    "  [\"!!\", \"X\", \"O\"]\n",
    "]) ➞ 0"
   ]
  },
  {
   "cell_type": "code",
   "execution_count": 2,
   "id": "dd13c494",
   "metadata": {},
   "outputs": [
    {
     "name": "stdout",
     "output_type": "stream",
     "text": [
      "Please enter list of lists : [   [\"!!!\", \"O\", \"!\"],   [\"X\", \"#\", \"!!!\"],   [\"!!\", \"X\", \"O\"] ]\n",
      "Output score is : 0\n"
     ]
    }
   ],
   "source": [
    "#1->\n",
    "def check_score(List):\n",
    "    \"\"\"It will return score from list of lists\"\"\"\n",
    "    score = 0\n",
    "    for i in List:\n",
    "        for j in i:\n",
    "            if j == '#':\n",
    "                score += 5\n",
    "            elif j == 'O':\n",
    "                score += 3\n",
    "            elif j == 'X':\n",
    "                score += 1\n",
    "            elif j == '!':\n",
    "                score -= 1\n",
    "            elif j == '!!':\n",
    "                score -= 3\n",
    "            elif j == '!!!':\n",
    "                score -= 5\n",
    "    if score < 0:\n",
    "        return 0\n",
    "    else:\n",
    "        return score\n",
    "List = eval(input(\"Please enter list of lists : \"))\n",
    "print(\"Output score is :\",check_score(List))            "
   ]
  },
  {
   "cell_type": "raw",
   "id": "5c42e9e7",
   "metadata": {},
   "source": [
    "2. Create a function that takes a variable number of arguments, each argument representing the number of items in a group, and returns the number of permutations (combinations) of items that you could get by taking one item from each group.\n",
    "\n",
    "Examples\n",
    "\n",
    "combinations(2, 3) ➞ 6\n",
    "\n",
    "combinations(3, 7, 4) ➞ 84\n",
    "\n",
    "combinations(2, 3, 4, 5) ➞ 120"
   ]
  },
  {
   "cell_type": "code",
   "execution_count": 7,
   "id": "9afa1195",
   "metadata": {},
   "outputs": [
    {
     "name": "stdout",
     "output_type": "stream",
     "text": [
      "Please enter number of items in each group comma-space separated : 3, 7, 4\n",
      "Total number of combination is : 84\n"
     ]
    }
   ],
   "source": [
    "#2->\n",
    "def combinations(string):\n",
    "    \"\"\"It will return combination with each number of groups\"\"\"\n",
    "    p = 1\n",
    "    for i in string.split(', '):\n",
    "        p *= int(i)\n",
    "    return p\n",
    "string = input(\"Please enter number of items in each group comma-space separated : \")\n",
    "print(\"Total number of combination is :\",combinations(string))"
   ]
  },
  {
   "cell_type": "raw",
   "id": "c44917fb",
   "metadata": {},
   "source": [
    "3. Create a function that takes a string as an argument and returns the Morse code equivalent.\n",
    "\n",
    "Examples\n",
    "\n",
    "encode_morse(\"EDABBIT CHALLENGE\") ➞ \". -.. .- -... -... .. -   -.-. .... .- .-.. .-.. . -. --. .\"\n",
    "\n",
    "encode_morse(\"HELP ME !\") ➞ \".... . .-.. .--.   -- .   -.-.--\"\n",
    "\n",
    "This dictionary can be used for coding:\n",
    "\n",
    "char_to_dots = {\n",
    "  'A': '.-', 'B': '-...', 'C': '-.-.', 'D': '-..', 'E': '.', 'F': '..-.',\n",
    "  'G': '--.', 'H': '....', 'I': '..', 'J': '.---', 'K': '-.-', 'L': '.-..',\n",
    "  'M': '--', 'N': '-.', 'O': '---', 'P': '.--.', 'Q': '--.-', 'R': '.-.',\n",
    "  'S': '...', 'T': '-', 'U': '..-', 'V': '...-', 'W': '.--', 'X': '-..-',\n",
    "  'Y': '-.--', 'Z': '--..', ' ': ' ', '0': '-----',\n",
    "  '1': '.----', '2': '..---', '3': '...--', '4': '....-', '5': '.....',\n",
    "  '6': '-....', '7': '--...', '8': '---..', '9': '----.',\n",
    "  '&': '.-...', \"'\": '.----.', '@': '.--.-.', ')': '-.--.-', '(': '-.--.',\n",
    "  ':': '---...', ',': '--..--', '=': '-...-', '!': '-.-.--', '.': '.-.-.-',\n",
    "  '-': '-....-', '+': '.-.-.', '\"': '.-..-.', '?': '..--..', '/': '-..-.'\n",
    "}"
   ]
  },
  {
   "cell_type": "code",
   "execution_count": 22,
   "id": "f6cdd745",
   "metadata": {},
   "outputs": [
    {
     "name": "stdout",
     "output_type": "stream",
     "text": [
      "Please enter the string : HELP ME !\n",
      "Encoded string is : .... . .-.. .--.   -- .   -.-.-- \n"
     ]
    }
   ],
   "source": [
    "#3->\n",
    "def encode_morse(string):\n",
    "    \"\"\"It will encode the string\"\"\"\n",
    "    string1= ''\n",
    "    char_to_dots = {'A': '.-', 'B': '-...', 'C': '-.-.', 'D': '-..', 'E': '.', 'F': '..-.',\n",
    "                    'G': '--.', 'H': '....', 'I': '..', 'J': '.---', 'K': '-.-', 'L': '.-..',\n",
    "                    'M': '--', 'N': '-.', 'O': '---', 'P': '.--.', 'Q': '--.-', 'R': '.-.',\n",
    "                    'S': '...', 'T': '-', 'U': '..-', 'V': '...-', 'W': '.--', 'X': '-..-',\n",
    "                    'Y': '-.--', 'Z': '--..', ' ': ' ', '0': '-----', '1': '.----', '2': '..---',\n",
    "                    '3': '...--', '4': '....-', '5': '.....', '6': '-....', '7': '--...',\n",
    "                    '8': '---..', '9': '----.', '&': '.-...', \"'\": '.----.', '@': '.--.-.',\n",
    "                    ')': '-.--.-', '(': '-.--.', ':': '---...', ',': '--..--', '=': '-...-',\n",
    "                    '!': '-.-.--', '.': '.-.-.-', '-': '-....-', '+': '.-.-.', '\"': '.-..-.',\n",
    "                    '?': '..--..', '/': '-..-.'}\n",
    "    for i in string:\n",
    "        string1 += char_to_dots[i]+' '\n",
    "    return string1\n",
    "string = input(\"Please enter the string : \")\n",
    "print(\"Encoded string is :\",encode_morse(string))"
   ]
  },
  {
   "cell_type": "raw",
   "id": "15190d3c",
   "metadata": {},
   "source": [
    "4.  Write a function that takes a number and returns True if it's a prime; False otherwise. The number can be 2^64-1 (2 to the power of 63, not XOR). With the standard technique it would be O(2^64-1), which is much too large for the 10 second time limit.\n",
    "\n",
    "Examples\n",
    "\n",
    "prime(7) ➞ True\n",
    "\n",
    "prime(56963) ➞ True\n",
    "\n",
    "prime(5151512515524) ➞ False"
   ]
  },
  {
   "cell_type": "code",
   "execution_count": 27,
   "id": "9b142200",
   "metadata": {},
   "outputs": [
    {
     "name": "stdout",
     "output_type": "stream",
     "text": [
      "Please enter the number : 5151512515524\n",
      "5151512515524 is a prime number : False\n"
     ]
    }
   ],
   "source": [
    "#4->\n",
    "def prime(num):\n",
    "    \"\"\"It will return is given number is prime\"\"\"\n",
    "    for i in range(2,int(num/2)):\n",
    "        if num % i == 0:\n",
    "            return False\n",
    "    return True\n",
    "num = int(input(\"Please enter the number : \"))\n",
    "print(num,\"is a prime number :\",prime(num))"
   ]
  },
  {
   "cell_type": "raw",
   "id": "852ff50f",
   "metadata": {},
   "source": [
    "5.  Create a function that converts a word to a bitstring and then to a boolean list based on the following criteria:\n",
    "\n",
    "    1. Locate the position of the letter in the English alphabet (from 1 to 26).\n",
    "    2. Odd positions will be represented as 1 and 0 otherwise.\n",
    "    3. Convert the represented positions to boolean values, 1 for True and 0 for False.\n",
    "    4. Store the conversions into an array.\n",
    "\n",
    " Examples\n",
    "\n",
    "to_boolean_list(\"deep\") ➞ [False, True, True, False]\n",
    "# deep converts to 0110\n",
    "# d is the 4th alphabet - 0\n",
    "# e is the 5th alphabet - 1\n",
    "# e is the 5th alphabet - 1\n",
    "# p is the 16th alphabet - 0\n",
    "\n",
    "to_boolean_list(\"loves\") ➞ [False, True, False, True, True]\n",
    "\n",
    "to_boolean_list(\"tesh\") ➞ [False, True, True, False]"
   ]
  },
  {
   "cell_type": "code",
   "execution_count": 50,
   "id": "f1744b01",
   "metadata": {},
   "outputs": [
    {
     "name": "stdout",
     "output_type": "stream",
     "text": [
      "Please enter the string : loves\n",
      "Boolean list is : [False, True, False, True, True]\n"
     ]
    }
   ],
   "source": [
    "#5->\n",
    "def to_boolean_list(string):\n",
    "    \"\"\"It will return boolean list of values according to letter position and binari covertion\"\"\"\n",
    "    List = []\n",
    "    for i in string:\n",
    "        if (ord(i.lower())-96) % 2 == 0:\n",
    "            List.append(False)\n",
    "        else:\n",
    "            List.append(True)\n",
    "    return List\n",
    "string = input(\"Please enter the string : \")\n",
    "print(\"Boolean list is :\",to_boolean_list(\"loves\"))"
   ]
  },
  {
   "cell_type": "code",
   "execution_count": null,
   "id": "3f8ac6ab",
   "metadata": {},
   "outputs": [],
   "source": []
  }
 ],
 "metadata": {
  "kernelspec": {
   "display_name": "Python 3 (ipykernel)",
   "language": "python",
   "name": "python3"
  },
  "language_info": {
   "codemirror_mode": {
    "name": "ipython",
    "version": 3
   },
   "file_extension": ".py",
   "mimetype": "text/x-python",
   "name": "python",
   "nbconvert_exporter": "python",
   "pygments_lexer": "ipython3",
   "version": "3.9.7"
  }
 },
 "nbformat": 4,
 "nbformat_minor": 5
}
