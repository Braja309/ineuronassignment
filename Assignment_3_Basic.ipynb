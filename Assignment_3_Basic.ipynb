{
 "cells": [
  {
   "cell_type": "markdown",
   "id": "3ae5ca4d",
   "metadata": {},
   "source": [
    "1-> Code can be reutilize in multiple places. Function reduces duplicate code."
   ]
  },
  {
   "cell_type": "markdown",
   "id": "86913489",
   "metadata": {},
   "source": [
    "2-> When it's called."
   ]
  },
  {
   "cell_type": "markdown",
   "id": "1d565820",
   "metadata": {},
   "source": [
    "3-> \n",
    "\n",
    "    def function_name(arguments):\n",
    "        #Code Operation"
   ]
  },
  {
   "cell_type": "markdown",
   "id": "3342fca5",
   "metadata": {},
   "source": [
    "4-> \n",
    "\n",
    "     function - It is the definition, which holds lines of code so that it can e reutilized.\n",
    "     function call - from where function is getting called. It can be called from multiple places. "
   ]
  },
  {
   "cell_type": "markdown",
   "id": "7f6c76a1",
   "metadata": {},
   "source": [
    "5-> There can be only one global scope where program main script is written. Local scope is there in each of the function, which are getting called from main script."
   ]
  },
  {
   "cell_type": "markdown",
   "id": "9fd2b4ff",
   "metadata": {},
   "source": [
    "6-> All the Local scope in that function (which return a output) are forgotten. It will not be accessable from main script. "
   ]
  },
  {
   "cell_type": "markdown",
   "id": "20647a57",
   "metadata": {},
   "source": [
    "7-> Return is to get an outcome from a particular function. Yes, It is possible to put expression to a return statement, and it will return final output value from that expression. "
   ]
  },
  {
   "cell_type": "markdown",
   "id": "dc5075b6",
   "metadata": {},
   "source": [
    "8-> None"
   ]
  },
  {
   "cell_type": "markdown",
   "id": "b0c01ffc",
   "metadata": {},
   "source": [
    "9-> A global statement will force a variable in a function to refer to the global variable. Global varibale can be passed as an argument for that function, which can be referred in a local variable."
   ]
  },
  {
   "cell_type": "code",
   "execution_count": 1,
   "id": "176ecf20",
   "metadata": {},
   "outputs": [
    {
     "data": {
      "text/plain": [
       "NoneType"
      ]
     },
     "execution_count": 1,
     "metadata": {},
     "output_type": "execute_result"
    }
   ],
   "source": [
    "#10-> NoneType\n",
    "type(None)"
   ]
  },
  {
   "cell_type": "markdown",
   "id": "305de79f",
   "metadata": {},
   "source": [
    "11-> import statement is to import modules. There is no mudule called partareallyourpetsnamederic in python"
   ]
  },
  {
   "cell_type": "markdown",
   "id": "38b6b3c6",
   "metadata": {},
   "source": [
    "12-> spam.bacon()"
   ]
  },
  {
   "cell_type": "markdown",
   "id": "547fb138",
   "metadata": {},
   "source": [
    "13-> We can use try-except blocks. write a line of code in except block to save a programme from crashing in try block."
   ]
  },
  {
   "cell_type": "markdown",
   "id": "52a69208",
   "metadata": {},
   "source": [
    "14-> \n",
    "\n",
    "    try clause - code that could potentially cause an error.\n",
    "    except clause - Code that executes if an error happens in try block."
   ]
  },
  {
   "cell_type": "code",
   "execution_count": null,
   "id": "bcb30f14",
   "metadata": {},
   "outputs": [],
   "source": []
  }
 ],
 "metadata": {
  "kernelspec": {
   "display_name": "Python 3 (ipykernel)",
   "language": "python",
   "name": "python3"
  },
  "language_info": {
   "codemirror_mode": {
    "name": "ipython",
    "version": 3
   },
   "file_extension": ".py",
   "mimetype": "text/x-python",
   "name": "python",
   "nbconvert_exporter": "python",
   "pygments_lexer": "ipython3",
   "version": "3.9.7"
  }
 },
 "nbformat": 4,
 "nbformat_minor": 5
}
