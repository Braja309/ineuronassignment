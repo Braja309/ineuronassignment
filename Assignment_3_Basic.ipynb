{
 "cells": [
  {
   "cell_type": "raw",
   "id": "1c65299d",
   "metadata": {},
   "source": [
    "1. Why are functions advantageous to have in your programs?"
   ]
  },
  {
   "cell_type": "markdown",
   "id": "3ae5ca4d",
   "metadata": {},
   "source": [
    "Ans -  Code can be reutilize in multiple places. Function reduces duplicate code."
   ]
  },
  {
   "cell_type": "raw",
   "id": "0fb5528c",
   "metadata": {},
   "source": [
    "2. When does the code in a function run: when it's specified or when it's called?"
   ]
  },
  {
   "cell_type": "markdown",
   "id": "86913489",
   "metadata": {},
   "source": [
    "Ans - When it's called."
   ]
  },
  {
   "cell_type": "raw",
   "id": "280e319a",
   "metadata": {},
   "source": [
    "3. What statement creates a function?"
   ]
  },
  {
   "cell_type": "markdown",
   "id": "1d565820",
   "metadata": {},
   "source": [
    "Ans - \n",
    "\n",
    "    def function_name(arguments):\n",
    "        #Code Operation"
   ]
  },
  {
   "cell_type": "raw",
   "id": "77b7726e",
   "metadata": {},
   "source": [
    "4. What is the difference between a function and a function call?"
   ]
  },
  {
   "cell_type": "markdown",
   "id": "3342fca5",
   "metadata": {},
   "source": [
    "Ans - \n",
    "\n",
    "     function - It is the definition, which holds lines of code so that it can e reutilized.\n",
    "     function call - from where function is getting called. It can be called from multiple places. "
   ]
  },
  {
   "cell_type": "raw",
   "id": "7e6a8f72",
   "metadata": {},
   "source": [
    "5. How many global scopes are there in a Python program? How many local scopes?"
   ]
  },
  {
   "cell_type": "markdown",
   "id": "7f6c76a1",
   "metadata": {},
   "source": [
    "Ans - There can be only one global scope where program main script is written. Local scope is there in each of the function, which are getting called from main script."
   ]
  },
  {
   "cell_type": "raw",
   "id": "2ba572e1",
   "metadata": {},
   "source": [
    "6. What happens to variables in a local scope when the function call returns?"
   ]
  },
  {
   "cell_type": "markdown",
   "id": "9fd2b4ff",
   "metadata": {},
   "source": [
    "Ans - All the Local scope in that function (which return a output) are forgotten. It will not be accessable from main script. "
   ]
  },
  {
   "cell_type": "raw",
   "id": "c58edf26",
   "metadata": {},
   "source": [
    "7. What is the concept of a return value? Is it possible to have a return value in an expression?"
   ]
  },
  {
   "cell_type": "markdown",
   "id": "20647a57",
   "metadata": {},
   "source": [
    "Ans - Return is to get an outcome from a particular function. Yes, It is possible to put expression to a return statement, and it will return final output value from that expression. "
   ]
  },
  {
   "cell_type": "raw",
   "id": "f7012163",
   "metadata": {},
   "source": [
    "8. If a function does not have a return statement, what is the return value of a call to that function?"
   ]
  },
  {
   "cell_type": "markdown",
   "id": "dc5075b6",
   "metadata": {},
   "source": [
    "Ans - None"
   ]
  },
  {
   "cell_type": "raw",
   "id": "76180b85",
   "metadata": {},
   "source": [
    "9. How do you make a function variable refer to the global variable?"
   ]
  },
  {
   "cell_type": "markdown",
   "id": "b0c01ffc",
   "metadata": {},
   "source": [
    "Ans - A global statement will force a variable in a function to refer to the global variable. Global varibale can be passed as an argument for that function, which can be referred in a local variable."
   ]
  },
  {
   "cell_type": "raw",
   "id": "1a486089",
   "metadata": {},
   "source": [
    "10. What is the data type of None?"
   ]
  },
  {
   "cell_type": "code",
   "execution_count": 4,
   "id": "176ecf20",
   "metadata": {},
   "outputs": [
    {
     "data": {
      "text/plain": [
       "NoneType"
      ]
     },
     "execution_count": 4,
     "metadata": {},
     "output_type": "execute_result"
    }
   ],
   "source": [
    "#Ans - NoneType\n",
    "type(None)"
   ]
  },
  {
   "cell_type": "raw",
   "id": "929bcb29",
   "metadata": {},
   "source": [
    "11. What does the sentence import areallyourpetsnamederic do?"
   ]
  },
  {
   "cell_type": "markdown",
   "id": "305de79f",
   "metadata": {},
   "source": [
    "Ans - import statement is to import modules. There is no mudule called partareallyourpetsnamederic in python"
   ]
  },
  {
   "cell_type": "raw",
   "id": "d42013a9",
   "metadata": {},
   "source": [
    "12. If you had a bacon() feature in a spam module, what would you call it after importing spam?"
   ]
  },
  {
   "cell_type": "markdown",
   "id": "38b6b3c6",
   "metadata": {},
   "source": [
    "Ans - spam.bacon()"
   ]
  },
  {
   "cell_type": "raw",
   "id": "d35efd86",
   "metadata": {},
   "source": [
    "13. What can you do to save a programme from crashing if it encounters an error?"
   ]
  },
  {
   "cell_type": "markdown",
   "id": "547fb138",
   "metadata": {},
   "source": [
    "Ans - We can use try-except blocks. write a line of code in except block to save a programme from crashing in try block."
   ]
  },
  {
   "cell_type": "raw",
   "id": "fb50dc1a",
   "metadata": {},
   "source": [
    "14. What is the purpose of the try clause? What is the purpose of the except clause?"
   ]
  },
  {
   "cell_type": "markdown",
   "id": "52a69208",
   "metadata": {},
   "source": [
    "Ans - \n",
    "\n",
    "    try clause - code that could potentially cause an error.\n",
    "    except clause - Code that executes if an error happens in try block."
   ]
  },
  {
   "cell_type": "code",
   "execution_count": null,
   "id": "bcb30f14",
   "metadata": {},
   "outputs": [],
   "source": []
  }
 ],
 "metadata": {
  "kernelspec": {
   "display_name": "Python 3 (ipykernel)",
   "language": "python",
   "name": "python3"
  },
  "language_info": {
   "codemirror_mode": {
    "name": "ipython",
    "version": 3
   },
   "file_extension": ".py",
   "mimetype": "text/x-python",
   "name": "python",
   "nbconvert_exporter": "python",
   "pygments_lexer": "ipython3",
   "version": "3.9.7"
  }
 },
 "nbformat": 4,
 "nbformat_minor": 5
}
