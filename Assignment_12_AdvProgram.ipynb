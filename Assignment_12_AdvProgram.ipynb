{
 "cells": [
  {
   "cell_type": "raw",
   "id": "b8da04d6",
   "metadata": {},
   "source": [
    "1. For this challenge, forget how to add two numbers together. The best explanation on what to do for this function is this meme:\n",
    "\n",
    "\n",
    "\n",
    "\n",
    "Examples\n",
    "\n",
    "meme_sum(26, 39) ➞ 515\n",
    "# 2+3 = 5, 6+9 = 15\n",
    "# 26 + 39 = 515\n",
    "\n",
    "meme_sum(122, 81) ➞ 1103\n",
    "# 1+0 = 1, 2+8 = 10, 2+1 = 3\n",
    "# 122 + 81 = 1103\n",
    "\n",
    "meme_sum(1222, 30277) ➞ 31499"
   ]
  },
  {
   "cell_type": "code",
   "execution_count": 8,
   "id": "ac303b58",
   "metadata": {},
   "outputs": [
    {
     "name": "stdout",
     "output_type": "stream",
     "text": [
      "Please enter the first number : 1222\n",
      "Please enter the second number : 30277\n",
      "Meme sum of 1222 and 30277 is : 31499\n"
     ]
    }
   ],
   "source": [
    "#1->\n",
    "def meme_sum(num1,num2):\n",
    "    '''It will return digit wise sum of two numbers'''\n",
    "    if len(str(num1))>len(str(num2)):\n",
    "        num1str = str(num1)\n",
    "        num2str = \"0\"*(len(str(num1))-len(str(num2)))+str(num2)\n",
    "    elif len(str(num2))>len(str(num1)):\n",
    "        num1str = \"0\"*(len(str(num2))-len(str(num1)))+str(num1)\n",
    "        num2str = str(num2)\n",
    "    else:\n",
    "        num1str = str(num1)\n",
    "        num2str = str(num2)\n",
    "    string = \"\"\n",
    "    for i in range(len(num1str)):\n",
    "        string += str(int(num1str[i])+int(num2str[i]))\n",
    "    return int(string)\n",
    "num1 = int(input(\"Please enter the first number : \")) \n",
    "num2 = int(input(\"Please enter the second number : \")) \n",
    "print(\"Meme sum of\",num1,\"and\",num2,\"is :\",meme_sum(num1,num2))"
   ]
  },
  {
   "cell_type": "raw",
   "id": "4508c487",
   "metadata": {},
   "source": [
    "2. Given an integer, create a function that returns the next prime. If the number is prime, return the number itself.\n",
    "\n",
    "Examples\n",
    "\n",
    "next_prime(12) ➞ 13\n",
    "\n",
    "next_prime(24) ➞ 29\n",
    "\n",
    "next_prime(11) ➞ 11\n",
    "# 11 is a prime, so we return the number itself."
   ]
  },
  {
   "cell_type": "code",
   "execution_count": 41,
   "id": "828af538",
   "metadata": {},
   "outputs": [
    {
     "name": "stdout",
     "output_type": "stream",
     "text": [
      "Please enter the number : 24\n",
      "Next prime number is : 2\n"
     ]
    }
   ],
   "source": [
    "#2->\n",
    "def next_prime(num):\n",
    "    '''It will return next prime number inclusive the number'''\n",
    "    i = num\n",
    "    while 1>i>=num:\n",
    "        Prime = True\n",
    "        for j in range(2,i//2):\n",
    "            if i%j == 0:\n",
    "                Prime = False\n",
    "                break\n",
    "        if Prime == False:\n",
    "            i +=1\n",
    "        else:\n",
    "            return i\n",
    "    else:\n",
    "        return 2\n",
    "num = int(input(\"Please enter the number : \"))\n",
    "print(\"Next prime number is :\",next_prime(num))"
   ]
  },
  {
   "cell_type": "raw",
   "id": "9c14396a",
   "metadata": {},
   "source": [
    "3. If a person traveled up a hill for 18mins at 20mph and then traveled back down the same path at 60mph then their average speed traveled was 30mph.\n",
    "\n",
    "Write a function that returns the average speed traveled given an uphill time, uphill rate and a downhill rate. Uphill time is given in minutes. Return the rate as an integer (mph). No rounding is necessary.\n",
    "\n",
    "Examples\n",
    "\n",
    "ave_spd(18, 20, 60) ➞ 30\n",
    "\n",
    "ave_spd(30, 10, 30) ➞ 15\n",
    "\n",
    "ave_spd(30, 8, 24) ➞ 12"
   ]
  },
  {
   "cell_type": "code",
   "execution_count": 52,
   "id": "30750764",
   "metadata": {},
   "outputs": [
    {
     "name": "stdout",
     "output_type": "stream",
     "text": [
      "Please enter uphill time : 30\n",
      "Please enter uphill speed : 8\n",
      "Please enter downhill speed : 24\n",
      "Average Speed is : 12\n"
     ]
    }
   ],
   "source": [
    "#3->\n",
    "def ave_spd(up_time,uprate,downrate):\n",
    "    '''It will average travel speed'''\n",
    "    distance = (up_time*uprate)/60\n",
    "    return round(((2*distance)/(up_time+((60/downrate)*distance)))*60)\n",
    "up_time = int(input(\"Please enter uphill time : \"))\n",
    "uprate = int(input(\"Please enter uphill speed : \"))\n",
    "downrate = int(input(\"Please enter downhill speed : \"))\n",
    "print(\"Average Speed is :\",ave_spd(up_time,uprate,downrate))"
   ]
  },
  {
   "cell_type": "raw",
   "id": "6b79a948",
   "metadata": {},
   "source": [
    "4. The Kempner Function, applied to a composite number, permits to find the smallest integer greater than zero whose factorial is exactly divided by the number.\n",
    "\n",
    "kempner(6) ➞ 3\n",
    "\n",
    "1! = 1 % 6 > 0\n",
    "2! = 2 % 6 > 0\n",
    "3! = 6 % 6 === 0\n",
    "\n",
    "kempner(10) ➞ 5\n",
    "\n",
    "1! = 1 % 10 > 0\n",
    "2! = 2 % 10 > 0\n",
    "3! = 6 % 10 > 0\n",
    "4! = 24 % 10 > 0\n",
    "5! = 120 % 10 === 0\n",
    "\n",
    "A Kempner Function applied to a prime will always return the prime itself.\n",
    "\n",
    "kempner(2) ➞ 2\n",
    "kempner(5) ➞ 5\n",
    "\n",
    "Given an integer n, implement a Kempner Function.\n",
    "\n",
    "Examples\n",
    "\n",
    "kempner(6) ➞ 3\n",
    "\n",
    "kempner(10) ➞ 5\n",
    "\n",
    "kempner(2) ➞ 2"
   ]
  },
  {
   "cell_type": "code",
   "execution_count": 10,
   "id": "b9aaea25",
   "metadata": {},
   "outputs": [
    {
     "name": "stdout",
     "output_type": "stream",
     "text": [
      "Please enter the number : 13\n",
      "Output is : 13\n"
     ]
    }
   ],
   "source": [
    "#4->\n",
    "def factorial(num):\n",
    "    '''It will return factorial of a number'''\n",
    "    if num==1:\n",
    "        return num\n",
    "    else:\n",
    "        return num*factorial(num-1)\n",
    "def kempner(num):\n",
    "    '''It will return smallest integer greater than zero whose factorial is exactly divided by the number'''\n",
    "    for i in range(1,num+1):\n",
    "        if factorial(i)%num == 0:\n",
    "            return i\n",
    "number = int(input(\"Please enter the number : \"))\n",
    "print(\"Output is :\",kempner(number))"
   ]
  },
  {
   "cell_type": "raw",
   "id": "b0999a47",
   "metadata": {},
   "source": [
    "5. You work in a factory, and your job is to take items from a conveyor belt and pack them into boxes. Each box can hold a maximum of 10 kgs. Given a list containing the weight (in kg) of each item, how many boxes would you need to pack all of the items?\n",
    "\n",
    "Example\n",
    "\n",
    "boxes([2, 1, 2, 5, 4, 3, 6, 1, 1, 9, 3, 2]) ➞ 5\n",
    "\n",
    "# Box 1 = [2, 1, 2, 5] (10kg)\n",
    "# Box 2 = [4, 3] (7kg)\n",
    "# Box 3 = [6, 1, 1] (8kg)\n",
    "# Box 4 = [9] (9kg)\n",
    "# Box 5 = [3, 2] (5kg)"
   ]
  },
  {
   "cell_type": "code",
   "execution_count": 17,
   "id": "6c8bc660",
   "metadata": {},
   "outputs": [
    {
     "name": "stdout",
     "output_type": "stream",
     "text": [
      "Please enter list bag weight : [2, 1, 2, 5, 4, 3, 6, 1, 1, 9, 3, 2]\n",
      "Total box required is : 5\n"
     ]
    }
   ],
   "source": [
    "#5->\n",
    "def boxes(List):\n",
    "    '''It will return number box'''\n",
    "    s = 0\n",
    "    count = 0\n",
    "    i = 0\n",
    "    while i <len(List):\n",
    "        s += List[i]\n",
    "        if s>10:\n",
    "            count += 1\n",
    "            s = 0\n",
    "        else:\n",
    "            i +=1\n",
    "    return count+1\n",
    "List = eval(input(\"Please enter list bag weight : \"))\n",
    "print(\"Total box required is :\",boxes(List))"
   ]
  },
  {
   "cell_type": "code",
   "execution_count": null,
   "id": "4e717099",
   "metadata": {},
   "outputs": [],
   "source": []
  }
 ],
 "metadata": {
  "kernelspec": {
   "display_name": "Python 3 (ipykernel)",
   "language": "python",
   "name": "python3"
  },
  "language_info": {
   "codemirror_mode": {
    "name": "ipython",
    "version": 3
   },
   "file_extension": ".py",
   "mimetype": "text/x-python",
   "name": "python",
   "nbconvert_exporter": "python",
   "pygments_lexer": "ipython3",
   "version": "3.9.7"
  }
 },
 "nbformat": 4,
 "nbformat_minor": 5
}
