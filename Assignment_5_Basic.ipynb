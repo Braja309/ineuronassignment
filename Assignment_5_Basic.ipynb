{
 "cells": [
  {
   "cell_type": "raw",
   "id": "9c57d4f5",
   "metadata": {},
   "source": [
    "1. What does an empty dictionary's code look like?"
   ]
  },
  {
   "cell_type": "markdown",
   "id": "2c9ebc66",
   "metadata": {},
   "source": [
    "Ans - {}"
   ]
  },
  {
   "cell_type": "raw",
   "id": "9a0f4149",
   "metadata": {},
   "source": [
    "2. What is the value of a dictionary value with the key 'foo' and the value 42?"
   ]
  },
  {
   "cell_type": "markdown",
   "id": "fe252a79",
   "metadata": {},
   "source": [
    "Ans = {'foo':42}"
   ]
  },
  {
   "cell_type": "raw",
   "id": "af8457f9",
   "metadata": {},
   "source": [
    "3. What is the most significant distinction between a dictionary and a list?"
   ]
  },
  {
   "cell_type": "markdown",
   "id": "6d8ed422",
   "metadata": {},
   "source": [
    "Ans - Items in a dictionary are unordered, where items in a list is ordered."
   ]
  },
  {
   "cell_type": "raw",
   "id": "c4900761",
   "metadata": {},
   "source": [
    "4. What happens if you try to access spam['foo'] if spam is {'bar': 100}?"
   ]
  },
  {
   "cell_type": "markdown",
   "id": "eac5006c",
   "metadata": {},
   "source": [
    "Ans - It will return keyerror as key 'foo' is not available in spam dictionary."
   ]
  },
  {
   "cell_type": "raw",
   "id": "96d7b4fe",
   "metadata": {},
   "source": [
    "5. If a dictionary is stored in spam, what is the difference between the expressions 'cat' in spam and 'cat' in spam.keys()?"
   ]
  },
  {
   "cell_type": "markdown",
   "id": "6bbeb221",
   "metadata": {},
   "source": [
    "Ans - Both are same. It will check if 'cat' is exist as a key in the spam dictionary."
   ]
  },
  {
   "cell_type": "raw",
   "id": "425ac9ce",
   "metadata": {},
   "source": [
    "6. If a dictionary is stored in spam, what is the difference between the expressions 'cat' in spam and 'cat' in spam.values()?"
   ]
  },
  {
   "cell_type": "markdown",
   "id": "ccf29575",
   "metadata": {},
   "source": [
    "Ans - \n",
    "\n",
    "    'cat' in spam - if 'cat' is exist as a key in the spam dictionary.\n",
    "    'cat' in spam.values() - if there is a value 'cat' exist for one of the key in spam dictionary. "
   ]
  },
  {
   "cell_type": "raw",
   "id": "63627cbd",
   "metadata": {},
   "source": [
    "7. What is a shortcut for the following code?\n",
    "if 'color' not in spam:\n",
    "    spam['color'] = 'black'"
   ]
  },
  {
   "cell_type": "markdown",
   "id": "c75bbcdc",
   "metadata": {},
   "source": [
    "Ans - spam.setdefault('color','black')"
   ]
  },
  {
   "cell_type": "raw",
   "id": "b63960c0",
   "metadata": {},
   "source": [
    "8. How do you \"pretty print\" dictionary values using which module and function?"
   ]
  },
  {
   "cell_type": "markdown",
   "id": "7f28e66b",
   "metadata": {},
   "source": [
    "Ans - pprint()"
   ]
  },
  {
   "cell_type": "code",
   "execution_count": null,
   "id": "d8887d21",
   "metadata": {},
   "outputs": [],
   "source": []
  }
 ],
 "metadata": {
  "kernelspec": {
   "display_name": "Python 3 (ipykernel)",
   "language": "python",
   "name": "python3"
  },
  "language_info": {
   "codemirror_mode": {
    "name": "ipython",
    "version": 3
   },
   "file_extension": ".py",
   "mimetype": "text/x-python",
   "name": "python",
   "nbconvert_exporter": "python",
   "pygments_lexer": "ipython3",
   "version": "3.9.7"
  }
 },
 "nbformat": 4,
 "nbformat_minor": 5
}
