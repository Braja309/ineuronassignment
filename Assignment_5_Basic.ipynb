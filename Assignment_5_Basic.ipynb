{
 "cells": [
  {
   "cell_type": "markdown",
   "id": "2c9ebc66",
   "metadata": {},
   "source": [
    "1-> {}"
   ]
  },
  {
   "cell_type": "markdown",
   "id": "fe252a79",
   "metadata": {},
   "source": [
    "2-> {'foo':42}"
   ]
  },
  {
   "cell_type": "markdown",
   "id": "6d8ed422",
   "metadata": {},
   "source": [
    "3-> Items in a dictionary are unordered, where items in a list is ordered."
   ]
  },
  {
   "cell_type": "markdown",
   "id": "eac5006c",
   "metadata": {},
   "source": [
    "4-> It will return keyerror as key 'foo' is not available in spam dictionary."
   ]
  },
  {
   "cell_type": "markdown",
   "id": "6bbeb221",
   "metadata": {},
   "source": [
    "5-> Both are same. It will check if 'cat' is exist as a key in the spam dictionary."
   ]
  },
  {
   "cell_type": "markdown",
   "id": "ccf29575",
   "metadata": {},
   "source": [
    "6-> \n",
    "\n",
    "    'cat' in spam - if 'cat' is exist as a key in the spam dictionary.\n",
    "    'cat' in spam.values() - if there is a value 'cat' exist for one of the key in spam dictionary. "
   ]
  },
  {
   "cell_type": "markdown",
   "id": "c75bbcdc",
   "metadata": {},
   "source": [
    "7-> spam.setdefault('color','black')"
   ]
  },
  {
   "cell_type": "markdown",
   "id": "7f28e66b",
   "metadata": {},
   "source": [
    "8-> pprint()"
   ]
  },
  {
   "cell_type": "code",
   "execution_count": null,
   "id": "d8887d21",
   "metadata": {},
   "outputs": [],
   "source": []
  }
 ],
 "metadata": {
  "kernelspec": {
   "display_name": "Python 3 (ipykernel)",
   "language": "python",
   "name": "python3"
  },
  "language_info": {
   "codemirror_mode": {
    "name": "ipython",
    "version": 3
   },
   "file_extension": ".py",
   "mimetype": "text/x-python",
   "name": "python",
   "nbconvert_exporter": "python",
   "pygments_lexer": "ipython3",
   "version": "3.9.7"
  }
 },
 "nbformat": 4,
 "nbformat_minor": 5
}
