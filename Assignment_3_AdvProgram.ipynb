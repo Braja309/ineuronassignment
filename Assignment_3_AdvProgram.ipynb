{
 "cells": [
  {
   "cell_type": "raw",
   "id": "e961de08",
   "metadata": {},
   "source": [
    "1. Create a function to perform basic arithmetic operations that includes addition, subtraction, multiplication and division on a string number (e.g. \"12 + 24\" or \"23 - 21\" or \"12 // 12\" or \"12 * 21\").\n",
    "\n",
    "Here, we have 1 followed by a space, operator followed by another space and 2. For the challenge, we are going to have only two numbers between 1 valid operator. The return value should be a number.\n",
    "\n",
    "eval() is not allowed. In case of division, whenever the second number equals \"0\" return -1.\n",
    "\n",
    "For example:\n",
    "\n",
    "\"15 // 0\"  ➞ -1\n",
    "\n",
    "Examples\n",
    "\n",
    "arithmetic_operation(\"12 + 12\") ➞ 24 // 12 + 12 = 24\n",
    "\n",
    "arithmetic_operation(\"12 - 12\") ➞ 24 // 12 - 12 = 0\n",
    "\n",
    "arithmetic_operation(\"12 * 12\") ➞ 144 // 12 * 12 = 144\n",
    "\n",
    "arithmetic_operation(\"12 // 0\") ➞ -1 // 12 / 0 = -1"
   ]
  },
  {
   "cell_type": "code",
   "execution_count": 8,
   "id": "5e0788b7",
   "metadata": {},
   "outputs": [
    {
     "name": "stdout",
     "output_type": "stream",
     "text": [
      "Please enter the arithmetic operation expression : 12 * 12\n",
      "Result is : 144\n"
     ]
    }
   ],
   "source": [
    "#1->\n",
    "def arithmetic_operation(string):\n",
    "    \"\"\"It will do arithmetic operations on a string expression\"\"\"\n",
    "    a = int(string.split(' ')[0])\n",
    "    op = string.split(' ')[1]\n",
    "    b = int(string.split(' ')[2])\n",
    "    if op == '+':\n",
    "        return a+b\n",
    "    elif op == '-':\n",
    "        return a-b\n",
    "    elif op == '*':\n",
    "        return a*b\n",
    "    elif op == '//':\n",
    "        if b == 0:\n",
    "            return -1\n",
    "        else:\n",
    "            return a // b\n",
    "string = input(\"Please enter the arithmetic operation expression : \")\n",
    "print(\"Result is :\",arithmetic_operation(string))"
   ]
  },
  {
   "cell_type": "raw",
   "id": "b1ada655",
   "metadata": {},
   "source": [
    "2. Write a function that takes the coordinates of three points in the form of a 2d array and returns the perimeter of the triangle. The given points are the vertices of a triangle on a two-dimensional plane.\n",
    "\n",
    "Examples\n",
    "\n",
    "perimeter( [ [15, 7], [5, 22], [11, 1] ] ) ➞ 47.08\n",
    "\n",
    "perimeter( [ [0, 0], [0, 1], [1, 0] ] ) ➞ 3.42\n",
    "\n",
    "perimeter( [ [-10, -10], [10, 10 ], [-10, 10] ] ) ➞ 68.28"
   ]
  },
  {
   "cell_type": "code",
   "execution_count": 50,
   "id": "81d11aa3",
   "metadata": {},
   "outputs": [
    {
     "name": "stdout",
     "output_type": "stream",
     "text": [
      "Please enter 3 list of points : [ [15, 7], [5, 22], [11, 1] ]\n",
      "Triangle perimeter is : 47.08\n"
     ]
    }
   ],
   "source": [
    "#2->\n",
    "def distance(x1,y1,x2,y2):\n",
    "    \"\"\"It will return distance between two points\"\"\"\n",
    "    return ((x1-x2)**2+(y1-y2)**2)**(1/2)\n",
    "def perimeter(List):\n",
    "    x1, y1 = List[0][0], List[0][1]\n",
    "    x2, y2 = List[1][0], List[1][1]\n",
    "    x3, y3 = List[2][0], List[2][1]\n",
    "    len1 = distance(x1,y1,x2,y2)\n",
    "    len2 = distance(x2,y2,x3,y3)\n",
    "    len3 = distance(x3,y3,x1,y1)\n",
    "    return round(len1+len2+len3,2)\n",
    "#(((List[0][0]-List[1][0])**2+(List[0][1]-List[1][1])**2)**(1/2))\n",
    "#+(((List[1][0]-List[2][0])**2+(List[1][1]-List[2][1])**2)**(1/2))\n",
    "#+(((List[2][0]-List[0][0])**2+(List[2][1]-List[0][1])**2)**(1/2))\n",
    "List = eval(input(\"Please enter 3 list of points : \"))\n",
    "print(\"Triangle perimeter is :\",perimeter(List))"
   ]
  },
  {
   "cell_type": "raw",
   "id": "d0cbf781",
   "metadata": {},
   "source": [
    "3. A city skyline can be represented as a 2-D list with 1s representing buildings. In the example below, the height of the tallest building is 4 (second-most right column).\n",
    "\n",
    "[[0, 0, 0, 0, 0, 0],\n",
    "[0, 0, 0, 0, 1, 0],\n",
    "[0, 0, 1, 0, 1, 0],\n",
    "[0, 1, 1, 1, 1, 0],\n",
    "[1, 1, 1, 1, 1, 1]]\n",
    "\n",
    "Create a function that takes a skyline (2-D list of 0's and 1's) and returns the height of the tallest skyscraper.\n",
    "\n",
    "Examples\n",
    "\n",
    "tallest_skyscraper([\n",
    "  [0, 0, 0, 0],\n",
    "  [0, 1, 0, 0],\n",
    "  [0, 1, 1, 0],\n",
    "  [1, 1, 1, 1]\n",
    "]) ➞ 3\n",
    "\n",
    "tallest_skyscraper([\n",
    "  [0, 1, 0, 0],\n",
    "  [0, 1, 0, 0],\n",
    "  [0, 1, 1, 0],\n",
    "  [1, 1, 1, 1]\n",
    "]) ➞ 4\n",
    "\n",
    "tallest_skyscraper([\n",
    "  [0, 0, 0, 0],\n",
    "  [0, 0, 0, 0],\n",
    "  [1, 1, 1, 0],\n",
    "  [1, 1, 1, 1]\n",
    "]) ➞ 2"
   ]
  },
  {
   "cell_type": "code",
   "execution_count": 56,
   "id": "7ff5d6f6",
   "metadata": {},
   "outputs": [
    {
     "name": "stdout",
     "output_type": "stream",
     "text": [
      "Please enter list of buildings : [   [0, 0, 0, 0],   [0, 0, 0, 0],   [1, 1, 1, 0],   [1, 1, 1, 1] ]\n",
      "Tallest building height is : 2\n"
     ]
    }
   ],
   "source": [
    "#3->\n",
    "def tallest_skyscraper(List):\n",
    "    \"\"\"It will return tallest building height\"\"\"\n",
    "    for i in range(len(List)):\n",
    "        if List[i].count(1)>0:\n",
    "            return len(List)-i\n",
    "List = eval(input(\"Please enter list of buildings : \"))\n",
    "print(\"Tallest building height is :\",tallest_skyscraper(List))"
   ]
  },
  {
   "cell_type": "raw",
   "id": "330a02d1",
   "metadata": {},
   "source": [
    "4. A financial institution provides professional services to banks and claims charges from the customers based on the number of man-days provided. Internally, it has set a scheme to motivate and reward staff to meet and exceed targeted billable utilization and revenues by paying a bonus for each day claimed from customers in excess of a threshold target.\n",
    "\n",
    "This quarterly scheme is calculated with a threshold target of 32 days per quarter, and the incentive payment for each billable day in excess of such threshold target is shown as follows:\n",
    "\n",
    "Days\t                             Bonus\n",
    "0 to 32 days\t                   Zero\n",
    "33 to 40 days\t         SGD$325 per billable day\n",
    "41 to 48 days\t         SGD$550 per billable day\n",
    "Greater than 48 days      SGD$600 per billable day\n",
    "\n",
    "Please note that incentive payment is calculated progressively. As an example, if an employee reached total billable days of 45 in a quarter, his/her incentive payment is computed as follows:\n",
    "\n",
    "32*0 + 8*325 + 5*550 = 5350\n",
    "\n",
    "Write a function to read the billable days of an employee and return the bonus he/she has obtained in that quarter.\n",
    "\n",
    "Examples\n",
    "\n",
    "bonus(15) ➞ 0\n",
    "\n",
    "bonus(37) ➞ 1625\n",
    "\n",
    "bonus(50) ➞ 8200"
   ]
  },
  {
   "cell_type": "code",
   "execution_count": 60,
   "id": "a0692185",
   "metadata": {},
   "outputs": [
    {
     "name": "stdout",
     "output_type": "stream",
     "text": [
      "Please enter number of billable days : 37\n",
      "Your bonus is :SGD$ 1625\n"
     ]
    }
   ],
   "source": [
    "#4->\n",
    "def bonus(num):\n",
    "    \"\"\"It will calculate bonus based on number of billable days\"\"\"\n",
    "    if num>32:\n",
    "        if num>40:\n",
    "            if num>48:\n",
    "                return (8*325)+(8*550)+((num-48)*600)\n",
    "            else:\n",
    "                return (8*325)+((num-40)*550)    \n",
    "        else:\n",
    "            return (num-32)*325\n",
    "    else:\n",
    "        return 0\n",
    "no_of_days = int(input(\"Please enter number of billable days : \"))\n",
    "print(\"Your bonus is :SGD$\",bonus(no_of_days))"
   ]
  },
  {
   "cell_type": "raw",
   "id": "9c9ca594",
   "metadata": {},
   "source": [
    "5. A number is said to be Disarium if the sum of its digits raised to their respective positions is the number itself.\n",
    "\n",
    "Create a function that determines whether a number is a Disarium or not.\n",
    "\n",
    "Examples\n",
    "\n",
    "is_disarium(75) ➞ False\n",
    "# 7^1 + 5^2 = 7 + 25 = 32\n",
    "\n",
    "is_disarium(135) ➞ True\n",
    "# 1^1 + 3^2 + 5^3 = 1 + 9 + 125 = 135\n",
    "\n",
    "is_disarium(544) ➞ False\n",
    "\n",
    "is_disarium(518) ➞ True\n",
    "\n",
    "is_disarium(466) ➞ False\n",
    "\n",
    "is_disarium(8) ➞ True"
   ]
  },
  {
   "cell_type": "code",
   "execution_count": 64,
   "id": "2b3e063d",
   "metadata": {},
   "outputs": [
    {
     "name": "stdout",
     "output_type": "stream",
     "text": [
      "Please enter the number : 518\n",
      "518 is disarium number : True\n"
     ]
    }
   ],
   "source": [
    "#5->\n",
    "def is_disarium(num):\n",
    "    \"\"\"It will return if the number is disarium\"\"\"\n",
    "    l = len(str(num))\n",
    "    sum = 0\n",
    "    num1 = num\n",
    "    for i in range(l,0,-1):\n",
    "        sum += (num%10)**i\n",
    "        num = num // 10\n",
    "        #print(num)\n",
    "    if num1 == sum:\n",
    "        return True\n",
    "    else:\n",
    "        return False\n",
    "num = int(input(\"Please enter the number : \"))\n",
    "print(num,\"is disarium number :\",is_disarium(num))\n",
    "        "
   ]
  },
  {
   "cell_type": "code",
   "execution_count": null,
   "id": "3ab929b8",
   "metadata": {},
   "outputs": [],
   "source": []
  }
 ],
 "metadata": {
  "kernelspec": {
   "display_name": "Python 3 (ipykernel)",
   "language": "python",
   "name": "python3"
  },
  "language_info": {
   "codemirror_mode": {
    "name": "ipython",
    "version": 3
   },
   "file_extension": ".py",
   "mimetype": "text/x-python",
   "name": "python",
   "nbconvert_exporter": "python",
   "pygments_lexer": "ipython3",
   "version": "3.9.7"
  }
 },
 "nbformat": 4,
 "nbformat_minor": 5
}
