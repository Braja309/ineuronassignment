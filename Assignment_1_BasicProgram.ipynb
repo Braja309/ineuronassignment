{
 "cells": [
  {
   "cell_type": "raw",
   "id": "ee5ede9d",
   "metadata": {},
   "source": [
    "1.\tWrite a Python program to print \"Hello Python\"?"
   ]
  },
  {
   "cell_type": "code",
   "execution_count": 1,
   "id": "264fd87e",
   "metadata": {},
   "outputs": [
    {
     "name": "stdout",
     "output_type": "stream",
     "text": [
      "Hello Python\n"
     ]
    }
   ],
   "source": [
    "#1->\n",
    "print(\"Hello Python\")"
   ]
  },
  {
   "cell_type": "raw",
   "id": "55aea1e5",
   "metadata": {},
   "source": [
    "2.\tWrite a Python program to do arithmetical operations addition and division.?"
   ]
  },
  {
   "cell_type": "code",
   "execution_count": 2,
   "id": "c55f3d36",
   "metadata": {},
   "outputs": [
    {
     "name": "stdout",
     "output_type": "stream",
     "text": [
      "Please enter first number : 4\n",
      "Please enter second number : 3\n",
      "Addition : 7\n",
      "Division : 1.3333333333333333\n"
     ]
    }
   ],
   "source": [
    "#2->\n",
    "a = int(input(\"Please enter first number : \"))\n",
    "b = int(input(\"Please enter second number : \"))\n",
    "print(\"Addition :\",a+b)\n",
    "print(\"Division :\",a/b)"
   ]
  },
  {
   "cell_type": "raw",
   "id": "13e74459",
   "metadata": {},
   "source": [
    "3.\tWrite a Python program to find the area of a triangle?"
   ]
  },
  {
   "cell_type": "code",
   "execution_count": 4,
   "id": "dc32b491",
   "metadata": {},
   "outputs": [
    {
     "name": "stdout",
     "output_type": "stream",
     "text": [
      "Please enter Base of triagngle : 4\n",
      "Please enter height of triangle : 5\n",
      "Area of this triangle is : 10.0\n"
     ]
    }
   ],
   "source": [
    "#3->\n",
    "a = int(input(\"Please enter Base of triagngle : \"))\n",
    "b = int(input(\"Please enter height of triangle : \"))\n",
    "print(\"Area of this triangle is :\",(1/2)*(a*b))"
   ]
  },
  {
   "cell_type": "raw",
   "id": "0578693a",
   "metadata": {},
   "source": [
    "4.\tWrite a Python program to swap two variables?"
   ]
  },
  {
   "cell_type": "code",
   "execution_count": 6,
   "id": "60b55abf",
   "metadata": {},
   "outputs": [
    {
     "name": "stdout",
     "output_type": "stream",
     "text": [
      "Please enter first value : f\n",
      "Please enter first value : g\n",
      "a= g b= f\n"
     ]
    }
   ],
   "source": [
    "#4->\n",
    "a = input(\"Please enter first value : \")\n",
    "b = input(\"Please enter first value : \")\n",
    "a,b=b,a\n",
    "print(\"a=\",a,\"b=\",b)"
   ]
  },
  {
   "cell_type": "raw",
   "id": "a3e36c76",
   "metadata": {},
   "source": [
    "5.\tWrite a Python program to generate a random number?"
   ]
  },
  {
   "cell_type": "code",
   "execution_count": 14,
   "id": "a6c9c296",
   "metadata": {},
   "outputs": [
    {
     "name": "stdout",
     "output_type": "stream",
     "text": [
      "0.9823375168330372\n",
      "32\n"
     ]
    }
   ],
   "source": [
    "#5->\n",
    "import random\n",
    "print(random.random())\n",
    "print(random.randint(0,100))"
   ]
  },
  {
   "cell_type": "code",
   "execution_count": null,
   "id": "97108223",
   "metadata": {},
   "outputs": [],
   "source": []
  }
 ],
 "metadata": {
  "kernelspec": {
   "display_name": "Python 3 (ipykernel)",
   "language": "python",
   "name": "python3"
  },
  "language_info": {
   "codemirror_mode": {
    "name": "ipython",
    "version": 3
   },
   "file_extension": ".py",
   "mimetype": "text/x-python",
   "name": "python",
   "nbconvert_exporter": "python",
   "pygments_lexer": "ipython3",
   "version": "3.9.7"
  }
 },
 "nbformat": 4,
 "nbformat_minor": 5
}
