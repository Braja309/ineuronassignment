{
 "cells": [
  {
   "cell_type": "raw",
   "id": "5cc0e176",
   "metadata": {},
   "source": [
    "Q1. What is the relationship between classes and modules?"
   ]
  },
  {
   "cell_type": "markdown",
   "id": "57ddba74",
   "metadata": {},
   "source": [
    "#1->\n",
    "A class is used to define a blueprint for a given object, whereas a module is used to reuse a given piece of code inside another program."
   ]
  },
  {
   "cell_type": "raw",
   "id": "5f98743c",
   "metadata": {},
   "source": [
    "Q2. How do you make instances and classes?"
   ]
  },
  {
   "cell_type": "code",
   "execution_count": 1,
   "id": "f37962e2",
   "metadata": {},
   "outputs": [
    {
     "name": "stdout",
     "output_type": "stream",
     "text": [
      "abc\n"
     ]
    }
   ],
   "source": [
    "#2->\n",
    "class C:\n",
    "    def __init__(self, attr):\n",
    "        self.attr = attr\n",
    "\n",
    "instance = C(\"abc\")\n",
    "print(instance.attr)"
   ]
  },
  {
   "cell_type": "raw",
   "id": "527e828a",
   "metadata": {},
   "source": [
    "Q3. Where and how should be class attributes created?"
   ]
  },
  {
   "cell_type": "markdown",
   "id": "dfa4d50d",
   "metadata": {},
   "source": [
    "#3-> It should created under __init__() metohod"
   ]
  },
  {
   "cell_type": "raw",
   "id": "d1f9e275",
   "metadata": {},
   "source": [
    "Q4. Where and how are instance attributes created?"
   ]
  },
  {
   "cell_type": "markdown",
   "id": "193b51ac",
   "metadata": {},
   "source": [
    "#4-> Instance attributes are defined in the constructor. Defined directly inside a class. Defined inside a constructor using the self parameter"
   ]
  },
  {
   "cell_type": "raw",
   "id": "2b13f387",
   "metadata": {},
   "source": [
    "Q5. What does the term \"self\" in a Python class mean?"
   ]
  },
  {
   "cell_type": "markdown",
   "id": "403bb561",
   "metadata": {},
   "source": [
    "#5-> self represents the instance of the class.By using the “self” keyword we can access the attributes and methods of the class in python"
   ]
  },
  {
   "cell_type": "raw",
   "id": "a1e08e28",
   "metadata": {},
   "source": [
    "Q6. How does a Python class handle operator overloading?"
   ]
  },
  {
   "cell_type": "markdown",
   "id": "ed8fcce7",
   "metadata": {},
   "source": [
    "#6-> The operator overloading in Python means provide extended meaning beyond their predefined operational meaning. Such as, we use the \"+\" operator for adding two integers as well as joining two strings or merging two lists. We can achieve this as the \"+\" operator is overloaded by the \"int\" class and \"str\" class. "
   ]
  },
  {
   "cell_type": "raw",
   "id": "94f1c99b",
   "metadata": {},
   "source": [
    "Q7. When do you consider allowing operator overloading of your classes?"
   ]
  },
  {
   "cell_type": "markdown",
   "id": "a8575f13",
   "metadata": {},
   "source": [
    "#7-> Consider that we have two objects which are a physical representation of a class (user-defined data type) and we have to add two objects with binary '+' operator it throws an error, because compiler don't know how to add two objects. So we define a method for an operator and that process is called operator overloading."
   ]
  },
  {
   "cell_type": "raw",
   "id": "5359f7f1",
   "metadata": {},
   "source": [
    "Q8. What is the most popular form of operator overloading?"
   ]
  },
  {
   "cell_type": "markdown",
   "id": "d7d18047",
   "metadata": {},
   "source": [
    "#8-> A very popular and convenient example is the Addition (+) operator. how the '+' operator operates on two numbers and the same operator operates on two strings. It performs “Addition” on numbers whereas it performs “Concatenation” on strings."
   ]
  },
  {
   "cell_type": "raw",
   "id": "37b24092",
   "metadata": {},
   "source": [
    "Q9. What are the two most important concepts to grasp in order to comprehend Python OOP code?"
   ]
  },
  {
   "cell_type": "markdown",
   "id": "eefbe791",
   "metadata": {},
   "source": [
    "#9-> inheritance and polymorphism"
   ]
  },
  {
   "cell_type": "code",
   "execution_count": null,
   "id": "15c8e916",
   "metadata": {},
   "outputs": [],
   "source": []
  }
 ],
 "metadata": {
  "kernelspec": {
   "display_name": "Python 3 (ipykernel)",
   "language": "python",
   "name": "python3"
  },
  "language_info": {
   "codemirror_mode": {
    "name": "ipython",
    "version": 3
   },
   "file_extension": ".py",
   "mimetype": "text/x-python",
   "name": "python",
   "nbconvert_exporter": "python",
   "pygments_lexer": "ipython3",
   "version": "3.9.7"
  }
 },
 "nbformat": 4,
 "nbformat_minor": 5
}
