{
 "cells": [
  {
   "cell_type": "raw",
   "id": "e1599135",
   "metadata": {},
   "source": [
    "Question1\n",
    "Create a function that takes a list of strings and integers, and filters out the list so that it returns a list of integers only.\n",
    "Examples\n",
    "filter_list([1, 2, 3, \"a\", \"b\", 4]) ➞ [1, 2, 3, 4]\n",
    "\n",
    "filter_list([\"A\", 0, \"Edabit\", 1729, \"Python\", \"1729\"]) ➞ [0, 1729]\n",
    "\n",
    "filter_list([\"Nothing\", \"here\"]) ➞ []"
   ]
  },
  {
   "cell_type": "code",
   "execution_count": 1,
   "id": "62926b11",
   "metadata": {},
   "outputs": [
    {
     "name": "stdout",
     "output_type": "stream",
     "text": [
      "Please enter the List of Integer and string : [\"A\", 0, \"Edabit\", 1729, \"Python\", \"1729\"]\n",
      "Filttered out integer list is : [0, 1729]\n"
     ]
    }
   ],
   "source": [
    "#1->\n",
    "List = eval(input(\"Please enter the List of Integer and string : \"))\n",
    "def filter_list(List):\n",
    "    \"\"\"It will filter out integer in a List\"\"\"\n",
    "    List1 = []\n",
    "    for i in List:\n",
    "        if type(i) == int:\n",
    "            List1.append(i)\n",
    "    return List1\n",
    "print(\"Filttered out integer list is :\",filter_list(List))"
   ]
  },
  {
   "cell_type": "raw",
   "id": "0db2b9ed",
   "metadata": {},
   "source": [
    "Question2\n",
    "Given a list of numbers, create a function which returns the list but with each element's index in the list added to itself. This means you add 0 to the number at index 0, add 1 to the number at index 1, etc...\n",
    "Examples\n",
    "add_indexes([0, 0, 0, 0, 0]) ➞ [0, 1, 2, 3, 4]\n",
    "\n",
    "add_indexes([1, 2, 3, 4, 5]) ➞ [1, 3, 5, 7, 9]\n",
    "\n",
    "add_indexes([5, 4, 3, 2, 1]) ➞ [5, 5, 5, 5, 5]"
   ]
  },
  {
   "cell_type": "code",
   "execution_count": 3,
   "id": "385244e8",
   "metadata": {},
   "outputs": [
    {
     "name": "stdout",
     "output_type": "stream",
     "text": [
      "Please enter the integer list : [1,2,3,4,5]\n",
      "Update list after adding indexes to it is : [1, 3, 5, 7, 9]\n"
     ]
    }
   ],
   "source": [
    "#2->\n",
    "List = eval(input(\"Please enter the integer list : \"))\n",
    "def add_indexes(List):\n",
    "    \"\"\"It will add each of the element with its indexes\"\"\"\n",
    "    for i in range(len(List)):\n",
    "        List[i] = List[i]+i\n",
    "    return List\n",
    "print(\"Update list after adding indexes to it is :\",add_indexes(List))"
   ]
  },
  {
   "cell_type": "raw",
   "id": "f14d18ff",
   "metadata": {},
   "source": [
    "Question3\n",
    "Create a function that takes the height and radius of a cone as arguments and returns the volume of the cone rounded to the nearest hundredth. See the resources tab for the formula.\n",
    " \n",
    "Examples\n",
    "cone_volume(3, 2) ➞ 12.57\n",
    "\n",
    "cone_volume(15, 6) ➞ 565.49\n",
    "\n",
    "cone_volume(18, 0) ➞ 0"
   ]
  },
  {
   "cell_type": "code",
   "execution_count": 11,
   "id": "f18c97ad",
   "metadata": {},
   "outputs": [
    {
     "name": "stdout",
     "output_type": "stream",
     "text": [
      "Please enter the height of the cone : 3\n",
      "Please enter the radius of the cone : 2\n",
      "Volumn of the cone is : 12.57\n"
     ]
    }
   ],
   "source": [
    "#3->\n",
    "height = int(input(\"Please enter the height of the cone : \"))\n",
    "radius = int(input(\"Please enter the radius of the cone : \"))\n",
    "def cone_volumn(h,r):\n",
    "    \"\"\"It will return volumn af a cone\"\"\"\n",
    "    return round((22/7)*(r**2)*(h/3),2)\n",
    "print(\"Volumn of the cone is :\",cone_volumn(height,radius))"
   ]
  },
  {
   "cell_type": "raw",
   "id": "0c180fcd",
   "metadata": {},
   "source": [
    "Question4\n",
    "This Triangular Number Sequence is generated from a pattern of dots that form a triangle. The first 5 numbers of the sequence, or dots, are: \n",
    "1, 3, 6, 10, 15\n",
    "This means that the first triangle has just one dot, the second one has three dots, the third one has 6 dots and so on.\n",
    "Write a function that gives the number of dots with its corresponding triangle number of the sequence.\n",
    "Examples\n",
    "triangle(1) ➞ 1\n",
    "\n",
    "triangle(6) ➞ 21\n",
    "\n",
    "triangle(215) ➞ 23220"
   ]
  },
  {
   "cell_type": "code",
   "execution_count": 12,
   "id": "472ad4ff",
   "metadata": {},
   "outputs": [
    {
     "name": "stdout",
     "output_type": "stream",
     "text": [
      "Please enter triangle number of sequence :215\n",
      "Total number of dots in the triangle is : 23220\n"
     ]
    }
   ],
   "source": [
    "#4->\n",
    "seq = int(input(\"Please enter triangle number of sequence :\"))\n",
    "def triangle(seq):\n",
    "    \"\"\"It will return number of dots from triangle sequence\"\"\"\n",
    "    sum = 0\n",
    "    i = 1\n",
    "    while i < seq+1:\n",
    "        sum += i\n",
    "        i += 1\n",
    "    return sum\n",
    "print(\"Total number of dots in the triangle is :\",triangle(seq))"
   ]
  },
  {
   "cell_type": "raw",
   "id": "a036337d",
   "metadata": {},
   "source": [
    "Question5\n",
    "Create a function that takes a list of numbers between 1 and 10 (excluding one number) and returns the missing number.\n",
    "Examples\n",
    "missing_num([1, 2, 3, 4, 6, 7, 8, 9, 10]) ➞ 5\n",
    "\n",
    "missing_num([7, 2, 3, 6, 5, 9, 1, 4, 8]) ➞ 10\n",
    "\n",
    "missing_num([10, 5, 1, 2, 4, 6, 8, 3, 9]) ➞ 7"
   ]
  },
  {
   "cell_type": "code",
   "execution_count": 17,
   "id": "b8a5087a",
   "metadata": {},
   "outputs": [
    {
     "name": "stdout",
     "output_type": "stream",
     "text": [
      "Please enter list of numbers between 1 and 10 : [7, 2, 3, 6, 5, 9, 1, 4, 8]\n",
      "Missing number is : 10\n"
     ]
    }
   ],
   "source": [
    "#5->\n",
    "List = eval(input(\"Please enter list of numbers between 1 and 10 : \"))\n",
    "def missing_num(List):\n",
    "    \"\"\"It will return missing number\"\"\"\n",
    "    for i in range(1,11):\n",
    "        if i not in List:\n",
    "            return i\n",
    "print(\"Missing number is :\",missing_num(List))"
   ]
  },
  {
   "cell_type": "code",
   "execution_count": null,
   "id": "ea58e933",
   "metadata": {},
   "outputs": [],
   "source": []
  }
 ],
 "metadata": {
  "kernelspec": {
   "display_name": "Python 3 (ipykernel)",
   "language": "python",
   "name": "python3"
  },
  "language_info": {
   "codemirror_mode": {
    "name": "ipython",
    "version": 3
   },
   "file_extension": ".py",
   "mimetype": "text/x-python",
   "name": "python",
   "nbconvert_exporter": "python",
   "pygments_lexer": "ipython3",
   "version": "3.9.7"
  }
 },
 "nbformat": 4,
 "nbformat_minor": 5
}
