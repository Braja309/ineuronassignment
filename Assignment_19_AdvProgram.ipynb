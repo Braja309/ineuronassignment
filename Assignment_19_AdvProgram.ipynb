{
 "cells": [
  {
   "cell_type": "raw",
   "id": "3608f5a2",
   "metadata": {},
   "source": [
    "1. Create a checker board generator, which takes as inputs n and 2 elements to generate an n x n checkerboard with those two elements as alternating squares.\n",
    "\n",
    "Examples\n",
    "checker_board(2, 7, 6) ➞ [\n",
    "  [7, 6],\n",
    "  [6, 7]\n",
    "]\n",
    "checker_board(3, \"A\", \"B\") ➞ [\n",
    "  [\"A\", \"B\", \"A\"],\n",
    "  [\"B\", \"A\", \"B\"],\n",
    "  [\"A\", \"B\", \"A\"]\n",
    "]\n",
    "checker_board(4, \"c\", \"d\") ➞ [\n",
    "  [\"c\", \"d\", \"c\", \"d\"],\n",
    "  [\"d\", \"c\", \"d\", \"c\"],\n",
    "  [\"c\", \"d\", \"c\", \"d\"],\n",
    "  [\"d\", \"c\", \"d\", \"c\"]\n",
    "] \n",
    "checker_board(4, \"c\", \"c\") ➞ \"invalid\""
   ]
  },
  {
   "cell_type": "code",
   "execution_count": 5,
   "id": "78f6b548",
   "metadata": {},
   "outputs": [
    {
     "name": "stdout",
     "output_type": "stream",
     "text": [
      "Please enter value of n so that n x n will generate : 3\n",
      "Please enter first element : A\n",
      "Please enter second element : B\n",
      "n x n matrix is : [['A', 'B', 'A'], ['B', 'A', 'B'], ['A', 'B', 'A']]\n"
     ]
    }
   ],
   "source": [
    "#1->\n",
    "def checker_board(n,ele1,ele2):\n",
    "    '''It will return n x n matrix with alternate ele1 and ele2'''\n",
    "    if ele1 == ele2:\n",
    "        return 'invalid'\n",
    "    else:\n",
    "        Final = []\n",
    "        for i in range(n):\n",
    "            temp = []\n",
    "            for j in range(n):\n",
    "                if (i+j) %2 == 0:\n",
    "                    temp.append(ele1)\n",
    "                else:\n",
    "                    temp.append(ele2)\n",
    "            Final.append(temp)\n",
    "        return Final\n",
    "n = int(input(\"Please enter value of n so that n x n will generate : \"))\n",
    "element1 = input(\"Please enter first element : \")\n",
    "element2 = input(\"Please enter second element : \")\n",
    "print(\"n x n matrix is :\",checker_board(n,element1,element2))"
   ]
  },
  {
   "cell_type": "raw",
   "id": "4a66ca49",
   "metadata": {},
   "source": [
    "2. A string is an almost-palindrome if, by changing only one character, you can make it a palindrome. Create a function that returns True if a string is an almost-palindrome and False otherwise.\n",
    "\n",
    "Examples\n",
    "\n",
    "almost_palindrome(\"abcdcbg\") ➞ True\n",
    "# Transformed to \"abcdcba\" by changing \"g\" to \"a\".\n",
    "\n",
    "almost_palindrome(\"abccia\") ➞ True\n",
    "# Transformed to \"abccba\" by changing \"i\" to \"b\".\n",
    "\n",
    "almost_palindrome(\"abcdaaa\") ➞ False\n",
    "# Can't be transformed to a palindrome in exactly 1 turn.\n",
    "\n",
    "almost_palindrome(\"1234312\") ➞ False"
   ]
  },
  {
   "cell_type": "code",
   "execution_count": 22,
   "id": "27d04f17",
   "metadata": {},
   "outputs": [
    {
     "name": "stdout",
     "output_type": "stream",
     "text": [
      "Please enter the string : abccia\n",
      "The string is almost palindrome : True\n"
     ]
    }
   ],
   "source": [
    "#2->\n",
    "def almost_palindrome(string):\n",
    "    '''It will return if the string is almost palindrome'''\n",
    "    i = 0\n",
    "    j = len(string)-1\n",
    "    c = 0\n",
    "    while i < j:\n",
    "        if string[i] != string[j]:\n",
    "            c += 1\n",
    "        i += 1\n",
    "        j -= 1\n",
    "    if c == 1:\n",
    "        return True\n",
    "    else:\n",
    "        return False\n",
    "string = input(\"Please enter the string : \")\n",
    "print(\"The string is almost palindrome :\",almost_palindrome(string))"
   ]
  },
  {
   "cell_type": "raw",
   "id": "c36264fc",
   "metadata": {},
   "source": [
    "3. Create a function that finds how many prime numbers there are, up to the given integer.\n",
    "\n",
    "Examples\n",
    "\n",
    "prime_numbers(10) ➞ 4\n",
    "# 2, 3, 5 and 7\n",
    "\n",
    "prime_numbers(20) ➞ 8\n",
    "# 2, 3, 5, 7, 11, 13, 17 and 19\n",
    "\n",
    "prime_numbers(30) ➞ 10\n",
    "# 2, 3, 5, 7, 11, 13, 17, 19, 23 and 29"
   ]
  },
  {
   "cell_type": "code",
   "execution_count": 27,
   "id": "cdd6e38a",
   "metadata": {},
   "outputs": [
    {
     "name": "stdout",
     "output_type": "stream",
     "text": [
      "Please enter the number : 20\n",
      "Count of prime number is : 8\n"
     ]
    }
   ],
   "source": [
    "#3->\n",
    "def is_prime(num):\n",
    "    '''It will return if the number is prime'''\n",
    "    for i in range(2,(num//2)+1):\n",
    "        if num % i == 0:\n",
    "            return False\n",
    "    return True\n",
    "def prime_numbers(num):\n",
    "    '''It will return count of prime number till num'''\n",
    "    c = 0\n",
    "    for i in range(2,num):\n",
    "        if is_prime(i) == True:\n",
    "            c+=1\n",
    "    return c\n",
    "num = int(input(\"Please enter the number : \"))\n",
    "print(\"Count of prime number is :\",prime_numbers(num))"
   ]
  },
  {
   "cell_type": "raw",
   "id": "8b9b54a0",
   "metadata": {},
   "source": [
    "4. If today was Monday, in two days, it would be Wednesday.\n",
    "\n",
    "Create a function that takes in a list of days as input and the number of days to increment by. Return a list of days after n number of days has passed.\n",
    "\n",
    "Examples\n",
    "\n",
    "after_n_days([\"Thursday\", \"Monday\"], 4) ➞ [\"Monday\", \"Friday\"]\n",
    "\n",
    "after_n_days([\"Sunday\", \"Sunday\", \"Sunday\"], 1) ➞ [\"Monday\", \"Monday\", \"Monday\"]\n",
    "\n",
    "after_n_days([\"Monday\", \"Tuesday\", \"Friday\"], 1) ➞ [\"Tuesday\", \"Wednesday\", \"Saturday\"]"
   ]
  },
  {
   "cell_type": "code",
   "execution_count": 77,
   "id": "f3241563",
   "metadata": {},
   "outputs": [
    {
     "name": "stdout",
     "output_type": "stream",
     "text": [
      "Please enter list of weekdays : [\"Thursday\", \"Monday\"]\n",
      "Please enter number of days to add up : 4\n",
      "Updated List is : ['Monday', 'Friday']\n"
     ]
    }
   ],
   "source": [
    "#4->\n",
    "def after_n_days(List,n):\n",
    "    '''It will incease number of days for list of weekday input'''\n",
    "    import calendar\n",
    "    day_to_int = dict(zip(calendar.day_name,range(7)))\n",
    "    int_to_day = dict(zip(range(7),calendar.day_name))\n",
    "    for i in range(len(List)):\n",
    "        List[i] = int_to_day[(day_to_int[List[i]]+n)%7]\n",
    "    return List\n",
    "List = eval(input(\"Please enter list of weekdays : \"))\n",
    "n = int(input(\"Please enter number of days to add up : \"))\n",
    "print(\"Updated List is :\",after_n_days(List,n))"
   ]
  },
  {
   "cell_type": "raw",
   "id": "c0acbf07",
   "metadata": {},
   "source": [
    "5. You are in the process of creating a chat application and want to add an anonymous name feature. This anonymous name feature will create an alias that consists of two capitalized words beginning with the same letter as the users first name.\n",
    "\n",
    "Create a function that determines if the list of users is mapped to a list of anonymous names correctly.\n",
    "\n",
    "Examples\n",
    "\n",
    "is_correct_aliases([\"Adrian M.\", \"Harriet S.\", \"Mandy T.\"], [\"Amazing Artichoke\", \"Hopeful Hedgehog\", \"Marvelous Mouse\"]) ➞ True\n",
    "\n",
    "is_correct_aliases([\"Rachel F.\", \"Pam G.\", \"Fred Z.\", \"Nancy K.\"], [\"Reassuring Rat\", \"Peaceful Panda\", \"Fantastic Frog\", \"Notable Nickel\"]) ➞ True\n",
    "\n",
    "is_correct_aliases([\"Beth T.\"], [\"Brandishing Mimosa\"]) ➞ False\n",
    "# Both words in \"Brandishing Mimosa\" should begin with a \"B\" - \"Brandishing Beaver\" would do the trick."
   ]
  },
  {
   "cell_type": "code",
   "execution_count": 105,
   "id": "c778c81b",
   "metadata": {},
   "outputs": [
    {
     "name": "stdout",
     "output_type": "stream",
     "text": [
      "Please enter list of users : [\"Rachel F.\", \"Pam G.\", \"Fred Z.\", \"Nancy K.\"]\n",
      "Please enter list of anonymouos names : [\"Reassuring Rat\", \"Peaceful Panda\", \"Fantastic Frog\", \"Notable Nickel\"]\n",
      "List of users is mapped to a list of anonymous names correctly : True\n"
     ]
    }
   ],
   "source": [
    "#5->\n",
    "def is_correct_aliases(List1,List2):\n",
    "    '''It will return if correct aliases are choosen for list of users'''\n",
    "    if len(List1) != len(List2):\n",
    "        return False\n",
    "    else:\n",
    "        for i in range(len(List1)):\n",
    "            if len(List2[i].split()) != 2:\n",
    "                return False\n",
    "            else:\n",
    "                for j in List2[i].split():\n",
    "                    if List1[i][0] != j[0] or j[1:] != j[1:].lower(): # It will check Captalize word as well\n",
    "                        return False\n",
    "        return True \n",
    "List1 = eval(input(\"Please enter list of users : \"))\n",
    "List2 = eval(input(\"Please enter list of anonymouos names : \"))\n",
    "print(\"List of users is mapped to a list of anonymous names correctly :\",is_correct_aliases(List1,List2))"
   ]
  },
  {
   "cell_type": "code",
   "execution_count": 106,
   "id": "b76f3a65",
   "metadata": {},
   "outputs": [
    {
     "data": {
      "text/plain": [
       "False"
      ]
     },
     "execution_count": 106,
     "metadata": {},
     "output_type": "execute_result"
    }
   ],
   "source": [
    "is_correct_aliases([\"Beth T.\"], [\"Brandishing Mimosa\"])"
   ]
  },
  {
   "cell_type": "code",
   "execution_count": null,
   "id": "cb922410",
   "metadata": {},
   "outputs": [],
   "source": []
  }
 ],
 "metadata": {
  "kernelspec": {
   "display_name": "Python 3 (ipykernel)",
   "language": "python",
   "name": "python3"
  },
  "language_info": {
   "codemirror_mode": {
    "name": "ipython",
    "version": 3
   },
   "file_extension": ".py",
   "mimetype": "text/x-python",
   "name": "python",
   "nbconvert_exporter": "python",
   "pygments_lexer": "ipython3",
   "version": "3.9.7"
  }
 },
 "nbformat": 4,
 "nbformat_minor": 5
}
