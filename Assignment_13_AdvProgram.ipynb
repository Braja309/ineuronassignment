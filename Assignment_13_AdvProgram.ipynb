{
 "cells": [
  {
   "cell_type": "raw",
   "id": "d3fd9384",
   "metadata": {},
   "source": [
    "1. Create a function that takes a list and string. The function should remove the letters in the string from the list, and return the list.\n",
    "\n",
    "Examples\n",
    "\n",
    "remove_letters([\"s\", \"t\", \"r\", \"i\", \"n\", \"g\", \"w\"], \"string\") ➞ [\"w\"]\n",
    "\n",
    "remove_letters([\"b\", \"b\", \"l\", \"l\", \"g\", \"n\", \"o\", \"a\", \"w\"], \"balloon\") ➞ [\"b\", \"g\", \"w\"]\n",
    "\n",
    "remove_letters([\"d\", \"b\", \"t\", \"e\", \"a\", \"i\"], \"edabit\") ➞ []"
   ]
  },
  {
   "cell_type": "code",
   "execution_count": 37,
   "id": "04f6b5f7",
   "metadata": {},
   "outputs": [
    {
     "name": "stdout",
     "output_type": "stream",
     "text": [
      "Please enter list of letters : [\"b\", \"b\", \"l\", \"l\", \"g\", \"n\", \"o\", \"a\", \"w\"]\n",
      "Please enter the string : balloon\n",
      "Extra letters are : ['b', 'g', 'w']\n"
     ]
    }
   ],
   "source": [
    "#1->\n",
    "def remove_letters(List,string):\n",
    "    '''It will return extra letter list which are not present in string'''\n",
    "    i = 0\n",
    "    while i < len(List):\n",
    "        if List[i] in string:\n",
    "            string = string.replace(List[i],'',1)\n",
    "            List.pop(i)\n",
    "        else:\n",
    "            i += 1\n",
    "    return List\n",
    "List = eval(input(\"Please enter list of letters : \"))\n",
    "string = input(\"Please enter the string : \")\n",
    "print(\"Extra letters are :\",remove_letters(List,string))"
   ]
  },
  {
   "cell_type": "raw",
   "id": "f3da7b60",
   "metadata": {},
   "source": [
    "2. A block sequence in three dimensions. We can write a formula for this one:\n",
    "\n",
    "Create a function that takes a number (step) as an argument and returns the amount of blocks in that step.\n",
    "\n",
    "Examples\n",
    "\n",
    "blocks(1) ➞ 5\n",
    "\n",
    "blocks(5) ➞ 39\n",
    "\n",
    "blocks(2) ➞ 12"
   ]
  },
  {
   "cell_type": "code",
   "execution_count": 49,
   "id": "3347ea80",
   "metadata": {},
   "outputs": [
    {
     "name": "stdout",
     "output_type": "stream",
     "text": [
      "Please enter number of step(positive value) : 5\n",
      "Amount of blocks required : 39\n"
     ]
    }
   ],
   "source": [
    "#2->\n",
    "def blocks(num):\n",
    "    '''It will return the count of blocks in the step'''\n",
    "    if num>0:\n",
    "        return 5+num+blocks(num-1)\n",
    "    else:\n",
    "        return -1\n",
    "num = int(input(\"Please enter number of step(positive value) : \"))\n",
    "print(\"Amount of blocks required :\",blocks(num))"
   ]
  },
  {
   "cell_type": "raw",
   "id": "2d585b39",
   "metadata": {},
   "source": [
    "3. Create a function that subtracts one positive integer from another, without using any arithmetic operators such as -, %, /, +, etc.\n",
    "\n",
    "Examples\n",
    "\n",
    "my_sub(5, 9) ➞ 4\n",
    "\n",
    "my_sub(10, 30) ➞ 20\n",
    "\n",
    "my_sub(0, 0) ➞ 0"
   ]
  },
  {
   "cell_type": "code",
   "execution_count": 158,
   "id": "e979ff2d",
   "metadata": {},
   "outputs": [
    {
     "name": "stdout",
     "output_type": "stream",
     "text": [
      "Please enter the first number : 10\n",
      "Please enter the second number : 30\n",
      "30 - 10 is : 20\n"
     ]
    }
   ],
   "source": [
    "#3->\n",
    "def my_sub(num1,num2):\n",
    "    '''It will return num2-num1'''\n",
    "    while (num1 != 0):\n",
    "        borrow = (~num2) & num1\n",
    "        num2 = num2 ^ num1\n",
    "        num1 = borrow << 1\n",
    "    return num2\n",
    "num1 = int(input(\"Please enter the first number : \"))\n",
    "num2 = int(input(\"Please enter the second number : \"))\n",
    "print(num2,\"-\",num1,\"is :\",my_sub(num1,num2))"
   ]
  },
  {
   "cell_type": "raw",
   "id": "065dd3de",
   "metadata": {},
   "source": [
    "4. Create a function that takes a string containing money in dollars and pounds sterling (seperated by comma) and returns the sum of dollar bills only, as an integer.\n",
    "\n",
    "For the input string:\n",
    "\n",
    "   - Each amount is prefixed by the currency symbol: $ for dollars and £ for pounds.\n",
    "   - Thousands are represented by the suffix k.\n",
    "\n",
    "i.e. $4k = $4,000 and £40k = £40,000\n",
    "\n",
    "Examples\n",
    "\n",
    "add_bill(\"d20,p40,p60,d50\") ➞ 20 + 50 = 70\n",
    "\n",
    "add_bill(\"p30,d20,p60,d150,p360\") ➞ 20  + 150 = 170\n",
    "\n",
    "add_bill(\"p30,d2k,p60,d200,p360\") ➞ 2 * 1000 + 200 = 2200"
   ]
  },
  {
   "cell_type": "code",
   "execution_count": 165,
   "id": "9559bf4a",
   "metadata": {},
   "outputs": [
    {
     "name": "stdout",
     "output_type": "stream",
     "text": [
      "Please enter the string containing doller and pound value comma separated : p30,d2k,p60,d200,p360\n",
      "Sum of doller value is : 2200\n"
     ]
    }
   ],
   "source": [
    "#4->\n",
    "def add_bill(string):\n",
    "    '''It will return sum of doller value'''\n",
    "    s = 0\n",
    "    for i in string.split(','):\n",
    "        if i[0] == 'd' or i[0] == '$':\n",
    "            if i[-1] == 'k':\n",
    "                s += int(i[1:-1])*1000\n",
    "            else:\n",
    "                s += int(i[1:])\n",
    "    return s\n",
    "string = input(\"Please enter the string containing doller and pound value comma separated : \")\n",
    "print(\"Sum of doller value is :\",add_bill(string))"
   ]
  },
  {
   "cell_type": "raw",
   "id": "aad23d4a",
   "metadata": {},
   "source": [
    "5. Create a function that flips a horizontal list into a vertical list, and a vertical list into a horizontal list.\n",
    "\n",
    "In other words, take an 1 x n list (1 row + n columns) and flip it into a n x 1 list (n rows and 1 column), and vice versa.\n",
    "\n",
    "Examples\n",
    "\n",
    "flip_list([1, 2, 3, 4]) ➞ [[1], [2], [3], [4]]\n",
    "# Take a horizontal list and flip it vertical.\n",
    "\n",
    "flip_list([[5], [6], [9]]) ➞ [5, 6, 9]\n",
    "# Take a vertical list and flip it horizontal.\n",
    "\n",
    "flip_list([]) ➞ []"
   ]
  },
  {
   "cell_type": "code",
   "execution_count": 190,
   "id": "8719f8bd",
   "metadata": {},
   "outputs": [
    {
     "name": "stdout",
     "output_type": "stream",
     "text": [
      "Please enter the matrix : [[5], [6], [9]]\n",
      "Transpose of the matrix is : [5, 6, 9]\n"
     ]
    }
   ],
   "source": [
    "#5->\n",
    "def flip_list(matrix):\n",
    "    '''It will transpose the matrix'''\n",
    "    List = []\n",
    "    if type(matrix[0]) != list:\n",
    "        List.append(matrix)\n",
    "    else:\n",
    "        List = matrix\n",
    "    trans_matrix = [[List[j][i] for j in range(len(List))] for i in range(len(List[0]))]\n",
    "    if len(trans_matrix) == 1:\n",
    "        return trans_matrix[0]\n",
    "    else:\n",
    "        return trans_matrix\n",
    "matrix = eval(input(\"Please enter the matrix : \"))\n",
    "print(\"Transpose of the matrix is :\",flip_list(matrix))"
   ]
  },
  {
   "cell_type": "code",
   "execution_count": null,
   "id": "f20ef8fc",
   "metadata": {},
   "outputs": [],
   "source": []
  }
 ],
 "metadata": {
  "kernelspec": {
   "display_name": "Python 3 (ipykernel)",
   "language": "python",
   "name": "python3"
  },
  "language_info": {
   "codemirror_mode": {
    "name": "ipython",
    "version": 3
   },
   "file_extension": ".py",
   "mimetype": "text/x-python",
   "name": "python",
   "nbconvert_exporter": "python",
   "pygments_lexer": "ipython3",
   "version": "3.9.7"
  }
 },
 "nbformat": 4,
 "nbformat_minor": 5
}
