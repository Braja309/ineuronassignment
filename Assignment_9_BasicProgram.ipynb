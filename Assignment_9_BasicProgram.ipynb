{
 "cells": [
  {
   "cell_type": "raw",
   "id": "fa7e875d",
   "metadata": {},
   "source": [
    "1.\tWrite a Python program to check if the given number is a Disarium Number?"
   ]
  },
  {
   "cell_type": "code",
   "execution_count": 2,
   "id": "398d0328",
   "metadata": {},
   "outputs": [
    {
     "name": "stdout",
     "output_type": "stream",
     "text": [
      "Please enter the number : 175\n",
      "The number is Disarium\n"
     ]
    }
   ],
   "source": [
    "#1->\n",
    "num = int(input(\"Please enter the number : \"))\n",
    "l = len(str(num))\n",
    "sum = 0\n",
    "num1 = num\n",
    "for i in range(l,0,-1):\n",
    "    sum += (num%10)**i\n",
    "    num = num // 10\n",
    "    #print(num)\n",
    "if num1 == sum:\n",
    "    print(\"The number is Disarium\")\n",
    "else:\n",
    "    print(\"The number is not Disarium\")"
   ]
  },
  {
   "cell_type": "raw",
   "id": "3cbb6625",
   "metadata": {},
   "source": [
    "2.\tWrite a Python program to print all disarium numbers between 1 to 100?"
   ]
  },
  {
   "cell_type": "code",
   "execution_count": 3,
   "id": "241655e7",
   "metadata": {},
   "outputs": [
    {
     "name": "stdout",
     "output_type": "stream",
     "text": [
      "All disarium numbers between 1 to 100:\n",
      " [1, 2, 3, 4, 5, 6, 7, 8, 9, 89]\n"
     ]
    }
   ],
   "source": [
    "#2->\n",
    "lis = []\n",
    "for num in range(1,100):\n",
    "    l = len(str(num))\n",
    "    sum = 0\n",
    "    num1 = num\n",
    "    for i in range(l,0,-1):\n",
    "        sum += (num%10)**i\n",
    "        num = num // 10\n",
    "    if num1 == sum:\n",
    "        lis.append(num1)\n",
    "print(\"All disarium numbers between 1 to 100:\\n\",lis)"
   ]
  },
  {
   "cell_type": "raw",
   "id": "f7dc1c01",
   "metadata": {},
   "source": [
    "3.\tWrite a Python program to check if the given number is Happy Number?"
   ]
  },
  {
   "cell_type": "code",
   "execution_count": 17,
   "id": "3b493486",
   "metadata": {},
   "outputs": [
    {
     "name": "stdout",
     "output_type": "stream",
     "text": [
      "Please enter a positive number : 68\n",
      "68 is a happy number\n"
     ]
    }
   ],
   "source": [
    "#3->\n",
    "num = int(input(\"Please enter a positive number : \"))\n",
    "def squaredsum(n):\n",
    "    \"\"\"This function is to calculate squared sum of any number\"\"\"\n",
    "    sum = 0\n",
    "    while n>0:\n",
    "        rem = n % 10\n",
    "        sum += rem ** 2\n",
    "        n //= 10\n",
    "    return sum\n",
    "\n",
    "result = num\n",
    "while (result != 1 and result != 4):\n",
    "    result = squaredsum(result)\n",
    "if (result == 1):\n",
    "    print(num,\"is a happy number\")\n",
    "elif (result == 4):\n",
    "    print(num,\"is not a happy number\")"
   ]
  },
  {
   "cell_type": "raw",
   "id": "5642206f",
   "metadata": {},
   "source": [
    "4.\tWrite a Python program to print all happy numbers between 1 and 100?"
   ]
  },
  {
   "cell_type": "code",
   "execution_count": 69,
   "id": "a345be52",
   "metadata": {},
   "outputs": [
    {
     "name": "stdout",
     "output_type": "stream",
     "text": [
      "Please find below happy numbers between 1 and 100:\n",
      " [1, 7, 10, 13, 19, 23, 28, 31, 32, 44, 49, 68, 70, 79, 82, 86, 91, 94, 97, 100]\n"
     ]
    }
   ],
   "source": [
    "#4->\n",
    "def squaredsum(n):\n",
    "    \"\"\"This function is to calculate squared sum of any number\"\"\"\n",
    "    sum = 0\n",
    "    while n>0:\n",
    "        rem = n % 10\n",
    "        sum += rem ** 2\n",
    "        n //= 10\n",
    "    return sum\n",
    "List = []\n",
    "for num in range(1,101):\n",
    "    result = num\n",
    "    while (result != 1 and result != 4):\n",
    "        result = squaredsum(result)        \n",
    "    if (result == 1):\n",
    "        List.append(num)\n",
    "print(\"Please find below happy numbers between 1 and 100:\\n\",List)"
   ]
  },
  {
   "cell_type": "raw",
   "id": "fb4ca2f5",
   "metadata": {},
   "source": [
    "5.\tWrite a Python program to determine whether the given number is a Harshad Number?"
   ]
  },
  {
   "cell_type": "code",
   "execution_count": 57,
   "id": "b8164304",
   "metadata": {},
   "outputs": [
    {
     "name": "stdout",
     "output_type": "stream",
     "text": [
      "Please enter a positive number : 12\n",
      "12 is a Harshad number\n"
     ]
    }
   ],
   "source": [
    "#5->\n",
    "num = int(input(\"Please enter a positive number : \"))\n",
    "n = num\n",
    "sum = 0\n",
    "while n>0:\n",
    "    rem = n % 10\n",
    "    sum += rem\n",
    "    n //= 10\n",
    "if num%sum == 0:\n",
    "    print(num,\"is a Harshad number\")\n",
    "else:\n",
    "    print(num,\"is not a Harshad number\")"
   ]
  },
  {
   "cell_type": "raw",
   "id": "df989c4c",
   "metadata": {},
   "source": [
    "6.\tWrite a Python program to print all pronic numbers between 1 and 100?"
   ]
  },
  {
   "cell_type": "code",
   "execution_count": 70,
   "id": "dbc516b8",
   "metadata": {},
   "outputs": [
    {
     "name": "stdout",
     "output_type": "stream",
     "text": [
      "Please find below pronic numbers between 1 and 100:\n",
      " [2, 6, 12, 20, 30, 42, 56, 72, 90]\n"
     ]
    }
   ],
   "source": [
    "#6->\n",
    "import math\n",
    "List = []\n",
    "for num in range(1,101):\n",
    "    sq = int(math.sqrt(num))\n",
    "    if num == sq * (sq + 1):\n",
    "        List.append(num)\n",
    "print(\"Please find below pronic numbers between 1 and 100:\\n\",List)"
   ]
  },
  {
   "cell_type": "code",
   "execution_count": null,
   "id": "c0ec2535",
   "metadata": {},
   "outputs": [],
   "source": []
  }
 ],
 "metadata": {
  "kernelspec": {
   "display_name": "Python 3 (ipykernel)",
   "language": "python",
   "name": "python3"
  },
  "language_info": {
   "codemirror_mode": {
    "name": "ipython",
    "version": 3
   },
   "file_extension": ".py",
   "mimetype": "text/x-python",
   "name": "python",
   "nbconvert_exporter": "python",
   "pygments_lexer": "ipython3",
   "version": "3.9.7"
  }
 },
 "nbformat": 4,
 "nbformat_minor": 5
}
