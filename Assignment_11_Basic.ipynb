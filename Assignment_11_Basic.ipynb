{
 "cells": [
  {
   "cell_type": "code",
   "execution_count": 1,
   "id": "a2aec529",
   "metadata": {},
   "outputs": [
    {
     "ename": "AssertionError",
     "evalue": "Variable spam is a negative interger",
     "output_type": "error",
     "traceback": [
      "\u001b[1;31m---------------------------------------------------------------------------\u001b[0m",
      "\u001b[1;31mAssertionError\u001b[0m                            Traceback (most recent call last)",
      "\u001b[1;32m~\\AppData\\Local\\Temp/ipykernel_2780/3594154999.py\u001b[0m in \u001b[0;36m<module>\u001b[1;34m\u001b[0m\n\u001b[0;32m      1\u001b[0m \u001b[1;31m#1->\u001b[0m\u001b[1;33m\u001b[0m\u001b[1;33m\u001b[0m\u001b[0m\n\u001b[0;32m      2\u001b[0m \u001b[0mspam\u001b[0m \u001b[1;33m=\u001b[0m \u001b[1;33m-\u001b[0m\u001b[1;36m1\u001b[0m\u001b[1;33m\u001b[0m\u001b[1;33m\u001b[0m\u001b[0m\n\u001b[1;32m----> 3\u001b[1;33m \u001b[1;32massert\u001b[0m \u001b[0mspam\u001b[0m \u001b[1;33m>=\u001b[0m \u001b[1;36m0\u001b[0m\u001b[1;33m,\u001b[0m \u001b[1;34m'Variable spam is a negative interger'\u001b[0m\u001b[1;33m\u001b[0m\u001b[1;33m\u001b[0m\u001b[0m\n\u001b[0m",
      "\u001b[1;31mAssertionError\u001b[0m: Variable spam is a negative interger"
     ]
    }
   ],
   "source": [
    "#1-> \n",
    "spam = -1\n",
    "assert spam >= 0, 'Variable spam is a negative interger'"
   ]
  },
  {
   "cell_type": "code",
   "execution_count": 2,
   "id": "9d9fec0b",
   "metadata": {},
   "outputs": [
    {
     "ename": "AssertionError",
     "evalue": "the variables eggs and bacon are the same as each other",
     "output_type": "error",
     "traceback": [
      "\u001b[1;31m---------------------------------------------------------------------------\u001b[0m",
      "\u001b[1;31mAssertionError\u001b[0m                            Traceback (most recent call last)",
      "\u001b[1;32m~\\AppData\\Local\\Temp/ipykernel_2780/3574310062.py\u001b[0m in \u001b[0;36m<module>\u001b[1;34m\u001b[0m\n\u001b[0;32m      2\u001b[0m \u001b[0meggs\u001b[0m \u001b[1;33m=\u001b[0m \u001b[1;34m'Braja'\u001b[0m\u001b[1;33m\u001b[0m\u001b[1;33m\u001b[0m\u001b[0m\n\u001b[0;32m      3\u001b[0m \u001b[0mbacon\u001b[0m \u001b[1;33m=\u001b[0m \u001b[1;34m'braja'\u001b[0m\u001b[1;33m\u001b[0m\u001b[1;33m\u001b[0m\u001b[0m\n\u001b[1;32m----> 4\u001b[1;33m \u001b[1;32massert\u001b[0m \u001b[0meggs\u001b[0m\u001b[1;33m.\u001b[0m\u001b[0mlower\u001b[0m\u001b[1;33m(\u001b[0m\u001b[1;33m)\u001b[0m \u001b[1;33m!=\u001b[0m \u001b[0mbacon\u001b[0m\u001b[1;33m.\u001b[0m\u001b[0mlower\u001b[0m\u001b[1;33m(\u001b[0m\u001b[1;33m)\u001b[0m\u001b[1;33m,\u001b[0m \u001b[1;34m'the variables eggs and bacon are the same as each other'\u001b[0m\u001b[1;33m\u001b[0m\u001b[1;33m\u001b[0m\u001b[0m\n\u001b[0m",
      "\u001b[1;31mAssertionError\u001b[0m: the variables eggs and bacon are the same as each other"
     ]
    }
   ],
   "source": [
    "#2->\n",
    "eggs = 'Braja'\n",
    "bacon = 'braja'\n",
    "assert eggs.lower() != bacon.lower(), 'the variables eggs and bacon are the same as each other'"
   ]
  },
  {
   "cell_type": "code",
   "execution_count": 3,
   "id": "3607c394",
   "metadata": {},
   "outputs": [
    {
     "ename": "AssertionError",
     "evalue": "It always throws an error",
     "output_type": "error",
     "traceback": [
      "\u001b[1;31m---------------------------------------------------------------------------\u001b[0m",
      "\u001b[1;31mAssertionError\u001b[0m                            Traceback (most recent call last)",
      "\u001b[1;32m~\\AppData\\Local\\Temp/ipykernel_2780/873131919.py\u001b[0m in \u001b[0;36m<module>\u001b[1;34m\u001b[0m\n\u001b[0;32m      1\u001b[0m \u001b[1;31m#3->\u001b[0m\u001b[1;33m\u001b[0m\u001b[1;33m\u001b[0m\u001b[0m\n\u001b[1;32m----> 2\u001b[1;33m \u001b[1;32massert\u001b[0m \u001b[1;32mFalse\u001b[0m\u001b[1;33m,\u001b[0m \u001b[1;34m'It always throws an error'\u001b[0m\u001b[1;33m\u001b[0m\u001b[1;33m\u001b[0m\u001b[0m\n\u001b[0m",
      "\u001b[1;31mAssertionError\u001b[0m: It always throws an error"
     ]
    }
   ],
   "source": [
    "#3->\n",
    "assert False, 'It always throws an error'"
   ]
  },
  {
   "cell_type": "code",
   "execution_count": 4,
   "id": "423725ff",
   "metadata": {},
   "outputs": [],
   "source": [
    "#4-> \n",
    "import logging\n",
    "logging.basicConfig(level=logging.DEBUG, format=' %(asctime)s - %(levelname)s - %(message)s')"
   ]
  },
  {
   "cell_type": "code",
   "execution_count": 5,
   "id": "3c5cf1b9",
   "metadata": {},
   "outputs": [],
   "source": [
    "#5-> \n",
    "import logging\n",
    "logging.basicConfig(filename='programlog.txt', level=logging.DEBUG, format=' %(asctime)s - %(levelname)s - %(message)s')"
   ]
  },
  {
   "cell_type": "markdown",
   "id": "044a8dc3",
   "metadata": {},
   "source": [
    "6-> Debug, Info, Warning, Error and Critical"
   ]
  },
  {
   "cell_type": "code",
   "execution_count": 6,
   "id": "682fbe73",
   "metadata": {},
   "outputs": [],
   "source": [
    "#7-> \n",
    "logging.disable(logging.CRITICAL)"
   ]
  },
  {
   "cell_type": "markdown",
   "id": "1ddaee50",
   "metadata": {},
   "source": [
    "8-> Easy to see where and when (provides a timestamp) a logging call is being made from. You can selectively disable lower-level logging messages. You can log to files, sockets, pretty much anything, all at the same time. You can differentiate your logging based on severity."
   ]
  },
  {
   "cell_type": "markdown",
   "id": "d15483bc",
   "metadata": {},
   "source": [
    "9-> The Step button will move the debugger into a function call. The Over button will quickly execute the function call without stepping into it. The Out button will quickly execute the rest of the code until it steps out of the function it currently is in."
   ]
  },
  {
   "cell_type": "markdown",
   "id": "c4dda25f",
   "metadata": {},
   "source": [
    "10-> After you click Continue, the debugger will stop when it has reached the end of the program or a line with a breakpoint."
   ]
  },
  {
   "cell_type": "markdown",
   "id": "94a5e77a",
   "metadata": {},
   "source": [
    "11-> A breakpoint is a setting on a line of code that causes the debugger to go out of loop when the program execution reaches the line."
   ]
  }
 ],
 "metadata": {
  "kernelspec": {
   "display_name": "Python 3 (ipykernel)",
   "language": "python",
   "name": "python3"
  },
  "language_info": {
   "codemirror_mode": {
    "name": "ipython",
    "version": 3
   },
   "file_extension": ".py",
   "mimetype": "text/x-python",
   "name": "python",
   "nbconvert_exporter": "python",
   "pygments_lexer": "ipython3",
   "version": "3.9.7"
  }
 },
 "nbformat": 4,
 "nbformat_minor": 5
}
