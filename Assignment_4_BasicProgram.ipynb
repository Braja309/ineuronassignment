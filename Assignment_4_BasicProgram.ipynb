{
 "cells": [
  {
   "cell_type": "raw",
   "id": "e0faa1b3",
   "metadata": {},
   "source": [
    "1.\tWrite a Python Program to Find the Factorial of a Number?"
   ]
  },
  {
   "cell_type": "code",
   "execution_count": 6,
   "id": "4115710c",
   "metadata": {},
   "outputs": [
    {
     "name": "stdout",
     "output_type": "stream",
     "text": [
      "Please enter a number : 4\n",
      "Factorial of this number is : 24\n"
     ]
    }
   ],
   "source": [
    "#1->\n",
    "num = int(input(\"Please enter a number : \"))\n",
    "fact = 1\n",
    "if num==0:\n",
    "    print(\"Factorial is : 1\")\n",
    "elif num < 0:\n",
    "    print(\"Factorial doesn't exist for negetive number\")\n",
    "else:\n",
    "    for i in range(1,num+1):\n",
    "        fact *= i\n",
    "    print(\"Factorial of this number is :\",fact)"
   ]
  },
  {
   "cell_type": "raw",
   "id": "437e3e83",
   "metadata": {},
   "source": [
    "2.\tWrite a Python Program to Display the multiplication Table?"
   ]
  },
  {
   "cell_type": "code",
   "execution_count": 7,
   "id": "c8449e34",
   "metadata": {},
   "outputs": [
    {
     "name": "stdout",
     "output_type": "stream",
     "text": [
      "Please enter a number : 11\n",
      "11 X 1 = 11\n",
      "11 X 2 = 22\n",
      "11 X 3 = 33\n",
      "11 X 4 = 44\n",
      "11 X 5 = 55\n",
      "11 X 6 = 66\n",
      "11 X 7 = 77\n",
      "11 X 8 = 88\n",
      "11 X 9 = 99\n",
      "11 X 10 = 110\n"
     ]
    }
   ],
   "source": [
    "#2->\n",
    "num = int(input(\"Please enter a number : \"))\n",
    "for i in range(1,11):\n",
    "    print(num,\"X\",i,\"=\",num*i)"
   ]
  },
  {
   "cell_type": "raw",
   "id": "dfa791bd",
   "metadata": {},
   "source": [
    "3.\tWrite a Python Program to Print the Fibonacci sequence?"
   ]
  },
  {
   "cell_type": "code",
   "execution_count": 13,
   "id": "be6e72c8",
   "metadata": {},
   "outputs": [
    {
     "name": "stdout",
     "output_type": "stream",
     "text": [
      "Please enter number of terms : 20\n",
      "[0, 1, 1, 2, 3, 5, 8, 13, 21, 34, 55, 89, 144, 233, 377, 610, 987, 1597, 2584, 4181]\n"
     ]
    }
   ],
   "source": [
    "#3->\n",
    "count = int(input(\"Please enter number of terms : \"))\n",
    "list = [0,1]\n",
    "for i in range(2,count):\n",
    "    list.append(list[i-1]+list[i-2])\n",
    "print(list)"
   ]
  },
  {
   "cell_type": "raw",
   "id": "94760499",
   "metadata": {},
   "source": [
    "4.\tWrite a Python Program to Check Armstrong Number?"
   ]
  },
  {
   "cell_type": "code",
   "execution_count": 3,
   "id": "37fa869d",
   "metadata": {},
   "outputs": [
    {
     "name": "stdout",
     "output_type": "stream",
     "text": [
      "Please enter the number : 153\n",
      "It is an Armstrong Number\n"
     ]
    }
   ],
   "source": [
    "#4->\n",
    "num = int(input(\"Please enter the number : \"))\n",
    "length = len(str(num))\n",
    "sum = 0\n",
    "temp = num\n",
    "while temp>0:\n",
    "    last = temp%10\n",
    "    sum += last**length\n",
    "    temp //= 10\n",
    "if(num==sum):\n",
    "    print(\"It is an Armstrong Number\")\n",
    "else:\n",
    "    print(\"It is not an Armstrong Number\")"
   ]
  },
  {
   "cell_type": "raw",
   "id": "328bd09f",
   "metadata": {},
   "source": [
    "5.\tWrite a Python Program to Find Armstrong Number in an Interval?"
   ]
  },
  {
   "cell_type": "code",
   "execution_count": 6,
   "id": "daf306cf",
   "metadata": {},
   "outputs": [
    {
     "name": "stdout",
     "output_type": "stream",
     "text": [
      "Please enter lower limit : 100\n",
      "Please enter upper limit : 10000\n",
      "Armstrong numbers between 100 and 10000 are : [153, 370, 371, 407, 1634, 8208, 9474]\n"
     ]
    }
   ],
   "source": [
    "#5->\n",
    "low = int(input(\"Please enter lower limit : \"))\n",
    "high = int(input(\"Please enter upper limit : \"))\n",
    "list = []\n",
    "for num in range(low,high+1):\n",
    "    length = len(str(num))\n",
    "    sum = 0\n",
    "    temp = num\n",
    "    while temp>0:\n",
    "        last = temp%10\n",
    "        sum += last**length\n",
    "        temp //= 10\n",
    "    if(num==sum):\n",
    "        list.append(num)\n",
    "print(\"Armstrong numbers between\",low,\"and\",high,\"are :\",list)"
   ]
  },
  {
   "cell_type": "raw",
   "id": "82d8ad8d",
   "metadata": {},
   "source": [
    "6.\tWrite a Python Program to Find the Sum of Natural Numbers?"
   ]
  },
  {
   "cell_type": "code",
   "execution_count": 15,
   "id": "ca1074e3",
   "metadata": {},
   "outputs": [
    {
     "name": "stdout",
     "output_type": "stream",
     "text": [
      "Please enter the number : 6\n",
      "Sum of natural up to num is: 21\n"
     ]
    }
   ],
   "source": [
    "#6-> Sum of natural = n(n+1)/2\n",
    "num = int(input(\"Please enter the number : \"))\n",
    "if num < 0:\n",
    "   print(\"Enter a positive number\")\n",
    "else:\n",
    "   print(\"Sum of natural up to num is:\", int(num*(num+1)/2))"
   ]
  },
  {
   "cell_type": "code",
   "execution_count": null,
   "id": "79c1b8e0",
   "metadata": {},
   "outputs": [],
   "source": []
  }
 ],
 "metadata": {
  "kernelspec": {
   "display_name": "Python 3 (ipykernel)",
   "language": "python",
   "name": "python3"
  },
  "language_info": {
   "codemirror_mode": {
    "name": "ipython",
    "version": 3
   },
   "file_extension": ".py",
   "mimetype": "text/x-python",
   "name": "python",
   "nbconvert_exporter": "python",
   "pygments_lexer": "ipython3",
   "version": "3.9.7"
  }
 },
 "nbformat": 4,
 "nbformat_minor": 5
}
