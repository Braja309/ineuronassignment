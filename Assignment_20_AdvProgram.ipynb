{
 "cells": [
  {
   "cell_type": "raw",
   "id": "fea72867",
   "metadata": {},
   "source": [
    "1. Create a function based on the input and output. Look at the examples, there is a pattern.\n",
    "\n",
    "Examples\n",
    "\n",
    "secret(\"p.one.two.three\") ➞ \"<p class='one two three'></p>\"\n",
    "\n",
    "secret(\"p.one\") ➞ \"<p class='one'></p>\"\n",
    "\n",
    "secret(\"p.four.five\") ➞ \"<p class='four five'></p>\""
   ]
  },
  {
   "cell_type": "code",
   "execution_count": 18,
   "id": "c915912a",
   "metadata": {},
   "outputs": [
    {
     "name": "stdout",
     "output_type": "stream",
     "text": [
      "Please enter the string : p.four.five\n",
      "updated string is : <p class='four five'></p>\n"
     ]
    }
   ],
   "source": [
    "#1->\n",
    "def secret(string):\n",
    "    '''it will return modified string'''\n",
    "    return \"<\"+string.split('.')[0]+\" class='\"+str(' '.join(string.split('.')[1:]))+\"'></\"+string.split('.')[0]+\">\"\n",
    "string = input(\"Please enter the string : \")\n",
    "print(\"updated string is :\",secret(string))"
   ]
  },
  {
   "cell_type": "raw",
   "id": "f9acb9a5",
   "metadata": {},
   "source": [
    "2. Create a function which counts how many lone 1s appear in a given number. Lone means the number doesn't appear twice or more in a row.\n",
    "\n",
    "Examples\n",
    "\n",
    "count_lone_ones(101) ➞ 2\n",
    "\n",
    "count_lone_ones(1191) ➞ 1\n",
    "\n",
    "count_lone_ones(1111) ➞ 0\n",
    "\n",
    "count_lone_ones(462) ➞ 0"
   ]
  },
  {
   "cell_type": "code",
   "execution_count": 24,
   "id": "f6084669",
   "metadata": {},
   "outputs": [
    {
     "name": "stdout",
     "output_type": "stream",
     "text": [
      "Please enter the number : 101\n",
      "Number of lone 1s is : 2\n"
     ]
    }
   ],
   "source": [
    "#2->\n",
    "def count_lone_ones(num):\n",
    "    '''it will return number of lone 1s'''\n",
    "    c=0\n",
    "    if str(num)[0]=='1' and str(num)[1]!='1':\n",
    "        c += 1\n",
    "    if str(num)[-1]=='1' and str(num)[-2]!='1':\n",
    "        c += 1\n",
    "    for i in range(1,len(str(num))-2):\n",
    "        if str(num)[i] == '1' and str(num)[i+1]!='1' and str(num)[i-1]!='1':\n",
    "            c += 1\n",
    "    return c\n",
    "num = int(input(\"Please enter the number : \"))\n",
    "print(\"Number of lone 1s is :\",count_lone_onest_lone_ones(num))"
   ]
  },
  {
   "cell_type": "raw",
   "id": "2b23c3d1",
   "metadata": {},
   "source": [
    "3. Write a method that accepts two integer parameters rows and cols. The output is a 2d array of numbers displayed in column-major order, meaning the numbers shown increase sequentially down each column and wrap to the top of the next column to the right once the bottom of the current column is reached.\n",
    "\n",
    "Examples\n",
    "\n",
    "printGrid(3, 6) ➞ [\n",
    "  [1, 4, 7, 10, 13, 16],\n",
    "  [2, 5, 8, 11, 14, 17],\n",
    "  [3, 6, 9, 12, 15, 18]\n",
    "]\n",
    "\n",
    "printGrid(5, 3) ➞ [\n",
    "  [1, 6, 11],\n",
    "  [2, 7, 12],\n",
    "  [3, 8, 13],\n",
    "  [4, 9, 14],\n",
    "  [5, 10, 15]\n",
    "]\n",
    "\n",
    "printGrid(4, 1) ➞ [\n",
    "  [1],\n",
    "  [2],\n",
    "  [3],\n",
    "  [4]\n",
    "]"
   ]
  },
  {
   "cell_type": "code",
   "execution_count": 31,
   "id": "caaa8a1d",
   "metadata": {},
   "outputs": [
    {
     "name": "stdout",
     "output_type": "stream",
     "text": [
      "Please enter number of rows : 5\n",
      "Please enter number of columns : 3\n",
      "Output list is : [[1, 6, 11], [2, 7, 12], [3, 8, 13], [4, 9, 14], [5, 10, 15]]\n"
     ]
    }
   ],
   "source": [
    "#3->\n",
    "def printGrid(rows,columns):\n",
    "    '''It will return a 2d list'''\n",
    "    #return [[i+1+(rows*j) for j in range(columns)] for i in range(rows)]\n",
    "    List = []\n",
    "    for i in range(rows):\n",
    "        tempList = []\n",
    "        for j in range(columns):\n",
    "            tempList.append(i+1+(rows*j))\n",
    "        List.append(tempList)\n",
    "    return List\n",
    "rows = int(input(\"Please enter number of rows : \"))\n",
    "columns = int(input(\"Please enter number of columns : \"))\n",
    "print(\"Output list is :\",printGrid(rows,columns))"
   ]
  },
  {
   "cell_type": "raw",
   "id": "27637701",
   "metadata": {},
   "source": [
    "4. Given a list of integers, return the smallest positive integer not present in the list.\n",
    "\n",
    "Here is a representative example. Consider the list:\n",
    "\n",
    "[-2, 6, 4, 5, 7, -1, 7, 1, 3, 6, 6, -2, 9, 10, 2, 2]\n",
    "\n",
    "After reordering, the list becomes:\n",
    "\n",
    "[-2, -2, -1, 1, 2, 2, 3, 4, 5, 6, 6, 6, 7, 7, 9, 10]\n",
    "\n",
    "from which we see that the smallest missing positive integer is 8.\n",
    "\n",
    "Examples\n",
    "\n",
    "min_miss_pos([-2, 6, 4, 5, 7, -1, 1, 3, 6, -2, 9, 10, 2, 2]) ➞ 8\n",
    "# After sorting, list becomes [-2, -2, -1, 1, 2, 2, 3, 4, 5, 6, 6, 7, 9, 10]\n",
    "# So the smallest missing positive integer is 8\n",
    "\n",
    "min_miss_pos([5, 9, -2, 0, 1, 3, 9, 3, 8, 9]) ➞ 2\n",
    "# After sorting, list becomes [-2, 0, 1, 3, 3, 5, 8, 9, 9, 9]\n",
    "# So the smallest missing positive integer is 2\n",
    "\n",
    "min_miss_pos([0, 4, 4, -1, 9, 4, 5, 2, 10, 7, 6, 3, 10, 9]) ➞ 1\n",
    "# After sorting, list becomes [-1, 0, 2, 3, 4, 4, 4, 5, 6, 7, 9, 9, 10, 10]\n",
    "# So the smallest missing positive integer is 1"
   ]
  },
  {
   "cell_type": "code",
   "execution_count": 42,
   "id": "b6969a6c",
   "metadata": {},
   "outputs": [
    {
     "name": "stdout",
     "output_type": "stream",
     "text": [
      "Please enter list of numbers : [-2, 6, 4, 5, 7, -1, 1, 3, 6, -2, 9, 10, 2, 2]\n",
      "Minimum missing positive number is : 8\n"
     ]
    }
   ],
   "source": [
    "#4->\n",
    "def min_miss_pos(List):\n",
    "    '''It will return missing minimum positive number'''\n",
    "    for i in range(len(List)-1,0,-1):\n",
    "        for j in range(i):\n",
    "            if List[j]>List[j+1]:\n",
    "                List[j],List[j+1] = List[j+1],List[j]\n",
    "    mis = 0\n",
    "    for i in List:\n",
    "        if i > mis:\n",
    "            if i != mis+1:\n",
    "                return mis+1\n",
    "            else:\n",
    "                mis += 1\n",
    "    return 'no missing positive number in between'\n",
    "List = eval(input(\"Please enter list of numbers : \"))\n",
    "print(\"Minimum missing positive number is :\",min_miss_pos(List))"
   ]
  },
  {
   "cell_type": "raw",
   "id": "4bc14e83",
   "metadata": {},
   "source": [
    "5. Google is launching a network of autonomous pizza delivery drones and wants you to create a flexible rewards system (Pizza Points™) that can be tweaked in the future. The rules are simple: if a customer has made at least N orders of at least Y price, they get a FREE pizza!\n",
    "\n",
    "Create a function that takes a dictionary of customers, a minimum number of orders and a minimum order price. Return a list of customers that are eligible for a free pizza.\n",
    "\n",
    "Examples\n",
    "\n",
    "customers = {\n",
    "  \"Batman\": [22, 30, 11, 17, 15, 52, 27, 12],\n",
    "  \"Spider-Man\": [5, 17, 30, 33, 40, 22, 26, 10, 11, 45]\n",
    "}\n",
    "\n",
    "  pizza_points(customers, 5, 20) ➞ [\"Spider-Man\"]\n",
    "\n",
    "  pizza_points(customers, 3, 10) ➞ [\"Batman\", \"Spider-Man\"]\n",
    "\n",
    "  pizza_points(customers, 5, 100) ➞ []"
   ]
  },
  {
   "cell_type": "code",
   "execution_count": 59,
   "id": "1827e46b",
   "metadata": {},
   "outputs": [
    {
     "name": "stdout",
     "output_type": "stream",
     "text": [
      "Please enter Customer data :  {   \"Batman\": [22, 30, 11, 17, 15, 52, 27, 12],   \"Spider-Man\": [5, 17, 30, 33, 40, 22, 26, 10, 11, 45] }\n",
      "Please enter minimum number of orders : 5\n",
      "Please enter minimum order price : 20\n",
      "Customers eligible for free pizza are : ['Spider-Man']\n"
     ]
    }
   ],
   "source": [
    "#5->\n",
    "def pizza_points(customers,min_no_ord,min_ord_pr):\n",
    "    '''It will return cutomer, who are eligible for free pizza'''\n",
    "    List = []\n",
    "    for i,j in customers.items():\n",
    "        c = 0\n",
    "        for k in j:\n",
    "            if k >= min_ord_pr:\n",
    "                c += 1\n",
    "        if c >= min_no_ord:\n",
    "            List.append(i)\n",
    "    return List\n",
    "customers = eval(input(\"Please enter Customer data : \"))\n",
    "min_no_ord = int(input(\"Please enter minimum number of orders : \"))\n",
    "min_ord_pr = int(input(\"Please enter minimum order price : \"))\n",
    "print(\"Customers eligible for free pizza are :\",pizza_points(customers,min_no_ord,min_ord_pr))"
   ]
  },
  {
   "cell_type": "code",
   "execution_count": null,
   "id": "744cf294",
   "metadata": {},
   "outputs": [],
   "source": []
  }
 ],
 "metadata": {
  "kernelspec": {
   "display_name": "Python 3 (ipykernel)",
   "language": "python",
   "name": "python3"
  },
  "language_info": {
   "codemirror_mode": {
    "name": "ipython",
    "version": 3
   },
   "file_extension": ".py",
   "mimetype": "text/x-python",
   "name": "python",
   "nbconvert_exporter": "python",
   "pygments_lexer": "ipython3",
   "version": "3.9.7"
  }
 },
 "nbformat": 4,
 "nbformat_minor": 5
}
