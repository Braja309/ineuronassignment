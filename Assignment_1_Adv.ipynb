{
 "cells": [
  {
   "cell_type": "raw",
   "id": "c296990e",
   "metadata": {},
   "source": [
    "Q1. What is the purpose of Python's OOP?"
   ]
  },
  {
   "cell_type": "markdown",
   "id": "b87527a4",
   "metadata": {},
   "source": [
    "#1->\n",
    "In Python, object-oriented Programming (OOPs) is a programming paradigm that uses objects and classes in programming. It aims to implement real-world entities like inheritance, polymorphisms, encapsulation, etc. in the programming."
   ]
  },
  {
   "cell_type": "raw",
   "id": "97bf0364",
   "metadata": {},
   "source": [
    "Q2. Where does an inheritance search look for an attribute?"
   ]
  },
  {
   "cell_type": "markdown",
   "id": "a5636e12",
   "metadata": {},
   "source": [
    "#2->\n",
    "The inheritance search is simply a search of the tree from bottom to top looking for the lowest occurrence of an attribute name."
   ]
  },
  {
   "cell_type": "raw",
   "id": "421686dd",
   "metadata": {},
   "source": [
    "Q3. How do you distinguish between a class object and an instance object?"
   ]
  },
  {
   "cell_type": "markdown",
   "id": "4509684f",
   "metadata": {},
   "source": [
    "#3->\n",
    "A class is a blueprint which you use to create objects. An object is an instance of a class - it's a concrete 'thing' that you made using a specific class. So, 'object' and 'instance' are the same thing, but the word 'instance' indicates the relationship of an object to its class."
   ]
  },
  {
   "cell_type": "raw",
   "id": "49492850",
   "metadata": {},
   "source": [
    "Q4. What makes the first argument in a class’s method function special?"
   ]
  },
  {
   "cell_type": "markdown",
   "id": "f85e9abc",
   "metadata": {},
   "source": [
    "#4->\n",
    "First Argument is always a reference to the current instance of the class."
   ]
  },
  {
   "cell_type": "raw",
   "id": "d18178b6",
   "metadata": {},
   "source": [
    "Q5. What is the purpose of the __init__ method?"
   ]
  },
  {
   "cell_type": "markdown",
   "id": "e1876911",
   "metadata": {},
   "source": [
    "#5->\n",
    "The __init__ method lets the class initialize the object's attributes. It is only used within class."
   ]
  },
  {
   "cell_type": "raw",
   "id": "eee58a0b",
   "metadata": {},
   "source": [
    "Q6. What is the process for creating a class instance?"
   ]
  },
  {
   "cell_type": "code",
   "execution_count": 2,
   "id": "ba0aa21d",
   "metadata": {},
   "outputs": [
    {
     "name": "stdout",
     "output_type": "stream",
     "text": [
      "<__main__.a object at 0x000002383F7BF040>\n"
     ]
    }
   ],
   "source": [
    "#6->\n",
    "class a:\n",
    "    pass\n",
    "ins_obj = a()\n",
    "print(ins_obj)"
   ]
  },
  {
   "cell_type": "raw",
   "id": "ed6e887c",
   "metadata": {},
   "source": [
    "Q7. What is the process for creating a class?"
   ]
  },
  {
   "cell_type": "code",
   "execution_count": 3,
   "id": "a4aea3f6",
   "metadata": {},
   "outputs": [],
   "source": [
    "#7->\n",
    "class a:\n",
    "    def __init__(self,attr):#to initialize onject attribute\n",
    "        self.attr = attr\n",
    "    def cust_methond(self): #custom method\n",
    "        pass"
   ]
  },
  {
   "cell_type": "raw",
   "id": "c0cfb96c",
   "metadata": {},
   "source": [
    "Q8. How would you define the superclasses of a class?"
   ]
  },
  {
   "cell_type": "code",
   "execution_count": 4,
   "id": "504528c0",
   "metadata": {},
   "outputs": [],
   "source": [
    "#8->a is superclass of b\n",
    "class a:\n",
    "    pass\n",
    "class b(a):\n",
    "    pass"
   ]
  },
  {
   "cell_type": "code",
   "execution_count": null,
   "id": "de505616",
   "metadata": {},
   "outputs": [],
   "source": []
  }
 ],
 "metadata": {
  "kernelspec": {
   "display_name": "Python 3 (ipykernel)",
   "language": "python",
   "name": "python3"
  },
  "language_info": {
   "codemirror_mode": {
    "name": "ipython",
    "version": 3
   },
   "file_extension": ".py",
   "mimetype": "text/x-python",
   "name": "python",
   "nbconvert_exporter": "python",
   "pygments_lexer": "ipython3",
   "version": "3.9.7"
  }
 },
 "nbformat": 4,
 "nbformat_minor": 5
}
