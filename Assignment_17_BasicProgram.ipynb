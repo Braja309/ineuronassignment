{
 "cells": [
  {
   "cell_type": "raw",
   "id": "467c7bed",
   "metadata": {},
   "source": [
    "Question1. Create a function that takes three arguments a, b, c and returns the sum of the numbers that are evenly divided by c from the range a, b inclusive.\n",
    "Examples\n",
    "evenly_divisible(1, 10, 20) ➞ 0\n",
    "# No number between 1 and 10 can be evenly divided by 20.\n",
    "\n",
    "evenly_divisible(1, 10, 2) ➞ 30\n",
    "# 2 + 4 + 6 + 8 + 10 = 30\n",
    "\n",
    "evenly_divisible(1, 10, 3) ➞ 18\n",
    "# 3 + 6 + 9 = 18"
   ]
  },
  {
   "cell_type": "code",
   "execution_count": 3,
   "id": "4dd8a302",
   "metadata": {},
   "outputs": [
    {
     "name": "stdout",
     "output_type": "stream",
     "text": [
      "Please enter the 3 arguments comma separated : 1,10,2\n",
      "Sum of the numbers that are evenly divided by 2 from the range 1 , 10 inclusive is : 30\n"
     ]
    }
   ],
   "source": [
    "#1->\n",
    "arguments = input(\"Please enter the 3 arguments comma separated : \")\n",
    "a = int(arguments.split(',')[0])\n",
    "b = int(arguments.split(',')[1])\n",
    "c = int(arguments.split(',')[2])\n",
    "def evenly_divisible(a,b,c):\n",
    "    \"\"\"It will return sum of the numbers that are evenly divided by c from the range a, b inclusive.\"\"\"\n",
    "    sum = 0\n",
    "    for i in range(a,b+1):\n",
    "        if i%c == 0:\n",
    "            sum += i\n",
    "    return sum\n",
    "print(\"Sum of the numbers that are evenly divided by\",c,\"from the range\",a,\",\",b,\"inclusive is :\",evenly_divisible(a,b,c))"
   ]
  },
  {
   "cell_type": "raw",
   "id": "3d51b219",
   "metadata": {},
   "source": [
    "Question2. Create a function that returns True if a given inequality expression is correct and False otherwise.\n",
    "Examples\n",
    "correct_signs(\"3 < 7 < 11\") ➞ True\n",
    "\n",
    "correct_signs(\"13 > 44 > 33 > 1\") ➞ False\n",
    "\n",
    "correct_signs(\"1 < 2 < 6 < 9 > 3\") ➞ True"
   ]
  },
  {
   "cell_type": "code",
   "execution_count": 11,
   "id": "f7c4b368",
   "metadata": {},
   "outputs": [
    {
     "name": "stdout",
     "output_type": "stream",
     "text": [
      "Please enter the expression : 13 < 44 < 55 < 123\n",
      "Expression is correct : True\n"
     ]
    }
   ],
   "source": [
    "#2->\n",
    "exp = input(\"Please enter the expression : \")\n",
    "def correct_signs(exp):\n",
    "    \"\"\"It will return if inequality expression is True or False\"\"\"\n",
    "    return eval(exp)\n",
    "print(\"Expression is correct :\",correct_signs(exp))"
   ]
  },
  {
   "cell_type": "raw",
   "id": "a9168e3a",
   "metadata": {},
   "source": [
    "Question3. Create a function that replaces all the vowels in a string with a specified character.\n",
    "Examples\n",
    "replace_vowels(\"the aardvark\", \"#\") ➞ \"th# ##rdv#rk\"\n",
    "\n",
    "replace_vowels(\"minnie mouse\", \"?\") ➞ \"m?nn?? m??s?\"\n",
    "\n",
    "replace_vowels(\"shakespeare\", \"*\") ➞ \"sh*k*sp**r*\""
   ]
  },
  {
   "cell_type": "code",
   "execution_count": 17,
   "id": "47b4c8a2",
   "metadata": {},
   "outputs": [
    {
     "name": "stdout",
     "output_type": "stream",
     "text": [
      "Please enter the string : minnie mouse\n",
      "Please enter the special character : #\n",
      "Output string after replacing vowels with # is : m#nn## m##s#\n"
     ]
    }
   ],
   "source": [
    "#3->\n",
    "string = input(\"Please enter the string : \")\n",
    "character = input(\"Please enter the special character : \")\n",
    "def replace_vowels(string,ch):\n",
    "    \"\"\"It will return sring replacing vowels with ch secial character\"\"\"\n",
    "    for i in string:\n",
    "        if i.lower() in ['a','e','i','o','u']:\n",
    "            string = string.replace(i,ch)\n",
    "    return string\n",
    "print(\"Output string after replacing vowels with\",character,\"is :\",replace_vowels(string,character))"
   ]
  },
  {
   "cell_type": "raw",
   "id": "afcc61c0",
   "metadata": {},
   "source": [
    "Question4. Write a function that calculates the factorial of a number recursively.\n",
    "Examples\n",
    "factorial(5) ➞ 120\n",
    "\n",
    "factorial(3) ➞ 6\n",
    "\n",
    "factorial(1) ➞ 1\n",
    "\n",
    "factorial(0) ➞ 1"
   ]
  },
  {
   "cell_type": "code",
   "execution_count": 19,
   "id": "63dc9111",
   "metadata": {},
   "outputs": [
    {
     "name": "stdout",
     "output_type": "stream",
     "text": [
      "Please enter a number : 5\n",
      "The factorial of 5 is : 120\n"
     ]
    }
   ],
   "source": [
    "#4->\n",
    "def factorial(num):\n",
    "    \"\"\"It will return factorial of a number\"\"\"\n",
    "    if num==1:\n",
    "        return num\n",
    "    else:\n",
    "        return num*factorial(num-1)\n",
    "num = int(input(\"Please enter a number : \"))\n",
    "if num==0:\n",
    "    print(\"Factorial is : 1\")\n",
    "elif num < 0:\n",
    "    print(\"Factorial doesn't exist for negetive number\")\n",
    "else:\n",
    "    print(\"The factorial of\", num, \"is :\", factorial(num))"
   ]
  },
  {
   "cell_type": "raw",
   "id": "9bde9c5f",
   "metadata": {},
   "source": [
    "Question 5\n",
    "Hamming distance is the number of characters that differ between two strings.\n",
    "To illustrate:\n",
    "String1: \"abcbba\"\n",
    "String2: \"abcbda\"\n",
    "\n",
    "Hamming Distance: 1 - \"b\" vs. \"d\" is the only difference.\n",
    "Create a function that computes the hamming distance between two strings.\n",
    "Examples\n",
    "hamming_distance(\"abcde\", \"bcdef\") ➞ 5\n",
    "\n",
    "hamming_distance(\"abcde\", \"abcde\") ➞ 0\n",
    "\n",
    "hamming_distance(\"strong\", \"strung\") ➞ 1"
   ]
  },
  {
   "cell_type": "code",
   "execution_count": 21,
   "id": "956f2834",
   "metadata": {},
   "outputs": [
    {
     "name": "stdout",
     "output_type": "stream",
     "text": [
      "Please enter 2 comma separated string of same length : string,strung\n",
      "Hamming distance between string and strung is : 1\n"
     ]
    }
   ],
   "source": [
    "#5->\n",
    "strings = input(\"Please enter 2 comma separated string of same length : \")\n",
    "string1 = strings.split(',')[0]\n",
    "string2 = strings.split(',')[1]\n",
    "def hamming_distance(string1,string2):\n",
    "    \"\"\"It will retunr hamming distance between 2 string\"\"\"\n",
    "    l = 0\n",
    "    for i in range(len(string1)):\n",
    "        if string1[i] != string2[i]:\n",
    "            l += 1\n",
    "    return l\n",
    "print(\"Hamming distance between\",string1,\"and\",string2,\"is :\",hamming_distance(string1,string2))"
   ]
  },
  {
   "cell_type": "code",
   "execution_count": null,
   "id": "c33ffb76",
   "metadata": {},
   "outputs": [],
   "source": []
  }
 ],
 "metadata": {
  "kernelspec": {
   "display_name": "Python 3 (ipykernel)",
   "language": "python",
   "name": "python3"
  },
  "language_info": {
   "codemirror_mode": {
    "name": "ipython",
    "version": 3
   },
   "file_extension": ".py",
   "mimetype": "text/x-python",
   "name": "python",
   "nbconvert_exporter": "python",
   "pygments_lexer": "ipython3",
   "version": "3.9.7"
  }
 },
 "nbformat": 4,
 "nbformat_minor": 5
}
